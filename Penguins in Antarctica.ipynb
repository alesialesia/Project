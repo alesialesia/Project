{
 "cells": [
  {
   "cell_type": "markdown",
   "id": "b42ed254",
   "metadata": {},
   "source": [
    "# __Датасет содержит данные о пингвинах архипелага Палмера (Антарктида).__"
   ]
  },
  {
   "cell_type": "markdown",
   "id": "cfcde87f",
   "metadata": {},
   "source": [
    "Данные были собраны и предоставлены доктором Dr. Kristen Gorman и станцией Палмера, Антарктида. \n",
    "Датасет содержит информацию о структурных размерах тела пингвинов и некоторые характеристики среди взрослых самцов и самок пингвинов:\n",
    "- Адели (Pygoscelis adeliae)\n",
    "\n",
    "- Субантарктических пингвинов (Pygoscelis papua)\n",
    "\n",
    "- Антарктических пингвинов (Pygoscelis antarctica).\n"
   ]
  },
  {
   "cell_type": "code",
   "execution_count": 1,
   "id": "f3442481",
   "metadata": {},
   "outputs": [],
   "source": [
    "#импорт необходимых модулей\n",
    "import pandas as pd\n",
    "import numpy as np \n",
    "import seaborn as sns\n",
    "import matplotlib.pyplot as plt\n",
    "%matplotlib inline\n",
    "import plotly.graph_objects as go\n",
    "import plotly.express as px\n",
    "import plotly.subplots as sp\n",
    "import plotly.figure_factory as ff\n",
    "\n",
    "from itertools import cycle\n",
    "import re\n",
    "import warnings\n",
    "warnings.filterwarnings('ignore')"
   ]
  },
  {
   "cell_type": "code",
   "execution_count": 2,
   "id": "afa214b0",
   "metadata": {},
   "outputs": [],
   "source": [
    "penguin = pd.read_csv('penguins_size.csv')"
   ]
  },
  {
   "cell_type": "code",
   "execution_count": 3,
   "id": "fbce88d0",
   "metadata": {},
   "outputs": [
    {
     "data": {
      "text/html": [
       "<div>\n",
       "<style scoped>\n",
       "    .dataframe tbody tr th:only-of-type {\n",
       "        vertical-align: middle;\n",
       "    }\n",
       "\n",
       "    .dataframe tbody tr th {\n",
       "        vertical-align: top;\n",
       "    }\n",
       "\n",
       "    .dataframe thead th {\n",
       "        text-align: right;\n",
       "    }\n",
       "</style>\n",
       "<table border=\"1\" class=\"dataframe\">\n",
       "  <thead>\n",
       "    <tr style=\"text-align: right;\">\n",
       "      <th></th>\n",
       "      <th>species</th>\n",
       "      <th>island</th>\n",
       "      <th>culmen_length_mm</th>\n",
       "      <th>culmen_depth_mm</th>\n",
       "      <th>flipper_length_mm</th>\n",
       "      <th>body_mass_g</th>\n",
       "      <th>sex</th>\n",
       "    </tr>\n",
       "  </thead>\n",
       "  <tbody>\n",
       "    <tr>\n",
       "      <th>0</th>\n",
       "      <td>Adelie</td>\n",
       "      <td>Torgersen</td>\n",
       "      <td>39.1</td>\n",
       "      <td>18.7</td>\n",
       "      <td>181.0</td>\n",
       "      <td>3750.0</td>\n",
       "      <td>MALE</td>\n",
       "    </tr>\n",
       "    <tr>\n",
       "      <th>1</th>\n",
       "      <td>Adelie</td>\n",
       "      <td>Torgersen</td>\n",
       "      <td>39.5</td>\n",
       "      <td>17.4</td>\n",
       "      <td>186.0</td>\n",
       "      <td>3800.0</td>\n",
       "      <td>FEMALE</td>\n",
       "    </tr>\n",
       "    <tr>\n",
       "      <th>2</th>\n",
       "      <td>Adelie</td>\n",
       "      <td>Torgersen</td>\n",
       "      <td>40.3</td>\n",
       "      <td>18.0</td>\n",
       "      <td>195.0</td>\n",
       "      <td>3250.0</td>\n",
       "      <td>FEMALE</td>\n",
       "    </tr>\n",
       "    <tr>\n",
       "      <th>3</th>\n",
       "      <td>Adelie</td>\n",
       "      <td>Torgersen</td>\n",
       "      <td>NaN</td>\n",
       "      <td>NaN</td>\n",
       "      <td>NaN</td>\n",
       "      <td>NaN</td>\n",
       "      <td>NaN</td>\n",
       "    </tr>\n",
       "    <tr>\n",
       "      <th>4</th>\n",
       "      <td>Adelie</td>\n",
       "      <td>Torgersen</td>\n",
       "      <td>36.7</td>\n",
       "      <td>19.3</td>\n",
       "      <td>193.0</td>\n",
       "      <td>3450.0</td>\n",
       "      <td>FEMALE</td>\n",
       "    </tr>\n",
       "  </tbody>\n",
       "</table>\n",
       "</div>"
      ],
      "text/plain": [
       "  species     island  culmen_length_mm  culmen_depth_mm  flipper_length_mm  \\\n",
       "0  Adelie  Torgersen              39.1             18.7              181.0   \n",
       "1  Adelie  Torgersen              39.5             17.4              186.0   \n",
       "2  Adelie  Torgersen              40.3             18.0              195.0   \n",
       "3  Adelie  Torgersen               NaN              NaN                NaN   \n",
       "4  Adelie  Torgersen              36.7             19.3              193.0   \n",
       "\n",
       "   body_mass_g     sex  \n",
       "0       3750.0    MALE  \n",
       "1       3800.0  FEMALE  \n",
       "2       3250.0  FEMALE  \n",
       "3          NaN     NaN  \n",
       "4       3450.0  FEMALE  "
      ]
     },
     "execution_count": 3,
     "metadata": {},
     "output_type": "execute_result"
    }
   ],
   "source": [
    "penguin.head(5)"
   ]
  },
  {
   "cell_type": "code",
   "execution_count": 4,
   "id": "c0693d32",
   "metadata": {},
   "outputs": [
    {
     "data": {
      "text/plain": [
       "(344, 7)"
      ]
     },
     "execution_count": 4,
     "metadata": {},
     "output_type": "execute_result"
    }
   ],
   "source": [
    "penguin.shape"
   ]
  },
  {
   "cell_type": "code",
   "execution_count": 5,
   "id": "12d5d3d4",
   "metadata": {},
   "outputs": [
    {
     "data": {
      "text/plain": [
       "Index(['species', 'island', 'culmen_length_mm', 'culmen_depth_mm',\n",
       "       'flipper_length_mm', 'body_mass_g', 'sex'],\n",
       "      dtype='object')"
      ]
     },
     "execution_count": 5,
     "metadata": {},
     "output_type": "execute_result"
    }
   ],
   "source": [
    "penguin.columns"
   ]
  },
  {
   "cell_type": "markdown",
   "id": "583ff7b7",
   "metadata": {},
   "source": [
    "__Набор данных состоит из 344 строк и 7 столбцов:__\n",
    "\n",
    "- species  (object) - виды пингвинов  (Chinstrap - Антарктический пингвин; Adélie - Пингвин Адели; Gentoo - Субантарктический пингвин).\n",
    "\n",
    "\n",
    "- culmen_length_mm (float64) - длина надклювья (мм)\n",
    "\n",
    "\n",
    "__culmen - это «верхний гребень птичьего клюва», буду использовать как «надклювье».__\n",
    "\n",
    "\n",
    "- culmen_depth_mm (float64) - толщина надклювья (мм)\n",
    "\n",
    "\n",
    "- flipper_length_mm (float64) - длина плавника (мм)\n",
    "\n",
    "\n",
    "- body_mass_g (float64) - масса тела (г)\n",
    "\n",
    "\n",
    "- island (object) - название острова (Dream, Torgersen, или Biscoe) в архипелаге Палмера (Антарктида)\n",
    "\n",
    "\n",
    "- sex (object) - пол пингвинов"
   ]
  },
  {
   "cell_type": "markdown",
   "id": "216a40a0",
   "metadata": {},
   "source": [
    "## Поиск информации о типах данных, столбцах и нулевых значениях"
   ]
  },
  {
   "cell_type": "code",
   "execution_count": 6,
   "id": "0103a417",
   "metadata": {},
   "outputs": [
    {
     "name": "stdout",
     "output_type": "stream",
     "text": [
      "<class 'pandas.core.frame.DataFrame'>\n",
      "RangeIndex: 344 entries, 0 to 343\n",
      "Data columns (total 7 columns):\n",
      " #   Column             Non-Null Count  Dtype  \n",
      "---  ------             --------------  -----  \n",
      " 0   species            344 non-null    object \n",
      " 1   island             344 non-null    object \n",
      " 2   culmen_length_mm   342 non-null    float64\n",
      " 3   culmen_depth_mm    342 non-null    float64\n",
      " 4   flipper_length_mm  342 non-null    float64\n",
      " 5   body_mass_g        342 non-null    float64\n",
      " 6   sex                334 non-null    object \n",
      "dtypes: float64(4), object(3)\n",
      "memory usage: 18.9+ KB\n"
     ]
    }
   ],
   "source": [
    "penguin.info()"
   ]
  },
  {
   "cell_type": "code",
   "execution_count": 7,
   "id": "16a74b77",
   "metadata": {},
   "outputs": [
    {
     "data": {
      "text/plain": [
       "species               0\n",
       "island                0\n",
       "culmen_length_mm      2\n",
       "culmen_depth_mm       2\n",
       "flipper_length_mm     2\n",
       "body_mass_g           2\n",
       "sex                  10\n",
       "dtype: int64"
      ]
     },
     "execution_count": 7,
     "metadata": {},
     "output_type": "execute_result"
    }
   ],
   "source": [
    "penguin.isna().sum()"
   ]
  },
  {
   "cell_type": "markdown",
   "id": "b0447ee7",
   "metadata": {},
   "source": [
    "В столбцах culmen_length_mm, culmen_depth_mm, flipper_length_mm, body_mass_g и sex есть несколько нулевых значений.\n",
    "\n",
    "Очистим пропущенные значения. Столбцы culmen_length_mm, culmen_depth_mm, flipper_length_mm и body_mass_g являются числовыми переменными, поэтому вычислим среднее значение для каждого столбца и заменим отсутствующие значения средним."
   ]
  },
  {
   "cell_type": "code",
   "execution_count": 8,
   "id": "3024405a",
   "metadata": {},
   "outputs": [
    {
     "name": "stdout",
     "output_type": "stream",
     "text": [
      "mean_culmen_length :  43.9\n",
      "mean_culmen_depth : 17.2\n",
      "mean_flipper_length : 200.9\n",
      "mean_body_mass : 4201.8\n"
     ]
    }
   ],
   "source": [
    "mean_culmen_length = round(penguin['culmen_length_mm'].mean(),1)\n",
    "mean_culmen_depth = round(penguin['culmen_depth_mm'].mean(),1)\n",
    "mean_flipper_length = round(penguin['flipper_length_mm'].mean(),1)\n",
    "mean_body_mass = round(penguin['body_mass_g'].mean(),1)\n",
    "\n",
    "print(\"mean_culmen_length : \", mean_culmen_length)\n",
    "print(\"mean_culmen_depth :\", mean_culmen_depth)\n",
    "print(\"mean_flipper_length :\",mean_flipper_length)\n",
    "print(\"mean_body_mass :\",mean_body_mass)"
   ]
  },
  {
   "cell_type": "markdown",
   "id": "1732d648",
   "metadata": {},
   "source": [
    "После вычисления среднего значения для каждого столбца я заменю отсутствующие значения с помощью метода «.replace()».\n",
    "\n",
    "Для первого аргумента нужно определить, что нужно заменить. Итак, в этом случае я хочу заменить отсутствующие значения - нужно поставить np.nan в качестве первого аргумента, чтобы сообщить функции, что мы хотим заменить отсутствующие значения.\n",
    "\n",
    "Для второго аргумента нужно определить, чем я хочу заменить отсутствующие значения. В этом случае - отсутствующие значения, которые я вычислила в предыдущей ячейке кода.\n",
    "\n",
    "И для третьего аргумента, так как я хочу заменить отсутствующие значения в объекте penguin, не создавая новый объект, я установлю аргумент inplace как true, чтобы метод replace заменял отсутствующие значения в объекте penguin."
   ]
  },
  {
   "cell_type": "code",
   "execution_count": 9,
   "id": "7e1bdce1",
   "metadata": {},
   "outputs": [
    {
     "data": {
      "text/plain": [
       "species               0\n",
       "island                0\n",
       "culmen_length_mm      0\n",
       "culmen_depth_mm       0\n",
       "flipper_length_mm     0\n",
       "body_mass_g           0\n",
       "sex                  10\n",
       "dtype: int64"
      ]
     },
     "execution_count": 9,
     "metadata": {},
     "output_type": "execute_result"
    }
   ],
   "source": [
    "penguin['culmen_length_mm'].replace(np.nan , mean_culmen_length , inplace=True)\n",
    "penguin['culmen_depth_mm'].replace(np.nan , mean_culmen_depth , inplace=True)\n",
    "penguin['flipper_length_mm'].replace(np.nan , mean_flipper_length , inplace=True)\n",
    "penguin['body_mass_g'].replace(np.nan , mean_body_mass , inplace=True)\n",
    "\n",
    "penguin.isnull().sum()"
   ]
  },
  {
   "cell_type": "markdown",
   "id": "323b6ab1",
   "metadata": {},
   "source": [
    "Теперь отсутствующие числовые переменные уже заменены. Для переменной пола я не буду удалять строки, содержащие отсутствующую переменную пола, а заменю значения на преобладающие по датасету."
   ]
  },
  {
   "cell_type": "code",
   "execution_count": 10,
   "id": "28f6807b",
   "metadata": {},
   "outputs": [
    {
     "data": {
      "text/plain": [
       "MALE      168\n",
       "FEMALE    165\n",
       ".           1\n",
       "Name: sex, dtype: int64"
      ]
     },
     "execution_count": 10,
     "metadata": {},
     "output_type": "execute_result"
    }
   ],
   "source": [
    "penguin['sex'].value_counts()"
   ]
  },
  {
   "cell_type": "code",
   "execution_count": 11,
   "id": "6ddddf44",
   "metadata": {},
   "outputs": [
    {
     "data": {
      "text/plain": [
       "species              0\n",
       "island               0\n",
       "culmen_length_mm     0\n",
       "culmen_depth_mm      0\n",
       "flipper_length_mm    0\n",
       "body_mass_g          0\n",
       "sex                  0\n",
       "dtype: int64"
      ]
     },
     "execution_count": 11,
     "metadata": {},
     "output_type": "execute_result"
    }
   ],
   "source": [
    "penguin['sex'].replace(np.nan ,'MALE', inplace=True)\n",
    "penguin.isnull().sum()"
   ]
  },
  {
   "cell_type": "code",
   "execution_count": 12,
   "id": "59570d3e",
   "metadata": {},
   "outputs": [
    {
     "name": "stdout",
     "output_type": "stream",
     "text": [
      "<class 'pandas.core.frame.DataFrame'>\n",
      "RangeIndex: 344 entries, 0 to 343\n",
      "Data columns (total 7 columns):\n",
      " #   Column             Non-Null Count  Dtype  \n",
      "---  ------             --------------  -----  \n",
      " 0   species            344 non-null    object \n",
      " 1   island             344 non-null    object \n",
      " 2   culmen_length_mm   344 non-null    float64\n",
      " 3   culmen_depth_mm    344 non-null    float64\n",
      " 4   flipper_length_mm  344 non-null    float64\n",
      " 5   body_mass_g        344 non-null    float64\n",
      " 6   sex                344 non-null    object \n",
      "dtypes: float64(4), object(3)\n",
      "memory usage: 18.9+ KB\n"
     ]
    }
   ],
   "source": [
    "penguin.info()"
   ]
  },
  {
   "cell_type": "markdown",
   "id": "7ddd3e27",
   "metadata": {},
   "source": [
    "Теперь в наборе данных нет нулевых значений. Итак, мы можем продолжить работу над EDA."
   ]
  },
  {
   "cell_type": "code",
   "execution_count": null,
   "id": "ba8bafc7",
   "metadata": {},
   "outputs": [],
   "source": []
  }
 ],
 "metadata": {
  "kernelspec": {
   "display_name": "Python 3 (ipykernel)",
   "language": "python",
   "name": "python3"
  },
  "language_info": {
   "codemirror_mode": {
    "name": "ipython",
    "version": 3
   },
   "file_extension": ".py",
   "mimetype": "text/x-python",
   "name": "python",
   "nbconvert_exporter": "python",
   "pygments_lexer": "ipython3",
   "version": "3.9.13"
  }
 },
 "nbformat": 4,
 "nbformat_minor": 5
}
