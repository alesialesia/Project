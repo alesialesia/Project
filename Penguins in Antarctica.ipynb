{
 "cells": [
  {
   "cell_type": "markdown",
   "id": "3cb17d59",
   "metadata": {},
   "source": [
    "# __Датасет содержит данные о пингвинах архипелага Палмера (Антарктида).__"
   ]
  },
  {
   "cell_type": "markdown",
   "id": "c0529233",
   "metadata": {},
   "source": [
    "Данные были собраны и предоставлены доктором Dr. Kristen Gorman и станцией Палмера, Антарктида. \n",
    "Датасет содержит информацию о структурных размерах тела пингвинов и некоторые характеристики среди взрослых самцов и самок пингвинов:\n",
    "- Адели (Pygoscelis adeliae)\n",
    "\n",
    "- Субантарктических пингвинов (Pygoscelis papua)\n",
    "\n",
    "- Антарктических пингвинов (Pygoscelis antarctica).\n"
   ]
  },
  {
   "cell_type": "code",
   "execution_count": 1,
   "id": "5802ea0e",
   "metadata": {},
   "outputs": [],
   "source": [
    "#импорт необходимых модулей\n",
    "import pandas as pd\n",
    "import numpy as np \n",
    "import seaborn as sns\n",
    "import matplotlib.pyplot as plt\n",
    "%matplotlib inline\n",
    "import plotly.graph_objects as go\n",
    "import plotly.express as px\n",
    "import plotly.subplots as sp\n",
    "import plotly.figure_factory as ff\n",
    "\n",
    "from itertools import cycle\n",
    "import re\n",
    "import warnings\n",
    "warnings.filterwarnings('ignore')"
   ]
  },
  {
   "cell_type": "code",
   "execution_count": 2,
   "id": "25cce893",
   "metadata": {},
   "outputs": [],
   "source": [
    "penguin = pd.read_csv('penguins_size.csv')"
   ]
  },
  {
   "cell_type": "code",
   "execution_count": 3,
   "id": "378ac495",
   "metadata": {},
   "outputs": [
    {
     "data": {
      "text/html": [
       "<div>\n",
       "<style scoped>\n",
       "    .dataframe tbody tr th:only-of-type {\n",
       "        vertical-align: middle;\n",
       "    }\n",
       "\n",
       "    .dataframe tbody tr th {\n",
       "        vertical-align: top;\n",
       "    }\n",
       "\n",
       "    .dataframe thead th {\n",
       "        text-align: right;\n",
       "    }\n",
       "</style>\n",
       "<table border=\"1\" class=\"dataframe\">\n",
       "  <thead>\n",
       "    <tr style=\"text-align: right;\">\n",
       "      <th></th>\n",
       "      <th>species</th>\n",
       "      <th>island</th>\n",
       "      <th>culmen_length_mm</th>\n",
       "      <th>culmen_depth_mm</th>\n",
       "      <th>flipper_length_mm</th>\n",
       "      <th>body_mass_g</th>\n",
       "      <th>sex</th>\n",
       "    </tr>\n",
       "  </thead>\n",
       "  <tbody>\n",
       "    <tr>\n",
       "      <th>0</th>\n",
       "      <td>Adelie</td>\n",
       "      <td>Torgersen</td>\n",
       "      <td>39.1</td>\n",
       "      <td>18.7</td>\n",
       "      <td>181.0</td>\n",
       "      <td>3750.0</td>\n",
       "      <td>MALE</td>\n",
       "    </tr>\n",
       "    <tr>\n",
       "      <th>1</th>\n",
       "      <td>Adelie</td>\n",
       "      <td>Torgersen</td>\n",
       "      <td>39.5</td>\n",
       "      <td>17.4</td>\n",
       "      <td>186.0</td>\n",
       "      <td>3800.0</td>\n",
       "      <td>FEMALE</td>\n",
       "    </tr>\n",
       "    <tr>\n",
       "      <th>2</th>\n",
       "      <td>Adelie</td>\n",
       "      <td>Torgersen</td>\n",
       "      <td>40.3</td>\n",
       "      <td>18.0</td>\n",
       "      <td>195.0</td>\n",
       "      <td>3250.0</td>\n",
       "      <td>FEMALE</td>\n",
       "    </tr>\n",
       "    <tr>\n",
       "      <th>3</th>\n",
       "      <td>Adelie</td>\n",
       "      <td>Torgersen</td>\n",
       "      <td>NaN</td>\n",
       "      <td>NaN</td>\n",
       "      <td>NaN</td>\n",
       "      <td>NaN</td>\n",
       "      <td>NaN</td>\n",
       "    </tr>\n",
       "    <tr>\n",
       "      <th>4</th>\n",
       "      <td>Adelie</td>\n",
       "      <td>Torgersen</td>\n",
       "      <td>36.7</td>\n",
       "      <td>19.3</td>\n",
       "      <td>193.0</td>\n",
       "      <td>3450.0</td>\n",
       "      <td>FEMALE</td>\n",
       "    </tr>\n",
       "  </tbody>\n",
       "</table>\n",
       "</div>"
      ],
      "text/plain": [
       "  species     island  culmen_length_mm  culmen_depth_mm  flipper_length_mm  \\\n",
       "0  Adelie  Torgersen              39.1             18.7              181.0   \n",
       "1  Adelie  Torgersen              39.5             17.4              186.0   \n",
       "2  Adelie  Torgersen              40.3             18.0              195.0   \n",
       "3  Adelie  Torgersen               NaN              NaN                NaN   \n",
       "4  Adelie  Torgersen              36.7             19.3              193.0   \n",
       "\n",
       "   body_mass_g     sex  \n",
       "0       3750.0    MALE  \n",
       "1       3800.0  FEMALE  \n",
       "2       3250.0  FEMALE  \n",
       "3          NaN     NaN  \n",
       "4       3450.0  FEMALE  "
      ]
     },
     "execution_count": 3,
     "metadata": {},
     "output_type": "execute_result"
    }
   ],
   "source": [
    "penguin.head(5)"
   ]
  },
  {
   "cell_type": "code",
   "execution_count": 4,
   "id": "13f9507d",
   "metadata": {},
   "outputs": [
    {
     "data": {
      "text/plain": [
       "(344, 7)"
      ]
     },
     "execution_count": 4,
     "metadata": {},
     "output_type": "execute_result"
    }
   ],
   "source": [
    "penguin.shape"
   ]
  },
  {
   "cell_type": "code",
   "execution_count": 5,
   "id": "7f847c76",
   "metadata": {},
   "outputs": [
    {
     "data": {
      "text/plain": [
       "Index(['species', 'island', 'culmen_length_mm', 'culmen_depth_mm',\n",
       "       'flipper_length_mm', 'body_mass_g', 'sex'],\n",
       "      dtype='object')"
      ]
     },
     "execution_count": 5,
     "metadata": {},
     "output_type": "execute_result"
    }
   ],
   "source": [
    "penguin.columns"
   ]
  },
  {
   "cell_type": "markdown",
   "id": "84fad714",
   "metadata": {},
   "source": [
    "__Набор данных состоит из 344 строк и 7 столбцов:__\n",
    "\n",
    "- species  (object) - виды пингвинов  (Chinstrap - Антарктический пингвин; Adélie - Пингвин Адели; Gentoo - Субантарктический пингвин).\n",
    "\n",
    "\n",
    "- culmen_length_mm (float64) - длина надклювья (мм)\n",
    "\n",
    "\n",
    "__culmen - это «верхний гребень птичьего клюва», буду использовать как «надклювье».__\n",
    "\n",
    "\n",
    "- culmen_depth_mm (float64) - толщина надклювья (мм)\n",
    "\n",
    "\n",
    "- flipper_length_mm (float64) - длина плавника (мм)\n",
    "\n",
    "\n",
    "- body_mass_g (float64) - масса тела (г)\n",
    "\n",
    "\n",
    "- island (object) - название острова (Dream, Torgersen, или Biscoe) в архипелаге Палмера (Антарктида)\n",
    "\n",
    "\n",
    "- sex (object) - пол пингвинов"
   ]
  },
  {
   "cell_type": "markdown",
   "id": "bf37e223",
   "metadata": {},
   "source": [
    "## Поиск информации о типах данных, столбцах и нулевых значениях"
   ]
  },
  {
   "cell_type": "code",
   "execution_count": 6,
   "id": "8b5ec8d0",
   "metadata": {},
   "outputs": [
    {
     "name": "stdout",
     "output_type": "stream",
     "text": [
      "<class 'pandas.core.frame.DataFrame'>\n",
      "RangeIndex: 344 entries, 0 to 343\n",
      "Data columns (total 7 columns):\n",
      " #   Column             Non-Null Count  Dtype  \n",
      "---  ------             --------------  -----  \n",
      " 0   species            344 non-null    object \n",
      " 1   island             344 non-null    object \n",
      " 2   culmen_length_mm   342 non-null    float64\n",
      " 3   culmen_depth_mm    342 non-null    float64\n",
      " 4   flipper_length_mm  342 non-null    float64\n",
      " 5   body_mass_g        342 non-null    float64\n",
      " 6   sex                334 non-null    object \n",
      "dtypes: float64(4), object(3)\n",
      "memory usage: 18.9+ KB\n"
     ]
    }
   ],
   "source": [
    "penguin.info()"
   ]
  },
  {
   "cell_type": "code",
   "execution_count": 7,
   "id": "dc6540db",
   "metadata": {},
   "outputs": [
    {
     "data": {
      "text/plain": [
       "species               0\n",
       "island                0\n",
       "culmen_length_mm      2\n",
       "culmen_depth_mm       2\n",
       "flipper_length_mm     2\n",
       "body_mass_g           2\n",
       "sex                  10\n",
       "dtype: int64"
      ]
     },
     "execution_count": 7,
     "metadata": {},
     "output_type": "execute_result"
    }
   ],
   "source": [
    "penguin.isna().sum()"
   ]
  },
  {
   "cell_type": "markdown",
   "id": "bb09eebd",
   "metadata": {},
   "source": [
    "В столбцах culmen_length_mm, culmen_depth_mm, flipper_length_mm, body_mass_g и sex есть несколько нулевых значений.\n",
    "\n",
    "Очистим пропущенные значения. Столбцы culmen_length_mm, culmen_depth_mm, flipper_length_mm и body_mass_g являются числовыми переменными, поэтому вычислим среднее значение для каждого столбца и заменим отсутствующие значения средним."
   ]
  },
  {
   "cell_type": "code",
   "execution_count": 8,
   "id": "b2e354fe",
   "metadata": {},
   "outputs": [
    {
     "name": "stdout",
     "output_type": "stream",
     "text": [
      "mean_culmen_length :  43.9\n",
      "mean_culmen_depth : 17.2\n",
      "mean_flipper_length : 200.9\n",
      "mean_body_mass : 4201.8\n"
     ]
    }
   ],
   "source": [
    "mean_culmen_length = round(penguin['culmen_length_mm'].mean(),1)\n",
    "mean_culmen_depth = round(penguin['culmen_depth_mm'].mean(),1)\n",
    "mean_flipper_length = round(penguin['flipper_length_mm'].mean(),1)\n",
    "mean_body_mass = round(penguin['body_mass_g'].mean(),1)\n",
    "\n",
    "print(\"mean_culmen_length : \", mean_culmen_length)\n",
    "print(\"mean_culmen_depth :\", mean_culmen_depth)\n",
    "print(\"mean_flipper_length :\",mean_flipper_length)\n",
    "print(\"mean_body_mass :\",mean_body_mass)"
   ]
  },
  {
   "cell_type": "markdown",
   "id": "6fdd0ae8",
   "metadata": {},
   "source": [
    "После вычисления среднего значения для каждого столбца я заменю отсутствующие значения с помощью метода «.replace()».\n",
    "\n",
    "Для первого аргумента нужно определить, что нужно заменить. Итак, в этом случае я хочу заменить отсутствующие значения - нужно поставить np.nan в качестве первого аргумента, чтобы сообщить функции, что мы хотим заменить отсутствующие значения.\n",
    "\n",
    "Для второго аргумента нужно определить, чем я хочу заменить отсутствующие значения. В этом случае - отсутствующие значения, которые я вычислила в предыдущей ячейке кода.\n",
    "\n",
    "И для третьего аргумента, так как я хочу заменить отсутствующие значения в объекте penguin, не создавая новый объект, я установлю аргумент inplace как true, чтобы метод replace заменял отсутствующие значения в объекте penguin."
   ]
  },
  {
   "cell_type": "code",
   "execution_count": 9,
   "id": "d3d5e4b4",
   "metadata": {},
   "outputs": [
    {
     "data": {
      "text/plain": [
       "species               0\n",
       "island                0\n",
       "culmen_length_mm      0\n",
       "culmen_depth_mm       0\n",
       "flipper_length_mm     0\n",
       "body_mass_g           0\n",
       "sex                  10\n",
       "dtype: int64"
      ]
     },
     "execution_count": 9,
     "metadata": {},
     "output_type": "execute_result"
    }
   ],
   "source": [
    "penguin['culmen_length_mm'].replace(np.nan , mean_culmen_length , inplace=True)\n",
    "penguin['culmen_depth_mm'].replace(np.nan , mean_culmen_depth , inplace=True)\n",
    "penguin['flipper_length_mm'].replace(np.nan , mean_flipper_length , inplace=True)\n",
    "penguin['body_mass_g'].replace(np.nan , mean_body_mass , inplace=True)\n",
    "\n",
    "penguin.isnull().sum()"
   ]
  },
  {
   "cell_type": "markdown",
   "id": "145f03ce",
   "metadata": {},
   "source": [
    "Теперь отсутствующие числовые переменные уже заменены. Для переменной пола я не буду удалять строки, содержащие отсутствующую переменную пола, а заменю значения на преобладающие по датасету."
   ]
  },
  {
   "cell_type": "code",
   "execution_count": 10,
   "id": "e979c72e",
   "metadata": {},
   "outputs": [
    {
     "data": {
      "text/plain": [
       "MALE      168\n",
       "FEMALE    165\n",
       ".           1\n",
       "Name: sex, dtype: int64"
      ]
     },
     "execution_count": 10,
     "metadata": {},
     "output_type": "execute_result"
    }
   ],
   "source": [
    "penguin['sex'].value_counts()"
   ]
  },
  {
   "cell_type": "code",
   "execution_count": 11,
   "id": "b7704923",
   "metadata": {},
   "outputs": [
    {
     "data": {
      "text/plain": [
       "species              0\n",
       "island               0\n",
       "culmen_length_mm     0\n",
       "culmen_depth_mm      0\n",
       "flipper_length_mm    0\n",
       "body_mass_g          0\n",
       "sex                  0\n",
       "dtype: int64"
      ]
     },
     "execution_count": 11,
     "metadata": {},
     "output_type": "execute_result"
    }
   ],
   "source": [
    "penguin['sex'].replace(np.nan ,'MALE', inplace=True)\n",
    "penguin.isnull().sum()"
   ]
  },
  {
   "cell_type": "code",
   "execution_count": 12,
   "id": "8e0dad65",
   "metadata": {},
   "outputs": [
    {
     "name": "stdout",
     "output_type": "stream",
     "text": [
      "<class 'pandas.core.frame.DataFrame'>\n",
      "RangeIndex: 344 entries, 0 to 343\n",
      "Data columns (total 7 columns):\n",
      " #   Column             Non-Null Count  Dtype  \n",
      "---  ------             --------------  -----  \n",
      " 0   species            344 non-null    object \n",
      " 1   island             344 non-null    object \n",
      " 2   culmen_length_mm   344 non-null    float64\n",
      " 3   culmen_depth_mm    344 non-null    float64\n",
      " 4   flipper_length_mm  344 non-null    float64\n",
      " 5   body_mass_g        344 non-null    float64\n",
      " 6   sex                344 non-null    object \n",
      "dtypes: float64(4), object(3)\n",
      "memory usage: 18.9+ KB\n"
     ]
    }
   ],
   "source": [
    "penguin.info()"
   ]
  },
  {
   "cell_type": "markdown",
   "id": "0efed307",
   "metadata": {},
   "source": [
    "Теперь в наборе данных нет нулевых значений. Итак, мы можем продолжить работу над EDA."
   ]
  },
  {
   "cell_type": "markdown",
   "id": "d99d31aa",
   "metadata": {},
   "source": [
    "Посмотрим на уникальные значения в категориальных столбцах."
   ]
  },
  {
   "cell_type": "code",
   "execution_count": 13,
   "id": "47dbf265",
   "metadata": {},
   "outputs": [
    {
     "data": {
      "text/plain": [
       "array(['Torgersen', 'Biscoe', 'Dream'], dtype=object)"
      ]
     },
     "execution_count": 13,
     "metadata": {},
     "output_type": "execute_result"
    }
   ],
   "source": [
    "penguin['island'].unique()"
   ]
  },
  {
   "cell_type": "code",
   "execution_count": 14,
   "id": "9182b461",
   "metadata": {},
   "outputs": [
    {
     "data": {
      "text/plain": [
       "array(['MALE', 'FEMALE', '.'], dtype=object)"
      ]
     },
     "execution_count": 14,
     "metadata": {},
     "output_type": "execute_result"
    }
   ],
   "source": [
    "penguin['sex'].unique()"
   ]
  },
  {
   "cell_type": "markdown",
   "id": "2624259f",
   "metadata": {},
   "source": [
    "Колонка пола имеет пропущенное значение \".\" Найдем, где \".\" - значение пола."
   ]
  },
  {
   "cell_type": "code",
   "execution_count": 16,
   "id": "6bcfcbf6",
   "metadata": {},
   "outputs": [
    {
     "data": {
      "text/html": [
       "<div>\n",
       "<style scoped>\n",
       "    .dataframe tbody tr th:only-of-type {\n",
       "        vertical-align: middle;\n",
       "    }\n",
       "\n",
       "    .dataframe tbody tr th {\n",
       "        vertical-align: top;\n",
       "    }\n",
       "\n",
       "    .dataframe thead th {\n",
       "        text-align: right;\n",
       "    }\n",
       "</style>\n",
       "<table border=\"1\" class=\"dataframe\">\n",
       "  <thead>\n",
       "    <tr style=\"text-align: right;\">\n",
       "      <th></th>\n",
       "      <th>species</th>\n",
       "      <th>island</th>\n",
       "      <th>culmen_length_mm</th>\n",
       "      <th>culmen_depth_mm</th>\n",
       "      <th>flipper_length_mm</th>\n",
       "      <th>body_mass_g</th>\n",
       "      <th>sex</th>\n",
       "    </tr>\n",
       "  </thead>\n",
       "  <tbody>\n",
       "    <tr>\n",
       "      <th>336</th>\n",
       "      <td>Gentoo</td>\n",
       "      <td>Biscoe</td>\n",
       "      <td>44.5</td>\n",
       "      <td>15.7</td>\n",
       "      <td>217.0</td>\n",
       "      <td>4875.0</td>\n",
       "      <td>.</td>\n",
       "    </tr>\n",
       "  </tbody>\n",
       "</table>\n",
       "</div>"
      ],
      "text/plain": [
       "    species  island  culmen_length_mm  culmen_depth_mm  flipper_length_mm  \\\n",
       "336  Gentoo  Biscoe              44.5             15.7              217.0   \n",
       "\n",
       "     body_mass_g sex  \n",
       "336       4875.0   .  "
      ]
     },
     "execution_count": 16,
     "metadata": {},
     "output_type": "execute_result"
    }
   ],
   "source": [
    "penguin[penguin['sex']=='.']"
   ]
  },
  {
   "cell_type": "code",
   "execution_count": 17,
   "id": "d40d5a4a",
   "metadata": {},
   "outputs": [],
   "source": [
    "#Заменим на преобладающее значение\n",
    "penguin.loc[336,'sex'] = 'MALE'"
   ]
  },
  {
   "cell_type": "code",
   "execution_count": 18,
   "id": "8b28dc84",
   "metadata": {},
   "outputs": [
    {
     "data": {
      "text/plain": [
       "species              0\n",
       "island               0\n",
       "culmen_length_mm     0\n",
       "culmen_depth_mm      0\n",
       "flipper_length_mm    0\n",
       "body_mass_g          0\n",
       "sex                  0\n",
       "dtype: int64"
      ]
     },
     "execution_count": 18,
     "metadata": {},
     "output_type": "execute_result"
    }
   ],
   "source": [
    "penguin.isna().sum()"
   ]
  },
  {
   "cell_type": "markdown",
   "id": "792263e2",
   "metadata": {},
   "source": [
    "__Описательная статистика__"
   ]
  },
  {
   "cell_type": "code",
   "execution_count": 19,
   "id": "b46d5ff5",
   "metadata": {},
   "outputs": [
    {
     "data": {
      "text/html": [
       "<div>\n",
       "<style scoped>\n",
       "    .dataframe tbody tr th:only-of-type {\n",
       "        vertical-align: middle;\n",
       "    }\n",
       "\n",
       "    .dataframe tbody tr th {\n",
       "        vertical-align: top;\n",
       "    }\n",
       "\n",
       "    .dataframe thead th {\n",
       "        text-align: right;\n",
       "    }\n",
       "</style>\n",
       "<table border=\"1\" class=\"dataframe\">\n",
       "  <thead>\n",
       "    <tr style=\"text-align: right;\">\n",
       "      <th></th>\n",
       "      <th>culmen_length_mm</th>\n",
       "      <th>culmen_depth_mm</th>\n",
       "      <th>flipper_length_mm</th>\n",
       "      <th>body_mass_g</th>\n",
       "    </tr>\n",
       "  </thead>\n",
       "  <tbody>\n",
       "    <tr>\n",
       "      <th>count</th>\n",
       "      <td>344.000000</td>\n",
       "      <td>344.000000</td>\n",
       "      <td>344.000000</td>\n",
       "      <td>344.000000</td>\n",
       "    </tr>\n",
       "    <tr>\n",
       "      <th>mean</th>\n",
       "      <td>43.921802</td>\n",
       "      <td>17.151453</td>\n",
       "      <td>200.915116</td>\n",
       "      <td>4201.754651</td>\n",
       "    </tr>\n",
       "    <tr>\n",
       "      <th>std</th>\n",
       "      <td>5.443644</td>\n",
       "      <td>1.969031</td>\n",
       "      <td>14.020658</td>\n",
       "      <td>799.613058</td>\n",
       "    </tr>\n",
       "    <tr>\n",
       "      <th>min</th>\n",
       "      <td>32.100000</td>\n",
       "      <td>13.100000</td>\n",
       "      <td>172.000000</td>\n",
       "      <td>2700.000000</td>\n",
       "    </tr>\n",
       "    <tr>\n",
       "      <th>25%</th>\n",
       "      <td>39.275000</td>\n",
       "      <td>15.600000</td>\n",
       "      <td>190.000000</td>\n",
       "      <td>3550.000000</td>\n",
       "    </tr>\n",
       "    <tr>\n",
       "      <th>50%</th>\n",
       "      <td>44.250000</td>\n",
       "      <td>17.300000</td>\n",
       "      <td>197.000000</td>\n",
       "      <td>4050.000000</td>\n",
       "    </tr>\n",
       "    <tr>\n",
       "      <th>75%</th>\n",
       "      <td>48.500000</td>\n",
       "      <td>18.700000</td>\n",
       "      <td>213.000000</td>\n",
       "      <td>4750.000000</td>\n",
       "    </tr>\n",
       "    <tr>\n",
       "      <th>max</th>\n",
       "      <td>59.600000</td>\n",
       "      <td>21.500000</td>\n",
       "      <td>231.000000</td>\n",
       "      <td>6300.000000</td>\n",
       "    </tr>\n",
       "  </tbody>\n",
       "</table>\n",
       "</div>"
      ],
      "text/plain": [
       "       culmen_length_mm  culmen_depth_mm  flipper_length_mm  body_mass_g\n",
       "count        344.000000       344.000000         344.000000   344.000000\n",
       "mean          43.921802        17.151453         200.915116  4201.754651\n",
       "std            5.443644         1.969031          14.020658   799.613058\n",
       "min           32.100000        13.100000         172.000000  2700.000000\n",
       "25%           39.275000        15.600000         190.000000  3550.000000\n",
       "50%           44.250000        17.300000         197.000000  4050.000000\n",
       "75%           48.500000        18.700000         213.000000  4750.000000\n",
       "max           59.600000        21.500000         231.000000  6300.000000"
      ]
     },
     "execution_count": 19,
     "metadata": {},
     "output_type": "execute_result"
    }
   ],
   "source": [
    "penguin.describe()"
   ]
  },
  {
   "cell_type": "markdown",
   "id": "03eb6718",
   "metadata": {},
   "source": [
    "__Исследовательский анализ данных:__\n",
    "\n",
    "В этой части я собираюсь исследовать три основных вопроса, касающихся этого набора данных.\n",
    "\n",
    "__1. Существует ли какая-либо корреляция между толщиной и длиной надклювья каждого вида пингвинов?__\n",
    "\n",
    "\n",
    "__2. Есть ли разница в длине плавника у пингвинов на разных островах? Или у видов пингвинов?__ \n",
    "\n",
    "\n",
    "__3. Различаются ли в среднем масса тела и длина плавника у представителей разного пола? Если да, то насколько? Для обоих полов имеет ли масса тела какую-либо корреляцию с длиной плавника?__"
   ]
  },
  {
   "cell_type": "markdown",
   "id": "e1845174",
   "metadata": {},
   "source": [
    "Вопрос 1: Толщина надклювья по сравнению с длиной надклювья для видов.\n",
    "\n",
    "Во-первых, посмотрим, общие характеристики для каждого вида."
   ]
  },
  {
   "cell_type": "code",
   "execution_count": 20,
   "id": "b055a495",
   "metadata": {},
   "outputs": [
    {
     "data": {
      "text/plain": [
       "Adelie       152\n",
       "Gentoo       124\n",
       "Chinstrap     68\n",
       "Name: species, dtype: int64"
      ]
     },
     "execution_count": 20,
     "metadata": {},
     "output_type": "execute_result"
    }
   ],
   "source": [
    "penguin['species'].value_counts()"
   ]
  },
  {
   "cell_type": "markdown",
   "id": "b0c72e3e",
   "metadata": {},
   "source": [
    "Есть 152 пингвина Адели, 124 Субантарктический пингвин и 68 Антарктических пингвинов."
   ]
  },
  {
   "cell_type": "code",
   "execution_count": 31,
   "id": "4e9546b1",
   "metadata": {},
   "outputs": [
    {
     "data": {
      "application/vnd.plotly.v1+json": {
       "config": {
        "plotlyServerURL": "https://plot.ly"
       },
       "data": [
        {
         "domain": {
          "x": [
           0,
           0.27999999999999997
          ],
          "y": [
           0,
           1
          ]
         },
         "hoverinfo": "label+value+percent",
         "labels": [
          "Adelie",
          "Gentoo",
          "Chinstrap"
         ],
         "legendgroup": "Вид",
         "legendgrouptitle": {
          "text": "Вид"
         },
         "marker": {
          "colors": [
           "rgb(3, 35, 51)",
           "rgb(13, 48, 100)",
           "rgb(53, 50, 155)"
          ]
         },
         "name": "Виды",
         "textinfo": "percent+label",
         "type": "pie",
         "values": [
          152,
          124,
          68
         ]
        },
        {
         "domain": {
          "x": [
           0.36,
           0.6399999999999999
          ],
          "y": [
           0,
           1
          ]
         },
         "hoverinfo": "label+value+percent",
         "labels": [
          "Biscoe",
          "Dream",
          "Torgersen"
         ],
         "legendgroup": "Остров",
         "legendgrouptitle": {
          "text": "Остров"
         },
         "marker": {
          "colors": [
           "rgb(93, 62, 153)",
           "rgb(126, 77, 143)",
           "rgb(158, 89, 135)"
          ]
         },
         "name": "Остров",
         "textinfo": "percent+label",
         "type": "pie",
         "values": [
          168,
          124,
          52
         ]
        },
        {
         "domain": {
          "x": [
           0.72,
           1
          ],
          "y": [
           0,
           1
          ]
         },
         "hoverinfo": "label+value+percent",
         "labels": [
          "MALE",
          "FEMALE"
         ],
         "legendgroup": "Пол",
         "legendgrouptitle": {
          "text": "Пол"
         },
         "marker": {
          "colors": [
           "rgb(193, 100, 121)",
           "rgb(225, 113, 97)"
          ]
         },
         "name": "Пол",
         "textinfo": "percent+label",
         "type": "pie",
         "values": [
          179,
          165
         ]
        }
       ],
       "layout": {
        "annotations": [
         {
          "font": {
           "size": 16
          },
          "showarrow": false,
          "text": "Вид",
          "x": 0.13999999999999999,
          "xanchor": "center",
          "xref": "paper",
          "y": 1,
          "yanchor": "bottom",
          "yref": "paper"
         },
         {
          "font": {
           "size": 16
          },
          "showarrow": false,
          "text": "Остров",
          "x": 0.49999999999999994,
          "xanchor": "center",
          "xref": "paper",
          "y": 1,
          "yanchor": "bottom",
          "yref": "paper"
         },
         {
          "font": {
           "size": 16
          },
          "showarrow": false,
          "text": "Пол",
          "x": 0.86,
          "xanchor": "center",
          "xref": "paper",
          "y": 1,
          "yanchor": "bottom",
          "yref": "paper"
         }
        ],
        "height": 430,
        "paper_bgcolor": "rgb(220, 237, 247)",
        "plot_bgcolor": "rgb(220, 237, 247)",
        "template": {
         "data": {
          "bar": [
           {
            "error_x": {
             "color": "#2a3f5f"
            },
            "error_y": {
             "color": "#2a3f5f"
            },
            "marker": {
             "line": {
              "color": "#E5ECF6",
              "width": 0.5
             },
             "pattern": {
              "fillmode": "overlay",
              "size": 10,
              "solidity": 0.2
             }
            },
            "type": "bar"
           }
          ],
          "barpolar": [
           {
            "marker": {
             "line": {
              "color": "#E5ECF6",
              "width": 0.5
             },
             "pattern": {
              "fillmode": "overlay",
              "size": 10,
              "solidity": 0.2
             }
            },
            "type": "barpolar"
           }
          ],
          "carpet": [
           {
            "aaxis": {
             "endlinecolor": "#2a3f5f",
             "gridcolor": "white",
             "linecolor": "white",
             "minorgridcolor": "white",
             "startlinecolor": "#2a3f5f"
            },
            "baxis": {
             "endlinecolor": "#2a3f5f",
             "gridcolor": "white",
             "linecolor": "white",
             "minorgridcolor": "white",
             "startlinecolor": "#2a3f5f"
            },
            "type": "carpet"
           }
          ],
          "choropleth": [
           {
            "colorbar": {
             "outlinewidth": 0,
             "ticks": ""
            },
            "type": "choropleth"
           }
          ],
          "contour": [
           {
            "colorbar": {
             "outlinewidth": 0,
             "ticks": ""
            },
            "colorscale": [
             [
              0,
              "#0d0887"
             ],
             [
              0.1111111111111111,
              "#46039f"
             ],
             [
              0.2222222222222222,
              "#7201a8"
             ],
             [
              0.3333333333333333,
              "#9c179e"
             ],
             [
              0.4444444444444444,
              "#bd3786"
             ],
             [
              0.5555555555555556,
              "#d8576b"
             ],
             [
              0.6666666666666666,
              "#ed7953"
             ],
             [
              0.7777777777777778,
              "#fb9f3a"
             ],
             [
              0.8888888888888888,
              "#fdca26"
             ],
             [
              1,
              "#f0f921"
             ]
            ],
            "type": "contour"
           }
          ],
          "contourcarpet": [
           {
            "colorbar": {
             "outlinewidth": 0,
             "ticks": ""
            },
            "type": "contourcarpet"
           }
          ],
          "heatmap": [
           {
            "colorbar": {
             "outlinewidth": 0,
             "ticks": ""
            },
            "colorscale": [
             [
              0,
              "#0d0887"
             ],
             [
              0.1111111111111111,
              "#46039f"
             ],
             [
              0.2222222222222222,
              "#7201a8"
             ],
             [
              0.3333333333333333,
              "#9c179e"
             ],
             [
              0.4444444444444444,
              "#bd3786"
             ],
             [
              0.5555555555555556,
              "#d8576b"
             ],
             [
              0.6666666666666666,
              "#ed7953"
             ],
             [
              0.7777777777777778,
              "#fb9f3a"
             ],
             [
              0.8888888888888888,
              "#fdca26"
             ],
             [
              1,
              "#f0f921"
             ]
            ],
            "type": "heatmap"
           }
          ],
          "heatmapgl": [
           {
            "colorbar": {
             "outlinewidth": 0,
             "ticks": ""
            },
            "colorscale": [
             [
              0,
              "#0d0887"
             ],
             [
              0.1111111111111111,
              "#46039f"
             ],
             [
              0.2222222222222222,
              "#7201a8"
             ],
             [
              0.3333333333333333,
              "#9c179e"
             ],
             [
              0.4444444444444444,
              "#bd3786"
             ],
             [
              0.5555555555555556,
              "#d8576b"
             ],
             [
              0.6666666666666666,
              "#ed7953"
             ],
             [
              0.7777777777777778,
              "#fb9f3a"
             ],
             [
              0.8888888888888888,
              "#fdca26"
             ],
             [
              1,
              "#f0f921"
             ]
            ],
            "type": "heatmapgl"
           }
          ],
          "histogram": [
           {
            "marker": {
             "pattern": {
              "fillmode": "overlay",
              "size": 10,
              "solidity": 0.2
             }
            },
            "type": "histogram"
           }
          ],
          "histogram2d": [
           {
            "colorbar": {
             "outlinewidth": 0,
             "ticks": ""
            },
            "colorscale": [
             [
              0,
              "#0d0887"
             ],
             [
              0.1111111111111111,
              "#46039f"
             ],
             [
              0.2222222222222222,
              "#7201a8"
             ],
             [
              0.3333333333333333,
              "#9c179e"
             ],
             [
              0.4444444444444444,
              "#bd3786"
             ],
             [
              0.5555555555555556,
              "#d8576b"
             ],
             [
              0.6666666666666666,
              "#ed7953"
             ],
             [
              0.7777777777777778,
              "#fb9f3a"
             ],
             [
              0.8888888888888888,
              "#fdca26"
             ],
             [
              1,
              "#f0f921"
             ]
            ],
            "type": "histogram2d"
           }
          ],
          "histogram2dcontour": [
           {
            "colorbar": {
             "outlinewidth": 0,
             "ticks": ""
            },
            "colorscale": [
             [
              0,
              "#0d0887"
             ],
             [
              0.1111111111111111,
              "#46039f"
             ],
             [
              0.2222222222222222,
              "#7201a8"
             ],
             [
              0.3333333333333333,
              "#9c179e"
             ],
             [
              0.4444444444444444,
              "#bd3786"
             ],
             [
              0.5555555555555556,
              "#d8576b"
             ],
             [
              0.6666666666666666,
              "#ed7953"
             ],
             [
              0.7777777777777778,
              "#fb9f3a"
             ],
             [
              0.8888888888888888,
              "#fdca26"
             ],
             [
              1,
              "#f0f921"
             ]
            ],
            "type": "histogram2dcontour"
           }
          ],
          "mesh3d": [
           {
            "colorbar": {
             "outlinewidth": 0,
             "ticks": ""
            },
            "type": "mesh3d"
           }
          ],
          "parcoords": [
           {
            "line": {
             "colorbar": {
              "outlinewidth": 0,
              "ticks": ""
             }
            },
            "type": "parcoords"
           }
          ],
          "pie": [
           {
            "automargin": true,
            "type": "pie"
           }
          ],
          "scatter": [
           {
            "fillpattern": {
             "fillmode": "overlay",
             "size": 10,
             "solidity": 0.2
            },
            "type": "scatter"
           }
          ],
          "scatter3d": [
           {
            "line": {
             "colorbar": {
              "outlinewidth": 0,
              "ticks": ""
             }
            },
            "marker": {
             "colorbar": {
              "outlinewidth": 0,
              "ticks": ""
             }
            },
            "type": "scatter3d"
           }
          ],
          "scattercarpet": [
           {
            "marker": {
             "colorbar": {
              "outlinewidth": 0,
              "ticks": ""
             }
            },
            "type": "scattercarpet"
           }
          ],
          "scattergeo": [
           {
            "marker": {
             "colorbar": {
              "outlinewidth": 0,
              "ticks": ""
             }
            },
            "type": "scattergeo"
           }
          ],
          "scattergl": [
           {
            "marker": {
             "colorbar": {
              "outlinewidth": 0,
              "ticks": ""
             }
            },
            "type": "scattergl"
           }
          ],
          "scattermapbox": [
           {
            "marker": {
             "colorbar": {
              "outlinewidth": 0,
              "ticks": ""
             }
            },
            "type": "scattermapbox"
           }
          ],
          "scatterpolar": [
           {
            "marker": {
             "colorbar": {
              "outlinewidth": 0,
              "ticks": ""
             }
            },
            "type": "scatterpolar"
           }
          ],
          "scatterpolargl": [
           {
            "marker": {
             "colorbar": {
              "outlinewidth": 0,
              "ticks": ""
             }
            },
            "type": "scatterpolargl"
           }
          ],
          "scatterternary": [
           {
            "marker": {
             "colorbar": {
              "outlinewidth": 0,
              "ticks": ""
             }
            },
            "type": "scatterternary"
           }
          ],
          "surface": [
           {
            "colorbar": {
             "outlinewidth": 0,
             "ticks": ""
            },
            "colorscale": [
             [
              0,
              "#0d0887"
             ],
             [
              0.1111111111111111,
              "#46039f"
             ],
             [
              0.2222222222222222,
              "#7201a8"
             ],
             [
              0.3333333333333333,
              "#9c179e"
             ],
             [
              0.4444444444444444,
              "#bd3786"
             ],
             [
              0.5555555555555556,
              "#d8576b"
             ],
             [
              0.6666666666666666,
              "#ed7953"
             ],
             [
              0.7777777777777778,
              "#fb9f3a"
             ],
             [
              0.8888888888888888,
              "#fdca26"
             ],
             [
              1,
              "#f0f921"
             ]
            ],
            "type": "surface"
           }
          ],
          "table": [
           {
            "cells": {
             "fill": {
              "color": "#EBF0F8"
             },
             "line": {
              "color": "white"
             }
            },
            "header": {
             "fill": {
              "color": "#C8D4E3"
             },
             "line": {
              "color": "white"
             }
            },
            "type": "table"
           }
          ]
         },
         "layout": {
          "annotationdefaults": {
           "arrowcolor": "#2a3f5f",
           "arrowhead": 0,
           "arrowwidth": 1
          },
          "autotypenumbers": "strict",
          "coloraxis": {
           "colorbar": {
            "outlinewidth": 0,
            "ticks": ""
           }
          },
          "colorscale": {
           "diverging": [
            [
             0,
             "#8e0152"
            ],
            [
             0.1,
             "#c51b7d"
            ],
            [
             0.2,
             "#de77ae"
            ],
            [
             0.3,
             "#f1b6da"
            ],
            [
             0.4,
             "#fde0ef"
            ],
            [
             0.5,
             "#f7f7f7"
            ],
            [
             0.6,
             "#e6f5d0"
            ],
            [
             0.7,
             "#b8e186"
            ],
            [
             0.8,
             "#7fbc41"
            ],
            [
             0.9,
             "#4d9221"
            ],
            [
             1,
             "#276419"
            ]
           ],
           "sequential": [
            [
             0,
             "#0d0887"
            ],
            [
             0.1111111111111111,
             "#46039f"
            ],
            [
             0.2222222222222222,
             "#7201a8"
            ],
            [
             0.3333333333333333,
             "#9c179e"
            ],
            [
             0.4444444444444444,
             "#bd3786"
            ],
            [
             0.5555555555555556,
             "#d8576b"
            ],
            [
             0.6666666666666666,
             "#ed7953"
            ],
            [
             0.7777777777777778,
             "#fb9f3a"
            ],
            [
             0.8888888888888888,
             "#fdca26"
            ],
            [
             1,
             "#f0f921"
            ]
           ],
           "sequentialminus": [
            [
             0,
             "#0d0887"
            ],
            [
             0.1111111111111111,
             "#46039f"
            ],
            [
             0.2222222222222222,
             "#7201a8"
            ],
            [
             0.3333333333333333,
             "#9c179e"
            ],
            [
             0.4444444444444444,
             "#bd3786"
            ],
            [
             0.5555555555555556,
             "#d8576b"
            ],
            [
             0.6666666666666666,
             "#ed7953"
            ],
            [
             0.7777777777777778,
             "#fb9f3a"
            ],
            [
             0.8888888888888888,
             "#fdca26"
            ],
            [
             1,
             "#f0f921"
            ]
           ]
          },
          "colorway": [
           "#636efa",
           "#EF553B",
           "#00cc96",
           "#ab63fa",
           "#FFA15A",
           "#19d3f3",
           "#FF6692",
           "#B6E880",
           "#FF97FF",
           "#FECB52"
          ],
          "font": {
           "color": "#2a3f5f"
          },
          "geo": {
           "bgcolor": "white",
           "lakecolor": "white",
           "landcolor": "#E5ECF6",
           "showlakes": true,
           "showland": true,
           "subunitcolor": "white"
          },
          "hoverlabel": {
           "align": "left"
          },
          "hovermode": "closest",
          "mapbox": {
           "style": "light"
          },
          "paper_bgcolor": "white",
          "plot_bgcolor": "#E5ECF6",
          "polar": {
           "angularaxis": {
            "gridcolor": "white",
            "linecolor": "white",
            "ticks": ""
           },
           "bgcolor": "#E5ECF6",
           "radialaxis": {
            "gridcolor": "white",
            "linecolor": "white",
            "ticks": ""
           }
          },
          "scene": {
           "xaxis": {
            "backgroundcolor": "#E5ECF6",
            "gridcolor": "white",
            "gridwidth": 2,
            "linecolor": "white",
            "showbackground": true,
            "ticks": "",
            "zerolinecolor": "white"
           },
           "yaxis": {
            "backgroundcolor": "#E5ECF6",
            "gridcolor": "white",
            "gridwidth": 2,
            "linecolor": "white",
            "showbackground": true,
            "ticks": "",
            "zerolinecolor": "white"
           },
           "zaxis": {
            "backgroundcolor": "#E5ECF6",
            "gridcolor": "white",
            "gridwidth": 2,
            "linecolor": "white",
            "showbackground": true,
            "ticks": "",
            "zerolinecolor": "white"
           }
          },
          "shapedefaults": {
           "line": {
            "color": "#2a3f5f"
           }
          },
          "ternary": {
           "aaxis": {
            "gridcolor": "white",
            "linecolor": "white",
            "ticks": ""
           },
           "baxis": {
            "gridcolor": "white",
            "linecolor": "white",
            "ticks": ""
           },
           "bgcolor": "#E5ECF6",
           "caxis": {
            "gridcolor": "white",
            "linecolor": "white",
            "ticks": ""
           }
          },
          "title": {
           "x": 0.05
          },
          "xaxis": {
           "automargin": true,
           "gridcolor": "white",
           "linecolor": "white",
           "ticks": "",
           "title": {
            "standoff": 15
           },
           "zerolinecolor": "white",
           "zerolinewidth": 2
          },
          "yaxis": {
           "automargin": true,
           "gridcolor": "white",
           "linecolor": "white",
           "ticks": "",
           "title": {
            "standoff": 15
           },
           "zerolinecolor": "white",
           "zerolinewidth": 2
          }
         }
        },
        "title": {
         "font": {
          "size": 30
         },
         "text": "Характеристики пингвинов",
         "x": 0.5
        }
       }
      },
      "text/html": [
       "<div>                            <div id=\"e0aaae9c-afee-43db-b0a7-fa9e9c67a68c\" class=\"plotly-graph-div\" style=\"height:430px; width:100%;\"></div>            <script type=\"text/javascript\">                require([\"plotly\"], function(Plotly) {                    window.PLOTLYENV=window.PLOTLYENV || {};                                    if (document.getElementById(\"e0aaae9c-afee-43db-b0a7-fa9e9c67a68c\")) {                    Plotly.newPlot(                        \"e0aaae9c-afee-43db-b0a7-fa9e9c67a68c\",                        [{\"hoverinfo\":\"label+value+percent\",\"labels\":[\"Adelie\",\"Gentoo\",\"Chinstrap\"],\"legendgroup\":\"\\u0412\\u0438\\u0434\",\"legendgrouptitle\":{\"text\":\"\\u0412\\u0438\\u0434\"},\"marker\":{\"colors\":[\"rgb(3, 35, 51)\",\"rgb(13, 48, 100)\",\"rgb(53, 50, 155)\"]},\"name\":\"\\u0412\\u0438\\u0434\\u044b\",\"textinfo\":\"percent+label\",\"values\":[152,124,68],\"type\":\"pie\",\"domain\":{\"x\":[0.0,0.27999999999999997],\"y\":[0.0,1.0]}},{\"hoverinfo\":\"label+value+percent\",\"labels\":[\"Biscoe\",\"Dream\",\"Torgersen\"],\"legendgroup\":\"\\u041e\\u0441\\u0442\\u0440\\u043e\\u0432\",\"legendgrouptitle\":{\"text\":\"\\u041e\\u0441\\u0442\\u0440\\u043e\\u0432\"},\"marker\":{\"colors\":[\"rgb(93, 62, 153)\",\"rgb(126, 77, 143)\",\"rgb(158, 89, 135)\"]},\"name\":\"\\u041e\\u0441\\u0442\\u0440\\u043e\\u0432\",\"textinfo\":\"percent+label\",\"values\":[168,124,52],\"type\":\"pie\",\"domain\":{\"x\":[0.36,0.6399999999999999],\"y\":[0.0,1.0]}},{\"hoverinfo\":\"label+value+percent\",\"labels\":[\"MALE\",\"FEMALE\"],\"legendgroup\":\"\\u041f\\u043e\\u043b\",\"legendgrouptitle\":{\"text\":\"\\u041f\\u043e\\u043b\"},\"marker\":{\"colors\":[\"rgb(193, 100, 121)\",\"rgb(225, 113, 97)\"]},\"name\":\"\\u041f\\u043e\\u043b\",\"textinfo\":\"percent+label\",\"values\":[179,165],\"type\":\"pie\",\"domain\":{\"x\":[0.72,1.0],\"y\":[0.0,1.0]}}],                        {\"template\":{\"data\":{\"histogram2dcontour\":[{\"type\":\"histogram2dcontour\",\"colorbar\":{\"outlinewidth\":0,\"ticks\":\"\"},\"colorscale\":[[0.0,\"#0d0887\"],[0.1111111111111111,\"#46039f\"],[0.2222222222222222,\"#7201a8\"],[0.3333333333333333,\"#9c179e\"],[0.4444444444444444,\"#bd3786\"],[0.5555555555555556,\"#d8576b\"],[0.6666666666666666,\"#ed7953\"],[0.7777777777777778,\"#fb9f3a\"],[0.8888888888888888,\"#fdca26\"],[1.0,\"#f0f921\"]]}],\"choropleth\":[{\"type\":\"choropleth\",\"colorbar\":{\"outlinewidth\":0,\"ticks\":\"\"}}],\"histogram2d\":[{\"type\":\"histogram2d\",\"colorbar\":{\"outlinewidth\":0,\"ticks\":\"\"},\"colorscale\":[[0.0,\"#0d0887\"],[0.1111111111111111,\"#46039f\"],[0.2222222222222222,\"#7201a8\"],[0.3333333333333333,\"#9c179e\"],[0.4444444444444444,\"#bd3786\"],[0.5555555555555556,\"#d8576b\"],[0.6666666666666666,\"#ed7953\"],[0.7777777777777778,\"#fb9f3a\"],[0.8888888888888888,\"#fdca26\"],[1.0,\"#f0f921\"]]}],\"heatmap\":[{\"type\":\"heatmap\",\"colorbar\":{\"outlinewidth\":0,\"ticks\":\"\"},\"colorscale\":[[0.0,\"#0d0887\"],[0.1111111111111111,\"#46039f\"],[0.2222222222222222,\"#7201a8\"],[0.3333333333333333,\"#9c179e\"],[0.4444444444444444,\"#bd3786\"],[0.5555555555555556,\"#d8576b\"],[0.6666666666666666,\"#ed7953\"],[0.7777777777777778,\"#fb9f3a\"],[0.8888888888888888,\"#fdca26\"],[1.0,\"#f0f921\"]]}],\"heatmapgl\":[{\"type\":\"heatmapgl\",\"colorbar\":{\"outlinewidth\":0,\"ticks\":\"\"},\"colorscale\":[[0.0,\"#0d0887\"],[0.1111111111111111,\"#46039f\"],[0.2222222222222222,\"#7201a8\"],[0.3333333333333333,\"#9c179e\"],[0.4444444444444444,\"#bd3786\"],[0.5555555555555556,\"#d8576b\"],[0.6666666666666666,\"#ed7953\"],[0.7777777777777778,\"#fb9f3a\"],[0.8888888888888888,\"#fdca26\"],[1.0,\"#f0f921\"]]}],\"contourcarpet\":[{\"type\":\"contourcarpet\",\"colorbar\":{\"outlinewidth\":0,\"ticks\":\"\"}}],\"contour\":[{\"type\":\"contour\",\"colorbar\":{\"outlinewidth\":0,\"ticks\":\"\"},\"colorscale\":[[0.0,\"#0d0887\"],[0.1111111111111111,\"#46039f\"],[0.2222222222222222,\"#7201a8\"],[0.3333333333333333,\"#9c179e\"],[0.4444444444444444,\"#bd3786\"],[0.5555555555555556,\"#d8576b\"],[0.6666666666666666,\"#ed7953\"],[0.7777777777777778,\"#fb9f3a\"],[0.8888888888888888,\"#fdca26\"],[1.0,\"#f0f921\"]]}],\"surface\":[{\"type\":\"surface\",\"colorbar\":{\"outlinewidth\":0,\"ticks\":\"\"},\"colorscale\":[[0.0,\"#0d0887\"],[0.1111111111111111,\"#46039f\"],[0.2222222222222222,\"#7201a8\"],[0.3333333333333333,\"#9c179e\"],[0.4444444444444444,\"#bd3786\"],[0.5555555555555556,\"#d8576b\"],[0.6666666666666666,\"#ed7953\"],[0.7777777777777778,\"#fb9f3a\"],[0.8888888888888888,\"#fdca26\"],[1.0,\"#f0f921\"]]}],\"mesh3d\":[{\"type\":\"mesh3d\",\"colorbar\":{\"outlinewidth\":0,\"ticks\":\"\"}}],\"scatter\":[{\"fillpattern\":{\"fillmode\":\"overlay\",\"size\":10,\"solidity\":0.2},\"type\":\"scatter\"}],\"parcoords\":[{\"type\":\"parcoords\",\"line\":{\"colorbar\":{\"outlinewidth\":0,\"ticks\":\"\"}}}],\"scatterpolargl\":[{\"type\":\"scatterpolargl\",\"marker\":{\"colorbar\":{\"outlinewidth\":0,\"ticks\":\"\"}}}],\"bar\":[{\"error_x\":{\"color\":\"#2a3f5f\"},\"error_y\":{\"color\":\"#2a3f5f\"},\"marker\":{\"line\":{\"color\":\"#E5ECF6\",\"width\":0.5},\"pattern\":{\"fillmode\":\"overlay\",\"size\":10,\"solidity\":0.2}},\"type\":\"bar\"}],\"scattergeo\":[{\"type\":\"scattergeo\",\"marker\":{\"colorbar\":{\"outlinewidth\":0,\"ticks\":\"\"}}}],\"scatterpolar\":[{\"type\":\"scatterpolar\",\"marker\":{\"colorbar\":{\"outlinewidth\":0,\"ticks\":\"\"}}}],\"histogram\":[{\"marker\":{\"pattern\":{\"fillmode\":\"overlay\",\"size\":10,\"solidity\":0.2}},\"type\":\"histogram\"}],\"scattergl\":[{\"type\":\"scattergl\",\"marker\":{\"colorbar\":{\"outlinewidth\":0,\"ticks\":\"\"}}}],\"scatter3d\":[{\"type\":\"scatter3d\",\"line\":{\"colorbar\":{\"outlinewidth\":0,\"ticks\":\"\"}},\"marker\":{\"colorbar\":{\"outlinewidth\":0,\"ticks\":\"\"}}}],\"scattermapbox\":[{\"type\":\"scattermapbox\",\"marker\":{\"colorbar\":{\"outlinewidth\":0,\"ticks\":\"\"}}}],\"scatterternary\":[{\"type\":\"scatterternary\",\"marker\":{\"colorbar\":{\"outlinewidth\":0,\"ticks\":\"\"}}}],\"scattercarpet\":[{\"type\":\"scattercarpet\",\"marker\":{\"colorbar\":{\"outlinewidth\":0,\"ticks\":\"\"}}}],\"carpet\":[{\"aaxis\":{\"endlinecolor\":\"#2a3f5f\",\"gridcolor\":\"white\",\"linecolor\":\"white\",\"minorgridcolor\":\"white\",\"startlinecolor\":\"#2a3f5f\"},\"baxis\":{\"endlinecolor\":\"#2a3f5f\",\"gridcolor\":\"white\",\"linecolor\":\"white\",\"minorgridcolor\":\"white\",\"startlinecolor\":\"#2a3f5f\"},\"type\":\"carpet\"}],\"table\":[{\"cells\":{\"fill\":{\"color\":\"#EBF0F8\"},\"line\":{\"color\":\"white\"}},\"header\":{\"fill\":{\"color\":\"#C8D4E3\"},\"line\":{\"color\":\"white\"}},\"type\":\"table\"}],\"barpolar\":[{\"marker\":{\"line\":{\"color\":\"#E5ECF6\",\"width\":0.5},\"pattern\":{\"fillmode\":\"overlay\",\"size\":10,\"solidity\":0.2}},\"type\":\"barpolar\"}],\"pie\":[{\"automargin\":true,\"type\":\"pie\"}]},\"layout\":{\"autotypenumbers\":\"strict\",\"colorway\":[\"#636efa\",\"#EF553B\",\"#00cc96\",\"#ab63fa\",\"#FFA15A\",\"#19d3f3\",\"#FF6692\",\"#B6E880\",\"#FF97FF\",\"#FECB52\"],\"font\":{\"color\":\"#2a3f5f\"},\"hovermode\":\"closest\",\"hoverlabel\":{\"align\":\"left\"},\"paper_bgcolor\":\"white\",\"plot_bgcolor\":\"#E5ECF6\",\"polar\":{\"bgcolor\":\"#E5ECF6\",\"angularaxis\":{\"gridcolor\":\"white\",\"linecolor\":\"white\",\"ticks\":\"\"},\"radialaxis\":{\"gridcolor\":\"white\",\"linecolor\":\"white\",\"ticks\":\"\"}},\"ternary\":{\"bgcolor\":\"#E5ECF6\",\"aaxis\":{\"gridcolor\":\"white\",\"linecolor\":\"white\",\"ticks\":\"\"},\"baxis\":{\"gridcolor\":\"white\",\"linecolor\":\"white\",\"ticks\":\"\"},\"caxis\":{\"gridcolor\":\"white\",\"linecolor\":\"white\",\"ticks\":\"\"}},\"coloraxis\":{\"colorbar\":{\"outlinewidth\":0,\"ticks\":\"\"}},\"colorscale\":{\"sequential\":[[0.0,\"#0d0887\"],[0.1111111111111111,\"#46039f\"],[0.2222222222222222,\"#7201a8\"],[0.3333333333333333,\"#9c179e\"],[0.4444444444444444,\"#bd3786\"],[0.5555555555555556,\"#d8576b\"],[0.6666666666666666,\"#ed7953\"],[0.7777777777777778,\"#fb9f3a\"],[0.8888888888888888,\"#fdca26\"],[1.0,\"#f0f921\"]],\"sequentialminus\":[[0.0,\"#0d0887\"],[0.1111111111111111,\"#46039f\"],[0.2222222222222222,\"#7201a8\"],[0.3333333333333333,\"#9c179e\"],[0.4444444444444444,\"#bd3786\"],[0.5555555555555556,\"#d8576b\"],[0.6666666666666666,\"#ed7953\"],[0.7777777777777778,\"#fb9f3a\"],[0.8888888888888888,\"#fdca26\"],[1.0,\"#f0f921\"]],\"diverging\":[[0,\"#8e0152\"],[0.1,\"#c51b7d\"],[0.2,\"#de77ae\"],[0.3,\"#f1b6da\"],[0.4,\"#fde0ef\"],[0.5,\"#f7f7f7\"],[0.6,\"#e6f5d0\"],[0.7,\"#b8e186\"],[0.8,\"#7fbc41\"],[0.9,\"#4d9221\"],[1,\"#276419\"]]},\"xaxis\":{\"gridcolor\":\"white\",\"linecolor\":\"white\",\"ticks\":\"\",\"title\":{\"standoff\":15},\"zerolinecolor\":\"white\",\"automargin\":true,\"zerolinewidth\":2},\"yaxis\":{\"gridcolor\":\"white\",\"linecolor\":\"white\",\"ticks\":\"\",\"title\":{\"standoff\":15},\"zerolinecolor\":\"white\",\"automargin\":true,\"zerolinewidth\":2},\"scene\":{\"xaxis\":{\"backgroundcolor\":\"#E5ECF6\",\"gridcolor\":\"white\",\"linecolor\":\"white\",\"showbackground\":true,\"ticks\":\"\",\"zerolinecolor\":\"white\",\"gridwidth\":2},\"yaxis\":{\"backgroundcolor\":\"#E5ECF6\",\"gridcolor\":\"white\",\"linecolor\":\"white\",\"showbackground\":true,\"ticks\":\"\",\"zerolinecolor\":\"white\",\"gridwidth\":2},\"zaxis\":{\"backgroundcolor\":\"#E5ECF6\",\"gridcolor\":\"white\",\"linecolor\":\"white\",\"showbackground\":true,\"ticks\":\"\",\"zerolinecolor\":\"white\",\"gridwidth\":2}},\"shapedefaults\":{\"line\":{\"color\":\"#2a3f5f\"}},\"annotationdefaults\":{\"arrowcolor\":\"#2a3f5f\",\"arrowhead\":0,\"arrowwidth\":1},\"geo\":{\"bgcolor\":\"white\",\"landcolor\":\"#E5ECF6\",\"subunitcolor\":\"white\",\"showland\":true,\"showlakes\":true,\"lakecolor\":\"white\"},\"title\":{\"x\":0.05},\"mapbox\":{\"style\":\"light\"}}},\"annotations\":[{\"font\":{\"size\":16},\"showarrow\":false,\"text\":\"\\u0412\\u0438\\u0434\",\"x\":0.13999999999999999,\"xanchor\":\"center\",\"xref\":\"paper\",\"y\":1.0,\"yanchor\":\"bottom\",\"yref\":\"paper\"},{\"font\":{\"size\":16},\"showarrow\":false,\"text\":\"\\u041e\\u0441\\u0442\\u0440\\u043e\\u0432\",\"x\":0.49999999999999994,\"xanchor\":\"center\",\"xref\":\"paper\",\"y\":1.0,\"yanchor\":\"bottom\",\"yref\":\"paper\"},{\"font\":{\"size\":16},\"showarrow\":false,\"text\":\"\\u041f\\u043e\\u043b\",\"x\":0.86,\"xanchor\":\"center\",\"xref\":\"paper\",\"y\":1.0,\"yanchor\":\"bottom\",\"yref\":\"paper\"}],\"height\":430,\"title\":{\"font\":{\"size\":30},\"text\":\"\\u0425\\u0430\\u0440\\u0430\\u043a\\u0442\\u0435\\u0440\\u0438\\u0441\\u0442\\u0438\\u043a\\u0438 \\u043f\\u0438\\u043d\\u0433\\u0432\\u0438\\u043d\\u043e\\u0432\",\"x\":0.5},\"paper_bgcolor\":\"rgb(220, 237, 247)\",\"plot_bgcolor\":\"rgb(220, 237, 247)\"},                        {\"responsive\": true}                    ).then(function(){\n",
       "                            \n",
       "var gd = document.getElementById('e0aaae9c-afee-43db-b0a7-fa9e9c67a68c');\n",
       "var x = new MutationObserver(function (mutations, observer) {{\n",
       "        var display = window.getComputedStyle(gd).display;\n",
       "        if (!display || display === 'none') {{\n",
       "            console.log([gd, 'removed!']);\n",
       "            Plotly.purge(gd);\n",
       "            observer.disconnect();\n",
       "        }}\n",
       "}});\n",
       "\n",
       "// Listen for the removal of the full notebook cells\n",
       "var notebookContainer = gd.closest('#notebook-container');\n",
       "if (notebookContainer) {{\n",
       "    x.observe(notebookContainer, {childList: true});\n",
       "}}\n",
       "\n",
       "// Listen for the clearing of the current output cell\n",
       "var outputEl = gd.closest('.output');\n",
       "if (outputEl) {{\n",
       "    x.observe(outputEl, {childList: true});\n",
       "}}\n",
       "\n",
       "                        })                };                });            </script>        </div>"
      ]
     },
     "metadata": {},
     "output_type": "display_data"
    }
   ],
   "source": [
    "palette = cycle(px.colors.sequential.thermal)\n",
    "\n",
    "fig = sp.make_subplots(\n",
    "    rows=1, \n",
    "    cols=3,\n",
    "    horizontal_spacing=0.08,\n",
    "    subplot_titles=[\n",
    "        \"Вид\",\n",
    "        \"Остров\",\n",
    "        \"Пол\"],\n",
    "        specs=[[{\"type\": \"pie\"}, {\"type\": \"pie\"}, {\"type\": \"pie\"}]],\n",
    "        vertical_spacing = 0.1\n",
    ")\n",
    "\n",
    "species_counts = penguin.species.value_counts()\n",
    "\n",
    "species_p = go.Pie(\n",
    "    labels=species_counts.index,\n",
    "    values=species_counts,\n",
    "    name=\"Виды\",\n",
    "    textinfo='percent+label',\n",
    "    hoverinfo=\"label+value+percent\",\n",
    "    marker_colors=[next(palette) for i in range(len(species_counts))],\n",
    "    legendgroup=\"Вид\",\n",
    "    legendgrouptitle_text=\"Вид\",\n",
    ")\n",
    "\n",
    "island_counts = penguin.island.value_counts()\n",
    "\n",
    "island = go.Pie(\n",
    "    labels=island_counts.index,\n",
    "    values=island_counts,\n",
    "    name=\"Остров\",\n",
    "    textinfo='percent+label',\n",
    "    hoverinfo=\"label+value+percent\",\n",
    "    marker_colors=[next(palette) for i in range(len(island_counts))],\n",
    "    legendgroup=\"Остров\",\n",
    "    legendgrouptitle_text=\"Остров\",\n",
    ")\n",
    "\n",
    "sex_counts = penguin.sex.value_counts()\n",
    "\n",
    "sex = go.Pie(\n",
    "    labels=sex_counts.index,\n",
    "    values=sex_counts,\n",
    "    name=\"Пол\",\n",
    "    textinfo='percent+label',\n",
    "    hoverinfo=\"label+value+percent\",\n",
    "    marker_colors=[next(palette) for i in range(len(sex_counts))],\n",
    "    legendgroup=\"Пол\",\n",
    "    legendgrouptitle_text=\"Пол\",\n",
    ")\n",
    "\n",
    "fig.add_trace(species_p, row=1, col=1)\n",
    "fig.update_xaxes(title_text=\"Вид\", row=1, col=1)\n",
    "fig.update_yaxes(title_text=\"Количество\", row=1, col=1)\n",
    "\n",
    "fig.add_trace(island, row=1, col=2)\n",
    "fig.update_xaxes(title_text=\"Остров\", row=1, col=2)\n",
    "fig.update_yaxes(title_text=\"Количество\", row=1, col=2)\n",
    "\n",
    "fig.add_trace(sex, row=1, col=3)\n",
    "fig.update_xaxes(title_text=\"Пол\", row=1, col=3)\n",
    "fig.update_yaxes(title_text=\"Количество\", row=1, col=3)\n",
    "\n",
    "fig.update_layout(\n",
    "    template=\"plotly\",\n",
    "    height=430,\n",
    ")\n",
    "\n",
    "fig.update(\n",
    "    layout_title_text=\"Характеристики пингвинов\",\n",
    "    layout_title_font_size=30,\n",
    "    layout_title_x=0.5,\n",
    "    layout_paper_bgcolor='rgb(220, 237, 247)',\n",
    "    layout_plot_bgcolor='rgb(220, 237, 247)',\n",
    ")\n",
    "\n",
    "fig.show()"
   ]
  },
  {
   "cell_type": "markdown",
   "id": "0c4702c2",
   "metadata": {},
   "source": [
    "- Адели занимают первое место, за ними следуют Gentoo (Субантарктические пингвины) и Chinstrap (Антарктические пингвины).\n",
    "\n",
    "\n",
    "- Большинство пингвинов принадлежат острову Биско, а меньше всего — Торгерсену."
   ]
  },
  {
   "cell_type": "markdown",
   "id": "c743bbb0",
   "metadata": {},
   "source": [
    "Распределение характеристик пингвинов"
   ]
  },
  {
   "cell_type": "code",
   "execution_count": 37,
   "id": "e7ce4859",
   "metadata": {},
   "outputs": [
    {
     "data": {
      "application/vnd.plotly.v1+json": {
       "config": {
        "plotlyServerURL": "https://plot.ly"
       },
       "data": [
        {
         "legendgroup": "Длина надклювья",
         "legendgrouptitle": {
          "text": "Длина надклювья"
         },
         "marker": {
          "color": "rgb(3, 35, 51)"
         },
         "name": "Длина надклювья",
         "type": "histogram",
         "x": [
          39.1,
          39.5,
          40.3,
          43.9,
          36.7,
          39.3,
          38.9,
          39.2,
          34.1,
          42,
          37.8,
          37.8,
          41.1,
          38.6,
          34.6,
          36.6,
          38.7,
          42.5,
          34.4,
          46,
          37.8,
          37.7,
          35.9,
          38.2,
          38.8,
          35.3,
          40.6,
          40.5,
          37.9,
          40.5,
          39.5,
          37.2,
          39.5,
          40.9,
          36.4,
          39.2,
          38.8,
          42.2,
          37.6,
          39.8,
          36.5,
          40.8,
          36,
          44.1,
          37,
          39.6,
          41.1,
          37.5,
          36,
          42.3,
          39.6,
          40.1,
          35,
          42,
          34.5,
          41.4,
          39,
          40.6,
          36.5,
          37.6,
          35.7,
          41.3,
          37.6,
          41.1,
          36.4,
          41.6,
          35.5,
          41.1,
          35.9,
          41.8,
          33.5,
          39.7,
          39.6,
          45.8,
          35.5,
          42.8,
          40.9,
          37.2,
          36.2,
          42.1,
          34.6,
          42.9,
          36.7,
          35.1,
          37.3,
          41.3,
          36.3,
          36.9,
          38.3,
          38.9,
          35.7,
          41.1,
          34,
          39.6,
          36.2,
          40.8,
          38.1,
          40.3,
          33.1,
          43.2,
          35,
          41,
          37.7,
          37.8,
          37.9,
          39.7,
          38.6,
          38.2,
          38.1,
          43.2,
          38.1,
          45.6,
          39.7,
          42.2,
          39.6,
          42.7,
          38.6,
          37.3,
          35.7,
          41.1,
          36.2,
          37.7,
          40.2,
          41.4,
          35.2,
          40.6,
          38.8,
          41.5,
          39,
          44.1,
          38.5,
          43.1,
          36.8,
          37.5,
          38.1,
          41.1,
          35.6,
          40.2,
          37,
          39.7,
          40.2,
          40.6,
          32.1,
          40.7,
          37.3,
          39,
          39.2,
          36.6,
          36,
          37.8,
          36,
          41.5,
          46.5,
          50,
          51.3,
          45.4,
          52.7,
          45.2,
          46.1,
          51.3,
          46,
          51.3,
          46.6,
          51.7,
          47,
          52,
          45.9,
          50.5,
          50.3,
          58,
          46.4,
          49.2,
          42.4,
          48.5,
          43.2,
          50.6,
          46.7,
          52,
          50.5,
          49.5,
          46.4,
          52.8,
          40.9,
          54.2,
          42.5,
          51,
          49.7,
          47.5,
          47.6,
          52,
          46.9,
          53.5,
          49,
          46.2,
          50.9,
          45.5,
          50.9,
          50.8,
          50.1,
          49,
          51.5,
          49.8,
          48.1,
          51.4,
          45.7,
          50.7,
          42.5,
          52.2,
          45.2,
          49.3,
          50.2,
          45.6,
          51.9,
          46.8,
          45.7,
          55.8,
          43.5,
          49.6,
          50.8,
          50.2,
          46.1,
          50,
          48.7,
          50,
          47.6,
          46.5,
          45.4,
          46.7,
          43.3,
          46.8,
          40.9,
          49,
          45.5,
          48.4,
          45.8,
          49.3,
          42,
          49.2,
          46.2,
          48.7,
          50.2,
          45.1,
          46.5,
          46.3,
          42.9,
          46.1,
          44.5,
          47.8,
          48.2,
          50,
          47.3,
          42.8,
          45.1,
          59.6,
          49.1,
          48.4,
          42.6,
          44.4,
          44,
          48.7,
          42.7,
          49.6,
          45.3,
          49.6,
          50.5,
          43.6,
          45.5,
          50.5,
          44.9,
          45.2,
          46.6,
          48.5,
          45.1,
          50.1,
          46.5,
          45,
          43.8,
          45.5,
          43.2,
          50.4,
          45.3,
          46.2,
          45.7,
          54.3,
          45.8,
          49.8,
          46.2,
          49.5,
          43.5,
          50.7,
          47.7,
          46.4,
          48.2,
          46.5,
          46.4,
          48.6,
          47.5,
          51.1,
          45.2,
          45.2,
          49.1,
          52.5,
          47.4,
          50,
          44.9,
          50.8,
          43.4,
          51.3,
          47.5,
          52.1,
          47.5,
          52.2,
          45.5,
          49.5,
          44.5,
          50.8,
          49.4,
          46.9,
          48.4,
          51.1,
          48.5,
          55.9,
          47.2,
          49.1,
          47.3,
          46.8,
          41.7,
          53.4,
          43.3,
          48.1,
          50.5,
          49.8,
          43.5,
          51.5,
          46.2,
          55.1,
          44.5,
          48.8,
          47.2,
          43.9,
          46.8,
          50.4,
          45.2,
          49.9
         ],
         "xaxis": "x",
         "yaxis": "y"
        },
        {
         "legendgroup": "Толщина надклювья",
         "legendgrouptitle": {
          "text": "Толщина надклювья"
         },
         "marker": {
          "color": "rgb(13, 48, 100)"
         },
         "name": "Толщина надклювья",
         "type": "histogram",
         "x": [
          18.7,
          17.4,
          18,
          17.2,
          19.3,
          20.6,
          17.8,
          19.6,
          18.1,
          20.2,
          17.1,
          17.3,
          17.6,
          21.2,
          21.1,
          17.8,
          19,
          20.7,
          18.4,
          21.5,
          18.3,
          18.7,
          19.2,
          18.1,
          17.2,
          18.9,
          18.6,
          17.9,
          18.6,
          18.9,
          16.7,
          18.1,
          17.8,
          18.9,
          17,
          21.1,
          20,
          18.5,
          19.3,
          19.1,
          18,
          18.4,
          18.5,
          19.7,
          16.9,
          18.8,
          19,
          18.9,
          17.9,
          21.2,
          17.7,
          18.9,
          17.9,
          19.5,
          18.1,
          18.6,
          17.5,
          18.8,
          16.6,
          19.1,
          16.9,
          21.1,
          17,
          18.2,
          17.1,
          18,
          16.2,
          19.1,
          16.6,
          19.4,
          19,
          18.4,
          17.2,
          18.9,
          17.5,
          18.5,
          16.8,
          19.4,
          16.1,
          19.1,
          17.2,
          17.6,
          18.8,
          19.4,
          17.8,
          20.3,
          19.5,
          18.6,
          19.2,
          18.8,
          18,
          18.1,
          17.1,
          18.1,
          17.3,
          18.9,
          18.6,
          18.5,
          16.1,
          18.5,
          17.9,
          20,
          16,
          20,
          18.6,
          18.9,
          17.2,
          20,
          17,
          19,
          16.5,
          20.3,
          17.7,
          19.5,
          20.7,
          18.3,
          17,
          20.5,
          17,
          18.6,
          17.2,
          19.8,
          17,
          18.5,
          15.9,
          19,
          17.6,
          18.3,
          17.1,
          18,
          17.9,
          19.2,
          18.5,
          18.5,
          17.6,
          17.5,
          17.5,
          20.1,
          16.5,
          17.9,
          17.1,
          17.2,
          15.5,
          17,
          16.8,
          18.7,
          18.6,
          18.4,
          17.8,
          18.1,
          17.1,
          18.5,
          17.9,
          19.5,
          19.2,
          18.7,
          19.8,
          17.8,
          18.2,
          18.2,
          18.9,
          19.9,
          17.8,
          20.3,
          17.3,
          18.1,
          17.1,
          19.6,
          20,
          17.8,
          18.6,
          18.2,
          17.3,
          17.5,
          16.6,
          19.4,
          17.9,
          19,
          18.4,
          19,
          17.8,
          20,
          16.6,
          20.8,
          16.7,
          18.8,
          18.6,
          16.8,
          18.3,
          20.7,
          16.6,
          19.9,
          19.5,
          17.5,
          19.1,
          17,
          17.9,
          18.5,
          17.9,
          19.6,
          18.7,
          17.3,
          16.4,
          19,
          17.3,
          19.7,
          17.3,
          18.8,
          16.6,
          19.9,
          18.8,
          19.4,
          19.5,
          16.5,
          17,
          19.8,
          18.1,
          18.2,
          19,
          18.7,
          13.2,
          16.3,
          14.1,
          15.2,
          14.5,
          13.5,
          14.6,
          15.3,
          13.4,
          15.4,
          13.7,
          16.1,
          13.7,
          14.6,
          14.6,
          15.7,
          13.5,
          15.2,
          14.5,
          15.1,
          14.3,
          14.5,
          14.5,
          15.8,
          13.1,
          15.1,
          14.3,
          15,
          14.3,
          15.3,
          15.3,
          14.2,
          14.5,
          17,
          14.8,
          16.3,
          13.7,
          17.3,
          13.6,
          15.7,
          13.7,
          16,
          13.7,
          15,
          15.9,
          13.9,
          13.9,
          15.9,
          13.3,
          15.8,
          14.2,
          14.1,
          14.4,
          15,
          14.4,
          15.4,
          13.9,
          15,
          14.5,
          15.3,
          13.8,
          14.9,
          13.9,
          15.7,
          14.2,
          16.8,
          14.4,
          16.2,
          14.2,
          15,
          15,
          15.6,
          15.6,
          14.8,
          15,
          16,
          14.2,
          16.3,
          13.8,
          16.4,
          14.5,
          15.6,
          14.6,
          15.9,
          13.8,
          17.3,
          14.4,
          14.2,
          14,
          17,
          15,
          17.1,
          14.5,
          16.1,
          14.7,
          15.7,
          15.8,
          14.6,
          14.4,
          16.5,
          15,
          17,
          15.5,
          15,
          13.8,
          16.1,
          14.7,
          15.8,
          14,
          15.1,
          15.2,
          15.9,
          15.2,
          16.3,
          14.1,
          16,
          15.7,
          16.2,
          13.7,
          17.2,
          14.3,
          15.7,
          14.8,
          16.1
         ],
         "xaxis": "x2",
         "yaxis": "y2"
        },
        {
         "legendgroup": "Длина плавника",
         "legendgrouptitle": {
          "text": "Длина плавника"
         },
         "marker": {
          "color": "rgb(53, 50, 155)"
         },
         "name": "Длина плавника",
         "type": "histogram",
         "x": [
          181,
          186,
          195,
          200.9,
          193,
          190,
          181,
          195,
          193,
          190,
          186,
          180,
          182,
          191,
          198,
          185,
          195,
          197,
          184,
          194,
          174,
          180,
          189,
          185,
          180,
          187,
          183,
          187,
          172,
          180,
          178,
          178,
          188,
          184,
          195,
          196,
          190,
          180,
          181,
          184,
          182,
          195,
          186,
          196,
          185,
          190,
          182,
          179,
          190,
          191,
          186,
          188,
          190,
          200,
          187,
          191,
          186,
          193,
          181,
          194,
          185,
          195,
          185,
          192,
          184,
          192,
          195,
          188,
          190,
          198,
          190,
          190,
          196,
          197,
          190,
          195,
          191,
          184,
          187,
          195,
          189,
          196,
          187,
          193,
          191,
          194,
          190,
          189,
          189,
          190,
          202,
          205,
          185,
          186,
          187,
          208,
          190,
          196,
          178,
          192,
          192,
          203,
          183,
          190,
          193,
          184,
          199,
          190,
          181,
          197,
          198,
          191,
          193,
          197,
          191,
          196,
          188,
          199,
          189,
          189,
          187,
          198,
          176,
          202,
          186,
          199,
          191,
          195,
          191,
          210,
          190,
          197,
          193,
          199,
          187,
          190,
          191,
          200,
          185,
          193,
          193,
          187,
          188,
          190,
          192,
          185,
          190,
          184,
          195,
          193,
          187,
          201,
          192,
          196,
          193,
          188,
          197,
          198,
          178,
          197,
          195,
          198,
          193,
          194,
          185,
          201,
          190,
          201,
          197,
          181,
          190,
          195,
          181,
          191,
          187,
          193,
          195,
          197,
          200,
          200,
          191,
          205,
          187,
          201,
          187,
          203,
          195,
          199,
          195,
          210,
          192,
          205,
          210,
          187,
          196,
          196,
          196,
          201,
          190,
          212,
          187,
          198,
          199,
          201,
          193,
          203,
          187,
          197,
          191,
          203,
          202,
          194,
          206,
          189,
          195,
          207,
          202,
          193,
          210,
          198,
          211,
          230,
          210,
          218,
          215,
          210,
          211,
          219,
          209,
          215,
          214,
          216,
          214,
          213,
          210,
          217,
          210,
          221,
          209,
          222,
          218,
          215,
          213,
          215,
          215,
          215,
          216,
          215,
          210,
          220,
          222,
          209,
          207,
          230,
          220,
          220,
          213,
          219,
          208,
          208,
          208,
          225,
          210,
          216,
          222,
          217,
          210,
          225,
          213,
          215,
          210,
          220,
          210,
          225,
          217,
          220,
          208,
          220,
          208,
          224,
          208,
          221,
          214,
          231,
          219,
          230,
          214,
          229,
          220,
          223,
          216,
          221,
          221,
          217,
          216,
          230,
          209,
          220,
          215,
          223,
          212,
          221,
          212,
          224,
          212,
          228,
          218,
          218,
          212,
          230,
          218,
          228,
          212,
          224,
          214,
          226,
          216,
          222,
          203,
          225,
          219,
          228,
          215,
          228,
          216,
          215,
          210,
          219,
          208,
          209,
          216,
          229,
          213,
          230,
          217,
          230,
          217,
          222,
          214,
          200.9,
          215,
          222,
          212,
          213
         ],
         "xaxis": "x3",
         "yaxis": "y3"
        },
        {
         "legendgroup": "Масса тела",
         "legendgrouptitle": {
          "text": "Масса тела"
         },
         "marker": {
          "color": "rgb(93, 62, 153)"
         },
         "name": "Масса тела",
         "type": "histogram",
         "x": [
          3750,
          3800,
          3250,
          4201.8,
          3450,
          3650,
          3625,
          4675,
          3475,
          4250,
          3300,
          3700,
          3200,
          3800,
          4400,
          3700,
          3450,
          4500,
          3325,
          4200,
          3400,
          3600,
          3800,
          3950,
          3800,
          3800,
          3550,
          3200,
          3150,
          3950,
          3250,
          3900,
          3300,
          3900,
          3325,
          4150,
          3950,
          3550,
          3300,
          4650,
          3150,
          3900,
          3100,
          4400,
          3000,
          4600,
          3425,
          2975,
          3450,
          4150,
          3500,
          4300,
          3450,
          4050,
          2900,
          3700,
          3550,
          3800,
          2850,
          3750,
          3150,
          4400,
          3600,
          4050,
          2850,
          3950,
          3350,
          4100,
          3050,
          4450,
          3600,
          3900,
          3550,
          4150,
          3700,
          4250,
          3700,
          3900,
          3550,
          4000,
          3200,
          4700,
          3800,
          4200,
          3350,
          3550,
          3800,
          3500,
          3950,
          3600,
          3550,
          4300,
          3400,
          4450,
          3300,
          4300,
          3700,
          4350,
          2900,
          4100,
          3725,
          4725,
          3075,
          4250,
          2925,
          3550,
          3750,
          3900,
          3175,
          4775,
          3825,
          4600,
          3200,
          4275,
          3900,
          4075,
          2900,
          3775,
          3350,
          3325,
          3150,
          3500,
          3450,
          3875,
          3050,
          4000,
          3275,
          4300,
          3050,
          4000,
          3325,
          3500,
          3500,
          4475,
          3425,
          3900,
          3175,
          3975,
          3400,
          4250,
          3400,
          3475,
          3050,
          3725,
          3000,
          3650,
          4250,
          3475,
          3450,
          3750,
          3700,
          4000,
          3500,
          3900,
          3650,
          3525,
          3725,
          3950,
          3250,
          3750,
          4150,
          3700,
          3800,
          3775,
          3700,
          4050,
          3575,
          4050,
          3300,
          3700,
          3450,
          4400,
          3600,
          3400,
          2900,
          3800,
          3300,
          4150,
          3400,
          3800,
          3700,
          4550,
          3200,
          4300,
          3350,
          4100,
          3600,
          3900,
          3850,
          4800,
          2700,
          4500,
          3950,
          3650,
          3550,
          3500,
          3675,
          4450,
          3400,
          4300,
          3250,
          3675,
          3325,
          3950,
          3600,
          4050,
          3350,
          3450,
          3250,
          4050,
          3800,
          3525,
          3950,
          3650,
          3650,
          4000,
          3400,
          3775,
          4100,
          3775,
          4500,
          5700,
          4450,
          5700,
          5400,
          4550,
          4800,
          5200,
          4400,
          5150,
          4650,
          5550,
          4650,
          5850,
          4200,
          5850,
          4150,
          6300,
          4800,
          5350,
          5700,
          5000,
          4400,
          5050,
          5000,
          5100,
          4100,
          5650,
          4600,
          5550,
          5250,
          4700,
          5050,
          6050,
          5150,
          5400,
          4950,
          5250,
          4350,
          5350,
          3950,
          5700,
          4300,
          4750,
          5550,
          4900,
          4200,
          5400,
          5100,
          5300,
          4850,
          5300,
          4400,
          5000,
          4900,
          5050,
          4300,
          5000,
          4450,
          5550,
          4200,
          5300,
          4400,
          5650,
          4700,
          5700,
          4650,
          5800,
          4700,
          5550,
          4750,
          5000,
          5100,
          5200,
          4700,
          5800,
          4600,
          6000,
          4750,
          5950,
          4625,
          5450,
          4725,
          5350,
          4750,
          5600,
          4600,
          5300,
          4875,
          5550,
          4950,
          5400,
          4750,
          5650,
          4850,
          5200,
          4925,
          4875,
          4625,
          5250,
          4850,
          5600,
          4975,
          5500,
          4725,
          5500,
          4700,
          5500,
          4575,
          5500,
          5000,
          5950,
          4650,
          5500,
          4375,
          5850,
          4875,
          6000,
          4925,
          4201.8,
          4850,
          5750,
          5200,
          5400
         ],
         "xaxis": "x4",
         "yaxis": "y4"
        }
       ],
       "layout": {
        "annotations": [
         {
          "font": {
           "size": 16
          },
          "showarrow": false,
          "text": "Длина надклювья",
          "x": 0.23,
          "xanchor": "center",
          "xref": "paper",
          "y": 1,
          "yanchor": "bottom",
          "yref": "paper"
         },
         {
          "font": {
           "size": 16
          },
          "showarrow": false,
          "text": "Толщина надклювья",
          "x": 0.77,
          "xanchor": "center",
          "xref": "paper",
          "y": 1,
          "yanchor": "bottom",
          "yref": "paper"
         },
         {
          "font": {
           "size": 16
          },
          "showarrow": false,
          "text": "Длина плавника",
          "x": 0.23,
          "xanchor": "center",
          "xref": "paper",
          "y": 0.45,
          "yanchor": "bottom",
          "yref": "paper"
         },
         {
          "font": {
           "size": 16
          },
          "showarrow": false,
          "text": "Масса тела",
          "x": 0.77,
          "xanchor": "center",
          "xref": "paper",
          "y": 0.45,
          "yanchor": "bottom",
          "yref": "paper"
         }
        ],
        "height": 1000,
        "paper_bgcolor": "rgb(229, 237, 247)",
        "plot_bgcolor": "rgb(229, 237, 247)",
        "template": {
         "data": {
          "bar": [
           {
            "error_x": {
             "color": "#2a3f5f"
            },
            "error_y": {
             "color": "#2a3f5f"
            },
            "marker": {
             "line": {
              "color": "#E5ECF6",
              "width": 0.5
             },
             "pattern": {
              "fillmode": "overlay",
              "size": 10,
              "solidity": 0.2
             }
            },
            "type": "bar"
           }
          ],
          "barpolar": [
           {
            "marker": {
             "line": {
              "color": "#E5ECF6",
              "width": 0.5
             },
             "pattern": {
              "fillmode": "overlay",
              "size": 10,
              "solidity": 0.2
             }
            },
            "type": "barpolar"
           }
          ],
          "carpet": [
           {
            "aaxis": {
             "endlinecolor": "#2a3f5f",
             "gridcolor": "white",
             "linecolor": "white",
             "minorgridcolor": "white",
             "startlinecolor": "#2a3f5f"
            },
            "baxis": {
             "endlinecolor": "#2a3f5f",
             "gridcolor": "white",
             "linecolor": "white",
             "minorgridcolor": "white",
             "startlinecolor": "#2a3f5f"
            },
            "type": "carpet"
           }
          ],
          "choropleth": [
           {
            "colorbar": {
             "outlinewidth": 0,
             "ticks": ""
            },
            "type": "choropleth"
           }
          ],
          "contour": [
           {
            "colorbar": {
             "outlinewidth": 0,
             "ticks": ""
            },
            "colorscale": [
             [
              0,
              "#0d0887"
             ],
             [
              0.1111111111111111,
              "#46039f"
             ],
             [
              0.2222222222222222,
              "#7201a8"
             ],
             [
              0.3333333333333333,
              "#9c179e"
             ],
             [
              0.4444444444444444,
              "#bd3786"
             ],
             [
              0.5555555555555556,
              "#d8576b"
             ],
             [
              0.6666666666666666,
              "#ed7953"
             ],
             [
              0.7777777777777778,
              "#fb9f3a"
             ],
             [
              0.8888888888888888,
              "#fdca26"
             ],
             [
              1,
              "#f0f921"
             ]
            ],
            "type": "contour"
           }
          ],
          "contourcarpet": [
           {
            "colorbar": {
             "outlinewidth": 0,
             "ticks": ""
            },
            "type": "contourcarpet"
           }
          ],
          "heatmap": [
           {
            "colorbar": {
             "outlinewidth": 0,
             "ticks": ""
            },
            "colorscale": [
             [
              0,
              "#0d0887"
             ],
             [
              0.1111111111111111,
              "#46039f"
             ],
             [
              0.2222222222222222,
              "#7201a8"
             ],
             [
              0.3333333333333333,
              "#9c179e"
             ],
             [
              0.4444444444444444,
              "#bd3786"
             ],
             [
              0.5555555555555556,
              "#d8576b"
             ],
             [
              0.6666666666666666,
              "#ed7953"
             ],
             [
              0.7777777777777778,
              "#fb9f3a"
             ],
             [
              0.8888888888888888,
              "#fdca26"
             ],
             [
              1,
              "#f0f921"
             ]
            ],
            "type": "heatmap"
           }
          ],
          "heatmapgl": [
           {
            "colorbar": {
             "outlinewidth": 0,
             "ticks": ""
            },
            "colorscale": [
             [
              0,
              "#0d0887"
             ],
             [
              0.1111111111111111,
              "#46039f"
             ],
             [
              0.2222222222222222,
              "#7201a8"
             ],
             [
              0.3333333333333333,
              "#9c179e"
             ],
             [
              0.4444444444444444,
              "#bd3786"
             ],
             [
              0.5555555555555556,
              "#d8576b"
             ],
             [
              0.6666666666666666,
              "#ed7953"
             ],
             [
              0.7777777777777778,
              "#fb9f3a"
             ],
             [
              0.8888888888888888,
              "#fdca26"
             ],
             [
              1,
              "#f0f921"
             ]
            ],
            "type": "heatmapgl"
           }
          ],
          "histogram": [
           {
            "marker": {
             "pattern": {
              "fillmode": "overlay",
              "size": 10,
              "solidity": 0.2
             }
            },
            "type": "histogram"
           }
          ],
          "histogram2d": [
           {
            "colorbar": {
             "outlinewidth": 0,
             "ticks": ""
            },
            "colorscale": [
             [
              0,
              "#0d0887"
             ],
             [
              0.1111111111111111,
              "#46039f"
             ],
             [
              0.2222222222222222,
              "#7201a8"
             ],
             [
              0.3333333333333333,
              "#9c179e"
             ],
             [
              0.4444444444444444,
              "#bd3786"
             ],
             [
              0.5555555555555556,
              "#d8576b"
             ],
             [
              0.6666666666666666,
              "#ed7953"
             ],
             [
              0.7777777777777778,
              "#fb9f3a"
             ],
             [
              0.8888888888888888,
              "#fdca26"
             ],
             [
              1,
              "#f0f921"
             ]
            ],
            "type": "histogram2d"
           }
          ],
          "histogram2dcontour": [
           {
            "colorbar": {
             "outlinewidth": 0,
             "ticks": ""
            },
            "colorscale": [
             [
              0,
              "#0d0887"
             ],
             [
              0.1111111111111111,
              "#46039f"
             ],
             [
              0.2222222222222222,
              "#7201a8"
             ],
             [
              0.3333333333333333,
              "#9c179e"
             ],
             [
              0.4444444444444444,
              "#bd3786"
             ],
             [
              0.5555555555555556,
              "#d8576b"
             ],
             [
              0.6666666666666666,
              "#ed7953"
             ],
             [
              0.7777777777777778,
              "#fb9f3a"
             ],
             [
              0.8888888888888888,
              "#fdca26"
             ],
             [
              1,
              "#f0f921"
             ]
            ],
            "type": "histogram2dcontour"
           }
          ],
          "mesh3d": [
           {
            "colorbar": {
             "outlinewidth": 0,
             "ticks": ""
            },
            "type": "mesh3d"
           }
          ],
          "parcoords": [
           {
            "line": {
             "colorbar": {
              "outlinewidth": 0,
              "ticks": ""
             }
            },
            "type": "parcoords"
           }
          ],
          "pie": [
           {
            "automargin": true,
            "type": "pie"
           }
          ],
          "scatter": [
           {
            "fillpattern": {
             "fillmode": "overlay",
             "size": 10,
             "solidity": 0.2
            },
            "type": "scatter"
           }
          ],
          "scatter3d": [
           {
            "line": {
             "colorbar": {
              "outlinewidth": 0,
              "ticks": ""
             }
            },
            "marker": {
             "colorbar": {
              "outlinewidth": 0,
              "ticks": ""
             }
            },
            "type": "scatter3d"
           }
          ],
          "scattercarpet": [
           {
            "marker": {
             "colorbar": {
              "outlinewidth": 0,
              "ticks": ""
             }
            },
            "type": "scattercarpet"
           }
          ],
          "scattergeo": [
           {
            "marker": {
             "colorbar": {
              "outlinewidth": 0,
              "ticks": ""
             }
            },
            "type": "scattergeo"
           }
          ],
          "scattergl": [
           {
            "marker": {
             "colorbar": {
              "outlinewidth": 0,
              "ticks": ""
             }
            },
            "type": "scattergl"
           }
          ],
          "scattermapbox": [
           {
            "marker": {
             "colorbar": {
              "outlinewidth": 0,
              "ticks": ""
             }
            },
            "type": "scattermapbox"
           }
          ],
          "scatterpolar": [
           {
            "marker": {
             "colorbar": {
              "outlinewidth": 0,
              "ticks": ""
             }
            },
            "type": "scatterpolar"
           }
          ],
          "scatterpolargl": [
           {
            "marker": {
             "colorbar": {
              "outlinewidth": 0,
              "ticks": ""
             }
            },
            "type": "scatterpolargl"
           }
          ],
          "scatterternary": [
           {
            "marker": {
             "colorbar": {
              "outlinewidth": 0,
              "ticks": ""
             }
            },
            "type": "scatterternary"
           }
          ],
          "surface": [
           {
            "colorbar": {
             "outlinewidth": 0,
             "ticks": ""
            },
            "colorscale": [
             [
              0,
              "#0d0887"
             ],
             [
              0.1111111111111111,
              "#46039f"
             ],
             [
              0.2222222222222222,
              "#7201a8"
             ],
             [
              0.3333333333333333,
              "#9c179e"
             ],
             [
              0.4444444444444444,
              "#bd3786"
             ],
             [
              0.5555555555555556,
              "#d8576b"
             ],
             [
              0.6666666666666666,
              "#ed7953"
             ],
             [
              0.7777777777777778,
              "#fb9f3a"
             ],
             [
              0.8888888888888888,
              "#fdca26"
             ],
             [
              1,
              "#f0f921"
             ]
            ],
            "type": "surface"
           }
          ],
          "table": [
           {
            "cells": {
             "fill": {
              "color": "#EBF0F8"
             },
             "line": {
              "color": "white"
             }
            },
            "header": {
             "fill": {
              "color": "#C8D4E3"
             },
             "line": {
              "color": "white"
             }
            },
            "type": "table"
           }
          ]
         },
         "layout": {
          "annotationdefaults": {
           "arrowcolor": "#2a3f5f",
           "arrowhead": 0,
           "arrowwidth": 1
          },
          "autotypenumbers": "strict",
          "coloraxis": {
           "colorbar": {
            "outlinewidth": 0,
            "ticks": ""
           }
          },
          "colorscale": {
           "diverging": [
            [
             0,
             "#8e0152"
            ],
            [
             0.1,
             "#c51b7d"
            ],
            [
             0.2,
             "#de77ae"
            ],
            [
             0.3,
             "#f1b6da"
            ],
            [
             0.4,
             "#fde0ef"
            ],
            [
             0.5,
             "#f7f7f7"
            ],
            [
             0.6,
             "#e6f5d0"
            ],
            [
             0.7,
             "#b8e186"
            ],
            [
             0.8,
             "#7fbc41"
            ],
            [
             0.9,
             "#4d9221"
            ],
            [
             1,
             "#276419"
            ]
           ],
           "sequential": [
            [
             0,
             "#0d0887"
            ],
            [
             0.1111111111111111,
             "#46039f"
            ],
            [
             0.2222222222222222,
             "#7201a8"
            ],
            [
             0.3333333333333333,
             "#9c179e"
            ],
            [
             0.4444444444444444,
             "#bd3786"
            ],
            [
             0.5555555555555556,
             "#d8576b"
            ],
            [
             0.6666666666666666,
             "#ed7953"
            ],
            [
             0.7777777777777778,
             "#fb9f3a"
            ],
            [
             0.8888888888888888,
             "#fdca26"
            ],
            [
             1,
             "#f0f921"
            ]
           ],
           "sequentialminus": [
            [
             0,
             "#0d0887"
            ],
            [
             0.1111111111111111,
             "#46039f"
            ],
            [
             0.2222222222222222,
             "#7201a8"
            ],
            [
             0.3333333333333333,
             "#9c179e"
            ],
            [
             0.4444444444444444,
             "#bd3786"
            ],
            [
             0.5555555555555556,
             "#d8576b"
            ],
            [
             0.6666666666666666,
             "#ed7953"
            ],
            [
             0.7777777777777778,
             "#fb9f3a"
            ],
            [
             0.8888888888888888,
             "#fdca26"
            ],
            [
             1,
             "#f0f921"
            ]
           ]
          },
          "colorway": [
           "#636efa",
           "#EF553B",
           "#00cc96",
           "#ab63fa",
           "#FFA15A",
           "#19d3f3",
           "#FF6692",
           "#B6E880",
           "#FF97FF",
           "#FECB52"
          ],
          "font": {
           "color": "#2a3f5f"
          },
          "geo": {
           "bgcolor": "white",
           "lakecolor": "white",
           "landcolor": "#E5ECF6",
           "showlakes": true,
           "showland": true,
           "subunitcolor": "white"
          },
          "hoverlabel": {
           "align": "left"
          },
          "hovermode": "closest",
          "mapbox": {
           "style": "light"
          },
          "paper_bgcolor": "white",
          "plot_bgcolor": "#E5ECF6",
          "polar": {
           "angularaxis": {
            "gridcolor": "white",
            "linecolor": "white",
            "ticks": ""
           },
           "bgcolor": "#E5ECF6",
           "radialaxis": {
            "gridcolor": "white",
            "linecolor": "white",
            "ticks": ""
           }
          },
          "scene": {
           "xaxis": {
            "backgroundcolor": "#E5ECF6",
            "gridcolor": "white",
            "gridwidth": 2,
            "linecolor": "white",
            "showbackground": true,
            "ticks": "",
            "zerolinecolor": "white"
           },
           "yaxis": {
            "backgroundcolor": "#E5ECF6",
            "gridcolor": "white",
            "gridwidth": 2,
            "linecolor": "white",
            "showbackground": true,
            "ticks": "",
            "zerolinecolor": "white"
           },
           "zaxis": {
            "backgroundcolor": "#E5ECF6",
            "gridcolor": "white",
            "gridwidth": 2,
            "linecolor": "white",
            "showbackground": true,
            "ticks": "",
            "zerolinecolor": "white"
           }
          },
          "shapedefaults": {
           "line": {
            "color": "#2a3f5f"
           }
          },
          "ternary": {
           "aaxis": {
            "gridcolor": "white",
            "linecolor": "white",
            "ticks": ""
           },
           "baxis": {
            "gridcolor": "white",
            "linecolor": "white",
            "ticks": ""
           },
           "bgcolor": "#E5ECF6",
           "caxis": {
            "gridcolor": "white",
            "linecolor": "white",
            "ticks": ""
           }
          },
          "title": {
           "x": 0.05
          },
          "xaxis": {
           "automargin": true,
           "gridcolor": "white",
           "linecolor": "white",
           "ticks": "",
           "title": {
            "standoff": 15
           },
           "zerolinecolor": "white",
           "zerolinewidth": 2
          },
          "yaxis": {
           "automargin": true,
           "gridcolor": "white",
           "linecolor": "white",
           "ticks": "",
           "title": {
            "standoff": 15
           },
           "zerolinecolor": "white",
           "zerolinewidth": 2
          }
         }
        },
        "title": {
         "font": {
          "size": 30
         },
         "text": "Распределение характеристик пингвинов",
         "x": 0.5
        },
        "xaxis": {
         "anchor": "y",
         "domain": [
          0,
          0.46
         ],
         "title": {
          "text": "Длина надклювья"
         }
        },
        "xaxis2": {
         "anchor": "y2",
         "domain": [
          0.54,
          1
         ],
         "title": {
          "text": "Толщина надклювья"
         }
        },
        "xaxis3": {
         "anchor": "y3",
         "domain": [
          0,
          0.46
         ],
         "title": {
          "text": "Длина плавника"
         }
        },
        "xaxis4": {
         "anchor": "y4",
         "domain": [
          0.54,
          1
         ],
         "title": {
          "text": "Масса тела"
         }
        },
        "yaxis": {
         "anchor": "x",
         "domain": [
          0.55,
          1
         ],
         "title": {
          "text": "Количество"
         }
        },
        "yaxis2": {
         "anchor": "x2",
         "domain": [
          0.55,
          1
         ],
         "title": {
          "text": "Количество"
         }
        },
        "yaxis3": {
         "anchor": "x3",
         "domain": [
          0,
          0.45
         ],
         "title": {
          "text": "Количество"
         }
        },
        "yaxis4": {
         "anchor": "x4",
         "domain": [
          0,
          0.45
         ],
         "title": {
          "text": "Количество"
         }
        }
       }
      },
      "text/html": [
       "<div>                            <div id=\"b8fcc9c7-3f42-4fbf-aece-978a152ad2b1\" class=\"plotly-graph-div\" style=\"height:1000px; width:100%;\"></div>            <script type=\"text/javascript\">                require([\"plotly\"], function(Plotly) {                    window.PLOTLYENV=window.PLOTLYENV || {};                                    if (document.getElementById(\"b8fcc9c7-3f42-4fbf-aece-978a152ad2b1\")) {                    Plotly.newPlot(                        \"b8fcc9c7-3f42-4fbf-aece-978a152ad2b1\",                        [{\"legendgroup\":\"\\u0414\\u043b\\u0438\\u043d\\u0430 \\u043d\\u0430\\u0434\\u043a\\u043b\\u044e\\u0432\\u044c\\u044f\",\"legendgrouptitle\":{\"text\":\"\\u0414\\u043b\\u0438\\u043d\\u0430 \\u043d\\u0430\\u0434\\u043a\\u043b\\u044e\\u0432\\u044c\\u044f\"},\"marker\":{\"color\":\"rgb(3, 35, 51)\"},\"name\":\"\\u0414\\u043b\\u0438\\u043d\\u0430 \\u043d\\u0430\\u0434\\u043a\\u043b\\u044e\\u0432\\u044c\\u044f\",\"x\":[39.1,39.5,40.3,43.9,36.7,39.3,38.9,39.2,34.1,42.0,37.8,37.8,41.1,38.6,34.6,36.6,38.7,42.5,34.4,46.0,37.8,37.7,35.9,38.2,38.8,35.3,40.6,40.5,37.9,40.5,39.5,37.2,39.5,40.9,36.4,39.2,38.8,42.2,37.6,39.8,36.5,40.8,36.0,44.1,37.0,39.6,41.1,37.5,36.0,42.3,39.6,40.1,35.0,42.0,34.5,41.4,39.0,40.6,36.5,37.6,35.7,41.3,37.6,41.1,36.4,41.6,35.5,41.1,35.9,41.8,33.5,39.7,39.6,45.8,35.5,42.8,40.9,37.2,36.2,42.1,34.6,42.9,36.7,35.1,37.3,41.3,36.3,36.9,38.3,38.9,35.7,41.1,34.0,39.6,36.2,40.8,38.1,40.3,33.1,43.2,35.0,41.0,37.7,37.8,37.9,39.7,38.6,38.2,38.1,43.2,38.1,45.6,39.7,42.2,39.6,42.7,38.6,37.3,35.7,41.1,36.2,37.7,40.2,41.4,35.2,40.6,38.8,41.5,39.0,44.1,38.5,43.1,36.8,37.5,38.1,41.1,35.6,40.2,37.0,39.7,40.2,40.6,32.1,40.7,37.3,39.0,39.2,36.6,36.0,37.8,36.0,41.5,46.5,50.0,51.3,45.4,52.7,45.2,46.1,51.3,46.0,51.3,46.6,51.7,47.0,52.0,45.9,50.5,50.3,58.0,46.4,49.2,42.4,48.5,43.2,50.6,46.7,52.0,50.5,49.5,46.4,52.8,40.9,54.2,42.5,51.0,49.7,47.5,47.6,52.0,46.9,53.5,49.0,46.2,50.9,45.5,50.9,50.8,50.1,49.0,51.5,49.8,48.1,51.4,45.7,50.7,42.5,52.2,45.2,49.3,50.2,45.6,51.9,46.8,45.7,55.8,43.5,49.6,50.8,50.2,46.1,50.0,48.7,50.0,47.6,46.5,45.4,46.7,43.3,46.8,40.9,49.0,45.5,48.4,45.8,49.3,42.0,49.2,46.2,48.7,50.2,45.1,46.5,46.3,42.9,46.1,44.5,47.8,48.2,50.0,47.3,42.8,45.1,59.6,49.1,48.4,42.6,44.4,44.0,48.7,42.7,49.6,45.3,49.6,50.5,43.6,45.5,50.5,44.9,45.2,46.6,48.5,45.1,50.1,46.5,45.0,43.8,45.5,43.2,50.4,45.3,46.2,45.7,54.3,45.8,49.8,46.2,49.5,43.5,50.7,47.7,46.4,48.2,46.5,46.4,48.6,47.5,51.1,45.2,45.2,49.1,52.5,47.4,50.0,44.9,50.8,43.4,51.3,47.5,52.1,47.5,52.2,45.5,49.5,44.5,50.8,49.4,46.9,48.4,51.1,48.5,55.9,47.2,49.1,47.3,46.8,41.7,53.4,43.3,48.1,50.5,49.8,43.5,51.5,46.2,55.1,44.5,48.8,47.2,43.9,46.8,50.4,45.2,49.9],\"type\":\"histogram\",\"xaxis\":\"x\",\"yaxis\":\"y\"},{\"legendgroup\":\"\\u0422\\u043e\\u043b\\u0449\\u0438\\u043d\\u0430 \\u043d\\u0430\\u0434\\u043a\\u043b\\u044e\\u0432\\u044c\\u044f\",\"legendgrouptitle\":{\"text\":\"\\u0422\\u043e\\u043b\\u0449\\u0438\\u043d\\u0430 \\u043d\\u0430\\u0434\\u043a\\u043b\\u044e\\u0432\\u044c\\u044f\"},\"marker\":{\"color\":\"rgb(13, 48, 100)\"},\"name\":\"\\u0422\\u043e\\u043b\\u0449\\u0438\\u043d\\u0430 \\u043d\\u0430\\u0434\\u043a\\u043b\\u044e\\u0432\\u044c\\u044f\",\"x\":[18.7,17.4,18.0,17.2,19.3,20.6,17.8,19.6,18.1,20.2,17.1,17.3,17.6,21.2,21.1,17.8,19.0,20.7,18.4,21.5,18.3,18.7,19.2,18.1,17.2,18.9,18.6,17.9,18.6,18.9,16.7,18.1,17.8,18.9,17.0,21.1,20.0,18.5,19.3,19.1,18.0,18.4,18.5,19.7,16.9,18.8,19.0,18.9,17.9,21.2,17.7,18.9,17.9,19.5,18.1,18.6,17.5,18.8,16.6,19.1,16.9,21.1,17.0,18.2,17.1,18.0,16.2,19.1,16.6,19.4,19.0,18.4,17.2,18.9,17.5,18.5,16.8,19.4,16.1,19.1,17.2,17.6,18.8,19.4,17.8,20.3,19.5,18.6,19.2,18.8,18.0,18.1,17.1,18.1,17.3,18.9,18.6,18.5,16.1,18.5,17.9,20.0,16.0,20.0,18.6,18.9,17.2,20.0,17.0,19.0,16.5,20.3,17.7,19.5,20.7,18.3,17.0,20.5,17.0,18.6,17.2,19.8,17.0,18.5,15.9,19.0,17.6,18.3,17.1,18.0,17.9,19.2,18.5,18.5,17.6,17.5,17.5,20.1,16.5,17.9,17.1,17.2,15.5,17.0,16.8,18.7,18.6,18.4,17.8,18.1,17.1,18.5,17.9,19.5,19.2,18.7,19.8,17.8,18.2,18.2,18.9,19.9,17.8,20.3,17.3,18.1,17.1,19.6,20.0,17.8,18.6,18.2,17.3,17.5,16.6,19.4,17.9,19.0,18.4,19.0,17.8,20.0,16.6,20.8,16.7,18.8,18.6,16.8,18.3,20.7,16.6,19.9,19.5,17.5,19.1,17.0,17.9,18.5,17.9,19.6,18.7,17.3,16.4,19.0,17.3,19.7,17.3,18.8,16.6,19.9,18.8,19.4,19.5,16.5,17.0,19.8,18.1,18.2,19.0,18.7,13.2,16.3,14.1,15.2,14.5,13.5,14.6,15.3,13.4,15.4,13.7,16.1,13.7,14.6,14.6,15.7,13.5,15.2,14.5,15.1,14.3,14.5,14.5,15.8,13.1,15.1,14.3,15.0,14.3,15.3,15.3,14.2,14.5,17.0,14.8,16.3,13.7,17.3,13.6,15.7,13.7,16.0,13.7,15.0,15.9,13.9,13.9,15.9,13.3,15.8,14.2,14.1,14.4,15.0,14.4,15.4,13.9,15.0,14.5,15.3,13.8,14.9,13.9,15.7,14.2,16.8,14.4,16.2,14.2,15.0,15.0,15.6,15.6,14.8,15.0,16.0,14.2,16.3,13.8,16.4,14.5,15.6,14.6,15.9,13.8,17.3,14.4,14.2,14.0,17.0,15.0,17.1,14.5,16.1,14.7,15.7,15.8,14.6,14.4,16.5,15.0,17.0,15.5,15.0,13.8,16.1,14.7,15.8,14.0,15.1,15.2,15.9,15.2,16.3,14.1,16.0,15.7,16.2,13.7,17.2,14.3,15.7,14.8,16.1],\"type\":\"histogram\",\"xaxis\":\"x2\",\"yaxis\":\"y2\"},{\"legendgroup\":\"\\u0414\\u043b\\u0438\\u043d\\u0430 \\u043f\\u043b\\u0430\\u0432\\u043d\\u0438\\u043a\\u0430\",\"legendgrouptitle\":{\"text\":\"\\u0414\\u043b\\u0438\\u043d\\u0430 \\u043f\\u043b\\u0430\\u0432\\u043d\\u0438\\u043a\\u0430\"},\"marker\":{\"color\":\"rgb(53, 50, 155)\"},\"name\":\"\\u0414\\u043b\\u0438\\u043d\\u0430 \\u043f\\u043b\\u0430\\u0432\\u043d\\u0438\\u043a\\u0430\",\"x\":[181.0,186.0,195.0,200.9,193.0,190.0,181.0,195.0,193.0,190.0,186.0,180.0,182.0,191.0,198.0,185.0,195.0,197.0,184.0,194.0,174.0,180.0,189.0,185.0,180.0,187.0,183.0,187.0,172.0,180.0,178.0,178.0,188.0,184.0,195.0,196.0,190.0,180.0,181.0,184.0,182.0,195.0,186.0,196.0,185.0,190.0,182.0,179.0,190.0,191.0,186.0,188.0,190.0,200.0,187.0,191.0,186.0,193.0,181.0,194.0,185.0,195.0,185.0,192.0,184.0,192.0,195.0,188.0,190.0,198.0,190.0,190.0,196.0,197.0,190.0,195.0,191.0,184.0,187.0,195.0,189.0,196.0,187.0,193.0,191.0,194.0,190.0,189.0,189.0,190.0,202.0,205.0,185.0,186.0,187.0,208.0,190.0,196.0,178.0,192.0,192.0,203.0,183.0,190.0,193.0,184.0,199.0,190.0,181.0,197.0,198.0,191.0,193.0,197.0,191.0,196.0,188.0,199.0,189.0,189.0,187.0,198.0,176.0,202.0,186.0,199.0,191.0,195.0,191.0,210.0,190.0,197.0,193.0,199.0,187.0,190.0,191.0,200.0,185.0,193.0,193.0,187.0,188.0,190.0,192.0,185.0,190.0,184.0,195.0,193.0,187.0,201.0,192.0,196.0,193.0,188.0,197.0,198.0,178.0,197.0,195.0,198.0,193.0,194.0,185.0,201.0,190.0,201.0,197.0,181.0,190.0,195.0,181.0,191.0,187.0,193.0,195.0,197.0,200.0,200.0,191.0,205.0,187.0,201.0,187.0,203.0,195.0,199.0,195.0,210.0,192.0,205.0,210.0,187.0,196.0,196.0,196.0,201.0,190.0,212.0,187.0,198.0,199.0,201.0,193.0,203.0,187.0,197.0,191.0,203.0,202.0,194.0,206.0,189.0,195.0,207.0,202.0,193.0,210.0,198.0,211.0,230.0,210.0,218.0,215.0,210.0,211.0,219.0,209.0,215.0,214.0,216.0,214.0,213.0,210.0,217.0,210.0,221.0,209.0,222.0,218.0,215.0,213.0,215.0,215.0,215.0,216.0,215.0,210.0,220.0,222.0,209.0,207.0,230.0,220.0,220.0,213.0,219.0,208.0,208.0,208.0,225.0,210.0,216.0,222.0,217.0,210.0,225.0,213.0,215.0,210.0,220.0,210.0,225.0,217.0,220.0,208.0,220.0,208.0,224.0,208.0,221.0,214.0,231.0,219.0,230.0,214.0,229.0,220.0,223.0,216.0,221.0,221.0,217.0,216.0,230.0,209.0,220.0,215.0,223.0,212.0,221.0,212.0,224.0,212.0,228.0,218.0,218.0,212.0,230.0,218.0,228.0,212.0,224.0,214.0,226.0,216.0,222.0,203.0,225.0,219.0,228.0,215.0,228.0,216.0,215.0,210.0,219.0,208.0,209.0,216.0,229.0,213.0,230.0,217.0,230.0,217.0,222.0,214.0,200.9,215.0,222.0,212.0,213.0],\"type\":\"histogram\",\"xaxis\":\"x3\",\"yaxis\":\"y3\"},{\"legendgroup\":\"\\u041c\\u0430\\u0441\\u0441\\u0430 \\u0442\\u0435\\u043b\\u0430\",\"legendgrouptitle\":{\"text\":\"\\u041c\\u0430\\u0441\\u0441\\u0430 \\u0442\\u0435\\u043b\\u0430\"},\"marker\":{\"color\":\"rgb(93, 62, 153)\"},\"name\":\"\\u041c\\u0430\\u0441\\u0441\\u0430 \\u0442\\u0435\\u043b\\u0430\",\"x\":[3750.0,3800.0,3250.0,4201.8,3450.0,3650.0,3625.0,4675.0,3475.0,4250.0,3300.0,3700.0,3200.0,3800.0,4400.0,3700.0,3450.0,4500.0,3325.0,4200.0,3400.0,3600.0,3800.0,3950.0,3800.0,3800.0,3550.0,3200.0,3150.0,3950.0,3250.0,3900.0,3300.0,3900.0,3325.0,4150.0,3950.0,3550.0,3300.0,4650.0,3150.0,3900.0,3100.0,4400.0,3000.0,4600.0,3425.0,2975.0,3450.0,4150.0,3500.0,4300.0,3450.0,4050.0,2900.0,3700.0,3550.0,3800.0,2850.0,3750.0,3150.0,4400.0,3600.0,4050.0,2850.0,3950.0,3350.0,4100.0,3050.0,4450.0,3600.0,3900.0,3550.0,4150.0,3700.0,4250.0,3700.0,3900.0,3550.0,4000.0,3200.0,4700.0,3800.0,4200.0,3350.0,3550.0,3800.0,3500.0,3950.0,3600.0,3550.0,4300.0,3400.0,4450.0,3300.0,4300.0,3700.0,4350.0,2900.0,4100.0,3725.0,4725.0,3075.0,4250.0,2925.0,3550.0,3750.0,3900.0,3175.0,4775.0,3825.0,4600.0,3200.0,4275.0,3900.0,4075.0,2900.0,3775.0,3350.0,3325.0,3150.0,3500.0,3450.0,3875.0,3050.0,4000.0,3275.0,4300.0,3050.0,4000.0,3325.0,3500.0,3500.0,4475.0,3425.0,3900.0,3175.0,3975.0,3400.0,4250.0,3400.0,3475.0,3050.0,3725.0,3000.0,3650.0,4250.0,3475.0,3450.0,3750.0,3700.0,4000.0,3500.0,3900.0,3650.0,3525.0,3725.0,3950.0,3250.0,3750.0,4150.0,3700.0,3800.0,3775.0,3700.0,4050.0,3575.0,4050.0,3300.0,3700.0,3450.0,4400.0,3600.0,3400.0,2900.0,3800.0,3300.0,4150.0,3400.0,3800.0,3700.0,4550.0,3200.0,4300.0,3350.0,4100.0,3600.0,3900.0,3850.0,4800.0,2700.0,4500.0,3950.0,3650.0,3550.0,3500.0,3675.0,4450.0,3400.0,4300.0,3250.0,3675.0,3325.0,3950.0,3600.0,4050.0,3350.0,3450.0,3250.0,4050.0,3800.0,3525.0,3950.0,3650.0,3650.0,4000.0,3400.0,3775.0,4100.0,3775.0,4500.0,5700.0,4450.0,5700.0,5400.0,4550.0,4800.0,5200.0,4400.0,5150.0,4650.0,5550.0,4650.0,5850.0,4200.0,5850.0,4150.0,6300.0,4800.0,5350.0,5700.0,5000.0,4400.0,5050.0,5000.0,5100.0,4100.0,5650.0,4600.0,5550.0,5250.0,4700.0,5050.0,6050.0,5150.0,5400.0,4950.0,5250.0,4350.0,5350.0,3950.0,5700.0,4300.0,4750.0,5550.0,4900.0,4200.0,5400.0,5100.0,5300.0,4850.0,5300.0,4400.0,5000.0,4900.0,5050.0,4300.0,5000.0,4450.0,5550.0,4200.0,5300.0,4400.0,5650.0,4700.0,5700.0,4650.0,5800.0,4700.0,5550.0,4750.0,5000.0,5100.0,5200.0,4700.0,5800.0,4600.0,6000.0,4750.0,5950.0,4625.0,5450.0,4725.0,5350.0,4750.0,5600.0,4600.0,5300.0,4875.0,5550.0,4950.0,5400.0,4750.0,5650.0,4850.0,5200.0,4925.0,4875.0,4625.0,5250.0,4850.0,5600.0,4975.0,5500.0,4725.0,5500.0,4700.0,5500.0,4575.0,5500.0,5000.0,5950.0,4650.0,5500.0,4375.0,5850.0,4875.0,6000.0,4925.0,4201.8,4850.0,5750.0,5200.0,5400.0],\"type\":\"histogram\",\"xaxis\":\"x4\",\"yaxis\":\"y4\"}],                        {\"template\":{\"data\":{\"histogram2dcontour\":[{\"type\":\"histogram2dcontour\",\"colorbar\":{\"outlinewidth\":0,\"ticks\":\"\"},\"colorscale\":[[0.0,\"#0d0887\"],[0.1111111111111111,\"#46039f\"],[0.2222222222222222,\"#7201a8\"],[0.3333333333333333,\"#9c179e\"],[0.4444444444444444,\"#bd3786\"],[0.5555555555555556,\"#d8576b\"],[0.6666666666666666,\"#ed7953\"],[0.7777777777777778,\"#fb9f3a\"],[0.8888888888888888,\"#fdca26\"],[1.0,\"#f0f921\"]]}],\"choropleth\":[{\"type\":\"choropleth\",\"colorbar\":{\"outlinewidth\":0,\"ticks\":\"\"}}],\"histogram2d\":[{\"type\":\"histogram2d\",\"colorbar\":{\"outlinewidth\":0,\"ticks\":\"\"},\"colorscale\":[[0.0,\"#0d0887\"],[0.1111111111111111,\"#46039f\"],[0.2222222222222222,\"#7201a8\"],[0.3333333333333333,\"#9c179e\"],[0.4444444444444444,\"#bd3786\"],[0.5555555555555556,\"#d8576b\"],[0.6666666666666666,\"#ed7953\"],[0.7777777777777778,\"#fb9f3a\"],[0.8888888888888888,\"#fdca26\"],[1.0,\"#f0f921\"]]}],\"heatmap\":[{\"type\":\"heatmap\",\"colorbar\":{\"outlinewidth\":0,\"ticks\":\"\"},\"colorscale\":[[0.0,\"#0d0887\"],[0.1111111111111111,\"#46039f\"],[0.2222222222222222,\"#7201a8\"],[0.3333333333333333,\"#9c179e\"],[0.4444444444444444,\"#bd3786\"],[0.5555555555555556,\"#d8576b\"],[0.6666666666666666,\"#ed7953\"],[0.7777777777777778,\"#fb9f3a\"],[0.8888888888888888,\"#fdca26\"],[1.0,\"#f0f921\"]]}],\"heatmapgl\":[{\"type\":\"heatmapgl\",\"colorbar\":{\"outlinewidth\":0,\"ticks\":\"\"},\"colorscale\":[[0.0,\"#0d0887\"],[0.1111111111111111,\"#46039f\"],[0.2222222222222222,\"#7201a8\"],[0.3333333333333333,\"#9c179e\"],[0.4444444444444444,\"#bd3786\"],[0.5555555555555556,\"#d8576b\"],[0.6666666666666666,\"#ed7953\"],[0.7777777777777778,\"#fb9f3a\"],[0.8888888888888888,\"#fdca26\"],[1.0,\"#f0f921\"]]}],\"contourcarpet\":[{\"type\":\"contourcarpet\",\"colorbar\":{\"outlinewidth\":0,\"ticks\":\"\"}}],\"contour\":[{\"type\":\"contour\",\"colorbar\":{\"outlinewidth\":0,\"ticks\":\"\"},\"colorscale\":[[0.0,\"#0d0887\"],[0.1111111111111111,\"#46039f\"],[0.2222222222222222,\"#7201a8\"],[0.3333333333333333,\"#9c179e\"],[0.4444444444444444,\"#bd3786\"],[0.5555555555555556,\"#d8576b\"],[0.6666666666666666,\"#ed7953\"],[0.7777777777777778,\"#fb9f3a\"],[0.8888888888888888,\"#fdca26\"],[1.0,\"#f0f921\"]]}],\"surface\":[{\"type\":\"surface\",\"colorbar\":{\"outlinewidth\":0,\"ticks\":\"\"},\"colorscale\":[[0.0,\"#0d0887\"],[0.1111111111111111,\"#46039f\"],[0.2222222222222222,\"#7201a8\"],[0.3333333333333333,\"#9c179e\"],[0.4444444444444444,\"#bd3786\"],[0.5555555555555556,\"#d8576b\"],[0.6666666666666666,\"#ed7953\"],[0.7777777777777778,\"#fb9f3a\"],[0.8888888888888888,\"#fdca26\"],[1.0,\"#f0f921\"]]}],\"mesh3d\":[{\"type\":\"mesh3d\",\"colorbar\":{\"outlinewidth\":0,\"ticks\":\"\"}}],\"scatter\":[{\"fillpattern\":{\"fillmode\":\"overlay\",\"size\":10,\"solidity\":0.2},\"type\":\"scatter\"}],\"parcoords\":[{\"type\":\"parcoords\",\"line\":{\"colorbar\":{\"outlinewidth\":0,\"ticks\":\"\"}}}],\"scatterpolargl\":[{\"type\":\"scatterpolargl\",\"marker\":{\"colorbar\":{\"outlinewidth\":0,\"ticks\":\"\"}}}],\"bar\":[{\"error_x\":{\"color\":\"#2a3f5f\"},\"error_y\":{\"color\":\"#2a3f5f\"},\"marker\":{\"line\":{\"color\":\"#E5ECF6\",\"width\":0.5},\"pattern\":{\"fillmode\":\"overlay\",\"size\":10,\"solidity\":0.2}},\"type\":\"bar\"}],\"scattergeo\":[{\"type\":\"scattergeo\",\"marker\":{\"colorbar\":{\"outlinewidth\":0,\"ticks\":\"\"}}}],\"scatterpolar\":[{\"type\":\"scatterpolar\",\"marker\":{\"colorbar\":{\"outlinewidth\":0,\"ticks\":\"\"}}}],\"histogram\":[{\"marker\":{\"pattern\":{\"fillmode\":\"overlay\",\"size\":10,\"solidity\":0.2}},\"type\":\"histogram\"}],\"scattergl\":[{\"type\":\"scattergl\",\"marker\":{\"colorbar\":{\"outlinewidth\":0,\"ticks\":\"\"}}}],\"scatter3d\":[{\"type\":\"scatter3d\",\"line\":{\"colorbar\":{\"outlinewidth\":0,\"ticks\":\"\"}},\"marker\":{\"colorbar\":{\"outlinewidth\":0,\"ticks\":\"\"}}}],\"scattermapbox\":[{\"type\":\"scattermapbox\",\"marker\":{\"colorbar\":{\"outlinewidth\":0,\"ticks\":\"\"}}}],\"scatterternary\":[{\"type\":\"scatterternary\",\"marker\":{\"colorbar\":{\"outlinewidth\":0,\"ticks\":\"\"}}}],\"scattercarpet\":[{\"type\":\"scattercarpet\",\"marker\":{\"colorbar\":{\"outlinewidth\":0,\"ticks\":\"\"}}}],\"carpet\":[{\"aaxis\":{\"endlinecolor\":\"#2a3f5f\",\"gridcolor\":\"white\",\"linecolor\":\"white\",\"minorgridcolor\":\"white\",\"startlinecolor\":\"#2a3f5f\"},\"baxis\":{\"endlinecolor\":\"#2a3f5f\",\"gridcolor\":\"white\",\"linecolor\":\"white\",\"minorgridcolor\":\"white\",\"startlinecolor\":\"#2a3f5f\"},\"type\":\"carpet\"}],\"table\":[{\"cells\":{\"fill\":{\"color\":\"#EBF0F8\"},\"line\":{\"color\":\"white\"}},\"header\":{\"fill\":{\"color\":\"#C8D4E3\"},\"line\":{\"color\":\"white\"}},\"type\":\"table\"}],\"barpolar\":[{\"marker\":{\"line\":{\"color\":\"#E5ECF6\",\"width\":0.5},\"pattern\":{\"fillmode\":\"overlay\",\"size\":10,\"solidity\":0.2}},\"type\":\"barpolar\"}],\"pie\":[{\"automargin\":true,\"type\":\"pie\"}]},\"layout\":{\"autotypenumbers\":\"strict\",\"colorway\":[\"#636efa\",\"#EF553B\",\"#00cc96\",\"#ab63fa\",\"#FFA15A\",\"#19d3f3\",\"#FF6692\",\"#B6E880\",\"#FF97FF\",\"#FECB52\"],\"font\":{\"color\":\"#2a3f5f\"},\"hovermode\":\"closest\",\"hoverlabel\":{\"align\":\"left\"},\"paper_bgcolor\":\"white\",\"plot_bgcolor\":\"#E5ECF6\",\"polar\":{\"bgcolor\":\"#E5ECF6\",\"angularaxis\":{\"gridcolor\":\"white\",\"linecolor\":\"white\",\"ticks\":\"\"},\"radialaxis\":{\"gridcolor\":\"white\",\"linecolor\":\"white\",\"ticks\":\"\"}},\"ternary\":{\"bgcolor\":\"#E5ECF6\",\"aaxis\":{\"gridcolor\":\"white\",\"linecolor\":\"white\",\"ticks\":\"\"},\"baxis\":{\"gridcolor\":\"white\",\"linecolor\":\"white\",\"ticks\":\"\"},\"caxis\":{\"gridcolor\":\"white\",\"linecolor\":\"white\",\"ticks\":\"\"}},\"coloraxis\":{\"colorbar\":{\"outlinewidth\":0,\"ticks\":\"\"}},\"colorscale\":{\"sequential\":[[0.0,\"#0d0887\"],[0.1111111111111111,\"#46039f\"],[0.2222222222222222,\"#7201a8\"],[0.3333333333333333,\"#9c179e\"],[0.4444444444444444,\"#bd3786\"],[0.5555555555555556,\"#d8576b\"],[0.6666666666666666,\"#ed7953\"],[0.7777777777777778,\"#fb9f3a\"],[0.8888888888888888,\"#fdca26\"],[1.0,\"#f0f921\"]],\"sequentialminus\":[[0.0,\"#0d0887\"],[0.1111111111111111,\"#46039f\"],[0.2222222222222222,\"#7201a8\"],[0.3333333333333333,\"#9c179e\"],[0.4444444444444444,\"#bd3786\"],[0.5555555555555556,\"#d8576b\"],[0.6666666666666666,\"#ed7953\"],[0.7777777777777778,\"#fb9f3a\"],[0.8888888888888888,\"#fdca26\"],[1.0,\"#f0f921\"]],\"diverging\":[[0,\"#8e0152\"],[0.1,\"#c51b7d\"],[0.2,\"#de77ae\"],[0.3,\"#f1b6da\"],[0.4,\"#fde0ef\"],[0.5,\"#f7f7f7\"],[0.6,\"#e6f5d0\"],[0.7,\"#b8e186\"],[0.8,\"#7fbc41\"],[0.9,\"#4d9221\"],[1,\"#276419\"]]},\"xaxis\":{\"gridcolor\":\"white\",\"linecolor\":\"white\",\"ticks\":\"\",\"title\":{\"standoff\":15},\"zerolinecolor\":\"white\",\"automargin\":true,\"zerolinewidth\":2},\"yaxis\":{\"gridcolor\":\"white\",\"linecolor\":\"white\",\"ticks\":\"\",\"title\":{\"standoff\":15},\"zerolinecolor\":\"white\",\"automargin\":true,\"zerolinewidth\":2},\"scene\":{\"xaxis\":{\"backgroundcolor\":\"#E5ECF6\",\"gridcolor\":\"white\",\"linecolor\":\"white\",\"showbackground\":true,\"ticks\":\"\",\"zerolinecolor\":\"white\",\"gridwidth\":2},\"yaxis\":{\"backgroundcolor\":\"#E5ECF6\",\"gridcolor\":\"white\",\"linecolor\":\"white\",\"showbackground\":true,\"ticks\":\"\",\"zerolinecolor\":\"white\",\"gridwidth\":2},\"zaxis\":{\"backgroundcolor\":\"#E5ECF6\",\"gridcolor\":\"white\",\"linecolor\":\"white\",\"showbackground\":true,\"ticks\":\"\",\"zerolinecolor\":\"white\",\"gridwidth\":2}},\"shapedefaults\":{\"line\":{\"color\":\"#2a3f5f\"}},\"annotationdefaults\":{\"arrowcolor\":\"#2a3f5f\",\"arrowhead\":0,\"arrowwidth\":1},\"geo\":{\"bgcolor\":\"white\",\"landcolor\":\"#E5ECF6\",\"subunitcolor\":\"white\",\"showland\":true,\"showlakes\":true,\"lakecolor\":\"white\"},\"title\":{\"x\":0.05},\"mapbox\":{\"style\":\"light\"}}},\"xaxis\":{\"anchor\":\"y\",\"domain\":[0.0,0.46],\"title\":{\"text\":\"\\u0414\\u043b\\u0438\\u043d\\u0430 \\u043d\\u0430\\u0434\\u043a\\u043b\\u044e\\u0432\\u044c\\u044f\"}},\"yaxis\":{\"anchor\":\"x\",\"domain\":[0.55,1.0],\"title\":{\"text\":\"\\u041a\\u043e\\u043b\\u0438\\u0447\\u0435\\u0441\\u0442\\u0432\\u043e\"}},\"xaxis2\":{\"anchor\":\"y2\",\"domain\":[0.54,1.0],\"title\":{\"text\":\"\\u0422\\u043e\\u043b\\u0449\\u0438\\u043d\\u0430 \\u043d\\u0430\\u0434\\u043a\\u043b\\u044e\\u0432\\u044c\\u044f\"}},\"yaxis2\":{\"anchor\":\"x2\",\"domain\":[0.55,1.0],\"title\":{\"text\":\"\\u041a\\u043e\\u043b\\u0438\\u0447\\u0435\\u0441\\u0442\\u0432\\u043e\"}},\"xaxis3\":{\"anchor\":\"y3\",\"domain\":[0.0,0.46],\"title\":{\"text\":\"\\u0414\\u043b\\u0438\\u043d\\u0430 \\u043f\\u043b\\u0430\\u0432\\u043d\\u0438\\u043a\\u0430\"}},\"yaxis3\":{\"anchor\":\"x3\",\"domain\":[0.0,0.45],\"title\":{\"text\":\"\\u041a\\u043e\\u043b\\u0438\\u0447\\u0435\\u0441\\u0442\\u0432\\u043e\"}},\"xaxis4\":{\"anchor\":\"y4\",\"domain\":[0.54,1.0],\"title\":{\"text\":\"\\u041c\\u0430\\u0441\\u0441\\u0430 \\u0442\\u0435\\u043b\\u0430\"}},\"yaxis4\":{\"anchor\":\"x4\",\"domain\":[0.0,0.45],\"title\":{\"text\":\"\\u041a\\u043e\\u043b\\u0438\\u0447\\u0435\\u0441\\u0442\\u0432\\u043e\"}},\"annotations\":[{\"font\":{\"size\":16},\"showarrow\":false,\"text\":\"\\u0414\\u043b\\u0438\\u043d\\u0430 \\u043d\\u0430\\u0434\\u043a\\u043b\\u044e\\u0432\\u044c\\u044f\",\"x\":0.23,\"xanchor\":\"center\",\"xref\":\"paper\",\"y\":1.0,\"yanchor\":\"bottom\",\"yref\":\"paper\"},{\"font\":{\"size\":16},\"showarrow\":false,\"text\":\"\\u0422\\u043e\\u043b\\u0449\\u0438\\u043d\\u0430 \\u043d\\u0430\\u0434\\u043a\\u043b\\u044e\\u0432\\u044c\\u044f\",\"x\":0.77,\"xanchor\":\"center\",\"xref\":\"paper\",\"y\":1.0,\"yanchor\":\"bottom\",\"yref\":\"paper\"},{\"font\":{\"size\":16},\"showarrow\":false,\"text\":\"\\u0414\\u043b\\u0438\\u043d\\u0430 \\u043f\\u043b\\u0430\\u0432\\u043d\\u0438\\u043a\\u0430\",\"x\":0.23,\"xanchor\":\"center\",\"xref\":\"paper\",\"y\":0.45,\"yanchor\":\"bottom\",\"yref\":\"paper\"},{\"font\":{\"size\":16},\"showarrow\":false,\"text\":\"\\u041c\\u0430\\u0441\\u0441\\u0430 \\u0442\\u0435\\u043b\\u0430\",\"x\":0.77,\"xanchor\":\"center\",\"xref\":\"paper\",\"y\":0.45,\"yanchor\":\"bottom\",\"yref\":\"paper\"}],\"height\":1000,\"title\":{\"font\":{\"size\":30},\"text\":\"\\u0420\\u0430\\u0441\\u043f\\u0440\\u0435\\u0434\\u0435\\u043b\\u0435\\u043d\\u0438\\u0435 \\u0445\\u0430\\u0440\\u0430\\u043a\\u0442\\u0435\\u0440\\u0438\\u0441\\u0442\\u0438\\u043a \\u043f\\u0438\\u043d\\u0433\\u0432\\u0438\\u043d\\u043e\\u0432\",\"x\":0.5},\"paper_bgcolor\":\"rgb(229, 237, 247)\",\"plot_bgcolor\":\"rgb(229, 237, 247)\"},                        {\"responsive\": true}                    ).then(function(){\n",
       "                            \n",
       "var gd = document.getElementById('b8fcc9c7-3f42-4fbf-aece-978a152ad2b1');\n",
       "var x = new MutationObserver(function (mutations, observer) {{\n",
       "        var display = window.getComputedStyle(gd).display;\n",
       "        if (!display || display === 'none') {{\n",
       "            console.log([gd, 'removed!']);\n",
       "            Plotly.purge(gd);\n",
       "            observer.disconnect();\n",
       "        }}\n",
       "}});\n",
       "\n",
       "// Listen for the removal of the full notebook cells\n",
       "var notebookContainer = gd.closest('#notebook-container');\n",
       "if (notebookContainer) {{\n",
       "    x.observe(notebookContainer, {childList: true});\n",
       "}}\n",
       "\n",
       "// Listen for the clearing of the current output cell\n",
       "var outputEl = gd.closest('.output');\n",
       "if (outputEl) {{\n",
       "    x.observe(outputEl, {childList: true});\n",
       "}}\n",
       "\n",
       "                        })                };                });            </script>        </div>"
      ]
     },
     "metadata": {},
     "output_type": "display_data"
    }
   ],
   "source": [
    "palette = cycle(px.colors.sequential.thermal)\n",
    "\n",
    "fig = sp.make_subplots(\n",
    "    rows=2, \n",
    "    cols=2,\n",
    "    horizontal_spacing=0.08,\n",
    "    subplot_titles=[\n",
    "        \"Длина надклювья\",\n",
    "        \"Толщина надклювья\",\n",
    "        \"Длина плавника\",\n",
    "        \"Масса тела\"],\n",
    "        vertical_spacing = 0.1\n",
    ")\n",
    "\n",
    "culmen_length_mm = go.Histogram(\n",
    "    x=penguin.culmen_length_mm,\n",
    "    name=\"Длина надклювья\",\n",
    "    marker_color=next(palette),\n",
    "    legendgroup=\"Длина надклювья\",\n",
    "    legendgrouptitle_text=\"Длина надклювья\",\n",
    ")\n",
    "\n",
    "culmen_depth_mm = go.Histogram(\n",
    "    x=penguin.culmen_depth_mm,\n",
    "    name=\"Толщина надклювья\",\n",
    "    marker_color=next(palette),\n",
    "    legendgroup=\"Толщина надклювья\",\n",
    "    legendgrouptitle_text=\"Толщина надклювья\",\n",
    ")\n",
    "\n",
    "flipper_length_mm = go.Histogram(\n",
    "    x=penguin.flipper_length_mm,\n",
    "    name=\"Длина плавника\",\n",
    "    marker_color=next(palette),\n",
    "    legendgroup=\"Длина плавника\",\n",
    "    legendgrouptitle_text=\"Длина плавника\",\n",
    ")\n",
    "\n",
    "body_mass_g = go.Histogram(\n",
    "    x=penguin.body_mass_g,\n",
    "    name=\"Масса тела\",\n",
    "    marker_color=next(palette),\n",
    "    legendgroup=\"Масса тела\",\n",
    "    legendgrouptitle_text=\"Масса тела\",\n",
    ")\n",
    "\n",
    "fig.add_trace(culmen_length_mm, row=1, col=1)\n",
    "fig.update_xaxes(title_text=\"Длина надклювья\", row=1, col=1)\n",
    "fig.update_yaxes(title_text=\"Количество\", row=1, col=1)\n",
    "\n",
    "fig.add_trace(culmen_depth_mm, row=1, col=2)\n",
    "fig.update_xaxes(title_text=\"Толщина надклювья\", row=1, col=2)\n",
    "fig.update_yaxes(title_text=\"Количество\", row=1, col=2)\n",
    "\n",
    "fig.add_trace(flipper_length_mm, row=2, col=1)\n",
    "fig.update_xaxes(title_text=\"Длина плавника\", row=2, col=1)\n",
    "fig.update_yaxes(title_text=\"Количество\", row=2, col=1)\n",
    "\n",
    "fig.add_trace(body_mass_g, row=2, col=2)\n",
    "fig.update_xaxes(title_text=\"Масса тела\", row=2, col=2)\n",
    "fig.update_yaxes(title_text=\"Количество\", row=2, col=2)\n",
    "\n",
    "fig.update_layout(\n",
    "    template=\"plotly\",\n",
    "    height=1000,\n",
    ")\n",
    "\n",
    "fig.update(\n",
    "    layout_title_text=\"Распределение характеристик пингвинов\",\n",
    "    layout_title_font_size=30,\n",
    "    layout_title_x=0.5,\n",
    "    layout_paper_bgcolor='rgb(229, 237, 247)',\n",
    "    layout_plot_bgcolor='rgb(229, 237, 247)',\n",
    ")\n",
    "\n",
    "fig.show()"
   ]
  },
  {
   "cell_type": "markdown",
   "id": "95127aae",
   "metadata": {},
   "source": [
    "Связь по признакам"
   ]
  },
  {
   "cell_type": "code",
   "execution_count": 38,
   "id": "125c0c8a",
   "metadata": {},
   "outputs": [
    {
     "data": {
      "application/vnd.plotly.v1+json": {
       "config": {
        "plotlyServerURL": "https://plot.ly"
       },
       "data": [
        {
         "dimensions": [
          {
           "axis": {
            "matches": true
           },
           "label": "culmen_length_mm",
           "values": [
            39.1,
            39.5,
            40.3,
            43.9,
            36.7,
            39.3,
            38.9,
            39.2,
            34.1,
            42,
            37.8,
            37.8,
            41.1,
            38.6,
            34.6,
            36.6,
            38.7,
            42.5,
            34.4,
            46,
            37.8,
            37.7,
            35.9,
            38.2,
            38.8,
            35.3,
            40.6,
            40.5,
            37.9,
            40.5,
            39.5,
            37.2,
            39.5,
            40.9,
            36.4,
            39.2,
            38.8,
            42.2,
            37.6,
            39.8,
            36.5,
            40.8,
            36,
            44.1,
            37,
            39.6,
            41.1,
            37.5,
            36,
            42.3,
            39.6,
            40.1,
            35,
            42,
            34.5,
            41.4,
            39,
            40.6,
            36.5,
            37.6,
            35.7,
            41.3,
            37.6,
            41.1,
            36.4,
            41.6,
            35.5,
            41.1,
            35.9,
            41.8,
            33.5,
            39.7,
            39.6,
            45.8,
            35.5,
            42.8,
            40.9,
            37.2,
            36.2,
            42.1,
            34.6,
            42.9,
            36.7,
            35.1,
            37.3,
            41.3,
            36.3,
            36.9,
            38.3,
            38.9,
            35.7,
            41.1,
            34,
            39.6,
            36.2,
            40.8,
            38.1,
            40.3,
            33.1,
            43.2,
            35,
            41,
            37.7,
            37.8,
            37.9,
            39.7,
            38.6,
            38.2,
            38.1,
            43.2,
            38.1,
            45.6,
            39.7,
            42.2,
            39.6,
            42.7,
            38.6,
            37.3,
            35.7,
            41.1,
            36.2,
            37.7,
            40.2,
            41.4,
            35.2,
            40.6,
            38.8,
            41.5,
            39,
            44.1,
            38.5,
            43.1,
            36.8,
            37.5,
            38.1,
            41.1,
            35.6,
            40.2,
            37,
            39.7,
            40.2,
            40.6,
            32.1,
            40.7,
            37.3,
            39,
            39.2,
            36.6,
            36,
            37.8,
            36,
            41.5
           ]
          },
          {
           "axis": {
            "matches": true
           },
           "label": "culmen_depth_mm",
           "values": [
            18.7,
            17.4,
            18,
            17.2,
            19.3,
            20.6,
            17.8,
            19.6,
            18.1,
            20.2,
            17.1,
            17.3,
            17.6,
            21.2,
            21.1,
            17.8,
            19,
            20.7,
            18.4,
            21.5,
            18.3,
            18.7,
            19.2,
            18.1,
            17.2,
            18.9,
            18.6,
            17.9,
            18.6,
            18.9,
            16.7,
            18.1,
            17.8,
            18.9,
            17,
            21.1,
            20,
            18.5,
            19.3,
            19.1,
            18,
            18.4,
            18.5,
            19.7,
            16.9,
            18.8,
            19,
            18.9,
            17.9,
            21.2,
            17.7,
            18.9,
            17.9,
            19.5,
            18.1,
            18.6,
            17.5,
            18.8,
            16.6,
            19.1,
            16.9,
            21.1,
            17,
            18.2,
            17.1,
            18,
            16.2,
            19.1,
            16.6,
            19.4,
            19,
            18.4,
            17.2,
            18.9,
            17.5,
            18.5,
            16.8,
            19.4,
            16.1,
            19.1,
            17.2,
            17.6,
            18.8,
            19.4,
            17.8,
            20.3,
            19.5,
            18.6,
            19.2,
            18.8,
            18,
            18.1,
            17.1,
            18.1,
            17.3,
            18.9,
            18.6,
            18.5,
            16.1,
            18.5,
            17.9,
            20,
            16,
            20,
            18.6,
            18.9,
            17.2,
            20,
            17,
            19,
            16.5,
            20.3,
            17.7,
            19.5,
            20.7,
            18.3,
            17,
            20.5,
            17,
            18.6,
            17.2,
            19.8,
            17,
            18.5,
            15.9,
            19,
            17.6,
            18.3,
            17.1,
            18,
            17.9,
            19.2,
            18.5,
            18.5,
            17.6,
            17.5,
            17.5,
            20.1,
            16.5,
            17.9,
            17.1,
            17.2,
            15.5,
            17,
            16.8,
            18.7,
            18.6,
            18.4,
            17.8,
            18.1,
            17.1,
            18.5
           ]
          },
          {
           "axis": {
            "matches": true
           },
           "label": "flipper_length_mm",
           "values": [
            181,
            186,
            195,
            200.9,
            193,
            190,
            181,
            195,
            193,
            190,
            186,
            180,
            182,
            191,
            198,
            185,
            195,
            197,
            184,
            194,
            174,
            180,
            189,
            185,
            180,
            187,
            183,
            187,
            172,
            180,
            178,
            178,
            188,
            184,
            195,
            196,
            190,
            180,
            181,
            184,
            182,
            195,
            186,
            196,
            185,
            190,
            182,
            179,
            190,
            191,
            186,
            188,
            190,
            200,
            187,
            191,
            186,
            193,
            181,
            194,
            185,
            195,
            185,
            192,
            184,
            192,
            195,
            188,
            190,
            198,
            190,
            190,
            196,
            197,
            190,
            195,
            191,
            184,
            187,
            195,
            189,
            196,
            187,
            193,
            191,
            194,
            190,
            189,
            189,
            190,
            202,
            205,
            185,
            186,
            187,
            208,
            190,
            196,
            178,
            192,
            192,
            203,
            183,
            190,
            193,
            184,
            199,
            190,
            181,
            197,
            198,
            191,
            193,
            197,
            191,
            196,
            188,
            199,
            189,
            189,
            187,
            198,
            176,
            202,
            186,
            199,
            191,
            195,
            191,
            210,
            190,
            197,
            193,
            199,
            187,
            190,
            191,
            200,
            185,
            193,
            193,
            187,
            188,
            190,
            192,
            185,
            190,
            184,
            195,
            193,
            187,
            201
           ]
          },
          {
           "axis": {
            "matches": true
           },
           "label": "body_mass_g",
           "values": [
            3750,
            3800,
            3250,
            4201.8,
            3450,
            3650,
            3625,
            4675,
            3475,
            4250,
            3300,
            3700,
            3200,
            3800,
            4400,
            3700,
            3450,
            4500,
            3325,
            4200,
            3400,
            3600,
            3800,
            3950,
            3800,
            3800,
            3550,
            3200,
            3150,
            3950,
            3250,
            3900,
            3300,
            3900,
            3325,
            4150,
            3950,
            3550,
            3300,
            4650,
            3150,
            3900,
            3100,
            4400,
            3000,
            4600,
            3425,
            2975,
            3450,
            4150,
            3500,
            4300,
            3450,
            4050,
            2900,
            3700,
            3550,
            3800,
            2850,
            3750,
            3150,
            4400,
            3600,
            4050,
            2850,
            3950,
            3350,
            4100,
            3050,
            4450,
            3600,
            3900,
            3550,
            4150,
            3700,
            4250,
            3700,
            3900,
            3550,
            4000,
            3200,
            4700,
            3800,
            4200,
            3350,
            3550,
            3800,
            3500,
            3950,
            3600,
            3550,
            4300,
            3400,
            4450,
            3300,
            4300,
            3700,
            4350,
            2900,
            4100,
            3725,
            4725,
            3075,
            4250,
            2925,
            3550,
            3750,
            3900,
            3175,
            4775,
            3825,
            4600,
            3200,
            4275,
            3900,
            4075,
            2900,
            3775,
            3350,
            3325,
            3150,
            3500,
            3450,
            3875,
            3050,
            4000,
            3275,
            4300,
            3050,
            4000,
            3325,
            3500,
            3500,
            4475,
            3425,
            3900,
            3175,
            3975,
            3400,
            4250,
            3400,
            3475,
            3050,
            3725,
            3000,
            3650,
            4250,
            3475,
            3450,
            3750,
            3700,
            4000
           ]
          }
         ],
         "hovertemplate": "species=Adelie<br>%{xaxis.title.text}=%{x}<br>%{yaxis.title.text}=%{y}<extra></extra>",
         "legendgroup": "Adelie",
         "marker": {
          "color": "#636efa",
          "symbol": "circle"
         },
         "name": "Adelie",
         "showlegend": true,
         "type": "splom"
        },
        {
         "dimensions": [
          {
           "axis": {
            "matches": true
           },
           "label": "culmen_length_mm",
           "values": [
            46.5,
            50,
            51.3,
            45.4,
            52.7,
            45.2,
            46.1,
            51.3,
            46,
            51.3,
            46.6,
            51.7,
            47,
            52,
            45.9,
            50.5,
            50.3,
            58,
            46.4,
            49.2,
            42.4,
            48.5,
            43.2,
            50.6,
            46.7,
            52,
            50.5,
            49.5,
            46.4,
            52.8,
            40.9,
            54.2,
            42.5,
            51,
            49.7,
            47.5,
            47.6,
            52,
            46.9,
            53.5,
            49,
            46.2,
            50.9,
            45.5,
            50.9,
            50.8,
            50.1,
            49,
            51.5,
            49.8,
            48.1,
            51.4,
            45.7,
            50.7,
            42.5,
            52.2,
            45.2,
            49.3,
            50.2,
            45.6,
            51.9,
            46.8,
            45.7,
            55.8,
            43.5,
            49.6,
            50.8,
            50.2
           ]
          },
          {
           "axis": {
            "matches": true
           },
           "label": "culmen_depth_mm",
           "values": [
            17.9,
            19.5,
            19.2,
            18.7,
            19.8,
            17.8,
            18.2,
            18.2,
            18.9,
            19.9,
            17.8,
            20.3,
            17.3,
            18.1,
            17.1,
            19.6,
            20,
            17.8,
            18.6,
            18.2,
            17.3,
            17.5,
            16.6,
            19.4,
            17.9,
            19,
            18.4,
            19,
            17.8,
            20,
            16.6,
            20.8,
            16.7,
            18.8,
            18.6,
            16.8,
            18.3,
            20.7,
            16.6,
            19.9,
            19.5,
            17.5,
            19.1,
            17,
            17.9,
            18.5,
            17.9,
            19.6,
            18.7,
            17.3,
            16.4,
            19,
            17.3,
            19.7,
            17.3,
            18.8,
            16.6,
            19.9,
            18.8,
            19.4,
            19.5,
            16.5,
            17,
            19.8,
            18.1,
            18.2,
            19,
            18.7
           ]
          },
          {
           "axis": {
            "matches": true
           },
           "label": "flipper_length_mm",
           "values": [
            192,
            196,
            193,
            188,
            197,
            198,
            178,
            197,
            195,
            198,
            193,
            194,
            185,
            201,
            190,
            201,
            197,
            181,
            190,
            195,
            181,
            191,
            187,
            193,
            195,
            197,
            200,
            200,
            191,
            205,
            187,
            201,
            187,
            203,
            195,
            199,
            195,
            210,
            192,
            205,
            210,
            187,
            196,
            196,
            196,
            201,
            190,
            212,
            187,
            198,
            199,
            201,
            193,
            203,
            187,
            197,
            191,
            203,
            202,
            194,
            206,
            189,
            195,
            207,
            202,
            193,
            210,
            198
           ]
          },
          {
           "axis": {
            "matches": true
           },
           "label": "body_mass_g",
           "values": [
            3500,
            3900,
            3650,
            3525,
            3725,
            3950,
            3250,
            3750,
            4150,
            3700,
            3800,
            3775,
            3700,
            4050,
            3575,
            4050,
            3300,
            3700,
            3450,
            4400,
            3600,
            3400,
            2900,
            3800,
            3300,
            4150,
            3400,
            3800,
            3700,
            4550,
            3200,
            4300,
            3350,
            4100,
            3600,
            3900,
            3850,
            4800,
            2700,
            4500,
            3950,
            3650,
            3550,
            3500,
            3675,
            4450,
            3400,
            4300,
            3250,
            3675,
            3325,
            3950,
            3600,
            4050,
            3350,
            3450,
            3250,
            4050,
            3800,
            3525,
            3950,
            3650,
            3650,
            4000,
            3400,
            3775,
            4100,
            3775
           ]
          }
         ],
         "hovertemplate": "species=Chinstrap<br>%{xaxis.title.text}=%{x}<br>%{yaxis.title.text}=%{y}<extra></extra>",
         "legendgroup": "Chinstrap",
         "marker": {
          "color": "#EF553B",
          "symbol": "circle"
         },
         "name": "Chinstrap",
         "showlegend": true,
         "type": "splom"
        },
        {
         "dimensions": [
          {
           "axis": {
            "matches": true
           },
           "label": "culmen_length_mm",
           "values": [
            46.1,
            50,
            48.7,
            50,
            47.6,
            46.5,
            45.4,
            46.7,
            43.3,
            46.8,
            40.9,
            49,
            45.5,
            48.4,
            45.8,
            49.3,
            42,
            49.2,
            46.2,
            48.7,
            50.2,
            45.1,
            46.5,
            46.3,
            42.9,
            46.1,
            44.5,
            47.8,
            48.2,
            50,
            47.3,
            42.8,
            45.1,
            59.6,
            49.1,
            48.4,
            42.6,
            44.4,
            44,
            48.7,
            42.7,
            49.6,
            45.3,
            49.6,
            50.5,
            43.6,
            45.5,
            50.5,
            44.9,
            45.2,
            46.6,
            48.5,
            45.1,
            50.1,
            46.5,
            45,
            43.8,
            45.5,
            43.2,
            50.4,
            45.3,
            46.2,
            45.7,
            54.3,
            45.8,
            49.8,
            46.2,
            49.5,
            43.5,
            50.7,
            47.7,
            46.4,
            48.2,
            46.5,
            46.4,
            48.6,
            47.5,
            51.1,
            45.2,
            45.2,
            49.1,
            52.5,
            47.4,
            50,
            44.9,
            50.8,
            43.4,
            51.3,
            47.5,
            52.1,
            47.5,
            52.2,
            45.5,
            49.5,
            44.5,
            50.8,
            49.4,
            46.9,
            48.4,
            51.1,
            48.5,
            55.9,
            47.2,
            49.1,
            47.3,
            46.8,
            41.7,
            53.4,
            43.3,
            48.1,
            50.5,
            49.8,
            43.5,
            51.5,
            46.2,
            55.1,
            44.5,
            48.8,
            47.2,
            43.9,
            46.8,
            50.4,
            45.2,
            49.9
           ]
          },
          {
           "axis": {
            "matches": true
           },
           "label": "culmen_depth_mm",
           "values": [
            13.2,
            16.3,
            14.1,
            15.2,
            14.5,
            13.5,
            14.6,
            15.3,
            13.4,
            15.4,
            13.7,
            16.1,
            13.7,
            14.6,
            14.6,
            15.7,
            13.5,
            15.2,
            14.5,
            15.1,
            14.3,
            14.5,
            14.5,
            15.8,
            13.1,
            15.1,
            14.3,
            15,
            14.3,
            15.3,
            15.3,
            14.2,
            14.5,
            17,
            14.8,
            16.3,
            13.7,
            17.3,
            13.6,
            15.7,
            13.7,
            16,
            13.7,
            15,
            15.9,
            13.9,
            13.9,
            15.9,
            13.3,
            15.8,
            14.2,
            14.1,
            14.4,
            15,
            14.4,
            15.4,
            13.9,
            15,
            14.5,
            15.3,
            13.8,
            14.9,
            13.9,
            15.7,
            14.2,
            16.8,
            14.4,
            16.2,
            14.2,
            15,
            15,
            15.6,
            15.6,
            14.8,
            15,
            16,
            14.2,
            16.3,
            13.8,
            16.4,
            14.5,
            15.6,
            14.6,
            15.9,
            13.8,
            17.3,
            14.4,
            14.2,
            14,
            17,
            15,
            17.1,
            14.5,
            16.1,
            14.7,
            15.7,
            15.8,
            14.6,
            14.4,
            16.5,
            15,
            17,
            15.5,
            15,
            13.8,
            16.1,
            14.7,
            15.8,
            14,
            15.1,
            15.2,
            15.9,
            15.2,
            16.3,
            14.1,
            16,
            15.7,
            16.2,
            13.7,
            17.2,
            14.3,
            15.7,
            14.8,
            16.1
           ]
          },
          {
           "axis": {
            "matches": true
           },
           "label": "flipper_length_mm",
           "values": [
            211,
            230,
            210,
            218,
            215,
            210,
            211,
            219,
            209,
            215,
            214,
            216,
            214,
            213,
            210,
            217,
            210,
            221,
            209,
            222,
            218,
            215,
            213,
            215,
            215,
            215,
            216,
            215,
            210,
            220,
            222,
            209,
            207,
            230,
            220,
            220,
            213,
            219,
            208,
            208,
            208,
            225,
            210,
            216,
            222,
            217,
            210,
            225,
            213,
            215,
            210,
            220,
            210,
            225,
            217,
            220,
            208,
            220,
            208,
            224,
            208,
            221,
            214,
            231,
            219,
            230,
            214,
            229,
            220,
            223,
            216,
            221,
            221,
            217,
            216,
            230,
            209,
            220,
            215,
            223,
            212,
            221,
            212,
            224,
            212,
            228,
            218,
            218,
            212,
            230,
            218,
            228,
            212,
            224,
            214,
            226,
            216,
            222,
            203,
            225,
            219,
            228,
            215,
            228,
            216,
            215,
            210,
            219,
            208,
            209,
            216,
            229,
            213,
            230,
            217,
            230,
            217,
            222,
            214,
            200.9,
            215,
            222,
            212,
            213
           ]
          },
          {
           "axis": {
            "matches": true
           },
           "label": "body_mass_g",
           "values": [
            4500,
            5700,
            4450,
            5700,
            5400,
            4550,
            4800,
            5200,
            4400,
            5150,
            4650,
            5550,
            4650,
            5850,
            4200,
            5850,
            4150,
            6300,
            4800,
            5350,
            5700,
            5000,
            4400,
            5050,
            5000,
            5100,
            4100,
            5650,
            4600,
            5550,
            5250,
            4700,
            5050,
            6050,
            5150,
            5400,
            4950,
            5250,
            4350,
            5350,
            3950,
            5700,
            4300,
            4750,
            5550,
            4900,
            4200,
            5400,
            5100,
            5300,
            4850,
            5300,
            4400,
            5000,
            4900,
            5050,
            4300,
            5000,
            4450,
            5550,
            4200,
            5300,
            4400,
            5650,
            4700,
            5700,
            4650,
            5800,
            4700,
            5550,
            4750,
            5000,
            5100,
            5200,
            4700,
            5800,
            4600,
            6000,
            4750,
            5950,
            4625,
            5450,
            4725,
            5350,
            4750,
            5600,
            4600,
            5300,
            4875,
            5550,
            4950,
            5400,
            4750,
            5650,
            4850,
            5200,
            4925,
            4875,
            4625,
            5250,
            4850,
            5600,
            4975,
            5500,
            4725,
            5500,
            4700,
            5500,
            4575,
            5500,
            5000,
            5950,
            4650,
            5500,
            4375,
            5850,
            4875,
            6000,
            4925,
            4201.8,
            4850,
            5750,
            5200,
            5400
           ]
          }
         ],
         "hovertemplate": "species=Gentoo<br>%{xaxis.title.text}=%{x}<br>%{yaxis.title.text}=%{y}<extra></extra>",
         "legendgroup": "Gentoo",
         "marker": {
          "color": "#00cc96",
          "symbol": "circle"
         },
         "name": "Gentoo",
         "showlegend": true,
         "type": "splom"
        }
       ],
       "layout": {
        "dragmode": "select",
        "height": 800,
        "legend": {
         "title": {
          "text": "species"
         },
         "tracegroupgap": 0
        },
        "margin": {
         "t": 60
        },
        "paper_bgcolor": "rgb(229, 237, 247)",
        "plot_bgcolor": "rgb(229, 237, 247)",
        "template": {
         "data": {
          "bar": [
           {
            "error_x": {
             "color": "#2a3f5f"
            },
            "error_y": {
             "color": "#2a3f5f"
            },
            "marker": {
             "line": {
              "color": "#E5ECF6",
              "width": 0.5
             },
             "pattern": {
              "fillmode": "overlay",
              "size": 10,
              "solidity": 0.2
             }
            },
            "type": "bar"
           }
          ],
          "barpolar": [
           {
            "marker": {
             "line": {
              "color": "#E5ECF6",
              "width": 0.5
             },
             "pattern": {
              "fillmode": "overlay",
              "size": 10,
              "solidity": 0.2
             }
            },
            "type": "barpolar"
           }
          ],
          "carpet": [
           {
            "aaxis": {
             "endlinecolor": "#2a3f5f",
             "gridcolor": "white",
             "linecolor": "white",
             "minorgridcolor": "white",
             "startlinecolor": "#2a3f5f"
            },
            "baxis": {
             "endlinecolor": "#2a3f5f",
             "gridcolor": "white",
             "linecolor": "white",
             "minorgridcolor": "white",
             "startlinecolor": "#2a3f5f"
            },
            "type": "carpet"
           }
          ],
          "choropleth": [
           {
            "colorbar": {
             "outlinewidth": 0,
             "ticks": ""
            },
            "type": "choropleth"
           }
          ],
          "contour": [
           {
            "colorbar": {
             "outlinewidth": 0,
             "ticks": ""
            },
            "colorscale": [
             [
              0,
              "#0d0887"
             ],
             [
              0.1111111111111111,
              "#46039f"
             ],
             [
              0.2222222222222222,
              "#7201a8"
             ],
             [
              0.3333333333333333,
              "#9c179e"
             ],
             [
              0.4444444444444444,
              "#bd3786"
             ],
             [
              0.5555555555555556,
              "#d8576b"
             ],
             [
              0.6666666666666666,
              "#ed7953"
             ],
             [
              0.7777777777777778,
              "#fb9f3a"
             ],
             [
              0.8888888888888888,
              "#fdca26"
             ],
             [
              1,
              "#f0f921"
             ]
            ],
            "type": "contour"
           }
          ],
          "contourcarpet": [
           {
            "colorbar": {
             "outlinewidth": 0,
             "ticks": ""
            },
            "type": "contourcarpet"
           }
          ],
          "heatmap": [
           {
            "colorbar": {
             "outlinewidth": 0,
             "ticks": ""
            },
            "colorscale": [
             [
              0,
              "#0d0887"
             ],
             [
              0.1111111111111111,
              "#46039f"
             ],
             [
              0.2222222222222222,
              "#7201a8"
             ],
             [
              0.3333333333333333,
              "#9c179e"
             ],
             [
              0.4444444444444444,
              "#bd3786"
             ],
             [
              0.5555555555555556,
              "#d8576b"
             ],
             [
              0.6666666666666666,
              "#ed7953"
             ],
             [
              0.7777777777777778,
              "#fb9f3a"
             ],
             [
              0.8888888888888888,
              "#fdca26"
             ],
             [
              1,
              "#f0f921"
             ]
            ],
            "type": "heatmap"
           }
          ],
          "heatmapgl": [
           {
            "colorbar": {
             "outlinewidth": 0,
             "ticks": ""
            },
            "colorscale": [
             [
              0,
              "#0d0887"
             ],
             [
              0.1111111111111111,
              "#46039f"
             ],
             [
              0.2222222222222222,
              "#7201a8"
             ],
             [
              0.3333333333333333,
              "#9c179e"
             ],
             [
              0.4444444444444444,
              "#bd3786"
             ],
             [
              0.5555555555555556,
              "#d8576b"
             ],
             [
              0.6666666666666666,
              "#ed7953"
             ],
             [
              0.7777777777777778,
              "#fb9f3a"
             ],
             [
              0.8888888888888888,
              "#fdca26"
             ],
             [
              1,
              "#f0f921"
             ]
            ],
            "type": "heatmapgl"
           }
          ],
          "histogram": [
           {
            "marker": {
             "pattern": {
              "fillmode": "overlay",
              "size": 10,
              "solidity": 0.2
             }
            },
            "type": "histogram"
           }
          ],
          "histogram2d": [
           {
            "colorbar": {
             "outlinewidth": 0,
             "ticks": ""
            },
            "colorscale": [
             [
              0,
              "#0d0887"
             ],
             [
              0.1111111111111111,
              "#46039f"
             ],
             [
              0.2222222222222222,
              "#7201a8"
             ],
             [
              0.3333333333333333,
              "#9c179e"
             ],
             [
              0.4444444444444444,
              "#bd3786"
             ],
             [
              0.5555555555555556,
              "#d8576b"
             ],
             [
              0.6666666666666666,
              "#ed7953"
             ],
             [
              0.7777777777777778,
              "#fb9f3a"
             ],
             [
              0.8888888888888888,
              "#fdca26"
             ],
             [
              1,
              "#f0f921"
             ]
            ],
            "type": "histogram2d"
           }
          ],
          "histogram2dcontour": [
           {
            "colorbar": {
             "outlinewidth": 0,
             "ticks": ""
            },
            "colorscale": [
             [
              0,
              "#0d0887"
             ],
             [
              0.1111111111111111,
              "#46039f"
             ],
             [
              0.2222222222222222,
              "#7201a8"
             ],
             [
              0.3333333333333333,
              "#9c179e"
             ],
             [
              0.4444444444444444,
              "#bd3786"
             ],
             [
              0.5555555555555556,
              "#d8576b"
             ],
             [
              0.6666666666666666,
              "#ed7953"
             ],
             [
              0.7777777777777778,
              "#fb9f3a"
             ],
             [
              0.8888888888888888,
              "#fdca26"
             ],
             [
              1,
              "#f0f921"
             ]
            ],
            "type": "histogram2dcontour"
           }
          ],
          "mesh3d": [
           {
            "colorbar": {
             "outlinewidth": 0,
             "ticks": ""
            },
            "type": "mesh3d"
           }
          ],
          "parcoords": [
           {
            "line": {
             "colorbar": {
              "outlinewidth": 0,
              "ticks": ""
             }
            },
            "type": "parcoords"
           }
          ],
          "pie": [
           {
            "automargin": true,
            "type": "pie"
           }
          ],
          "scatter": [
           {
            "fillpattern": {
             "fillmode": "overlay",
             "size": 10,
             "solidity": 0.2
            },
            "type": "scatter"
           }
          ],
          "scatter3d": [
           {
            "line": {
             "colorbar": {
              "outlinewidth": 0,
              "ticks": ""
             }
            },
            "marker": {
             "colorbar": {
              "outlinewidth": 0,
              "ticks": ""
             }
            },
            "type": "scatter3d"
           }
          ],
          "scattercarpet": [
           {
            "marker": {
             "colorbar": {
              "outlinewidth": 0,
              "ticks": ""
             }
            },
            "type": "scattercarpet"
           }
          ],
          "scattergeo": [
           {
            "marker": {
             "colorbar": {
              "outlinewidth": 0,
              "ticks": ""
             }
            },
            "type": "scattergeo"
           }
          ],
          "scattergl": [
           {
            "marker": {
             "colorbar": {
              "outlinewidth": 0,
              "ticks": ""
             }
            },
            "type": "scattergl"
           }
          ],
          "scattermapbox": [
           {
            "marker": {
             "colorbar": {
              "outlinewidth": 0,
              "ticks": ""
             }
            },
            "type": "scattermapbox"
           }
          ],
          "scatterpolar": [
           {
            "marker": {
             "colorbar": {
              "outlinewidth": 0,
              "ticks": ""
             }
            },
            "type": "scatterpolar"
           }
          ],
          "scatterpolargl": [
           {
            "marker": {
             "colorbar": {
              "outlinewidth": 0,
              "ticks": ""
             }
            },
            "type": "scatterpolargl"
           }
          ],
          "scatterternary": [
           {
            "marker": {
             "colorbar": {
              "outlinewidth": 0,
              "ticks": ""
             }
            },
            "type": "scatterternary"
           }
          ],
          "surface": [
           {
            "colorbar": {
             "outlinewidth": 0,
             "ticks": ""
            },
            "colorscale": [
             [
              0,
              "#0d0887"
             ],
             [
              0.1111111111111111,
              "#46039f"
             ],
             [
              0.2222222222222222,
              "#7201a8"
             ],
             [
              0.3333333333333333,
              "#9c179e"
             ],
             [
              0.4444444444444444,
              "#bd3786"
             ],
             [
              0.5555555555555556,
              "#d8576b"
             ],
             [
              0.6666666666666666,
              "#ed7953"
             ],
             [
              0.7777777777777778,
              "#fb9f3a"
             ],
             [
              0.8888888888888888,
              "#fdca26"
             ],
             [
              1,
              "#f0f921"
             ]
            ],
            "type": "surface"
           }
          ],
          "table": [
           {
            "cells": {
             "fill": {
              "color": "#EBF0F8"
             },
             "line": {
              "color": "white"
             }
            },
            "header": {
             "fill": {
              "color": "#C8D4E3"
             },
             "line": {
              "color": "white"
             }
            },
            "type": "table"
           }
          ]
         },
         "layout": {
          "annotationdefaults": {
           "arrowcolor": "#2a3f5f",
           "arrowhead": 0,
           "arrowwidth": 1
          },
          "autotypenumbers": "strict",
          "coloraxis": {
           "colorbar": {
            "outlinewidth": 0,
            "ticks": ""
           }
          },
          "colorscale": {
           "diverging": [
            [
             0,
             "#8e0152"
            ],
            [
             0.1,
             "#c51b7d"
            ],
            [
             0.2,
             "#de77ae"
            ],
            [
             0.3,
             "#f1b6da"
            ],
            [
             0.4,
             "#fde0ef"
            ],
            [
             0.5,
             "#f7f7f7"
            ],
            [
             0.6,
             "#e6f5d0"
            ],
            [
             0.7,
             "#b8e186"
            ],
            [
             0.8,
             "#7fbc41"
            ],
            [
             0.9,
             "#4d9221"
            ],
            [
             1,
             "#276419"
            ]
           ],
           "sequential": [
            [
             0,
             "#0d0887"
            ],
            [
             0.1111111111111111,
             "#46039f"
            ],
            [
             0.2222222222222222,
             "#7201a8"
            ],
            [
             0.3333333333333333,
             "#9c179e"
            ],
            [
             0.4444444444444444,
             "#bd3786"
            ],
            [
             0.5555555555555556,
             "#d8576b"
            ],
            [
             0.6666666666666666,
             "#ed7953"
            ],
            [
             0.7777777777777778,
             "#fb9f3a"
            ],
            [
             0.8888888888888888,
             "#fdca26"
            ],
            [
             1,
             "#f0f921"
            ]
           ],
           "sequentialminus": [
            [
             0,
             "#0d0887"
            ],
            [
             0.1111111111111111,
             "#46039f"
            ],
            [
             0.2222222222222222,
             "#7201a8"
            ],
            [
             0.3333333333333333,
             "#9c179e"
            ],
            [
             0.4444444444444444,
             "#bd3786"
            ],
            [
             0.5555555555555556,
             "#d8576b"
            ],
            [
             0.6666666666666666,
             "#ed7953"
            ],
            [
             0.7777777777777778,
             "#fb9f3a"
            ],
            [
             0.8888888888888888,
             "#fdca26"
            ],
            [
             1,
             "#f0f921"
            ]
           ]
          },
          "colorway": [
           "#636efa",
           "#EF553B",
           "#00cc96",
           "#ab63fa",
           "#FFA15A",
           "#19d3f3",
           "#FF6692",
           "#B6E880",
           "#FF97FF",
           "#FECB52"
          ],
          "font": {
           "color": "#2a3f5f"
          },
          "geo": {
           "bgcolor": "white",
           "lakecolor": "white",
           "landcolor": "#E5ECF6",
           "showlakes": true,
           "showland": true,
           "subunitcolor": "white"
          },
          "hoverlabel": {
           "align": "left"
          },
          "hovermode": "closest",
          "mapbox": {
           "style": "light"
          },
          "paper_bgcolor": "white",
          "plot_bgcolor": "#E5ECF6",
          "polar": {
           "angularaxis": {
            "gridcolor": "white",
            "linecolor": "white",
            "ticks": ""
           },
           "bgcolor": "#E5ECF6",
           "radialaxis": {
            "gridcolor": "white",
            "linecolor": "white",
            "ticks": ""
           }
          },
          "scene": {
           "xaxis": {
            "backgroundcolor": "#E5ECF6",
            "gridcolor": "white",
            "gridwidth": 2,
            "linecolor": "white",
            "showbackground": true,
            "ticks": "",
            "zerolinecolor": "white"
           },
           "yaxis": {
            "backgroundcolor": "#E5ECF6",
            "gridcolor": "white",
            "gridwidth": 2,
            "linecolor": "white",
            "showbackground": true,
            "ticks": "",
            "zerolinecolor": "white"
           },
           "zaxis": {
            "backgroundcolor": "#E5ECF6",
            "gridcolor": "white",
            "gridwidth": 2,
            "linecolor": "white",
            "showbackground": true,
            "ticks": "",
            "zerolinecolor": "white"
           }
          },
          "shapedefaults": {
           "line": {
            "color": "#2a3f5f"
           }
          },
          "ternary": {
           "aaxis": {
            "gridcolor": "white",
            "linecolor": "white",
            "ticks": ""
           },
           "baxis": {
            "gridcolor": "white",
            "linecolor": "white",
            "ticks": ""
           },
           "bgcolor": "#E5ECF6",
           "caxis": {
            "gridcolor": "white",
            "linecolor": "white",
            "ticks": ""
           }
          },
          "title": {
           "x": 0.05
          },
          "xaxis": {
           "automargin": true,
           "gridcolor": "white",
           "linecolor": "white",
           "ticks": "",
           "title": {
            "standoff": 15
           },
           "zerolinecolor": "white",
           "zerolinewidth": 2
          },
          "yaxis": {
           "automargin": true,
           "gridcolor": "white",
           "linecolor": "white",
           "ticks": "",
           "title": {
            "standoff": 15
           },
           "zerolinecolor": "white",
           "zerolinewidth": 2
          }
         }
        },
        "title": {
         "font": {
          "size": 30
         },
         "text": "Связь между признаками по видам",
         "x": 0.5
        }
       }
      },
      "text/html": [
       "<div>                            <div id=\"af43b0e1-5b28-4e26-b754-fd83f7cae7cb\" class=\"plotly-graph-div\" style=\"height:800px; width:100%;\"></div>            <script type=\"text/javascript\">                require([\"plotly\"], function(Plotly) {                    window.PLOTLYENV=window.PLOTLYENV || {};                                    if (document.getElementById(\"af43b0e1-5b28-4e26-b754-fd83f7cae7cb\")) {                    Plotly.newPlot(                        \"af43b0e1-5b28-4e26-b754-fd83f7cae7cb\",                        [{\"dimensions\":[{\"axis\":{\"matches\":true},\"label\":\"culmen_length_mm\",\"values\":[39.1,39.5,40.3,43.9,36.7,39.3,38.9,39.2,34.1,42.0,37.8,37.8,41.1,38.6,34.6,36.6,38.7,42.5,34.4,46.0,37.8,37.7,35.9,38.2,38.8,35.3,40.6,40.5,37.9,40.5,39.5,37.2,39.5,40.9,36.4,39.2,38.8,42.2,37.6,39.8,36.5,40.8,36.0,44.1,37.0,39.6,41.1,37.5,36.0,42.3,39.6,40.1,35.0,42.0,34.5,41.4,39.0,40.6,36.5,37.6,35.7,41.3,37.6,41.1,36.4,41.6,35.5,41.1,35.9,41.8,33.5,39.7,39.6,45.8,35.5,42.8,40.9,37.2,36.2,42.1,34.6,42.9,36.7,35.1,37.3,41.3,36.3,36.9,38.3,38.9,35.7,41.1,34.0,39.6,36.2,40.8,38.1,40.3,33.1,43.2,35.0,41.0,37.7,37.8,37.9,39.7,38.6,38.2,38.1,43.2,38.1,45.6,39.7,42.2,39.6,42.7,38.6,37.3,35.7,41.1,36.2,37.7,40.2,41.4,35.2,40.6,38.8,41.5,39.0,44.1,38.5,43.1,36.8,37.5,38.1,41.1,35.6,40.2,37.0,39.7,40.2,40.6,32.1,40.7,37.3,39.0,39.2,36.6,36.0,37.8,36.0,41.5]},{\"axis\":{\"matches\":true},\"label\":\"culmen_depth_mm\",\"values\":[18.7,17.4,18.0,17.2,19.3,20.6,17.8,19.6,18.1,20.2,17.1,17.3,17.6,21.2,21.1,17.8,19.0,20.7,18.4,21.5,18.3,18.7,19.2,18.1,17.2,18.9,18.6,17.9,18.6,18.9,16.7,18.1,17.8,18.9,17.0,21.1,20.0,18.5,19.3,19.1,18.0,18.4,18.5,19.7,16.9,18.8,19.0,18.9,17.9,21.2,17.7,18.9,17.9,19.5,18.1,18.6,17.5,18.8,16.6,19.1,16.9,21.1,17.0,18.2,17.1,18.0,16.2,19.1,16.6,19.4,19.0,18.4,17.2,18.9,17.5,18.5,16.8,19.4,16.1,19.1,17.2,17.6,18.8,19.4,17.8,20.3,19.5,18.6,19.2,18.8,18.0,18.1,17.1,18.1,17.3,18.9,18.6,18.5,16.1,18.5,17.9,20.0,16.0,20.0,18.6,18.9,17.2,20.0,17.0,19.0,16.5,20.3,17.7,19.5,20.7,18.3,17.0,20.5,17.0,18.6,17.2,19.8,17.0,18.5,15.9,19.0,17.6,18.3,17.1,18.0,17.9,19.2,18.5,18.5,17.6,17.5,17.5,20.1,16.5,17.9,17.1,17.2,15.5,17.0,16.8,18.7,18.6,18.4,17.8,18.1,17.1,18.5]},{\"axis\":{\"matches\":true},\"label\":\"flipper_length_mm\",\"values\":[181.0,186.0,195.0,200.9,193.0,190.0,181.0,195.0,193.0,190.0,186.0,180.0,182.0,191.0,198.0,185.0,195.0,197.0,184.0,194.0,174.0,180.0,189.0,185.0,180.0,187.0,183.0,187.0,172.0,180.0,178.0,178.0,188.0,184.0,195.0,196.0,190.0,180.0,181.0,184.0,182.0,195.0,186.0,196.0,185.0,190.0,182.0,179.0,190.0,191.0,186.0,188.0,190.0,200.0,187.0,191.0,186.0,193.0,181.0,194.0,185.0,195.0,185.0,192.0,184.0,192.0,195.0,188.0,190.0,198.0,190.0,190.0,196.0,197.0,190.0,195.0,191.0,184.0,187.0,195.0,189.0,196.0,187.0,193.0,191.0,194.0,190.0,189.0,189.0,190.0,202.0,205.0,185.0,186.0,187.0,208.0,190.0,196.0,178.0,192.0,192.0,203.0,183.0,190.0,193.0,184.0,199.0,190.0,181.0,197.0,198.0,191.0,193.0,197.0,191.0,196.0,188.0,199.0,189.0,189.0,187.0,198.0,176.0,202.0,186.0,199.0,191.0,195.0,191.0,210.0,190.0,197.0,193.0,199.0,187.0,190.0,191.0,200.0,185.0,193.0,193.0,187.0,188.0,190.0,192.0,185.0,190.0,184.0,195.0,193.0,187.0,201.0]},{\"axis\":{\"matches\":true},\"label\":\"body_mass_g\",\"values\":[3750.0,3800.0,3250.0,4201.8,3450.0,3650.0,3625.0,4675.0,3475.0,4250.0,3300.0,3700.0,3200.0,3800.0,4400.0,3700.0,3450.0,4500.0,3325.0,4200.0,3400.0,3600.0,3800.0,3950.0,3800.0,3800.0,3550.0,3200.0,3150.0,3950.0,3250.0,3900.0,3300.0,3900.0,3325.0,4150.0,3950.0,3550.0,3300.0,4650.0,3150.0,3900.0,3100.0,4400.0,3000.0,4600.0,3425.0,2975.0,3450.0,4150.0,3500.0,4300.0,3450.0,4050.0,2900.0,3700.0,3550.0,3800.0,2850.0,3750.0,3150.0,4400.0,3600.0,4050.0,2850.0,3950.0,3350.0,4100.0,3050.0,4450.0,3600.0,3900.0,3550.0,4150.0,3700.0,4250.0,3700.0,3900.0,3550.0,4000.0,3200.0,4700.0,3800.0,4200.0,3350.0,3550.0,3800.0,3500.0,3950.0,3600.0,3550.0,4300.0,3400.0,4450.0,3300.0,4300.0,3700.0,4350.0,2900.0,4100.0,3725.0,4725.0,3075.0,4250.0,2925.0,3550.0,3750.0,3900.0,3175.0,4775.0,3825.0,4600.0,3200.0,4275.0,3900.0,4075.0,2900.0,3775.0,3350.0,3325.0,3150.0,3500.0,3450.0,3875.0,3050.0,4000.0,3275.0,4300.0,3050.0,4000.0,3325.0,3500.0,3500.0,4475.0,3425.0,3900.0,3175.0,3975.0,3400.0,4250.0,3400.0,3475.0,3050.0,3725.0,3000.0,3650.0,4250.0,3475.0,3450.0,3750.0,3700.0,4000.0]}],\"hovertemplate\":\"species=Adelie<br>%{xaxis.title.text}=%{x}<br>%{yaxis.title.text}=%{y}<extra></extra>\",\"legendgroup\":\"Adelie\",\"marker\":{\"color\":\"#636efa\",\"symbol\":\"circle\"},\"name\":\"Adelie\",\"showlegend\":true,\"type\":\"splom\"},{\"dimensions\":[{\"axis\":{\"matches\":true},\"label\":\"culmen_length_mm\",\"values\":[46.5,50.0,51.3,45.4,52.7,45.2,46.1,51.3,46.0,51.3,46.6,51.7,47.0,52.0,45.9,50.5,50.3,58.0,46.4,49.2,42.4,48.5,43.2,50.6,46.7,52.0,50.5,49.5,46.4,52.8,40.9,54.2,42.5,51.0,49.7,47.5,47.6,52.0,46.9,53.5,49.0,46.2,50.9,45.5,50.9,50.8,50.1,49.0,51.5,49.8,48.1,51.4,45.7,50.7,42.5,52.2,45.2,49.3,50.2,45.6,51.9,46.8,45.7,55.8,43.5,49.6,50.8,50.2]},{\"axis\":{\"matches\":true},\"label\":\"culmen_depth_mm\",\"values\":[17.9,19.5,19.2,18.7,19.8,17.8,18.2,18.2,18.9,19.9,17.8,20.3,17.3,18.1,17.1,19.6,20.0,17.8,18.6,18.2,17.3,17.5,16.6,19.4,17.9,19.0,18.4,19.0,17.8,20.0,16.6,20.8,16.7,18.8,18.6,16.8,18.3,20.7,16.6,19.9,19.5,17.5,19.1,17.0,17.9,18.5,17.9,19.6,18.7,17.3,16.4,19.0,17.3,19.7,17.3,18.8,16.6,19.9,18.8,19.4,19.5,16.5,17.0,19.8,18.1,18.2,19.0,18.7]},{\"axis\":{\"matches\":true},\"label\":\"flipper_length_mm\",\"values\":[192.0,196.0,193.0,188.0,197.0,198.0,178.0,197.0,195.0,198.0,193.0,194.0,185.0,201.0,190.0,201.0,197.0,181.0,190.0,195.0,181.0,191.0,187.0,193.0,195.0,197.0,200.0,200.0,191.0,205.0,187.0,201.0,187.0,203.0,195.0,199.0,195.0,210.0,192.0,205.0,210.0,187.0,196.0,196.0,196.0,201.0,190.0,212.0,187.0,198.0,199.0,201.0,193.0,203.0,187.0,197.0,191.0,203.0,202.0,194.0,206.0,189.0,195.0,207.0,202.0,193.0,210.0,198.0]},{\"axis\":{\"matches\":true},\"label\":\"body_mass_g\",\"values\":[3500.0,3900.0,3650.0,3525.0,3725.0,3950.0,3250.0,3750.0,4150.0,3700.0,3800.0,3775.0,3700.0,4050.0,3575.0,4050.0,3300.0,3700.0,3450.0,4400.0,3600.0,3400.0,2900.0,3800.0,3300.0,4150.0,3400.0,3800.0,3700.0,4550.0,3200.0,4300.0,3350.0,4100.0,3600.0,3900.0,3850.0,4800.0,2700.0,4500.0,3950.0,3650.0,3550.0,3500.0,3675.0,4450.0,3400.0,4300.0,3250.0,3675.0,3325.0,3950.0,3600.0,4050.0,3350.0,3450.0,3250.0,4050.0,3800.0,3525.0,3950.0,3650.0,3650.0,4000.0,3400.0,3775.0,4100.0,3775.0]}],\"hovertemplate\":\"species=Chinstrap<br>%{xaxis.title.text}=%{x}<br>%{yaxis.title.text}=%{y}<extra></extra>\",\"legendgroup\":\"Chinstrap\",\"marker\":{\"color\":\"#EF553B\",\"symbol\":\"circle\"},\"name\":\"Chinstrap\",\"showlegend\":true,\"type\":\"splom\"},{\"dimensions\":[{\"axis\":{\"matches\":true},\"label\":\"culmen_length_mm\",\"values\":[46.1,50.0,48.7,50.0,47.6,46.5,45.4,46.7,43.3,46.8,40.9,49.0,45.5,48.4,45.8,49.3,42.0,49.2,46.2,48.7,50.2,45.1,46.5,46.3,42.9,46.1,44.5,47.8,48.2,50.0,47.3,42.8,45.1,59.6,49.1,48.4,42.6,44.4,44.0,48.7,42.7,49.6,45.3,49.6,50.5,43.6,45.5,50.5,44.9,45.2,46.6,48.5,45.1,50.1,46.5,45.0,43.8,45.5,43.2,50.4,45.3,46.2,45.7,54.3,45.8,49.8,46.2,49.5,43.5,50.7,47.7,46.4,48.2,46.5,46.4,48.6,47.5,51.1,45.2,45.2,49.1,52.5,47.4,50.0,44.9,50.8,43.4,51.3,47.5,52.1,47.5,52.2,45.5,49.5,44.5,50.8,49.4,46.9,48.4,51.1,48.5,55.9,47.2,49.1,47.3,46.8,41.7,53.4,43.3,48.1,50.5,49.8,43.5,51.5,46.2,55.1,44.5,48.8,47.2,43.9,46.8,50.4,45.2,49.9]},{\"axis\":{\"matches\":true},\"label\":\"culmen_depth_mm\",\"values\":[13.2,16.3,14.1,15.2,14.5,13.5,14.6,15.3,13.4,15.4,13.7,16.1,13.7,14.6,14.6,15.7,13.5,15.2,14.5,15.1,14.3,14.5,14.5,15.8,13.1,15.1,14.3,15.0,14.3,15.3,15.3,14.2,14.5,17.0,14.8,16.3,13.7,17.3,13.6,15.7,13.7,16.0,13.7,15.0,15.9,13.9,13.9,15.9,13.3,15.8,14.2,14.1,14.4,15.0,14.4,15.4,13.9,15.0,14.5,15.3,13.8,14.9,13.9,15.7,14.2,16.8,14.4,16.2,14.2,15.0,15.0,15.6,15.6,14.8,15.0,16.0,14.2,16.3,13.8,16.4,14.5,15.6,14.6,15.9,13.8,17.3,14.4,14.2,14.0,17.0,15.0,17.1,14.5,16.1,14.7,15.7,15.8,14.6,14.4,16.5,15.0,17.0,15.5,15.0,13.8,16.1,14.7,15.8,14.0,15.1,15.2,15.9,15.2,16.3,14.1,16.0,15.7,16.2,13.7,17.2,14.3,15.7,14.8,16.1]},{\"axis\":{\"matches\":true},\"label\":\"flipper_length_mm\",\"values\":[211.0,230.0,210.0,218.0,215.0,210.0,211.0,219.0,209.0,215.0,214.0,216.0,214.0,213.0,210.0,217.0,210.0,221.0,209.0,222.0,218.0,215.0,213.0,215.0,215.0,215.0,216.0,215.0,210.0,220.0,222.0,209.0,207.0,230.0,220.0,220.0,213.0,219.0,208.0,208.0,208.0,225.0,210.0,216.0,222.0,217.0,210.0,225.0,213.0,215.0,210.0,220.0,210.0,225.0,217.0,220.0,208.0,220.0,208.0,224.0,208.0,221.0,214.0,231.0,219.0,230.0,214.0,229.0,220.0,223.0,216.0,221.0,221.0,217.0,216.0,230.0,209.0,220.0,215.0,223.0,212.0,221.0,212.0,224.0,212.0,228.0,218.0,218.0,212.0,230.0,218.0,228.0,212.0,224.0,214.0,226.0,216.0,222.0,203.0,225.0,219.0,228.0,215.0,228.0,216.0,215.0,210.0,219.0,208.0,209.0,216.0,229.0,213.0,230.0,217.0,230.0,217.0,222.0,214.0,200.9,215.0,222.0,212.0,213.0]},{\"axis\":{\"matches\":true},\"label\":\"body_mass_g\",\"values\":[4500.0,5700.0,4450.0,5700.0,5400.0,4550.0,4800.0,5200.0,4400.0,5150.0,4650.0,5550.0,4650.0,5850.0,4200.0,5850.0,4150.0,6300.0,4800.0,5350.0,5700.0,5000.0,4400.0,5050.0,5000.0,5100.0,4100.0,5650.0,4600.0,5550.0,5250.0,4700.0,5050.0,6050.0,5150.0,5400.0,4950.0,5250.0,4350.0,5350.0,3950.0,5700.0,4300.0,4750.0,5550.0,4900.0,4200.0,5400.0,5100.0,5300.0,4850.0,5300.0,4400.0,5000.0,4900.0,5050.0,4300.0,5000.0,4450.0,5550.0,4200.0,5300.0,4400.0,5650.0,4700.0,5700.0,4650.0,5800.0,4700.0,5550.0,4750.0,5000.0,5100.0,5200.0,4700.0,5800.0,4600.0,6000.0,4750.0,5950.0,4625.0,5450.0,4725.0,5350.0,4750.0,5600.0,4600.0,5300.0,4875.0,5550.0,4950.0,5400.0,4750.0,5650.0,4850.0,5200.0,4925.0,4875.0,4625.0,5250.0,4850.0,5600.0,4975.0,5500.0,4725.0,5500.0,4700.0,5500.0,4575.0,5500.0,5000.0,5950.0,4650.0,5500.0,4375.0,5850.0,4875.0,6000.0,4925.0,4201.8,4850.0,5750.0,5200.0,5400.0]}],\"hovertemplate\":\"species=Gentoo<br>%{xaxis.title.text}=%{x}<br>%{yaxis.title.text}=%{y}<extra></extra>\",\"legendgroup\":\"Gentoo\",\"marker\":{\"color\":\"#00cc96\",\"symbol\":\"circle\"},\"name\":\"Gentoo\",\"showlegend\":true,\"type\":\"splom\"}],                        {\"template\":{\"data\":{\"histogram2dcontour\":[{\"type\":\"histogram2dcontour\",\"colorbar\":{\"outlinewidth\":0,\"ticks\":\"\"},\"colorscale\":[[0.0,\"#0d0887\"],[0.1111111111111111,\"#46039f\"],[0.2222222222222222,\"#7201a8\"],[0.3333333333333333,\"#9c179e\"],[0.4444444444444444,\"#bd3786\"],[0.5555555555555556,\"#d8576b\"],[0.6666666666666666,\"#ed7953\"],[0.7777777777777778,\"#fb9f3a\"],[0.8888888888888888,\"#fdca26\"],[1.0,\"#f0f921\"]]}],\"choropleth\":[{\"type\":\"choropleth\",\"colorbar\":{\"outlinewidth\":0,\"ticks\":\"\"}}],\"histogram2d\":[{\"type\":\"histogram2d\",\"colorbar\":{\"outlinewidth\":0,\"ticks\":\"\"},\"colorscale\":[[0.0,\"#0d0887\"],[0.1111111111111111,\"#46039f\"],[0.2222222222222222,\"#7201a8\"],[0.3333333333333333,\"#9c179e\"],[0.4444444444444444,\"#bd3786\"],[0.5555555555555556,\"#d8576b\"],[0.6666666666666666,\"#ed7953\"],[0.7777777777777778,\"#fb9f3a\"],[0.8888888888888888,\"#fdca26\"],[1.0,\"#f0f921\"]]}],\"heatmap\":[{\"type\":\"heatmap\",\"colorbar\":{\"outlinewidth\":0,\"ticks\":\"\"},\"colorscale\":[[0.0,\"#0d0887\"],[0.1111111111111111,\"#46039f\"],[0.2222222222222222,\"#7201a8\"],[0.3333333333333333,\"#9c179e\"],[0.4444444444444444,\"#bd3786\"],[0.5555555555555556,\"#d8576b\"],[0.6666666666666666,\"#ed7953\"],[0.7777777777777778,\"#fb9f3a\"],[0.8888888888888888,\"#fdca26\"],[1.0,\"#f0f921\"]]}],\"heatmapgl\":[{\"type\":\"heatmapgl\",\"colorbar\":{\"outlinewidth\":0,\"ticks\":\"\"},\"colorscale\":[[0.0,\"#0d0887\"],[0.1111111111111111,\"#46039f\"],[0.2222222222222222,\"#7201a8\"],[0.3333333333333333,\"#9c179e\"],[0.4444444444444444,\"#bd3786\"],[0.5555555555555556,\"#d8576b\"],[0.6666666666666666,\"#ed7953\"],[0.7777777777777778,\"#fb9f3a\"],[0.8888888888888888,\"#fdca26\"],[1.0,\"#f0f921\"]]}],\"contourcarpet\":[{\"type\":\"contourcarpet\",\"colorbar\":{\"outlinewidth\":0,\"ticks\":\"\"}}],\"contour\":[{\"type\":\"contour\",\"colorbar\":{\"outlinewidth\":0,\"ticks\":\"\"},\"colorscale\":[[0.0,\"#0d0887\"],[0.1111111111111111,\"#46039f\"],[0.2222222222222222,\"#7201a8\"],[0.3333333333333333,\"#9c179e\"],[0.4444444444444444,\"#bd3786\"],[0.5555555555555556,\"#d8576b\"],[0.6666666666666666,\"#ed7953\"],[0.7777777777777778,\"#fb9f3a\"],[0.8888888888888888,\"#fdca26\"],[1.0,\"#f0f921\"]]}],\"surface\":[{\"type\":\"surface\",\"colorbar\":{\"outlinewidth\":0,\"ticks\":\"\"},\"colorscale\":[[0.0,\"#0d0887\"],[0.1111111111111111,\"#46039f\"],[0.2222222222222222,\"#7201a8\"],[0.3333333333333333,\"#9c179e\"],[0.4444444444444444,\"#bd3786\"],[0.5555555555555556,\"#d8576b\"],[0.6666666666666666,\"#ed7953\"],[0.7777777777777778,\"#fb9f3a\"],[0.8888888888888888,\"#fdca26\"],[1.0,\"#f0f921\"]]}],\"mesh3d\":[{\"type\":\"mesh3d\",\"colorbar\":{\"outlinewidth\":0,\"ticks\":\"\"}}],\"scatter\":[{\"fillpattern\":{\"fillmode\":\"overlay\",\"size\":10,\"solidity\":0.2},\"type\":\"scatter\"}],\"parcoords\":[{\"type\":\"parcoords\",\"line\":{\"colorbar\":{\"outlinewidth\":0,\"ticks\":\"\"}}}],\"scatterpolargl\":[{\"type\":\"scatterpolargl\",\"marker\":{\"colorbar\":{\"outlinewidth\":0,\"ticks\":\"\"}}}],\"bar\":[{\"error_x\":{\"color\":\"#2a3f5f\"},\"error_y\":{\"color\":\"#2a3f5f\"},\"marker\":{\"line\":{\"color\":\"#E5ECF6\",\"width\":0.5},\"pattern\":{\"fillmode\":\"overlay\",\"size\":10,\"solidity\":0.2}},\"type\":\"bar\"}],\"scattergeo\":[{\"type\":\"scattergeo\",\"marker\":{\"colorbar\":{\"outlinewidth\":0,\"ticks\":\"\"}}}],\"scatterpolar\":[{\"type\":\"scatterpolar\",\"marker\":{\"colorbar\":{\"outlinewidth\":0,\"ticks\":\"\"}}}],\"histogram\":[{\"marker\":{\"pattern\":{\"fillmode\":\"overlay\",\"size\":10,\"solidity\":0.2}},\"type\":\"histogram\"}],\"scattergl\":[{\"type\":\"scattergl\",\"marker\":{\"colorbar\":{\"outlinewidth\":0,\"ticks\":\"\"}}}],\"scatter3d\":[{\"type\":\"scatter3d\",\"line\":{\"colorbar\":{\"outlinewidth\":0,\"ticks\":\"\"}},\"marker\":{\"colorbar\":{\"outlinewidth\":0,\"ticks\":\"\"}}}],\"scattermapbox\":[{\"type\":\"scattermapbox\",\"marker\":{\"colorbar\":{\"outlinewidth\":0,\"ticks\":\"\"}}}],\"scatterternary\":[{\"type\":\"scatterternary\",\"marker\":{\"colorbar\":{\"outlinewidth\":0,\"ticks\":\"\"}}}],\"scattercarpet\":[{\"type\":\"scattercarpet\",\"marker\":{\"colorbar\":{\"outlinewidth\":0,\"ticks\":\"\"}}}],\"carpet\":[{\"aaxis\":{\"endlinecolor\":\"#2a3f5f\",\"gridcolor\":\"white\",\"linecolor\":\"white\",\"minorgridcolor\":\"white\",\"startlinecolor\":\"#2a3f5f\"},\"baxis\":{\"endlinecolor\":\"#2a3f5f\",\"gridcolor\":\"white\",\"linecolor\":\"white\",\"minorgridcolor\":\"white\",\"startlinecolor\":\"#2a3f5f\"},\"type\":\"carpet\"}],\"table\":[{\"cells\":{\"fill\":{\"color\":\"#EBF0F8\"},\"line\":{\"color\":\"white\"}},\"header\":{\"fill\":{\"color\":\"#C8D4E3\"},\"line\":{\"color\":\"white\"}},\"type\":\"table\"}],\"barpolar\":[{\"marker\":{\"line\":{\"color\":\"#E5ECF6\",\"width\":0.5},\"pattern\":{\"fillmode\":\"overlay\",\"size\":10,\"solidity\":0.2}},\"type\":\"barpolar\"}],\"pie\":[{\"automargin\":true,\"type\":\"pie\"}]},\"layout\":{\"autotypenumbers\":\"strict\",\"colorway\":[\"#636efa\",\"#EF553B\",\"#00cc96\",\"#ab63fa\",\"#FFA15A\",\"#19d3f3\",\"#FF6692\",\"#B6E880\",\"#FF97FF\",\"#FECB52\"],\"font\":{\"color\":\"#2a3f5f\"},\"hovermode\":\"closest\",\"hoverlabel\":{\"align\":\"left\"},\"paper_bgcolor\":\"white\",\"plot_bgcolor\":\"#E5ECF6\",\"polar\":{\"bgcolor\":\"#E5ECF6\",\"angularaxis\":{\"gridcolor\":\"white\",\"linecolor\":\"white\",\"ticks\":\"\"},\"radialaxis\":{\"gridcolor\":\"white\",\"linecolor\":\"white\",\"ticks\":\"\"}},\"ternary\":{\"bgcolor\":\"#E5ECF6\",\"aaxis\":{\"gridcolor\":\"white\",\"linecolor\":\"white\",\"ticks\":\"\"},\"baxis\":{\"gridcolor\":\"white\",\"linecolor\":\"white\",\"ticks\":\"\"},\"caxis\":{\"gridcolor\":\"white\",\"linecolor\":\"white\",\"ticks\":\"\"}},\"coloraxis\":{\"colorbar\":{\"outlinewidth\":0,\"ticks\":\"\"}},\"colorscale\":{\"sequential\":[[0.0,\"#0d0887\"],[0.1111111111111111,\"#46039f\"],[0.2222222222222222,\"#7201a8\"],[0.3333333333333333,\"#9c179e\"],[0.4444444444444444,\"#bd3786\"],[0.5555555555555556,\"#d8576b\"],[0.6666666666666666,\"#ed7953\"],[0.7777777777777778,\"#fb9f3a\"],[0.8888888888888888,\"#fdca26\"],[1.0,\"#f0f921\"]],\"sequentialminus\":[[0.0,\"#0d0887\"],[0.1111111111111111,\"#46039f\"],[0.2222222222222222,\"#7201a8\"],[0.3333333333333333,\"#9c179e\"],[0.4444444444444444,\"#bd3786\"],[0.5555555555555556,\"#d8576b\"],[0.6666666666666666,\"#ed7953\"],[0.7777777777777778,\"#fb9f3a\"],[0.8888888888888888,\"#fdca26\"],[1.0,\"#f0f921\"]],\"diverging\":[[0,\"#8e0152\"],[0.1,\"#c51b7d\"],[0.2,\"#de77ae\"],[0.3,\"#f1b6da\"],[0.4,\"#fde0ef\"],[0.5,\"#f7f7f7\"],[0.6,\"#e6f5d0\"],[0.7,\"#b8e186\"],[0.8,\"#7fbc41\"],[0.9,\"#4d9221\"],[1,\"#276419\"]]},\"xaxis\":{\"gridcolor\":\"white\",\"linecolor\":\"white\",\"ticks\":\"\",\"title\":{\"standoff\":15},\"zerolinecolor\":\"white\",\"automargin\":true,\"zerolinewidth\":2},\"yaxis\":{\"gridcolor\":\"white\",\"linecolor\":\"white\",\"ticks\":\"\",\"title\":{\"standoff\":15},\"zerolinecolor\":\"white\",\"automargin\":true,\"zerolinewidth\":2},\"scene\":{\"xaxis\":{\"backgroundcolor\":\"#E5ECF6\",\"gridcolor\":\"white\",\"linecolor\":\"white\",\"showbackground\":true,\"ticks\":\"\",\"zerolinecolor\":\"white\",\"gridwidth\":2},\"yaxis\":{\"backgroundcolor\":\"#E5ECF6\",\"gridcolor\":\"white\",\"linecolor\":\"white\",\"showbackground\":true,\"ticks\":\"\",\"zerolinecolor\":\"white\",\"gridwidth\":2},\"zaxis\":{\"backgroundcolor\":\"#E5ECF6\",\"gridcolor\":\"white\",\"linecolor\":\"white\",\"showbackground\":true,\"ticks\":\"\",\"zerolinecolor\":\"white\",\"gridwidth\":2}},\"shapedefaults\":{\"line\":{\"color\":\"#2a3f5f\"}},\"annotationdefaults\":{\"arrowcolor\":\"#2a3f5f\",\"arrowhead\":0,\"arrowwidth\":1},\"geo\":{\"bgcolor\":\"white\",\"landcolor\":\"#E5ECF6\",\"subunitcolor\":\"white\",\"showland\":true,\"showlakes\":true,\"lakecolor\":\"white\"},\"title\":{\"x\":0.05},\"mapbox\":{\"style\":\"light\"}}},\"legend\":{\"title\":{\"text\":\"species\"},\"tracegroupgap\":0},\"margin\":{\"t\":60},\"dragmode\":\"select\",\"height\":800,\"title\":{\"font\":{\"size\":30},\"text\":\"\\u0421\\u0432\\u044f\\u0437\\u044c \\u043c\\u0435\\u0436\\u0434\\u0443 \\u043f\\u0440\\u0438\\u0437\\u043d\\u0430\\u043a\\u0430\\u043c\\u0438 \\u043f\\u043e \\u0432\\u0438\\u0434\\u0430\\u043c\",\"x\":0.5},\"paper_bgcolor\":\"rgb(229, 237, 247)\",\"plot_bgcolor\":\"rgb(229, 237, 247)\"},                        {\"responsive\": true}                    ).then(function(){\n",
       "                            \n",
       "var gd = document.getElementById('af43b0e1-5b28-4e26-b754-fd83f7cae7cb');\n",
       "var x = new MutationObserver(function (mutations, observer) {{\n",
       "        var display = window.getComputedStyle(gd).display;\n",
       "        if (!display || display === 'none') {{\n",
       "            console.log([gd, 'removed!']);\n",
       "            Plotly.purge(gd);\n",
       "            observer.disconnect();\n",
       "        }}\n",
       "}});\n",
       "\n",
       "// Listen for the removal of the full notebook cells\n",
       "var notebookContainer = gd.closest('#notebook-container');\n",
       "if (notebookContainer) {{\n",
       "    x.observe(notebookContainer, {childList: true});\n",
       "}}\n",
       "\n",
       "// Listen for the clearing of the current output cell\n",
       "var outputEl = gd.closest('.output');\n",
       "if (outputEl) {{\n",
       "    x.observe(outputEl, {childList: true});\n",
       "}}\n",
       "\n",
       "                        })                };                });            </script>        </div>"
      ]
     },
     "metadata": {},
     "output_type": "display_data"
    }
   ],
   "source": [
    "fig = px.scatter_matrix(penguin, \n",
    "                        dimensions=[\"culmen_length_mm\", \"culmen_depth_mm\", \"flipper_length_mm\", \"body_mass_g\"], \n",
    "                        color=\"species\")\n",
    "\n",
    "fig.update_layout(template=\"plotly\", height=800)\n",
    "\n",
    "fig.update(\n",
    "    layout_title_text=\"Связь между признаками по видам\",\n",
    "    layout_title_font_size=30,\n",
    "    layout_title_x=0.5,\n",
    "    layout_paper_bgcolor='rgb(229, 237, 247)',\n",
    "    layout_plot_bgcolor='rgb(229, 237, 247)',\n",
    ")\n",
    "fig.show()"
   ]
  },
  {
   "cell_type": "code",
   "execution_count": 39,
   "id": "0f94e8f5",
   "metadata": {},
   "outputs": [
    {
     "data": {
      "application/vnd.plotly.v1+json": {
       "config": {
        "plotlyServerURL": "https://plot.ly"
       },
       "data": [
        {
         "dimensions": [
          {
           "axis": {
            "matches": true
           },
           "label": "culmen_length_mm",
           "values": [
            39.1,
            43.9,
            39.3,
            39.2,
            34.1,
            42,
            37.8,
            37.8,
            38.6,
            34.6,
            42.5,
            46,
            37.7,
            38.2,
            38.8,
            40.6,
            40.5,
            37.2,
            40.9,
            39.2,
            38.8,
            39.8,
            40.8,
            44.1,
            39.6,
            41.1,
            37.5,
            42.3,
            40.1,
            42,
            41.4,
            40.6,
            37.6,
            41.3,
            41.1,
            41.6,
            41.1,
            41.8,
            39.7,
            45.8,
            42.8,
            37.2,
            42.1,
            42.9,
            35.1,
            41.3,
            36.3,
            38.3,
            41.1,
            39.6,
            40.8,
            40.3,
            43.2,
            41,
            37.8,
            39.7,
            38.2,
            43.2,
            45.6,
            42.2,
            42.7,
            37.3,
            41.1,
            37.7,
            41.4,
            40.6,
            41.5,
            44.1,
            43.1,
            37.5,
            41.1,
            40.2,
            39.7,
            40.6,
            40.7,
            39,
            39.2,
            37.8,
            41.5,
            50,
            51.3,
            52.7,
            51.3,
            51.3,
            51.7,
            52,
            50.5,
            50.3,
            49.2,
            48.5,
            50.6,
            52,
            49.5,
            52.8,
            54.2,
            51,
            49.7,
            52,
            53.5,
            49,
            50.9,
            50.8,
            49,
            51.5,
            51.4,
            50.7,
            52.2,
            49.3,
            50.2,
            51.9,
            55.8,
            49.6,
            50.8,
            50,
            50,
            47.6,
            46.7,
            46.8,
            49,
            48.4,
            49.3,
            49.2,
            48.7,
            50.2,
            46.3,
            46.1,
            44.5,
            47.8,
            50,
            47.3,
            59.6,
            48.4,
            44.4,
            48.7,
            49.6,
            49.6,
            50.5,
            50.5,
            45.2,
            48.5,
            50.1,
            45,
            45.5,
            50.4,
            46.2,
            54.3,
            49.8,
            46.2,
            49.5,
            50.7,
            46.4,
            48.2,
            48.6,
            51.1,
            45.2,
            52.5,
            50,
            50.8,
            51.3,
            52.1,
            52.2,
            49.5,
            50.8,
            49.4,
            51.1,
            55.9,
            49.1,
            47.3,
            46.8,
            53.4,
            48.1,
            49.8,
            51.5,
            55.1,
            44.5,
            48.8,
            43.9,
            50.4,
            49.9
           ]
          },
          {
           "axis": {
            "matches": true
           },
           "label": "culmen_depth_mm",
           "values": [
            18.7,
            17.2,
            20.6,
            19.6,
            18.1,
            20.2,
            17.1,
            17.3,
            21.2,
            21.1,
            20.7,
            21.5,
            18.7,
            18.1,
            17.2,
            18.6,
            18.9,
            18.1,
            18.9,
            21.1,
            20,
            19.1,
            18.4,
            19.7,
            18.8,
            19,
            18.9,
            21.2,
            18.9,
            19.5,
            18.6,
            18.8,
            19.1,
            21.1,
            18.2,
            18,
            19.1,
            19.4,
            18.4,
            18.9,
            18.5,
            19.4,
            19.1,
            17.6,
            19.4,
            20.3,
            19.5,
            19.2,
            18.1,
            18.1,
            18.9,
            18.5,
            18.5,
            20,
            20,
            18.9,
            20,
            19,
            20.3,
            19.5,
            18.3,
            20.5,
            18.6,
            19.8,
            18.5,
            19,
            18.3,
            18,
            19.2,
            18.5,
            17.5,
            20.1,
            17.9,
            17.2,
            17,
            18.7,
            18.6,
            18.1,
            18.5,
            19.5,
            19.2,
            19.8,
            18.2,
            19.9,
            20.3,
            18.1,
            19.6,
            20,
            18.2,
            17.5,
            19.4,
            19,
            19,
            20,
            20.8,
            18.8,
            18.6,
            20.7,
            19.9,
            19.5,
            19.1,
            18.5,
            19.6,
            18.7,
            19,
            19.7,
            18.8,
            19.9,
            18.8,
            19.5,
            19.8,
            18.2,
            19,
            16.3,
            15.2,
            14.5,
            15.3,
            15.4,
            16.1,
            14.6,
            15.7,
            15.2,
            15.1,
            14.3,
            15.8,
            15.1,
            14.3,
            15,
            15.3,
            15.3,
            17,
            16.3,
            17.3,
            15.7,
            16,
            15,
            15.9,
            15.9,
            15.8,
            14.1,
            15,
            15.4,
            15,
            15.3,
            14.9,
            15.7,
            16.8,
            14.4,
            16.2,
            15,
            15.6,
            15.6,
            16,
            16.3,
            16.4,
            15.6,
            15.9,
            17.3,
            14.2,
            17,
            17.1,
            16.1,
            15.7,
            15.8,
            16.5,
            17,
            15,
            13.8,
            16.1,
            15.8,
            15.1,
            15.9,
            16.3,
            16,
            15.7,
            16.2,
            17.2,
            15.7,
            16.1
           ]
          },
          {
           "axis": {
            "matches": true
           },
           "label": "flipper_length_mm",
           "values": [
            181,
            200.9,
            190,
            195,
            193,
            190,
            186,
            180,
            191,
            198,
            197,
            194,
            180,
            185,
            180,
            183,
            180,
            178,
            184,
            196,
            190,
            184,
            195,
            196,
            190,
            182,
            179,
            191,
            188,
            200,
            191,
            193,
            194,
            195,
            192,
            192,
            188,
            198,
            190,
            197,
            195,
            184,
            195,
            196,
            193,
            194,
            190,
            189,
            205,
            186,
            208,
            196,
            192,
            203,
            190,
            184,
            190,
            197,
            191,
            197,
            196,
            199,
            189,
            198,
            202,
            199,
            195,
            210,
            197,
            199,
            190,
            200,
            193,
            187,
            190,
            185,
            190,
            193,
            201,
            196,
            193,
            197,
            197,
            198,
            194,
            201,
            201,
            197,
            195,
            191,
            193,
            197,
            200,
            205,
            201,
            203,
            195,
            210,
            205,
            210,
            196,
            201,
            212,
            187,
            201,
            203,
            197,
            203,
            202,
            206,
            207,
            193,
            210,
            230,
            218,
            215,
            219,
            215,
            216,
            213,
            217,
            221,
            222,
            218,
            215,
            215,
            216,
            215,
            220,
            222,
            230,
            220,
            219,
            208,
            225,
            216,
            222,
            225,
            215,
            220,
            225,
            220,
            220,
            224,
            221,
            231,
            230,
            214,
            229,
            223,
            221,
            221,
            230,
            220,
            223,
            221,
            224,
            228,
            218,
            230,
            228,
            224,
            226,
            216,
            225,
            228,
            228,
            216,
            215,
            219,
            209,
            229,
            230,
            230,
            217,
            222,
            200.9,
            222,
            213
           ]
          },
          {
           "axis": {
            "matches": true
           },
           "label": "body_mass_g",
           "values": [
            3750,
            4201.8,
            3650,
            4675,
            3475,
            4250,
            3300,
            3700,
            3800,
            4400,
            4500,
            4200,
            3600,
            3950,
            3800,
            3550,
            3950,
            3900,
            3900,
            4150,
            3950,
            4650,
            3900,
            4400,
            4600,
            3425,
            2975,
            4150,
            4300,
            4050,
            3700,
            3800,
            3750,
            4400,
            4050,
            3950,
            4100,
            4450,
            3900,
            4150,
            4250,
            3900,
            4000,
            4700,
            4200,
            3550,
            3800,
            3950,
            4300,
            4450,
            4300,
            4350,
            4100,
            4725,
            4250,
            3550,
            3900,
            4775,
            4600,
            4275,
            4075,
            3775,
            3325,
            3500,
            3875,
            4000,
            4300,
            4000,
            3500,
            4475,
            3900,
            3975,
            4250,
            3475,
            3725,
            3650,
            4250,
            3750,
            4000,
            3900,
            3650,
            3725,
            3750,
            3700,
            3775,
            4050,
            4050,
            3300,
            4400,
            3400,
            3800,
            4150,
            3800,
            4550,
            4300,
            4100,
            3600,
            4800,
            4500,
            3950,
            3550,
            4450,
            4300,
            3250,
            3950,
            4050,
            3450,
            4050,
            3800,
            3950,
            4000,
            3775,
            4100,
            5700,
            5700,
            5400,
            5200,
            5150,
            5550,
            5850,
            5850,
            6300,
            5350,
            5700,
            5050,
            5100,
            4100,
            5650,
            5550,
            5250,
            6050,
            5400,
            5250,
            5350,
            5700,
            4750,
            5550,
            5400,
            5300,
            5300,
            5000,
            5050,
            5000,
            5550,
            5300,
            5650,
            5700,
            4650,
            5800,
            5550,
            5000,
            5100,
            5800,
            6000,
            5950,
            5450,
            5350,
            5600,
            5300,
            5550,
            5400,
            5650,
            5200,
            4925,
            5250,
            5600,
            5500,
            4725,
            5500,
            5500,
            5500,
            5950,
            5500,
            5850,
            4875,
            6000,
            4201.8,
            5750,
            5400
           ]
          }
         ],
         "hovertemplate": "sex=MALE<br>%{xaxis.title.text}=%{x}<br>%{yaxis.title.text}=%{y}<extra></extra>",
         "legendgroup": "MALE",
         "marker": {
          "color": "#636efa",
          "symbol": "circle"
         },
         "name": "MALE",
         "showlegend": true,
         "type": "splom"
        },
        {
         "dimensions": [
          {
           "axis": {
            "matches": true
           },
           "label": "culmen_length_mm",
           "values": [
            39.5,
            40.3,
            36.7,
            38.9,
            41.1,
            36.6,
            38.7,
            34.4,
            37.8,
            35.9,
            35.3,
            40.5,
            37.9,
            39.5,
            39.5,
            36.4,
            42.2,
            37.6,
            36.5,
            36,
            37,
            36,
            39.6,
            35,
            34.5,
            39,
            36.5,
            35.7,
            37.6,
            36.4,
            35.5,
            35.9,
            33.5,
            39.6,
            35.5,
            40.9,
            36.2,
            34.6,
            36.7,
            37.3,
            36.9,
            38.9,
            35.7,
            34,
            36.2,
            38.1,
            33.1,
            35,
            37.7,
            37.9,
            38.6,
            38.1,
            38.1,
            39.7,
            39.6,
            38.6,
            35.7,
            36.2,
            40.2,
            35.2,
            38.8,
            39,
            38.5,
            36.8,
            38.1,
            35.6,
            37,
            40.2,
            32.1,
            37.3,
            36.6,
            36,
            36,
            46.5,
            45.4,
            45.2,
            46.1,
            46,
            46.6,
            47,
            45.9,
            58,
            46.4,
            42.4,
            43.2,
            46.7,
            50.5,
            46.4,
            40.9,
            42.5,
            47.5,
            47.6,
            46.9,
            46.2,
            45.5,
            50.9,
            50.1,
            49.8,
            48.1,
            45.7,
            42.5,
            45.2,
            45.6,
            46.8,
            45.7,
            43.5,
            50.2,
            46.1,
            48.7,
            46.5,
            45.4,
            43.3,
            40.9,
            45.5,
            45.8,
            42,
            46.2,
            45.1,
            46.5,
            42.9,
            48.2,
            42.8,
            45.1,
            49.1,
            42.6,
            44,
            42.7,
            45.3,
            43.6,
            45.5,
            44.9,
            46.6,
            45.1,
            46.5,
            43.8,
            43.2,
            45.3,
            45.7,
            45.8,
            43.5,
            47.7,
            46.5,
            46.4,
            47.5,
            45.2,
            49.1,
            47.4,
            44.9,
            43.4,
            47.5,
            47.5,
            45.5,
            44.5,
            46.9,
            48.4,
            48.5,
            47.2,
            41.7,
            43.3,
            50.5,
            43.5,
            46.2,
            47.2,
            46.8,
            45.2
           ]
          },
          {
           "axis": {
            "matches": true
           },
           "label": "culmen_depth_mm",
           "values": [
            17.4,
            18,
            19.3,
            17.8,
            17.6,
            17.8,
            19,
            18.4,
            18.3,
            19.2,
            18.9,
            17.9,
            18.6,
            16.7,
            17.8,
            17,
            18.5,
            19.3,
            18,
            18.5,
            16.9,
            17.9,
            17.7,
            17.9,
            18.1,
            17.5,
            16.6,
            16.9,
            17,
            17.1,
            16.2,
            16.6,
            19,
            17.2,
            17.5,
            16.8,
            16.1,
            17.2,
            18.8,
            17.8,
            18.6,
            18.8,
            18,
            17.1,
            17.3,
            18.6,
            16.1,
            17.9,
            16,
            18.6,
            17.2,
            17,
            16.5,
            17.7,
            20.7,
            17,
            17,
            17.2,
            17,
            15.9,
            17.6,
            17.1,
            17.9,
            18.5,
            17.6,
            17.5,
            16.5,
            17.1,
            15.5,
            16.8,
            18.4,
            17.8,
            17.1,
            17.9,
            18.7,
            17.8,
            18.2,
            18.9,
            17.8,
            17.3,
            17.1,
            17.8,
            18.6,
            17.3,
            16.6,
            17.9,
            18.4,
            17.8,
            16.6,
            16.7,
            16.8,
            18.3,
            16.6,
            17.5,
            17,
            17.9,
            17.9,
            17.3,
            16.4,
            17.3,
            17.3,
            16.6,
            19.4,
            16.5,
            17,
            18.1,
            18.7,
            13.2,
            14.1,
            13.5,
            14.6,
            13.4,
            13.7,
            13.7,
            14.6,
            13.5,
            14.5,
            14.5,
            14.5,
            13.1,
            14.3,
            14.2,
            14.5,
            14.8,
            13.7,
            13.6,
            13.7,
            13.7,
            13.9,
            13.9,
            13.3,
            14.2,
            14.4,
            14.4,
            13.9,
            14.5,
            13.8,
            13.9,
            14.2,
            14.2,
            15,
            14.8,
            15,
            14.2,
            13.8,
            14.5,
            14.6,
            13.8,
            14.4,
            14,
            15,
            14.5,
            14.7,
            14.6,
            14.4,
            15,
            15.5,
            14.7,
            14,
            15.2,
            15.2,
            14.1,
            13.7,
            14.3,
            14.8
           ]
          },
          {
           "axis": {
            "matches": true
           },
           "label": "flipper_length_mm",
           "values": [
            186,
            195,
            193,
            181,
            182,
            185,
            195,
            184,
            174,
            189,
            187,
            187,
            172,
            178,
            188,
            195,
            180,
            181,
            182,
            186,
            185,
            190,
            186,
            190,
            187,
            186,
            181,
            185,
            185,
            184,
            195,
            190,
            190,
            196,
            190,
            191,
            187,
            189,
            187,
            191,
            189,
            190,
            202,
            185,
            187,
            190,
            178,
            192,
            183,
            193,
            199,
            181,
            198,
            193,
            191,
            188,
            189,
            187,
            176,
            186,
            191,
            191,
            190,
            193,
            187,
            191,
            185,
            193,
            188,
            192,
            184,
            195,
            187,
            192,
            188,
            198,
            178,
            195,
            193,
            185,
            190,
            181,
            190,
            181,
            187,
            195,
            200,
            191,
            187,
            187,
            199,
            195,
            192,
            187,
            196,
            196,
            190,
            198,
            199,
            193,
            187,
            191,
            194,
            189,
            195,
            202,
            198,
            211,
            210,
            210,
            211,
            209,
            214,
            214,
            210,
            210,
            209,
            215,
            213,
            215,
            210,
            209,
            207,
            220,
            213,
            208,
            208,
            210,
            217,
            210,
            213,
            210,
            210,
            217,
            208,
            208,
            208,
            214,
            219,
            220,
            216,
            217,
            216,
            209,
            215,
            212,
            212,
            212,
            218,
            212,
            218,
            212,
            214,
            222,
            203,
            219,
            215,
            210,
            208,
            216,
            213,
            217,
            214,
            215,
            212
           ]
          },
          {
           "axis": {
            "matches": true
           },
           "label": "body_mass_g",
           "values": [
            3800,
            3250,
            3450,
            3625,
            3200,
            3700,
            3450,
            3325,
            3400,
            3800,
            3800,
            3200,
            3150,
            3250,
            3300,
            3325,
            3550,
            3300,
            3150,
            3100,
            3000,
            3450,
            3500,
            3450,
            2900,
            3550,
            2850,
            3150,
            3600,
            2850,
            3350,
            3050,
            3600,
            3550,
            3700,
            3700,
            3550,
            3200,
            3800,
            3350,
            3500,
            3600,
            3550,
            3400,
            3300,
            3700,
            2900,
            3725,
            3075,
            2925,
            3750,
            3175,
            3825,
            3200,
            3900,
            2900,
            3350,
            3150,
            3450,
            3050,
            3275,
            3050,
            3325,
            3500,
            3425,
            3175,
            3400,
            3400,
            3050,
            3000,
            3475,
            3450,
            3700,
            3500,
            3525,
            3950,
            3250,
            4150,
            3800,
            3700,
            3575,
            3700,
            3450,
            3600,
            2900,
            3300,
            3400,
            3700,
            3200,
            3350,
            3900,
            3850,
            2700,
            3650,
            3500,
            3675,
            3400,
            3675,
            3325,
            3600,
            3350,
            3250,
            3525,
            3650,
            3650,
            3400,
            3775,
            4500,
            4450,
            4550,
            4800,
            4400,
            4650,
            4650,
            4200,
            4150,
            4800,
            5000,
            4400,
            5000,
            4600,
            4700,
            5050,
            5150,
            4950,
            4350,
            3950,
            4300,
            4900,
            4200,
            5100,
            4850,
            4400,
            4900,
            4300,
            4450,
            4200,
            4400,
            4700,
            4700,
            4750,
            5200,
            4700,
            4600,
            4750,
            4625,
            4725,
            4750,
            4600,
            4875,
            4950,
            4750,
            4850,
            4875,
            4625,
            4850,
            4975,
            4700,
            4575,
            5000,
            4650,
            4375,
            4925,
            4850,
            5200
           ]
          }
         ],
         "hovertemplate": "sex=FEMALE<br>%{xaxis.title.text}=%{x}<br>%{yaxis.title.text}=%{y}<extra></extra>",
         "legendgroup": "FEMALE",
         "marker": {
          "color": "#EF553B",
          "symbol": "circle"
         },
         "name": "FEMALE",
         "showlegend": true,
         "type": "splom"
        }
       ],
       "layout": {
        "dragmode": "select",
        "height": 800,
        "legend": {
         "title": {
          "text": "sex"
         },
         "tracegroupgap": 0
        },
        "margin": {
         "t": 60
        },
        "paper_bgcolor": "rgb(229, 237, 247)",
        "plot_bgcolor": "rgb(229, 237, 247)",
        "template": {
         "data": {
          "bar": [
           {
            "error_x": {
             "color": "#2a3f5f"
            },
            "error_y": {
             "color": "#2a3f5f"
            },
            "marker": {
             "line": {
              "color": "#E5ECF6",
              "width": 0.5
             },
             "pattern": {
              "fillmode": "overlay",
              "size": 10,
              "solidity": 0.2
             }
            },
            "type": "bar"
           }
          ],
          "barpolar": [
           {
            "marker": {
             "line": {
              "color": "#E5ECF6",
              "width": 0.5
             },
             "pattern": {
              "fillmode": "overlay",
              "size": 10,
              "solidity": 0.2
             }
            },
            "type": "barpolar"
           }
          ],
          "carpet": [
           {
            "aaxis": {
             "endlinecolor": "#2a3f5f",
             "gridcolor": "white",
             "linecolor": "white",
             "minorgridcolor": "white",
             "startlinecolor": "#2a3f5f"
            },
            "baxis": {
             "endlinecolor": "#2a3f5f",
             "gridcolor": "white",
             "linecolor": "white",
             "minorgridcolor": "white",
             "startlinecolor": "#2a3f5f"
            },
            "type": "carpet"
           }
          ],
          "choropleth": [
           {
            "colorbar": {
             "outlinewidth": 0,
             "ticks": ""
            },
            "type": "choropleth"
           }
          ],
          "contour": [
           {
            "colorbar": {
             "outlinewidth": 0,
             "ticks": ""
            },
            "colorscale": [
             [
              0,
              "#0d0887"
             ],
             [
              0.1111111111111111,
              "#46039f"
             ],
             [
              0.2222222222222222,
              "#7201a8"
             ],
             [
              0.3333333333333333,
              "#9c179e"
             ],
             [
              0.4444444444444444,
              "#bd3786"
             ],
             [
              0.5555555555555556,
              "#d8576b"
             ],
             [
              0.6666666666666666,
              "#ed7953"
             ],
             [
              0.7777777777777778,
              "#fb9f3a"
             ],
             [
              0.8888888888888888,
              "#fdca26"
             ],
             [
              1,
              "#f0f921"
             ]
            ],
            "type": "contour"
           }
          ],
          "contourcarpet": [
           {
            "colorbar": {
             "outlinewidth": 0,
             "ticks": ""
            },
            "type": "contourcarpet"
           }
          ],
          "heatmap": [
           {
            "colorbar": {
             "outlinewidth": 0,
             "ticks": ""
            },
            "colorscale": [
             [
              0,
              "#0d0887"
             ],
             [
              0.1111111111111111,
              "#46039f"
             ],
             [
              0.2222222222222222,
              "#7201a8"
             ],
             [
              0.3333333333333333,
              "#9c179e"
             ],
             [
              0.4444444444444444,
              "#bd3786"
             ],
             [
              0.5555555555555556,
              "#d8576b"
             ],
             [
              0.6666666666666666,
              "#ed7953"
             ],
             [
              0.7777777777777778,
              "#fb9f3a"
             ],
             [
              0.8888888888888888,
              "#fdca26"
             ],
             [
              1,
              "#f0f921"
             ]
            ],
            "type": "heatmap"
           }
          ],
          "heatmapgl": [
           {
            "colorbar": {
             "outlinewidth": 0,
             "ticks": ""
            },
            "colorscale": [
             [
              0,
              "#0d0887"
             ],
             [
              0.1111111111111111,
              "#46039f"
             ],
             [
              0.2222222222222222,
              "#7201a8"
             ],
             [
              0.3333333333333333,
              "#9c179e"
             ],
             [
              0.4444444444444444,
              "#bd3786"
             ],
             [
              0.5555555555555556,
              "#d8576b"
             ],
             [
              0.6666666666666666,
              "#ed7953"
             ],
             [
              0.7777777777777778,
              "#fb9f3a"
             ],
             [
              0.8888888888888888,
              "#fdca26"
             ],
             [
              1,
              "#f0f921"
             ]
            ],
            "type": "heatmapgl"
           }
          ],
          "histogram": [
           {
            "marker": {
             "pattern": {
              "fillmode": "overlay",
              "size": 10,
              "solidity": 0.2
             }
            },
            "type": "histogram"
           }
          ],
          "histogram2d": [
           {
            "colorbar": {
             "outlinewidth": 0,
             "ticks": ""
            },
            "colorscale": [
             [
              0,
              "#0d0887"
             ],
             [
              0.1111111111111111,
              "#46039f"
             ],
             [
              0.2222222222222222,
              "#7201a8"
             ],
             [
              0.3333333333333333,
              "#9c179e"
             ],
             [
              0.4444444444444444,
              "#bd3786"
             ],
             [
              0.5555555555555556,
              "#d8576b"
             ],
             [
              0.6666666666666666,
              "#ed7953"
             ],
             [
              0.7777777777777778,
              "#fb9f3a"
             ],
             [
              0.8888888888888888,
              "#fdca26"
             ],
             [
              1,
              "#f0f921"
             ]
            ],
            "type": "histogram2d"
           }
          ],
          "histogram2dcontour": [
           {
            "colorbar": {
             "outlinewidth": 0,
             "ticks": ""
            },
            "colorscale": [
             [
              0,
              "#0d0887"
             ],
             [
              0.1111111111111111,
              "#46039f"
             ],
             [
              0.2222222222222222,
              "#7201a8"
             ],
             [
              0.3333333333333333,
              "#9c179e"
             ],
             [
              0.4444444444444444,
              "#bd3786"
             ],
             [
              0.5555555555555556,
              "#d8576b"
             ],
             [
              0.6666666666666666,
              "#ed7953"
             ],
             [
              0.7777777777777778,
              "#fb9f3a"
             ],
             [
              0.8888888888888888,
              "#fdca26"
             ],
             [
              1,
              "#f0f921"
             ]
            ],
            "type": "histogram2dcontour"
           }
          ],
          "mesh3d": [
           {
            "colorbar": {
             "outlinewidth": 0,
             "ticks": ""
            },
            "type": "mesh3d"
           }
          ],
          "parcoords": [
           {
            "line": {
             "colorbar": {
              "outlinewidth": 0,
              "ticks": ""
             }
            },
            "type": "parcoords"
           }
          ],
          "pie": [
           {
            "automargin": true,
            "type": "pie"
           }
          ],
          "scatter": [
           {
            "fillpattern": {
             "fillmode": "overlay",
             "size": 10,
             "solidity": 0.2
            },
            "type": "scatter"
           }
          ],
          "scatter3d": [
           {
            "line": {
             "colorbar": {
              "outlinewidth": 0,
              "ticks": ""
             }
            },
            "marker": {
             "colorbar": {
              "outlinewidth": 0,
              "ticks": ""
             }
            },
            "type": "scatter3d"
           }
          ],
          "scattercarpet": [
           {
            "marker": {
             "colorbar": {
              "outlinewidth": 0,
              "ticks": ""
             }
            },
            "type": "scattercarpet"
           }
          ],
          "scattergeo": [
           {
            "marker": {
             "colorbar": {
              "outlinewidth": 0,
              "ticks": ""
             }
            },
            "type": "scattergeo"
           }
          ],
          "scattergl": [
           {
            "marker": {
             "colorbar": {
              "outlinewidth": 0,
              "ticks": ""
             }
            },
            "type": "scattergl"
           }
          ],
          "scattermapbox": [
           {
            "marker": {
             "colorbar": {
              "outlinewidth": 0,
              "ticks": ""
             }
            },
            "type": "scattermapbox"
           }
          ],
          "scatterpolar": [
           {
            "marker": {
             "colorbar": {
              "outlinewidth": 0,
              "ticks": ""
             }
            },
            "type": "scatterpolar"
           }
          ],
          "scatterpolargl": [
           {
            "marker": {
             "colorbar": {
              "outlinewidth": 0,
              "ticks": ""
             }
            },
            "type": "scatterpolargl"
           }
          ],
          "scatterternary": [
           {
            "marker": {
             "colorbar": {
              "outlinewidth": 0,
              "ticks": ""
             }
            },
            "type": "scatterternary"
           }
          ],
          "surface": [
           {
            "colorbar": {
             "outlinewidth": 0,
             "ticks": ""
            },
            "colorscale": [
             [
              0,
              "#0d0887"
             ],
             [
              0.1111111111111111,
              "#46039f"
             ],
             [
              0.2222222222222222,
              "#7201a8"
             ],
             [
              0.3333333333333333,
              "#9c179e"
             ],
             [
              0.4444444444444444,
              "#bd3786"
             ],
             [
              0.5555555555555556,
              "#d8576b"
             ],
             [
              0.6666666666666666,
              "#ed7953"
             ],
             [
              0.7777777777777778,
              "#fb9f3a"
             ],
             [
              0.8888888888888888,
              "#fdca26"
             ],
             [
              1,
              "#f0f921"
             ]
            ],
            "type": "surface"
           }
          ],
          "table": [
           {
            "cells": {
             "fill": {
              "color": "#EBF0F8"
             },
             "line": {
              "color": "white"
             }
            },
            "header": {
             "fill": {
              "color": "#C8D4E3"
             },
             "line": {
              "color": "white"
             }
            },
            "type": "table"
           }
          ]
         },
         "layout": {
          "annotationdefaults": {
           "arrowcolor": "#2a3f5f",
           "arrowhead": 0,
           "arrowwidth": 1
          },
          "autotypenumbers": "strict",
          "coloraxis": {
           "colorbar": {
            "outlinewidth": 0,
            "ticks": ""
           }
          },
          "colorscale": {
           "diverging": [
            [
             0,
             "#8e0152"
            ],
            [
             0.1,
             "#c51b7d"
            ],
            [
             0.2,
             "#de77ae"
            ],
            [
             0.3,
             "#f1b6da"
            ],
            [
             0.4,
             "#fde0ef"
            ],
            [
             0.5,
             "#f7f7f7"
            ],
            [
             0.6,
             "#e6f5d0"
            ],
            [
             0.7,
             "#b8e186"
            ],
            [
             0.8,
             "#7fbc41"
            ],
            [
             0.9,
             "#4d9221"
            ],
            [
             1,
             "#276419"
            ]
           ],
           "sequential": [
            [
             0,
             "#0d0887"
            ],
            [
             0.1111111111111111,
             "#46039f"
            ],
            [
             0.2222222222222222,
             "#7201a8"
            ],
            [
             0.3333333333333333,
             "#9c179e"
            ],
            [
             0.4444444444444444,
             "#bd3786"
            ],
            [
             0.5555555555555556,
             "#d8576b"
            ],
            [
             0.6666666666666666,
             "#ed7953"
            ],
            [
             0.7777777777777778,
             "#fb9f3a"
            ],
            [
             0.8888888888888888,
             "#fdca26"
            ],
            [
             1,
             "#f0f921"
            ]
           ],
           "sequentialminus": [
            [
             0,
             "#0d0887"
            ],
            [
             0.1111111111111111,
             "#46039f"
            ],
            [
             0.2222222222222222,
             "#7201a8"
            ],
            [
             0.3333333333333333,
             "#9c179e"
            ],
            [
             0.4444444444444444,
             "#bd3786"
            ],
            [
             0.5555555555555556,
             "#d8576b"
            ],
            [
             0.6666666666666666,
             "#ed7953"
            ],
            [
             0.7777777777777778,
             "#fb9f3a"
            ],
            [
             0.8888888888888888,
             "#fdca26"
            ],
            [
             1,
             "#f0f921"
            ]
           ]
          },
          "colorway": [
           "#636efa",
           "#EF553B",
           "#00cc96",
           "#ab63fa",
           "#FFA15A",
           "#19d3f3",
           "#FF6692",
           "#B6E880",
           "#FF97FF",
           "#FECB52"
          ],
          "font": {
           "color": "#2a3f5f"
          },
          "geo": {
           "bgcolor": "white",
           "lakecolor": "white",
           "landcolor": "#E5ECF6",
           "showlakes": true,
           "showland": true,
           "subunitcolor": "white"
          },
          "hoverlabel": {
           "align": "left"
          },
          "hovermode": "closest",
          "mapbox": {
           "style": "light"
          },
          "paper_bgcolor": "white",
          "plot_bgcolor": "#E5ECF6",
          "polar": {
           "angularaxis": {
            "gridcolor": "white",
            "linecolor": "white",
            "ticks": ""
           },
           "bgcolor": "#E5ECF6",
           "radialaxis": {
            "gridcolor": "white",
            "linecolor": "white",
            "ticks": ""
           }
          },
          "scene": {
           "xaxis": {
            "backgroundcolor": "#E5ECF6",
            "gridcolor": "white",
            "gridwidth": 2,
            "linecolor": "white",
            "showbackground": true,
            "ticks": "",
            "zerolinecolor": "white"
           },
           "yaxis": {
            "backgroundcolor": "#E5ECF6",
            "gridcolor": "white",
            "gridwidth": 2,
            "linecolor": "white",
            "showbackground": true,
            "ticks": "",
            "zerolinecolor": "white"
           },
           "zaxis": {
            "backgroundcolor": "#E5ECF6",
            "gridcolor": "white",
            "gridwidth": 2,
            "linecolor": "white",
            "showbackground": true,
            "ticks": "",
            "zerolinecolor": "white"
           }
          },
          "shapedefaults": {
           "line": {
            "color": "#2a3f5f"
           }
          },
          "ternary": {
           "aaxis": {
            "gridcolor": "white",
            "linecolor": "white",
            "ticks": ""
           },
           "baxis": {
            "gridcolor": "white",
            "linecolor": "white",
            "ticks": ""
           },
           "bgcolor": "#E5ECF6",
           "caxis": {
            "gridcolor": "white",
            "linecolor": "white",
            "ticks": ""
           }
          },
          "title": {
           "x": 0.05
          },
          "xaxis": {
           "automargin": true,
           "gridcolor": "white",
           "linecolor": "white",
           "ticks": "",
           "title": {
            "standoff": 15
           },
           "zerolinecolor": "white",
           "zerolinewidth": 2
          },
          "yaxis": {
           "automargin": true,
           "gridcolor": "white",
           "linecolor": "white",
           "ticks": "",
           "title": {
            "standoff": 15
           },
           "zerolinecolor": "white",
           "zerolinewidth": 2
          }
         }
        },
        "title": {
         "font": {
          "size": 30
         },
         "text": "Связь между признаками по полу",
         "x": 0.5
        }
       }
      },
      "text/html": [
       "<div>                            <div id=\"e7568baf-4b81-4028-978f-36f2f7aa0048\" class=\"plotly-graph-div\" style=\"height:800px; width:100%;\"></div>            <script type=\"text/javascript\">                require([\"plotly\"], function(Plotly) {                    window.PLOTLYENV=window.PLOTLYENV || {};                                    if (document.getElementById(\"e7568baf-4b81-4028-978f-36f2f7aa0048\")) {                    Plotly.newPlot(                        \"e7568baf-4b81-4028-978f-36f2f7aa0048\",                        [{\"dimensions\":[{\"axis\":{\"matches\":true},\"label\":\"culmen_length_mm\",\"values\":[39.1,43.9,39.3,39.2,34.1,42.0,37.8,37.8,38.6,34.6,42.5,46.0,37.7,38.2,38.8,40.6,40.5,37.2,40.9,39.2,38.8,39.8,40.8,44.1,39.6,41.1,37.5,42.3,40.1,42.0,41.4,40.6,37.6,41.3,41.1,41.6,41.1,41.8,39.7,45.8,42.8,37.2,42.1,42.9,35.1,41.3,36.3,38.3,41.1,39.6,40.8,40.3,43.2,41.0,37.8,39.7,38.2,43.2,45.6,42.2,42.7,37.3,41.1,37.7,41.4,40.6,41.5,44.1,43.1,37.5,41.1,40.2,39.7,40.6,40.7,39.0,39.2,37.8,41.5,50.0,51.3,52.7,51.3,51.3,51.7,52.0,50.5,50.3,49.2,48.5,50.6,52.0,49.5,52.8,54.2,51.0,49.7,52.0,53.5,49.0,50.9,50.8,49.0,51.5,51.4,50.7,52.2,49.3,50.2,51.9,55.8,49.6,50.8,50.0,50.0,47.6,46.7,46.8,49.0,48.4,49.3,49.2,48.7,50.2,46.3,46.1,44.5,47.8,50.0,47.3,59.6,48.4,44.4,48.7,49.6,49.6,50.5,50.5,45.2,48.5,50.1,45.0,45.5,50.4,46.2,54.3,49.8,46.2,49.5,50.7,46.4,48.2,48.6,51.1,45.2,52.5,50.0,50.8,51.3,52.1,52.2,49.5,50.8,49.4,51.1,55.9,49.1,47.3,46.8,53.4,48.1,49.8,51.5,55.1,44.5,48.8,43.9,50.4,49.9]},{\"axis\":{\"matches\":true},\"label\":\"culmen_depth_mm\",\"values\":[18.7,17.2,20.6,19.6,18.1,20.2,17.1,17.3,21.2,21.1,20.7,21.5,18.7,18.1,17.2,18.6,18.9,18.1,18.9,21.1,20.0,19.1,18.4,19.7,18.8,19.0,18.9,21.2,18.9,19.5,18.6,18.8,19.1,21.1,18.2,18.0,19.1,19.4,18.4,18.9,18.5,19.4,19.1,17.6,19.4,20.3,19.5,19.2,18.1,18.1,18.9,18.5,18.5,20.0,20.0,18.9,20.0,19.0,20.3,19.5,18.3,20.5,18.6,19.8,18.5,19.0,18.3,18.0,19.2,18.5,17.5,20.1,17.9,17.2,17.0,18.7,18.6,18.1,18.5,19.5,19.2,19.8,18.2,19.9,20.3,18.1,19.6,20.0,18.2,17.5,19.4,19.0,19.0,20.0,20.8,18.8,18.6,20.7,19.9,19.5,19.1,18.5,19.6,18.7,19.0,19.7,18.8,19.9,18.8,19.5,19.8,18.2,19.0,16.3,15.2,14.5,15.3,15.4,16.1,14.6,15.7,15.2,15.1,14.3,15.8,15.1,14.3,15.0,15.3,15.3,17.0,16.3,17.3,15.7,16.0,15.0,15.9,15.9,15.8,14.1,15.0,15.4,15.0,15.3,14.9,15.7,16.8,14.4,16.2,15.0,15.6,15.6,16.0,16.3,16.4,15.6,15.9,17.3,14.2,17.0,17.1,16.1,15.7,15.8,16.5,17.0,15.0,13.8,16.1,15.8,15.1,15.9,16.3,16.0,15.7,16.2,17.2,15.7,16.1]},{\"axis\":{\"matches\":true},\"label\":\"flipper_length_mm\",\"values\":[181.0,200.9,190.0,195.0,193.0,190.0,186.0,180.0,191.0,198.0,197.0,194.0,180.0,185.0,180.0,183.0,180.0,178.0,184.0,196.0,190.0,184.0,195.0,196.0,190.0,182.0,179.0,191.0,188.0,200.0,191.0,193.0,194.0,195.0,192.0,192.0,188.0,198.0,190.0,197.0,195.0,184.0,195.0,196.0,193.0,194.0,190.0,189.0,205.0,186.0,208.0,196.0,192.0,203.0,190.0,184.0,190.0,197.0,191.0,197.0,196.0,199.0,189.0,198.0,202.0,199.0,195.0,210.0,197.0,199.0,190.0,200.0,193.0,187.0,190.0,185.0,190.0,193.0,201.0,196.0,193.0,197.0,197.0,198.0,194.0,201.0,201.0,197.0,195.0,191.0,193.0,197.0,200.0,205.0,201.0,203.0,195.0,210.0,205.0,210.0,196.0,201.0,212.0,187.0,201.0,203.0,197.0,203.0,202.0,206.0,207.0,193.0,210.0,230.0,218.0,215.0,219.0,215.0,216.0,213.0,217.0,221.0,222.0,218.0,215.0,215.0,216.0,215.0,220.0,222.0,230.0,220.0,219.0,208.0,225.0,216.0,222.0,225.0,215.0,220.0,225.0,220.0,220.0,224.0,221.0,231.0,230.0,214.0,229.0,223.0,221.0,221.0,230.0,220.0,223.0,221.0,224.0,228.0,218.0,230.0,228.0,224.0,226.0,216.0,225.0,228.0,228.0,216.0,215.0,219.0,209.0,229.0,230.0,230.0,217.0,222.0,200.9,222.0,213.0]},{\"axis\":{\"matches\":true},\"label\":\"body_mass_g\",\"values\":[3750.0,4201.8,3650.0,4675.0,3475.0,4250.0,3300.0,3700.0,3800.0,4400.0,4500.0,4200.0,3600.0,3950.0,3800.0,3550.0,3950.0,3900.0,3900.0,4150.0,3950.0,4650.0,3900.0,4400.0,4600.0,3425.0,2975.0,4150.0,4300.0,4050.0,3700.0,3800.0,3750.0,4400.0,4050.0,3950.0,4100.0,4450.0,3900.0,4150.0,4250.0,3900.0,4000.0,4700.0,4200.0,3550.0,3800.0,3950.0,4300.0,4450.0,4300.0,4350.0,4100.0,4725.0,4250.0,3550.0,3900.0,4775.0,4600.0,4275.0,4075.0,3775.0,3325.0,3500.0,3875.0,4000.0,4300.0,4000.0,3500.0,4475.0,3900.0,3975.0,4250.0,3475.0,3725.0,3650.0,4250.0,3750.0,4000.0,3900.0,3650.0,3725.0,3750.0,3700.0,3775.0,4050.0,4050.0,3300.0,4400.0,3400.0,3800.0,4150.0,3800.0,4550.0,4300.0,4100.0,3600.0,4800.0,4500.0,3950.0,3550.0,4450.0,4300.0,3250.0,3950.0,4050.0,3450.0,4050.0,3800.0,3950.0,4000.0,3775.0,4100.0,5700.0,5700.0,5400.0,5200.0,5150.0,5550.0,5850.0,5850.0,6300.0,5350.0,5700.0,5050.0,5100.0,4100.0,5650.0,5550.0,5250.0,6050.0,5400.0,5250.0,5350.0,5700.0,4750.0,5550.0,5400.0,5300.0,5300.0,5000.0,5050.0,5000.0,5550.0,5300.0,5650.0,5700.0,4650.0,5800.0,5550.0,5000.0,5100.0,5800.0,6000.0,5950.0,5450.0,5350.0,5600.0,5300.0,5550.0,5400.0,5650.0,5200.0,4925.0,5250.0,5600.0,5500.0,4725.0,5500.0,5500.0,5500.0,5950.0,5500.0,5850.0,4875.0,6000.0,4201.8,5750.0,5400.0]}],\"hovertemplate\":\"sex=MALE<br>%{xaxis.title.text}=%{x}<br>%{yaxis.title.text}=%{y}<extra></extra>\",\"legendgroup\":\"MALE\",\"marker\":{\"color\":\"#636efa\",\"symbol\":\"circle\"},\"name\":\"MALE\",\"showlegend\":true,\"type\":\"splom\"},{\"dimensions\":[{\"axis\":{\"matches\":true},\"label\":\"culmen_length_mm\",\"values\":[39.5,40.3,36.7,38.9,41.1,36.6,38.7,34.4,37.8,35.9,35.3,40.5,37.9,39.5,39.5,36.4,42.2,37.6,36.5,36.0,37.0,36.0,39.6,35.0,34.5,39.0,36.5,35.7,37.6,36.4,35.5,35.9,33.5,39.6,35.5,40.9,36.2,34.6,36.7,37.3,36.9,38.9,35.7,34.0,36.2,38.1,33.1,35.0,37.7,37.9,38.6,38.1,38.1,39.7,39.6,38.6,35.7,36.2,40.2,35.2,38.8,39.0,38.5,36.8,38.1,35.6,37.0,40.2,32.1,37.3,36.6,36.0,36.0,46.5,45.4,45.2,46.1,46.0,46.6,47.0,45.9,58.0,46.4,42.4,43.2,46.7,50.5,46.4,40.9,42.5,47.5,47.6,46.9,46.2,45.5,50.9,50.1,49.8,48.1,45.7,42.5,45.2,45.6,46.8,45.7,43.5,50.2,46.1,48.7,46.5,45.4,43.3,40.9,45.5,45.8,42.0,46.2,45.1,46.5,42.9,48.2,42.8,45.1,49.1,42.6,44.0,42.7,45.3,43.6,45.5,44.9,46.6,45.1,46.5,43.8,43.2,45.3,45.7,45.8,43.5,47.7,46.5,46.4,47.5,45.2,49.1,47.4,44.9,43.4,47.5,47.5,45.5,44.5,46.9,48.4,48.5,47.2,41.7,43.3,50.5,43.5,46.2,47.2,46.8,45.2]},{\"axis\":{\"matches\":true},\"label\":\"culmen_depth_mm\",\"values\":[17.4,18.0,19.3,17.8,17.6,17.8,19.0,18.4,18.3,19.2,18.9,17.9,18.6,16.7,17.8,17.0,18.5,19.3,18.0,18.5,16.9,17.9,17.7,17.9,18.1,17.5,16.6,16.9,17.0,17.1,16.2,16.6,19.0,17.2,17.5,16.8,16.1,17.2,18.8,17.8,18.6,18.8,18.0,17.1,17.3,18.6,16.1,17.9,16.0,18.6,17.2,17.0,16.5,17.7,20.7,17.0,17.0,17.2,17.0,15.9,17.6,17.1,17.9,18.5,17.6,17.5,16.5,17.1,15.5,16.8,18.4,17.8,17.1,17.9,18.7,17.8,18.2,18.9,17.8,17.3,17.1,17.8,18.6,17.3,16.6,17.9,18.4,17.8,16.6,16.7,16.8,18.3,16.6,17.5,17.0,17.9,17.9,17.3,16.4,17.3,17.3,16.6,19.4,16.5,17.0,18.1,18.7,13.2,14.1,13.5,14.6,13.4,13.7,13.7,14.6,13.5,14.5,14.5,14.5,13.1,14.3,14.2,14.5,14.8,13.7,13.6,13.7,13.7,13.9,13.9,13.3,14.2,14.4,14.4,13.9,14.5,13.8,13.9,14.2,14.2,15.0,14.8,15.0,14.2,13.8,14.5,14.6,13.8,14.4,14.0,15.0,14.5,14.7,14.6,14.4,15.0,15.5,14.7,14.0,15.2,15.2,14.1,13.7,14.3,14.8]},{\"axis\":{\"matches\":true},\"label\":\"flipper_length_mm\",\"values\":[186.0,195.0,193.0,181.0,182.0,185.0,195.0,184.0,174.0,189.0,187.0,187.0,172.0,178.0,188.0,195.0,180.0,181.0,182.0,186.0,185.0,190.0,186.0,190.0,187.0,186.0,181.0,185.0,185.0,184.0,195.0,190.0,190.0,196.0,190.0,191.0,187.0,189.0,187.0,191.0,189.0,190.0,202.0,185.0,187.0,190.0,178.0,192.0,183.0,193.0,199.0,181.0,198.0,193.0,191.0,188.0,189.0,187.0,176.0,186.0,191.0,191.0,190.0,193.0,187.0,191.0,185.0,193.0,188.0,192.0,184.0,195.0,187.0,192.0,188.0,198.0,178.0,195.0,193.0,185.0,190.0,181.0,190.0,181.0,187.0,195.0,200.0,191.0,187.0,187.0,199.0,195.0,192.0,187.0,196.0,196.0,190.0,198.0,199.0,193.0,187.0,191.0,194.0,189.0,195.0,202.0,198.0,211.0,210.0,210.0,211.0,209.0,214.0,214.0,210.0,210.0,209.0,215.0,213.0,215.0,210.0,209.0,207.0,220.0,213.0,208.0,208.0,210.0,217.0,210.0,213.0,210.0,210.0,217.0,208.0,208.0,208.0,214.0,219.0,220.0,216.0,217.0,216.0,209.0,215.0,212.0,212.0,212.0,218.0,212.0,218.0,212.0,214.0,222.0,203.0,219.0,215.0,210.0,208.0,216.0,213.0,217.0,214.0,215.0,212.0]},{\"axis\":{\"matches\":true},\"label\":\"body_mass_g\",\"values\":[3800.0,3250.0,3450.0,3625.0,3200.0,3700.0,3450.0,3325.0,3400.0,3800.0,3800.0,3200.0,3150.0,3250.0,3300.0,3325.0,3550.0,3300.0,3150.0,3100.0,3000.0,3450.0,3500.0,3450.0,2900.0,3550.0,2850.0,3150.0,3600.0,2850.0,3350.0,3050.0,3600.0,3550.0,3700.0,3700.0,3550.0,3200.0,3800.0,3350.0,3500.0,3600.0,3550.0,3400.0,3300.0,3700.0,2900.0,3725.0,3075.0,2925.0,3750.0,3175.0,3825.0,3200.0,3900.0,2900.0,3350.0,3150.0,3450.0,3050.0,3275.0,3050.0,3325.0,3500.0,3425.0,3175.0,3400.0,3400.0,3050.0,3000.0,3475.0,3450.0,3700.0,3500.0,3525.0,3950.0,3250.0,4150.0,3800.0,3700.0,3575.0,3700.0,3450.0,3600.0,2900.0,3300.0,3400.0,3700.0,3200.0,3350.0,3900.0,3850.0,2700.0,3650.0,3500.0,3675.0,3400.0,3675.0,3325.0,3600.0,3350.0,3250.0,3525.0,3650.0,3650.0,3400.0,3775.0,4500.0,4450.0,4550.0,4800.0,4400.0,4650.0,4650.0,4200.0,4150.0,4800.0,5000.0,4400.0,5000.0,4600.0,4700.0,5050.0,5150.0,4950.0,4350.0,3950.0,4300.0,4900.0,4200.0,5100.0,4850.0,4400.0,4900.0,4300.0,4450.0,4200.0,4400.0,4700.0,4700.0,4750.0,5200.0,4700.0,4600.0,4750.0,4625.0,4725.0,4750.0,4600.0,4875.0,4950.0,4750.0,4850.0,4875.0,4625.0,4850.0,4975.0,4700.0,4575.0,5000.0,4650.0,4375.0,4925.0,4850.0,5200.0]}],\"hovertemplate\":\"sex=FEMALE<br>%{xaxis.title.text}=%{x}<br>%{yaxis.title.text}=%{y}<extra></extra>\",\"legendgroup\":\"FEMALE\",\"marker\":{\"color\":\"#EF553B\",\"symbol\":\"circle\"},\"name\":\"FEMALE\",\"showlegend\":true,\"type\":\"splom\"}],                        {\"template\":{\"data\":{\"histogram2dcontour\":[{\"type\":\"histogram2dcontour\",\"colorbar\":{\"outlinewidth\":0,\"ticks\":\"\"},\"colorscale\":[[0.0,\"#0d0887\"],[0.1111111111111111,\"#46039f\"],[0.2222222222222222,\"#7201a8\"],[0.3333333333333333,\"#9c179e\"],[0.4444444444444444,\"#bd3786\"],[0.5555555555555556,\"#d8576b\"],[0.6666666666666666,\"#ed7953\"],[0.7777777777777778,\"#fb9f3a\"],[0.8888888888888888,\"#fdca26\"],[1.0,\"#f0f921\"]]}],\"choropleth\":[{\"type\":\"choropleth\",\"colorbar\":{\"outlinewidth\":0,\"ticks\":\"\"}}],\"histogram2d\":[{\"type\":\"histogram2d\",\"colorbar\":{\"outlinewidth\":0,\"ticks\":\"\"},\"colorscale\":[[0.0,\"#0d0887\"],[0.1111111111111111,\"#46039f\"],[0.2222222222222222,\"#7201a8\"],[0.3333333333333333,\"#9c179e\"],[0.4444444444444444,\"#bd3786\"],[0.5555555555555556,\"#d8576b\"],[0.6666666666666666,\"#ed7953\"],[0.7777777777777778,\"#fb9f3a\"],[0.8888888888888888,\"#fdca26\"],[1.0,\"#f0f921\"]]}],\"heatmap\":[{\"type\":\"heatmap\",\"colorbar\":{\"outlinewidth\":0,\"ticks\":\"\"},\"colorscale\":[[0.0,\"#0d0887\"],[0.1111111111111111,\"#46039f\"],[0.2222222222222222,\"#7201a8\"],[0.3333333333333333,\"#9c179e\"],[0.4444444444444444,\"#bd3786\"],[0.5555555555555556,\"#d8576b\"],[0.6666666666666666,\"#ed7953\"],[0.7777777777777778,\"#fb9f3a\"],[0.8888888888888888,\"#fdca26\"],[1.0,\"#f0f921\"]]}],\"heatmapgl\":[{\"type\":\"heatmapgl\",\"colorbar\":{\"outlinewidth\":0,\"ticks\":\"\"},\"colorscale\":[[0.0,\"#0d0887\"],[0.1111111111111111,\"#46039f\"],[0.2222222222222222,\"#7201a8\"],[0.3333333333333333,\"#9c179e\"],[0.4444444444444444,\"#bd3786\"],[0.5555555555555556,\"#d8576b\"],[0.6666666666666666,\"#ed7953\"],[0.7777777777777778,\"#fb9f3a\"],[0.8888888888888888,\"#fdca26\"],[1.0,\"#f0f921\"]]}],\"contourcarpet\":[{\"type\":\"contourcarpet\",\"colorbar\":{\"outlinewidth\":0,\"ticks\":\"\"}}],\"contour\":[{\"type\":\"contour\",\"colorbar\":{\"outlinewidth\":0,\"ticks\":\"\"},\"colorscale\":[[0.0,\"#0d0887\"],[0.1111111111111111,\"#46039f\"],[0.2222222222222222,\"#7201a8\"],[0.3333333333333333,\"#9c179e\"],[0.4444444444444444,\"#bd3786\"],[0.5555555555555556,\"#d8576b\"],[0.6666666666666666,\"#ed7953\"],[0.7777777777777778,\"#fb9f3a\"],[0.8888888888888888,\"#fdca26\"],[1.0,\"#f0f921\"]]}],\"surface\":[{\"type\":\"surface\",\"colorbar\":{\"outlinewidth\":0,\"ticks\":\"\"},\"colorscale\":[[0.0,\"#0d0887\"],[0.1111111111111111,\"#46039f\"],[0.2222222222222222,\"#7201a8\"],[0.3333333333333333,\"#9c179e\"],[0.4444444444444444,\"#bd3786\"],[0.5555555555555556,\"#d8576b\"],[0.6666666666666666,\"#ed7953\"],[0.7777777777777778,\"#fb9f3a\"],[0.8888888888888888,\"#fdca26\"],[1.0,\"#f0f921\"]]}],\"mesh3d\":[{\"type\":\"mesh3d\",\"colorbar\":{\"outlinewidth\":0,\"ticks\":\"\"}}],\"scatter\":[{\"fillpattern\":{\"fillmode\":\"overlay\",\"size\":10,\"solidity\":0.2},\"type\":\"scatter\"}],\"parcoords\":[{\"type\":\"parcoords\",\"line\":{\"colorbar\":{\"outlinewidth\":0,\"ticks\":\"\"}}}],\"scatterpolargl\":[{\"type\":\"scatterpolargl\",\"marker\":{\"colorbar\":{\"outlinewidth\":0,\"ticks\":\"\"}}}],\"bar\":[{\"error_x\":{\"color\":\"#2a3f5f\"},\"error_y\":{\"color\":\"#2a3f5f\"},\"marker\":{\"line\":{\"color\":\"#E5ECF6\",\"width\":0.5},\"pattern\":{\"fillmode\":\"overlay\",\"size\":10,\"solidity\":0.2}},\"type\":\"bar\"}],\"scattergeo\":[{\"type\":\"scattergeo\",\"marker\":{\"colorbar\":{\"outlinewidth\":0,\"ticks\":\"\"}}}],\"scatterpolar\":[{\"type\":\"scatterpolar\",\"marker\":{\"colorbar\":{\"outlinewidth\":0,\"ticks\":\"\"}}}],\"histogram\":[{\"marker\":{\"pattern\":{\"fillmode\":\"overlay\",\"size\":10,\"solidity\":0.2}},\"type\":\"histogram\"}],\"scattergl\":[{\"type\":\"scattergl\",\"marker\":{\"colorbar\":{\"outlinewidth\":0,\"ticks\":\"\"}}}],\"scatter3d\":[{\"type\":\"scatter3d\",\"line\":{\"colorbar\":{\"outlinewidth\":0,\"ticks\":\"\"}},\"marker\":{\"colorbar\":{\"outlinewidth\":0,\"ticks\":\"\"}}}],\"scattermapbox\":[{\"type\":\"scattermapbox\",\"marker\":{\"colorbar\":{\"outlinewidth\":0,\"ticks\":\"\"}}}],\"scatterternary\":[{\"type\":\"scatterternary\",\"marker\":{\"colorbar\":{\"outlinewidth\":0,\"ticks\":\"\"}}}],\"scattercarpet\":[{\"type\":\"scattercarpet\",\"marker\":{\"colorbar\":{\"outlinewidth\":0,\"ticks\":\"\"}}}],\"carpet\":[{\"aaxis\":{\"endlinecolor\":\"#2a3f5f\",\"gridcolor\":\"white\",\"linecolor\":\"white\",\"minorgridcolor\":\"white\",\"startlinecolor\":\"#2a3f5f\"},\"baxis\":{\"endlinecolor\":\"#2a3f5f\",\"gridcolor\":\"white\",\"linecolor\":\"white\",\"minorgridcolor\":\"white\",\"startlinecolor\":\"#2a3f5f\"},\"type\":\"carpet\"}],\"table\":[{\"cells\":{\"fill\":{\"color\":\"#EBF0F8\"},\"line\":{\"color\":\"white\"}},\"header\":{\"fill\":{\"color\":\"#C8D4E3\"},\"line\":{\"color\":\"white\"}},\"type\":\"table\"}],\"barpolar\":[{\"marker\":{\"line\":{\"color\":\"#E5ECF6\",\"width\":0.5},\"pattern\":{\"fillmode\":\"overlay\",\"size\":10,\"solidity\":0.2}},\"type\":\"barpolar\"}],\"pie\":[{\"automargin\":true,\"type\":\"pie\"}]},\"layout\":{\"autotypenumbers\":\"strict\",\"colorway\":[\"#636efa\",\"#EF553B\",\"#00cc96\",\"#ab63fa\",\"#FFA15A\",\"#19d3f3\",\"#FF6692\",\"#B6E880\",\"#FF97FF\",\"#FECB52\"],\"font\":{\"color\":\"#2a3f5f\"},\"hovermode\":\"closest\",\"hoverlabel\":{\"align\":\"left\"},\"paper_bgcolor\":\"white\",\"plot_bgcolor\":\"#E5ECF6\",\"polar\":{\"bgcolor\":\"#E5ECF6\",\"angularaxis\":{\"gridcolor\":\"white\",\"linecolor\":\"white\",\"ticks\":\"\"},\"radialaxis\":{\"gridcolor\":\"white\",\"linecolor\":\"white\",\"ticks\":\"\"}},\"ternary\":{\"bgcolor\":\"#E5ECF6\",\"aaxis\":{\"gridcolor\":\"white\",\"linecolor\":\"white\",\"ticks\":\"\"},\"baxis\":{\"gridcolor\":\"white\",\"linecolor\":\"white\",\"ticks\":\"\"},\"caxis\":{\"gridcolor\":\"white\",\"linecolor\":\"white\",\"ticks\":\"\"}},\"coloraxis\":{\"colorbar\":{\"outlinewidth\":0,\"ticks\":\"\"}},\"colorscale\":{\"sequential\":[[0.0,\"#0d0887\"],[0.1111111111111111,\"#46039f\"],[0.2222222222222222,\"#7201a8\"],[0.3333333333333333,\"#9c179e\"],[0.4444444444444444,\"#bd3786\"],[0.5555555555555556,\"#d8576b\"],[0.6666666666666666,\"#ed7953\"],[0.7777777777777778,\"#fb9f3a\"],[0.8888888888888888,\"#fdca26\"],[1.0,\"#f0f921\"]],\"sequentialminus\":[[0.0,\"#0d0887\"],[0.1111111111111111,\"#46039f\"],[0.2222222222222222,\"#7201a8\"],[0.3333333333333333,\"#9c179e\"],[0.4444444444444444,\"#bd3786\"],[0.5555555555555556,\"#d8576b\"],[0.6666666666666666,\"#ed7953\"],[0.7777777777777778,\"#fb9f3a\"],[0.8888888888888888,\"#fdca26\"],[1.0,\"#f0f921\"]],\"diverging\":[[0,\"#8e0152\"],[0.1,\"#c51b7d\"],[0.2,\"#de77ae\"],[0.3,\"#f1b6da\"],[0.4,\"#fde0ef\"],[0.5,\"#f7f7f7\"],[0.6,\"#e6f5d0\"],[0.7,\"#b8e186\"],[0.8,\"#7fbc41\"],[0.9,\"#4d9221\"],[1,\"#276419\"]]},\"xaxis\":{\"gridcolor\":\"white\",\"linecolor\":\"white\",\"ticks\":\"\",\"title\":{\"standoff\":15},\"zerolinecolor\":\"white\",\"automargin\":true,\"zerolinewidth\":2},\"yaxis\":{\"gridcolor\":\"white\",\"linecolor\":\"white\",\"ticks\":\"\",\"title\":{\"standoff\":15},\"zerolinecolor\":\"white\",\"automargin\":true,\"zerolinewidth\":2},\"scene\":{\"xaxis\":{\"backgroundcolor\":\"#E5ECF6\",\"gridcolor\":\"white\",\"linecolor\":\"white\",\"showbackground\":true,\"ticks\":\"\",\"zerolinecolor\":\"white\",\"gridwidth\":2},\"yaxis\":{\"backgroundcolor\":\"#E5ECF6\",\"gridcolor\":\"white\",\"linecolor\":\"white\",\"showbackground\":true,\"ticks\":\"\",\"zerolinecolor\":\"white\",\"gridwidth\":2},\"zaxis\":{\"backgroundcolor\":\"#E5ECF6\",\"gridcolor\":\"white\",\"linecolor\":\"white\",\"showbackground\":true,\"ticks\":\"\",\"zerolinecolor\":\"white\",\"gridwidth\":2}},\"shapedefaults\":{\"line\":{\"color\":\"#2a3f5f\"}},\"annotationdefaults\":{\"arrowcolor\":\"#2a3f5f\",\"arrowhead\":0,\"arrowwidth\":1},\"geo\":{\"bgcolor\":\"white\",\"landcolor\":\"#E5ECF6\",\"subunitcolor\":\"white\",\"showland\":true,\"showlakes\":true,\"lakecolor\":\"white\"},\"title\":{\"x\":0.05},\"mapbox\":{\"style\":\"light\"}}},\"legend\":{\"title\":{\"text\":\"sex\"},\"tracegroupgap\":0},\"margin\":{\"t\":60},\"dragmode\":\"select\",\"height\":800,\"title\":{\"font\":{\"size\":30},\"text\":\"\\u0421\\u0432\\u044f\\u0437\\u044c \\u043c\\u0435\\u0436\\u0434\\u0443 \\u043f\\u0440\\u0438\\u0437\\u043d\\u0430\\u043a\\u0430\\u043c\\u0438 \\u043f\\u043e \\u043f\\u043e\\u043b\\u0443\",\"x\":0.5},\"paper_bgcolor\":\"rgb(229, 237, 247)\",\"plot_bgcolor\":\"rgb(229, 237, 247)\"},                        {\"responsive\": true}                    ).then(function(){\n",
       "                            \n",
       "var gd = document.getElementById('e7568baf-4b81-4028-978f-36f2f7aa0048');\n",
       "var x = new MutationObserver(function (mutations, observer) {{\n",
       "        var display = window.getComputedStyle(gd).display;\n",
       "        if (!display || display === 'none') {{\n",
       "            console.log([gd, 'removed!']);\n",
       "            Plotly.purge(gd);\n",
       "            observer.disconnect();\n",
       "        }}\n",
       "}});\n",
       "\n",
       "// Listen for the removal of the full notebook cells\n",
       "var notebookContainer = gd.closest('#notebook-container');\n",
       "if (notebookContainer) {{\n",
       "    x.observe(notebookContainer, {childList: true});\n",
       "}}\n",
       "\n",
       "// Listen for the clearing of the current output cell\n",
       "var outputEl = gd.closest('.output');\n",
       "if (outputEl) {{\n",
       "    x.observe(outputEl, {childList: true});\n",
       "}}\n",
       "\n",
       "                        })                };                });            </script>        </div>"
      ]
     },
     "metadata": {},
     "output_type": "display_data"
    }
   ],
   "source": [
    "fig = px.scatter_matrix(penguin, \n",
    "                        dimensions=[\"culmen_length_mm\", \"culmen_depth_mm\", \"flipper_length_mm\", \"body_mass_g\"], \n",
    "                        color=\"sex\")\n",
    "\n",
    "fig.update_layout(template=\"plotly\", height=800)\n",
    "\n",
    "fig.update(\n",
    "    layout_title_text=\"Связь между признаками по полу\",\n",
    "    layout_title_font_size=30,\n",
    "    layout_title_x=0.5,\n",
    "    layout_paper_bgcolor='rgb(229, 237, 247)',\n",
    "    layout_plot_bgcolor='rgb(229, 237, 247)',\n",
    ")\n",
    "fig.show()"
   ]
  },
  {
   "cell_type": "markdown",
   "id": "a342bbbc",
   "metadata": {},
   "source": [
    "Распределение переменных по видам"
   ]
  },
  {
   "cell_type": "code",
   "execution_count": 41,
   "id": "63fd5a60",
   "metadata": {},
   "outputs": [
    {
     "data": {
      "application/vnd.plotly.v1+json": {
       "config": {
        "plotlyServerURL": "https://plot.ly"
       },
       "data": [
        {
         "legendgroup": "Длина надклювья",
         "legendgrouptitle": {
          "text": "Длина надклювья"
         },
         "marker": {
          "color": "rgb(3, 35, 51)"
         },
         "name": "Длина надклювья",
         "type": "box",
         "x": [
          "Adelie",
          "Adelie",
          "Adelie",
          "Adelie",
          "Adelie",
          "Adelie",
          "Adelie",
          "Adelie",
          "Adelie",
          "Adelie",
          "Adelie",
          "Adelie",
          "Adelie",
          "Adelie",
          "Adelie",
          "Adelie",
          "Adelie",
          "Adelie",
          "Adelie",
          "Adelie",
          "Adelie",
          "Adelie",
          "Adelie",
          "Adelie",
          "Adelie",
          "Adelie",
          "Adelie",
          "Adelie",
          "Adelie",
          "Adelie",
          "Adelie",
          "Adelie",
          "Adelie",
          "Adelie",
          "Adelie",
          "Adelie",
          "Adelie",
          "Adelie",
          "Adelie",
          "Adelie",
          "Adelie",
          "Adelie",
          "Adelie",
          "Adelie",
          "Adelie",
          "Adelie",
          "Adelie",
          "Adelie",
          "Adelie",
          "Adelie",
          "Adelie",
          "Adelie",
          "Adelie",
          "Adelie",
          "Adelie",
          "Adelie",
          "Adelie",
          "Adelie",
          "Adelie",
          "Adelie",
          "Adelie",
          "Adelie",
          "Adelie",
          "Adelie",
          "Adelie",
          "Adelie",
          "Adelie",
          "Adelie",
          "Adelie",
          "Adelie",
          "Adelie",
          "Adelie",
          "Adelie",
          "Adelie",
          "Adelie",
          "Adelie",
          "Adelie",
          "Adelie",
          "Adelie",
          "Adelie",
          "Adelie",
          "Adelie",
          "Adelie",
          "Adelie",
          "Adelie",
          "Adelie",
          "Adelie",
          "Adelie",
          "Adelie",
          "Adelie",
          "Adelie",
          "Adelie",
          "Adelie",
          "Adelie",
          "Adelie",
          "Adelie",
          "Adelie",
          "Adelie",
          "Adelie",
          "Adelie",
          "Adelie",
          "Adelie",
          "Adelie",
          "Adelie",
          "Adelie",
          "Adelie",
          "Adelie",
          "Adelie",
          "Adelie",
          "Adelie",
          "Adelie",
          "Adelie",
          "Adelie",
          "Adelie",
          "Adelie",
          "Adelie",
          "Adelie",
          "Adelie",
          "Adelie",
          "Adelie",
          "Adelie",
          "Adelie",
          "Adelie",
          "Adelie",
          "Adelie",
          "Adelie",
          "Adelie",
          "Adelie",
          "Adelie",
          "Adelie",
          "Adelie",
          "Adelie",
          "Adelie",
          "Adelie",
          "Adelie",
          "Adelie",
          "Adelie",
          "Adelie",
          "Adelie",
          "Adelie",
          "Adelie",
          "Adelie",
          "Adelie",
          "Adelie",
          "Adelie",
          "Adelie",
          "Adelie",
          "Adelie",
          "Adelie",
          "Adelie",
          "Adelie",
          "Adelie",
          "Chinstrap",
          "Chinstrap",
          "Chinstrap",
          "Chinstrap",
          "Chinstrap",
          "Chinstrap",
          "Chinstrap",
          "Chinstrap",
          "Chinstrap",
          "Chinstrap",
          "Chinstrap",
          "Chinstrap",
          "Chinstrap",
          "Chinstrap",
          "Chinstrap",
          "Chinstrap",
          "Chinstrap",
          "Chinstrap",
          "Chinstrap",
          "Chinstrap",
          "Chinstrap",
          "Chinstrap",
          "Chinstrap",
          "Chinstrap",
          "Chinstrap",
          "Chinstrap",
          "Chinstrap",
          "Chinstrap",
          "Chinstrap",
          "Chinstrap",
          "Chinstrap",
          "Chinstrap",
          "Chinstrap",
          "Chinstrap",
          "Chinstrap",
          "Chinstrap",
          "Chinstrap",
          "Chinstrap",
          "Chinstrap",
          "Chinstrap",
          "Chinstrap",
          "Chinstrap",
          "Chinstrap",
          "Chinstrap",
          "Chinstrap",
          "Chinstrap",
          "Chinstrap",
          "Chinstrap",
          "Chinstrap",
          "Chinstrap",
          "Chinstrap",
          "Chinstrap",
          "Chinstrap",
          "Chinstrap",
          "Chinstrap",
          "Chinstrap",
          "Chinstrap",
          "Chinstrap",
          "Chinstrap",
          "Chinstrap",
          "Chinstrap",
          "Chinstrap",
          "Chinstrap",
          "Chinstrap",
          "Chinstrap",
          "Chinstrap",
          "Chinstrap",
          "Chinstrap",
          "Gentoo",
          "Gentoo",
          "Gentoo",
          "Gentoo",
          "Gentoo",
          "Gentoo",
          "Gentoo",
          "Gentoo",
          "Gentoo",
          "Gentoo",
          "Gentoo",
          "Gentoo",
          "Gentoo",
          "Gentoo",
          "Gentoo",
          "Gentoo",
          "Gentoo",
          "Gentoo",
          "Gentoo",
          "Gentoo",
          "Gentoo",
          "Gentoo",
          "Gentoo",
          "Gentoo",
          "Gentoo",
          "Gentoo",
          "Gentoo",
          "Gentoo",
          "Gentoo",
          "Gentoo",
          "Gentoo",
          "Gentoo",
          "Gentoo",
          "Gentoo",
          "Gentoo",
          "Gentoo",
          "Gentoo",
          "Gentoo",
          "Gentoo",
          "Gentoo",
          "Gentoo",
          "Gentoo",
          "Gentoo",
          "Gentoo",
          "Gentoo",
          "Gentoo",
          "Gentoo",
          "Gentoo",
          "Gentoo",
          "Gentoo",
          "Gentoo",
          "Gentoo",
          "Gentoo",
          "Gentoo",
          "Gentoo",
          "Gentoo",
          "Gentoo",
          "Gentoo",
          "Gentoo",
          "Gentoo",
          "Gentoo",
          "Gentoo",
          "Gentoo",
          "Gentoo",
          "Gentoo",
          "Gentoo",
          "Gentoo",
          "Gentoo",
          "Gentoo",
          "Gentoo",
          "Gentoo",
          "Gentoo",
          "Gentoo",
          "Gentoo",
          "Gentoo",
          "Gentoo",
          "Gentoo",
          "Gentoo",
          "Gentoo",
          "Gentoo",
          "Gentoo",
          "Gentoo",
          "Gentoo",
          "Gentoo",
          "Gentoo",
          "Gentoo",
          "Gentoo",
          "Gentoo",
          "Gentoo",
          "Gentoo",
          "Gentoo",
          "Gentoo",
          "Gentoo",
          "Gentoo",
          "Gentoo",
          "Gentoo",
          "Gentoo",
          "Gentoo",
          "Gentoo",
          "Gentoo",
          "Gentoo",
          "Gentoo",
          "Gentoo",
          "Gentoo",
          "Gentoo",
          "Gentoo",
          "Gentoo",
          "Gentoo",
          "Gentoo",
          "Gentoo",
          "Gentoo",
          "Gentoo",
          "Gentoo",
          "Gentoo",
          "Gentoo",
          "Gentoo",
          "Gentoo",
          "Gentoo",
          "Gentoo",
          "Gentoo",
          "Gentoo",
          "Gentoo",
          "Gentoo",
          "Gentoo"
         ],
         "xaxis": "x",
         "y": [
          39.1,
          39.5,
          40.3,
          43.9,
          36.7,
          39.3,
          38.9,
          39.2,
          34.1,
          42,
          37.8,
          37.8,
          41.1,
          38.6,
          34.6,
          36.6,
          38.7,
          42.5,
          34.4,
          46,
          37.8,
          37.7,
          35.9,
          38.2,
          38.8,
          35.3,
          40.6,
          40.5,
          37.9,
          40.5,
          39.5,
          37.2,
          39.5,
          40.9,
          36.4,
          39.2,
          38.8,
          42.2,
          37.6,
          39.8,
          36.5,
          40.8,
          36,
          44.1,
          37,
          39.6,
          41.1,
          37.5,
          36,
          42.3,
          39.6,
          40.1,
          35,
          42,
          34.5,
          41.4,
          39,
          40.6,
          36.5,
          37.6,
          35.7,
          41.3,
          37.6,
          41.1,
          36.4,
          41.6,
          35.5,
          41.1,
          35.9,
          41.8,
          33.5,
          39.7,
          39.6,
          45.8,
          35.5,
          42.8,
          40.9,
          37.2,
          36.2,
          42.1,
          34.6,
          42.9,
          36.7,
          35.1,
          37.3,
          41.3,
          36.3,
          36.9,
          38.3,
          38.9,
          35.7,
          41.1,
          34,
          39.6,
          36.2,
          40.8,
          38.1,
          40.3,
          33.1,
          43.2,
          35,
          41,
          37.7,
          37.8,
          37.9,
          39.7,
          38.6,
          38.2,
          38.1,
          43.2,
          38.1,
          45.6,
          39.7,
          42.2,
          39.6,
          42.7,
          38.6,
          37.3,
          35.7,
          41.1,
          36.2,
          37.7,
          40.2,
          41.4,
          35.2,
          40.6,
          38.8,
          41.5,
          39,
          44.1,
          38.5,
          43.1,
          36.8,
          37.5,
          38.1,
          41.1,
          35.6,
          40.2,
          37,
          39.7,
          40.2,
          40.6,
          32.1,
          40.7,
          37.3,
          39,
          39.2,
          36.6,
          36,
          37.8,
          36,
          41.5,
          46.5,
          50,
          51.3,
          45.4,
          52.7,
          45.2,
          46.1,
          51.3,
          46,
          51.3,
          46.6,
          51.7,
          47,
          52,
          45.9,
          50.5,
          50.3,
          58,
          46.4,
          49.2,
          42.4,
          48.5,
          43.2,
          50.6,
          46.7,
          52,
          50.5,
          49.5,
          46.4,
          52.8,
          40.9,
          54.2,
          42.5,
          51,
          49.7,
          47.5,
          47.6,
          52,
          46.9,
          53.5,
          49,
          46.2,
          50.9,
          45.5,
          50.9,
          50.8,
          50.1,
          49,
          51.5,
          49.8,
          48.1,
          51.4,
          45.7,
          50.7,
          42.5,
          52.2,
          45.2,
          49.3,
          50.2,
          45.6,
          51.9,
          46.8,
          45.7,
          55.8,
          43.5,
          49.6,
          50.8,
          50.2,
          46.1,
          50,
          48.7,
          50,
          47.6,
          46.5,
          45.4,
          46.7,
          43.3,
          46.8,
          40.9,
          49,
          45.5,
          48.4,
          45.8,
          49.3,
          42,
          49.2,
          46.2,
          48.7,
          50.2,
          45.1,
          46.5,
          46.3,
          42.9,
          46.1,
          44.5,
          47.8,
          48.2,
          50,
          47.3,
          42.8,
          45.1,
          59.6,
          49.1,
          48.4,
          42.6,
          44.4,
          44,
          48.7,
          42.7,
          49.6,
          45.3,
          49.6,
          50.5,
          43.6,
          45.5,
          50.5,
          44.9,
          45.2,
          46.6,
          48.5,
          45.1,
          50.1,
          46.5,
          45,
          43.8,
          45.5,
          43.2,
          50.4,
          45.3,
          46.2,
          45.7,
          54.3,
          45.8,
          49.8,
          46.2,
          49.5,
          43.5,
          50.7,
          47.7,
          46.4,
          48.2,
          46.5,
          46.4,
          48.6,
          47.5,
          51.1,
          45.2,
          45.2,
          49.1,
          52.5,
          47.4,
          50,
          44.9,
          50.8,
          43.4,
          51.3,
          47.5,
          52.1,
          47.5,
          52.2,
          45.5,
          49.5,
          44.5,
          50.8,
          49.4,
          46.9,
          48.4,
          51.1,
          48.5,
          55.9,
          47.2,
          49.1,
          47.3,
          46.8,
          41.7,
          53.4,
          43.3,
          48.1,
          50.5,
          49.8,
          43.5,
          51.5,
          46.2,
          55.1,
          44.5,
          48.8,
          47.2,
          43.9,
          46.8,
          50.4,
          45.2,
          49.9
         ],
         "yaxis": "y"
        },
        {
         "legendgroup": "Толщина надклювья",
         "legendgrouptitle": {
          "text": "Толщина надклювья"
         },
         "marker": {
          "color": "rgb(13, 48, 100)"
         },
         "name": "Толщина надклювья",
         "type": "box",
         "x": [
          "Adelie",
          "Adelie",
          "Adelie",
          "Adelie",
          "Adelie",
          "Adelie",
          "Adelie",
          "Adelie",
          "Adelie",
          "Adelie",
          "Adelie",
          "Adelie",
          "Adelie",
          "Adelie",
          "Adelie",
          "Adelie",
          "Adelie",
          "Adelie",
          "Adelie",
          "Adelie",
          "Adelie",
          "Adelie",
          "Adelie",
          "Adelie",
          "Adelie",
          "Adelie",
          "Adelie",
          "Adelie",
          "Adelie",
          "Adelie",
          "Adelie",
          "Adelie",
          "Adelie",
          "Adelie",
          "Adelie",
          "Adelie",
          "Adelie",
          "Adelie",
          "Adelie",
          "Adelie",
          "Adelie",
          "Adelie",
          "Adelie",
          "Adelie",
          "Adelie",
          "Adelie",
          "Adelie",
          "Adelie",
          "Adelie",
          "Adelie",
          "Adelie",
          "Adelie",
          "Adelie",
          "Adelie",
          "Adelie",
          "Adelie",
          "Adelie",
          "Adelie",
          "Adelie",
          "Adelie",
          "Adelie",
          "Adelie",
          "Adelie",
          "Adelie",
          "Adelie",
          "Adelie",
          "Adelie",
          "Adelie",
          "Adelie",
          "Adelie",
          "Adelie",
          "Adelie",
          "Adelie",
          "Adelie",
          "Adelie",
          "Adelie",
          "Adelie",
          "Adelie",
          "Adelie",
          "Adelie",
          "Adelie",
          "Adelie",
          "Adelie",
          "Adelie",
          "Adelie",
          "Adelie",
          "Adelie",
          "Adelie",
          "Adelie",
          "Adelie",
          "Adelie",
          "Adelie",
          "Adelie",
          "Adelie",
          "Adelie",
          "Adelie",
          "Adelie",
          "Adelie",
          "Adelie",
          "Adelie",
          "Adelie",
          "Adelie",
          "Adelie",
          "Adelie",
          "Adelie",
          "Adelie",
          "Adelie",
          "Adelie",
          "Adelie",
          "Adelie",
          "Adelie",
          "Adelie",
          "Adelie",
          "Adelie",
          "Adelie",
          "Adelie",
          "Adelie",
          "Adelie",
          "Adelie",
          "Adelie",
          "Adelie",
          "Adelie",
          "Adelie",
          "Adelie",
          "Adelie",
          "Adelie",
          "Adelie",
          "Adelie",
          "Adelie",
          "Adelie",
          "Adelie",
          "Adelie",
          "Adelie",
          "Adelie",
          "Adelie",
          "Adelie",
          "Adelie",
          "Adelie",
          "Adelie",
          "Adelie",
          "Adelie",
          "Adelie",
          "Adelie",
          "Adelie",
          "Adelie",
          "Adelie",
          "Adelie",
          "Adelie",
          "Adelie",
          "Adelie",
          "Adelie",
          "Adelie",
          "Chinstrap",
          "Chinstrap",
          "Chinstrap",
          "Chinstrap",
          "Chinstrap",
          "Chinstrap",
          "Chinstrap",
          "Chinstrap",
          "Chinstrap",
          "Chinstrap",
          "Chinstrap",
          "Chinstrap",
          "Chinstrap",
          "Chinstrap",
          "Chinstrap",
          "Chinstrap",
          "Chinstrap",
          "Chinstrap",
          "Chinstrap",
          "Chinstrap",
          "Chinstrap",
          "Chinstrap",
          "Chinstrap",
          "Chinstrap",
          "Chinstrap",
          "Chinstrap",
          "Chinstrap",
          "Chinstrap",
          "Chinstrap",
          "Chinstrap",
          "Chinstrap",
          "Chinstrap",
          "Chinstrap",
          "Chinstrap",
          "Chinstrap",
          "Chinstrap",
          "Chinstrap",
          "Chinstrap",
          "Chinstrap",
          "Chinstrap",
          "Chinstrap",
          "Chinstrap",
          "Chinstrap",
          "Chinstrap",
          "Chinstrap",
          "Chinstrap",
          "Chinstrap",
          "Chinstrap",
          "Chinstrap",
          "Chinstrap",
          "Chinstrap",
          "Chinstrap",
          "Chinstrap",
          "Chinstrap",
          "Chinstrap",
          "Chinstrap",
          "Chinstrap",
          "Chinstrap",
          "Chinstrap",
          "Chinstrap",
          "Chinstrap",
          "Chinstrap",
          "Chinstrap",
          "Chinstrap",
          "Chinstrap",
          "Chinstrap",
          "Chinstrap",
          "Chinstrap",
          "Gentoo",
          "Gentoo",
          "Gentoo",
          "Gentoo",
          "Gentoo",
          "Gentoo",
          "Gentoo",
          "Gentoo",
          "Gentoo",
          "Gentoo",
          "Gentoo",
          "Gentoo",
          "Gentoo",
          "Gentoo",
          "Gentoo",
          "Gentoo",
          "Gentoo",
          "Gentoo",
          "Gentoo",
          "Gentoo",
          "Gentoo",
          "Gentoo",
          "Gentoo",
          "Gentoo",
          "Gentoo",
          "Gentoo",
          "Gentoo",
          "Gentoo",
          "Gentoo",
          "Gentoo",
          "Gentoo",
          "Gentoo",
          "Gentoo",
          "Gentoo",
          "Gentoo",
          "Gentoo",
          "Gentoo",
          "Gentoo",
          "Gentoo",
          "Gentoo",
          "Gentoo",
          "Gentoo",
          "Gentoo",
          "Gentoo",
          "Gentoo",
          "Gentoo",
          "Gentoo",
          "Gentoo",
          "Gentoo",
          "Gentoo",
          "Gentoo",
          "Gentoo",
          "Gentoo",
          "Gentoo",
          "Gentoo",
          "Gentoo",
          "Gentoo",
          "Gentoo",
          "Gentoo",
          "Gentoo",
          "Gentoo",
          "Gentoo",
          "Gentoo",
          "Gentoo",
          "Gentoo",
          "Gentoo",
          "Gentoo",
          "Gentoo",
          "Gentoo",
          "Gentoo",
          "Gentoo",
          "Gentoo",
          "Gentoo",
          "Gentoo",
          "Gentoo",
          "Gentoo",
          "Gentoo",
          "Gentoo",
          "Gentoo",
          "Gentoo",
          "Gentoo",
          "Gentoo",
          "Gentoo",
          "Gentoo",
          "Gentoo",
          "Gentoo",
          "Gentoo",
          "Gentoo",
          "Gentoo",
          "Gentoo",
          "Gentoo",
          "Gentoo",
          "Gentoo",
          "Gentoo",
          "Gentoo",
          "Gentoo",
          "Gentoo",
          "Gentoo",
          "Gentoo",
          "Gentoo",
          "Gentoo",
          "Gentoo",
          "Gentoo",
          "Gentoo",
          "Gentoo",
          "Gentoo",
          "Gentoo",
          "Gentoo",
          "Gentoo",
          "Gentoo",
          "Gentoo",
          "Gentoo",
          "Gentoo",
          "Gentoo",
          "Gentoo",
          "Gentoo",
          "Gentoo",
          "Gentoo",
          "Gentoo",
          "Gentoo",
          "Gentoo",
          "Gentoo",
          "Gentoo",
          "Gentoo"
         ],
         "xaxis": "x2",
         "y": [
          18.7,
          17.4,
          18,
          17.2,
          19.3,
          20.6,
          17.8,
          19.6,
          18.1,
          20.2,
          17.1,
          17.3,
          17.6,
          21.2,
          21.1,
          17.8,
          19,
          20.7,
          18.4,
          21.5,
          18.3,
          18.7,
          19.2,
          18.1,
          17.2,
          18.9,
          18.6,
          17.9,
          18.6,
          18.9,
          16.7,
          18.1,
          17.8,
          18.9,
          17,
          21.1,
          20,
          18.5,
          19.3,
          19.1,
          18,
          18.4,
          18.5,
          19.7,
          16.9,
          18.8,
          19,
          18.9,
          17.9,
          21.2,
          17.7,
          18.9,
          17.9,
          19.5,
          18.1,
          18.6,
          17.5,
          18.8,
          16.6,
          19.1,
          16.9,
          21.1,
          17,
          18.2,
          17.1,
          18,
          16.2,
          19.1,
          16.6,
          19.4,
          19,
          18.4,
          17.2,
          18.9,
          17.5,
          18.5,
          16.8,
          19.4,
          16.1,
          19.1,
          17.2,
          17.6,
          18.8,
          19.4,
          17.8,
          20.3,
          19.5,
          18.6,
          19.2,
          18.8,
          18,
          18.1,
          17.1,
          18.1,
          17.3,
          18.9,
          18.6,
          18.5,
          16.1,
          18.5,
          17.9,
          20,
          16,
          20,
          18.6,
          18.9,
          17.2,
          20,
          17,
          19,
          16.5,
          20.3,
          17.7,
          19.5,
          20.7,
          18.3,
          17,
          20.5,
          17,
          18.6,
          17.2,
          19.8,
          17,
          18.5,
          15.9,
          19,
          17.6,
          18.3,
          17.1,
          18,
          17.9,
          19.2,
          18.5,
          18.5,
          17.6,
          17.5,
          17.5,
          20.1,
          16.5,
          17.9,
          17.1,
          17.2,
          15.5,
          17,
          16.8,
          18.7,
          18.6,
          18.4,
          17.8,
          18.1,
          17.1,
          18.5,
          17.9,
          19.5,
          19.2,
          18.7,
          19.8,
          17.8,
          18.2,
          18.2,
          18.9,
          19.9,
          17.8,
          20.3,
          17.3,
          18.1,
          17.1,
          19.6,
          20,
          17.8,
          18.6,
          18.2,
          17.3,
          17.5,
          16.6,
          19.4,
          17.9,
          19,
          18.4,
          19,
          17.8,
          20,
          16.6,
          20.8,
          16.7,
          18.8,
          18.6,
          16.8,
          18.3,
          20.7,
          16.6,
          19.9,
          19.5,
          17.5,
          19.1,
          17,
          17.9,
          18.5,
          17.9,
          19.6,
          18.7,
          17.3,
          16.4,
          19,
          17.3,
          19.7,
          17.3,
          18.8,
          16.6,
          19.9,
          18.8,
          19.4,
          19.5,
          16.5,
          17,
          19.8,
          18.1,
          18.2,
          19,
          18.7,
          13.2,
          16.3,
          14.1,
          15.2,
          14.5,
          13.5,
          14.6,
          15.3,
          13.4,
          15.4,
          13.7,
          16.1,
          13.7,
          14.6,
          14.6,
          15.7,
          13.5,
          15.2,
          14.5,
          15.1,
          14.3,
          14.5,
          14.5,
          15.8,
          13.1,
          15.1,
          14.3,
          15,
          14.3,
          15.3,
          15.3,
          14.2,
          14.5,
          17,
          14.8,
          16.3,
          13.7,
          17.3,
          13.6,
          15.7,
          13.7,
          16,
          13.7,
          15,
          15.9,
          13.9,
          13.9,
          15.9,
          13.3,
          15.8,
          14.2,
          14.1,
          14.4,
          15,
          14.4,
          15.4,
          13.9,
          15,
          14.5,
          15.3,
          13.8,
          14.9,
          13.9,
          15.7,
          14.2,
          16.8,
          14.4,
          16.2,
          14.2,
          15,
          15,
          15.6,
          15.6,
          14.8,
          15,
          16,
          14.2,
          16.3,
          13.8,
          16.4,
          14.5,
          15.6,
          14.6,
          15.9,
          13.8,
          17.3,
          14.4,
          14.2,
          14,
          17,
          15,
          17.1,
          14.5,
          16.1,
          14.7,
          15.7,
          15.8,
          14.6,
          14.4,
          16.5,
          15,
          17,
          15.5,
          15,
          13.8,
          16.1,
          14.7,
          15.8,
          14,
          15.1,
          15.2,
          15.9,
          15.2,
          16.3,
          14.1,
          16,
          15.7,
          16.2,
          13.7,
          17.2,
          14.3,
          15.7,
          14.8,
          16.1
         ],
         "yaxis": "y2"
        },
        {
         "legendgroup": "Длина плавника",
         "legendgrouptitle": {
          "text": "Длина плавника"
         },
         "marker": {
          "color": "rgb(53, 50, 155)"
         },
         "name": "Длина плавника",
         "type": "box",
         "x": [
          "Adelie",
          "Adelie",
          "Adelie",
          "Adelie",
          "Adelie",
          "Adelie",
          "Adelie",
          "Adelie",
          "Adelie",
          "Adelie",
          "Adelie",
          "Adelie",
          "Adelie",
          "Adelie",
          "Adelie",
          "Adelie",
          "Adelie",
          "Adelie",
          "Adelie",
          "Adelie",
          "Adelie",
          "Adelie",
          "Adelie",
          "Adelie",
          "Adelie",
          "Adelie",
          "Adelie",
          "Adelie",
          "Adelie",
          "Adelie",
          "Adelie",
          "Adelie",
          "Adelie",
          "Adelie",
          "Adelie",
          "Adelie",
          "Adelie",
          "Adelie",
          "Adelie",
          "Adelie",
          "Adelie",
          "Adelie",
          "Adelie",
          "Adelie",
          "Adelie",
          "Adelie",
          "Adelie",
          "Adelie",
          "Adelie",
          "Adelie",
          "Adelie",
          "Adelie",
          "Adelie",
          "Adelie",
          "Adelie",
          "Adelie",
          "Adelie",
          "Adelie",
          "Adelie",
          "Adelie",
          "Adelie",
          "Adelie",
          "Adelie",
          "Adelie",
          "Adelie",
          "Adelie",
          "Adelie",
          "Adelie",
          "Adelie",
          "Adelie",
          "Adelie",
          "Adelie",
          "Adelie",
          "Adelie",
          "Adelie",
          "Adelie",
          "Adelie",
          "Adelie",
          "Adelie",
          "Adelie",
          "Adelie",
          "Adelie",
          "Adelie",
          "Adelie",
          "Adelie",
          "Adelie",
          "Adelie",
          "Adelie",
          "Adelie",
          "Adelie",
          "Adelie",
          "Adelie",
          "Adelie",
          "Adelie",
          "Adelie",
          "Adelie",
          "Adelie",
          "Adelie",
          "Adelie",
          "Adelie",
          "Adelie",
          "Adelie",
          "Adelie",
          "Adelie",
          "Adelie",
          "Adelie",
          "Adelie",
          "Adelie",
          "Adelie",
          "Adelie",
          "Adelie",
          "Adelie",
          "Adelie",
          "Adelie",
          "Adelie",
          "Adelie",
          "Adelie",
          "Adelie",
          "Adelie",
          "Adelie",
          "Adelie",
          "Adelie",
          "Adelie",
          "Adelie",
          "Adelie",
          "Adelie",
          "Adelie",
          "Adelie",
          "Adelie",
          "Adelie",
          "Adelie",
          "Adelie",
          "Adelie",
          "Adelie",
          "Adelie",
          "Adelie",
          "Adelie",
          "Adelie",
          "Adelie",
          "Adelie",
          "Adelie",
          "Adelie",
          "Adelie",
          "Adelie",
          "Adelie",
          "Adelie",
          "Adelie",
          "Adelie",
          "Adelie",
          "Adelie",
          "Adelie",
          "Adelie",
          "Chinstrap",
          "Chinstrap",
          "Chinstrap",
          "Chinstrap",
          "Chinstrap",
          "Chinstrap",
          "Chinstrap",
          "Chinstrap",
          "Chinstrap",
          "Chinstrap",
          "Chinstrap",
          "Chinstrap",
          "Chinstrap",
          "Chinstrap",
          "Chinstrap",
          "Chinstrap",
          "Chinstrap",
          "Chinstrap",
          "Chinstrap",
          "Chinstrap",
          "Chinstrap",
          "Chinstrap",
          "Chinstrap",
          "Chinstrap",
          "Chinstrap",
          "Chinstrap",
          "Chinstrap",
          "Chinstrap",
          "Chinstrap",
          "Chinstrap",
          "Chinstrap",
          "Chinstrap",
          "Chinstrap",
          "Chinstrap",
          "Chinstrap",
          "Chinstrap",
          "Chinstrap",
          "Chinstrap",
          "Chinstrap",
          "Chinstrap",
          "Chinstrap",
          "Chinstrap",
          "Chinstrap",
          "Chinstrap",
          "Chinstrap",
          "Chinstrap",
          "Chinstrap",
          "Chinstrap",
          "Chinstrap",
          "Chinstrap",
          "Chinstrap",
          "Chinstrap",
          "Chinstrap",
          "Chinstrap",
          "Chinstrap",
          "Chinstrap",
          "Chinstrap",
          "Chinstrap",
          "Chinstrap",
          "Chinstrap",
          "Chinstrap",
          "Chinstrap",
          "Chinstrap",
          "Chinstrap",
          "Chinstrap",
          "Chinstrap",
          "Chinstrap",
          "Chinstrap",
          "Gentoo",
          "Gentoo",
          "Gentoo",
          "Gentoo",
          "Gentoo",
          "Gentoo",
          "Gentoo",
          "Gentoo",
          "Gentoo",
          "Gentoo",
          "Gentoo",
          "Gentoo",
          "Gentoo",
          "Gentoo",
          "Gentoo",
          "Gentoo",
          "Gentoo",
          "Gentoo",
          "Gentoo",
          "Gentoo",
          "Gentoo",
          "Gentoo",
          "Gentoo",
          "Gentoo",
          "Gentoo",
          "Gentoo",
          "Gentoo",
          "Gentoo",
          "Gentoo",
          "Gentoo",
          "Gentoo",
          "Gentoo",
          "Gentoo",
          "Gentoo",
          "Gentoo",
          "Gentoo",
          "Gentoo",
          "Gentoo",
          "Gentoo",
          "Gentoo",
          "Gentoo",
          "Gentoo",
          "Gentoo",
          "Gentoo",
          "Gentoo",
          "Gentoo",
          "Gentoo",
          "Gentoo",
          "Gentoo",
          "Gentoo",
          "Gentoo",
          "Gentoo",
          "Gentoo",
          "Gentoo",
          "Gentoo",
          "Gentoo",
          "Gentoo",
          "Gentoo",
          "Gentoo",
          "Gentoo",
          "Gentoo",
          "Gentoo",
          "Gentoo",
          "Gentoo",
          "Gentoo",
          "Gentoo",
          "Gentoo",
          "Gentoo",
          "Gentoo",
          "Gentoo",
          "Gentoo",
          "Gentoo",
          "Gentoo",
          "Gentoo",
          "Gentoo",
          "Gentoo",
          "Gentoo",
          "Gentoo",
          "Gentoo",
          "Gentoo",
          "Gentoo",
          "Gentoo",
          "Gentoo",
          "Gentoo",
          "Gentoo",
          "Gentoo",
          "Gentoo",
          "Gentoo",
          "Gentoo",
          "Gentoo",
          "Gentoo",
          "Gentoo",
          "Gentoo",
          "Gentoo",
          "Gentoo",
          "Gentoo",
          "Gentoo",
          "Gentoo",
          "Gentoo",
          "Gentoo",
          "Gentoo",
          "Gentoo",
          "Gentoo",
          "Gentoo",
          "Gentoo",
          "Gentoo",
          "Gentoo",
          "Gentoo",
          "Gentoo",
          "Gentoo",
          "Gentoo",
          "Gentoo",
          "Gentoo",
          "Gentoo",
          "Gentoo",
          "Gentoo",
          "Gentoo",
          "Gentoo",
          "Gentoo",
          "Gentoo",
          "Gentoo",
          "Gentoo",
          "Gentoo",
          "Gentoo"
         ],
         "xaxis": "x3",
         "y": [
          181,
          186,
          195,
          200.9,
          193,
          190,
          181,
          195,
          193,
          190,
          186,
          180,
          182,
          191,
          198,
          185,
          195,
          197,
          184,
          194,
          174,
          180,
          189,
          185,
          180,
          187,
          183,
          187,
          172,
          180,
          178,
          178,
          188,
          184,
          195,
          196,
          190,
          180,
          181,
          184,
          182,
          195,
          186,
          196,
          185,
          190,
          182,
          179,
          190,
          191,
          186,
          188,
          190,
          200,
          187,
          191,
          186,
          193,
          181,
          194,
          185,
          195,
          185,
          192,
          184,
          192,
          195,
          188,
          190,
          198,
          190,
          190,
          196,
          197,
          190,
          195,
          191,
          184,
          187,
          195,
          189,
          196,
          187,
          193,
          191,
          194,
          190,
          189,
          189,
          190,
          202,
          205,
          185,
          186,
          187,
          208,
          190,
          196,
          178,
          192,
          192,
          203,
          183,
          190,
          193,
          184,
          199,
          190,
          181,
          197,
          198,
          191,
          193,
          197,
          191,
          196,
          188,
          199,
          189,
          189,
          187,
          198,
          176,
          202,
          186,
          199,
          191,
          195,
          191,
          210,
          190,
          197,
          193,
          199,
          187,
          190,
          191,
          200,
          185,
          193,
          193,
          187,
          188,
          190,
          192,
          185,
          190,
          184,
          195,
          193,
          187,
          201,
          192,
          196,
          193,
          188,
          197,
          198,
          178,
          197,
          195,
          198,
          193,
          194,
          185,
          201,
          190,
          201,
          197,
          181,
          190,
          195,
          181,
          191,
          187,
          193,
          195,
          197,
          200,
          200,
          191,
          205,
          187,
          201,
          187,
          203,
          195,
          199,
          195,
          210,
          192,
          205,
          210,
          187,
          196,
          196,
          196,
          201,
          190,
          212,
          187,
          198,
          199,
          201,
          193,
          203,
          187,
          197,
          191,
          203,
          202,
          194,
          206,
          189,
          195,
          207,
          202,
          193,
          210,
          198,
          211,
          230,
          210,
          218,
          215,
          210,
          211,
          219,
          209,
          215,
          214,
          216,
          214,
          213,
          210,
          217,
          210,
          221,
          209,
          222,
          218,
          215,
          213,
          215,
          215,
          215,
          216,
          215,
          210,
          220,
          222,
          209,
          207,
          230,
          220,
          220,
          213,
          219,
          208,
          208,
          208,
          225,
          210,
          216,
          222,
          217,
          210,
          225,
          213,
          215,
          210,
          220,
          210,
          225,
          217,
          220,
          208,
          220,
          208,
          224,
          208,
          221,
          214,
          231,
          219,
          230,
          214,
          229,
          220,
          223,
          216,
          221,
          221,
          217,
          216,
          230,
          209,
          220,
          215,
          223,
          212,
          221,
          212,
          224,
          212,
          228,
          218,
          218,
          212,
          230,
          218,
          228,
          212,
          224,
          214,
          226,
          216,
          222,
          203,
          225,
          219,
          228,
          215,
          228,
          216,
          215,
          210,
          219,
          208,
          209,
          216,
          229,
          213,
          230,
          217,
          230,
          217,
          222,
          214,
          200.9,
          215,
          222,
          212,
          213
         ],
         "yaxis": "y3"
        },
        {
         "legendgroup": "Масса тела",
         "legendgrouptitle": {
          "text": "Масса тела"
         },
         "marker": {
          "color": "rgb(93, 62, 153)"
         },
         "name": "Масса тела",
         "type": "box",
         "x": [
          "Adelie",
          "Adelie",
          "Adelie",
          "Adelie",
          "Adelie",
          "Adelie",
          "Adelie",
          "Adelie",
          "Adelie",
          "Adelie",
          "Adelie",
          "Adelie",
          "Adelie",
          "Adelie",
          "Adelie",
          "Adelie",
          "Adelie",
          "Adelie",
          "Adelie",
          "Adelie",
          "Adelie",
          "Adelie",
          "Adelie",
          "Adelie",
          "Adelie",
          "Adelie",
          "Adelie",
          "Adelie",
          "Adelie",
          "Adelie",
          "Adelie",
          "Adelie",
          "Adelie",
          "Adelie",
          "Adelie",
          "Adelie",
          "Adelie",
          "Adelie",
          "Adelie",
          "Adelie",
          "Adelie",
          "Adelie",
          "Adelie",
          "Adelie",
          "Adelie",
          "Adelie",
          "Adelie",
          "Adelie",
          "Adelie",
          "Adelie",
          "Adelie",
          "Adelie",
          "Adelie",
          "Adelie",
          "Adelie",
          "Adelie",
          "Adelie",
          "Adelie",
          "Adelie",
          "Adelie",
          "Adelie",
          "Adelie",
          "Adelie",
          "Adelie",
          "Adelie",
          "Adelie",
          "Adelie",
          "Adelie",
          "Adelie",
          "Adelie",
          "Adelie",
          "Adelie",
          "Adelie",
          "Adelie",
          "Adelie",
          "Adelie",
          "Adelie",
          "Adelie",
          "Adelie",
          "Adelie",
          "Adelie",
          "Adelie",
          "Adelie",
          "Adelie",
          "Adelie",
          "Adelie",
          "Adelie",
          "Adelie",
          "Adelie",
          "Adelie",
          "Adelie",
          "Adelie",
          "Adelie",
          "Adelie",
          "Adelie",
          "Adelie",
          "Adelie",
          "Adelie",
          "Adelie",
          "Adelie",
          "Adelie",
          "Adelie",
          "Adelie",
          "Adelie",
          "Adelie",
          "Adelie",
          "Adelie",
          "Adelie",
          "Adelie",
          "Adelie",
          "Adelie",
          "Adelie",
          "Adelie",
          "Adelie",
          "Adelie",
          "Adelie",
          "Adelie",
          "Adelie",
          "Adelie",
          "Adelie",
          "Adelie",
          "Adelie",
          "Adelie",
          "Adelie",
          "Adelie",
          "Adelie",
          "Adelie",
          "Adelie",
          "Adelie",
          "Adelie",
          "Adelie",
          "Adelie",
          "Adelie",
          "Adelie",
          "Adelie",
          "Adelie",
          "Adelie",
          "Adelie",
          "Adelie",
          "Adelie",
          "Adelie",
          "Adelie",
          "Adelie",
          "Adelie",
          "Adelie",
          "Adelie",
          "Adelie",
          "Adelie",
          "Adelie",
          "Adelie",
          "Adelie",
          "Adelie",
          "Chinstrap",
          "Chinstrap",
          "Chinstrap",
          "Chinstrap",
          "Chinstrap",
          "Chinstrap",
          "Chinstrap",
          "Chinstrap",
          "Chinstrap",
          "Chinstrap",
          "Chinstrap",
          "Chinstrap",
          "Chinstrap",
          "Chinstrap",
          "Chinstrap",
          "Chinstrap",
          "Chinstrap",
          "Chinstrap",
          "Chinstrap",
          "Chinstrap",
          "Chinstrap",
          "Chinstrap",
          "Chinstrap",
          "Chinstrap",
          "Chinstrap",
          "Chinstrap",
          "Chinstrap",
          "Chinstrap",
          "Chinstrap",
          "Chinstrap",
          "Chinstrap",
          "Chinstrap",
          "Chinstrap",
          "Chinstrap",
          "Chinstrap",
          "Chinstrap",
          "Chinstrap",
          "Chinstrap",
          "Chinstrap",
          "Chinstrap",
          "Chinstrap",
          "Chinstrap",
          "Chinstrap",
          "Chinstrap",
          "Chinstrap",
          "Chinstrap",
          "Chinstrap",
          "Chinstrap",
          "Chinstrap",
          "Chinstrap",
          "Chinstrap",
          "Chinstrap",
          "Chinstrap",
          "Chinstrap",
          "Chinstrap",
          "Chinstrap",
          "Chinstrap",
          "Chinstrap",
          "Chinstrap",
          "Chinstrap",
          "Chinstrap",
          "Chinstrap",
          "Chinstrap",
          "Chinstrap",
          "Chinstrap",
          "Chinstrap",
          "Chinstrap",
          "Chinstrap",
          "Gentoo",
          "Gentoo",
          "Gentoo",
          "Gentoo",
          "Gentoo",
          "Gentoo",
          "Gentoo",
          "Gentoo",
          "Gentoo",
          "Gentoo",
          "Gentoo",
          "Gentoo",
          "Gentoo",
          "Gentoo",
          "Gentoo",
          "Gentoo",
          "Gentoo",
          "Gentoo",
          "Gentoo",
          "Gentoo",
          "Gentoo",
          "Gentoo",
          "Gentoo",
          "Gentoo",
          "Gentoo",
          "Gentoo",
          "Gentoo",
          "Gentoo",
          "Gentoo",
          "Gentoo",
          "Gentoo",
          "Gentoo",
          "Gentoo",
          "Gentoo",
          "Gentoo",
          "Gentoo",
          "Gentoo",
          "Gentoo",
          "Gentoo",
          "Gentoo",
          "Gentoo",
          "Gentoo",
          "Gentoo",
          "Gentoo",
          "Gentoo",
          "Gentoo",
          "Gentoo",
          "Gentoo",
          "Gentoo",
          "Gentoo",
          "Gentoo",
          "Gentoo",
          "Gentoo",
          "Gentoo",
          "Gentoo",
          "Gentoo",
          "Gentoo",
          "Gentoo",
          "Gentoo",
          "Gentoo",
          "Gentoo",
          "Gentoo",
          "Gentoo",
          "Gentoo",
          "Gentoo",
          "Gentoo",
          "Gentoo",
          "Gentoo",
          "Gentoo",
          "Gentoo",
          "Gentoo",
          "Gentoo",
          "Gentoo",
          "Gentoo",
          "Gentoo",
          "Gentoo",
          "Gentoo",
          "Gentoo",
          "Gentoo",
          "Gentoo",
          "Gentoo",
          "Gentoo",
          "Gentoo",
          "Gentoo",
          "Gentoo",
          "Gentoo",
          "Gentoo",
          "Gentoo",
          "Gentoo",
          "Gentoo",
          "Gentoo",
          "Gentoo",
          "Gentoo",
          "Gentoo",
          "Gentoo",
          "Gentoo",
          "Gentoo",
          "Gentoo",
          "Gentoo",
          "Gentoo",
          "Gentoo",
          "Gentoo",
          "Gentoo",
          "Gentoo",
          "Gentoo",
          "Gentoo",
          "Gentoo",
          "Gentoo",
          "Gentoo",
          "Gentoo",
          "Gentoo",
          "Gentoo",
          "Gentoo",
          "Gentoo",
          "Gentoo",
          "Gentoo",
          "Gentoo",
          "Gentoo",
          "Gentoo",
          "Gentoo",
          "Gentoo",
          "Gentoo",
          "Gentoo",
          "Gentoo"
         ],
         "xaxis": "x4",
         "y": [
          3750,
          3800,
          3250,
          4201.8,
          3450,
          3650,
          3625,
          4675,
          3475,
          4250,
          3300,
          3700,
          3200,
          3800,
          4400,
          3700,
          3450,
          4500,
          3325,
          4200,
          3400,
          3600,
          3800,
          3950,
          3800,
          3800,
          3550,
          3200,
          3150,
          3950,
          3250,
          3900,
          3300,
          3900,
          3325,
          4150,
          3950,
          3550,
          3300,
          4650,
          3150,
          3900,
          3100,
          4400,
          3000,
          4600,
          3425,
          2975,
          3450,
          4150,
          3500,
          4300,
          3450,
          4050,
          2900,
          3700,
          3550,
          3800,
          2850,
          3750,
          3150,
          4400,
          3600,
          4050,
          2850,
          3950,
          3350,
          4100,
          3050,
          4450,
          3600,
          3900,
          3550,
          4150,
          3700,
          4250,
          3700,
          3900,
          3550,
          4000,
          3200,
          4700,
          3800,
          4200,
          3350,
          3550,
          3800,
          3500,
          3950,
          3600,
          3550,
          4300,
          3400,
          4450,
          3300,
          4300,
          3700,
          4350,
          2900,
          4100,
          3725,
          4725,
          3075,
          4250,
          2925,
          3550,
          3750,
          3900,
          3175,
          4775,
          3825,
          4600,
          3200,
          4275,
          3900,
          4075,
          2900,
          3775,
          3350,
          3325,
          3150,
          3500,
          3450,
          3875,
          3050,
          4000,
          3275,
          4300,
          3050,
          4000,
          3325,
          3500,
          3500,
          4475,
          3425,
          3900,
          3175,
          3975,
          3400,
          4250,
          3400,
          3475,
          3050,
          3725,
          3000,
          3650,
          4250,
          3475,
          3450,
          3750,
          3700,
          4000,
          3500,
          3900,
          3650,
          3525,
          3725,
          3950,
          3250,
          3750,
          4150,
          3700,
          3800,
          3775,
          3700,
          4050,
          3575,
          4050,
          3300,
          3700,
          3450,
          4400,
          3600,
          3400,
          2900,
          3800,
          3300,
          4150,
          3400,
          3800,
          3700,
          4550,
          3200,
          4300,
          3350,
          4100,
          3600,
          3900,
          3850,
          4800,
          2700,
          4500,
          3950,
          3650,
          3550,
          3500,
          3675,
          4450,
          3400,
          4300,
          3250,
          3675,
          3325,
          3950,
          3600,
          4050,
          3350,
          3450,
          3250,
          4050,
          3800,
          3525,
          3950,
          3650,
          3650,
          4000,
          3400,
          3775,
          4100,
          3775,
          4500,
          5700,
          4450,
          5700,
          5400,
          4550,
          4800,
          5200,
          4400,
          5150,
          4650,
          5550,
          4650,
          5850,
          4200,
          5850,
          4150,
          6300,
          4800,
          5350,
          5700,
          5000,
          4400,
          5050,
          5000,
          5100,
          4100,
          5650,
          4600,
          5550,
          5250,
          4700,
          5050,
          6050,
          5150,
          5400,
          4950,
          5250,
          4350,
          5350,
          3950,
          5700,
          4300,
          4750,
          5550,
          4900,
          4200,
          5400,
          5100,
          5300,
          4850,
          5300,
          4400,
          5000,
          4900,
          5050,
          4300,
          5000,
          4450,
          5550,
          4200,
          5300,
          4400,
          5650,
          4700,
          5700,
          4650,
          5800,
          4700,
          5550,
          4750,
          5000,
          5100,
          5200,
          4700,
          5800,
          4600,
          6000,
          4750,
          5950,
          4625,
          5450,
          4725,
          5350,
          4750,
          5600,
          4600,
          5300,
          4875,
          5550,
          4950,
          5400,
          4750,
          5650,
          4850,
          5200,
          4925,
          4875,
          4625,
          5250,
          4850,
          5600,
          4975,
          5500,
          4725,
          5500,
          4700,
          5500,
          4575,
          5500,
          5000,
          5950,
          4650,
          5500,
          4375,
          5850,
          4875,
          6000,
          4925,
          4201.8,
          4850,
          5750,
          5200,
          5400
         ],
         "yaxis": "y4"
        }
       ],
       "layout": {
        "annotations": [
         {
          "font": {
           "size": 16
          },
          "showarrow": false,
          "text": "Длина надклювья",
          "x": 0.23,
          "xanchor": "center",
          "xref": "paper",
          "y": 1,
          "yanchor": "bottom",
          "yref": "paper"
         },
         {
          "font": {
           "size": 16
          },
          "showarrow": false,
          "text": "Толщина надклювья",
          "x": 0.77,
          "xanchor": "center",
          "xref": "paper",
          "y": 1,
          "yanchor": "bottom",
          "yref": "paper"
         },
         {
          "font": {
           "size": 16
          },
          "showarrow": false,
          "text": "Длина плавника",
          "x": 0.23,
          "xanchor": "center",
          "xref": "paper",
          "y": 0.45,
          "yanchor": "bottom",
          "yref": "paper"
         },
         {
          "font": {
           "size": 16
          },
          "showarrow": false,
          "text": "Масса тела",
          "x": 0.77,
          "xanchor": "center",
          "xref": "paper",
          "y": 0.45,
          "yanchor": "bottom",
          "yref": "paper"
         }
        ],
        "height": 800,
        "paper_bgcolor": "rgb(229, 237, 247)",
        "plot_bgcolor": "rgb(229, 237, 247)",
        "template": {
         "data": {
          "bar": [
           {
            "error_x": {
             "color": "#2a3f5f"
            },
            "error_y": {
             "color": "#2a3f5f"
            },
            "marker": {
             "line": {
              "color": "#E5ECF6",
              "width": 0.5
             },
             "pattern": {
              "fillmode": "overlay",
              "size": 10,
              "solidity": 0.2
             }
            },
            "type": "bar"
           }
          ],
          "barpolar": [
           {
            "marker": {
             "line": {
              "color": "#E5ECF6",
              "width": 0.5
             },
             "pattern": {
              "fillmode": "overlay",
              "size": 10,
              "solidity": 0.2
             }
            },
            "type": "barpolar"
           }
          ],
          "carpet": [
           {
            "aaxis": {
             "endlinecolor": "#2a3f5f",
             "gridcolor": "white",
             "linecolor": "white",
             "minorgridcolor": "white",
             "startlinecolor": "#2a3f5f"
            },
            "baxis": {
             "endlinecolor": "#2a3f5f",
             "gridcolor": "white",
             "linecolor": "white",
             "minorgridcolor": "white",
             "startlinecolor": "#2a3f5f"
            },
            "type": "carpet"
           }
          ],
          "choropleth": [
           {
            "colorbar": {
             "outlinewidth": 0,
             "ticks": ""
            },
            "type": "choropleth"
           }
          ],
          "contour": [
           {
            "colorbar": {
             "outlinewidth": 0,
             "ticks": ""
            },
            "colorscale": [
             [
              0,
              "#0d0887"
             ],
             [
              0.1111111111111111,
              "#46039f"
             ],
             [
              0.2222222222222222,
              "#7201a8"
             ],
             [
              0.3333333333333333,
              "#9c179e"
             ],
             [
              0.4444444444444444,
              "#bd3786"
             ],
             [
              0.5555555555555556,
              "#d8576b"
             ],
             [
              0.6666666666666666,
              "#ed7953"
             ],
             [
              0.7777777777777778,
              "#fb9f3a"
             ],
             [
              0.8888888888888888,
              "#fdca26"
             ],
             [
              1,
              "#f0f921"
             ]
            ],
            "type": "contour"
           }
          ],
          "contourcarpet": [
           {
            "colorbar": {
             "outlinewidth": 0,
             "ticks": ""
            },
            "type": "contourcarpet"
           }
          ],
          "heatmap": [
           {
            "colorbar": {
             "outlinewidth": 0,
             "ticks": ""
            },
            "colorscale": [
             [
              0,
              "#0d0887"
             ],
             [
              0.1111111111111111,
              "#46039f"
             ],
             [
              0.2222222222222222,
              "#7201a8"
             ],
             [
              0.3333333333333333,
              "#9c179e"
             ],
             [
              0.4444444444444444,
              "#bd3786"
             ],
             [
              0.5555555555555556,
              "#d8576b"
             ],
             [
              0.6666666666666666,
              "#ed7953"
             ],
             [
              0.7777777777777778,
              "#fb9f3a"
             ],
             [
              0.8888888888888888,
              "#fdca26"
             ],
             [
              1,
              "#f0f921"
             ]
            ],
            "type": "heatmap"
           }
          ],
          "heatmapgl": [
           {
            "colorbar": {
             "outlinewidth": 0,
             "ticks": ""
            },
            "colorscale": [
             [
              0,
              "#0d0887"
             ],
             [
              0.1111111111111111,
              "#46039f"
             ],
             [
              0.2222222222222222,
              "#7201a8"
             ],
             [
              0.3333333333333333,
              "#9c179e"
             ],
             [
              0.4444444444444444,
              "#bd3786"
             ],
             [
              0.5555555555555556,
              "#d8576b"
             ],
             [
              0.6666666666666666,
              "#ed7953"
             ],
             [
              0.7777777777777778,
              "#fb9f3a"
             ],
             [
              0.8888888888888888,
              "#fdca26"
             ],
             [
              1,
              "#f0f921"
             ]
            ],
            "type": "heatmapgl"
           }
          ],
          "histogram": [
           {
            "marker": {
             "pattern": {
              "fillmode": "overlay",
              "size": 10,
              "solidity": 0.2
             }
            },
            "type": "histogram"
           }
          ],
          "histogram2d": [
           {
            "colorbar": {
             "outlinewidth": 0,
             "ticks": ""
            },
            "colorscale": [
             [
              0,
              "#0d0887"
             ],
             [
              0.1111111111111111,
              "#46039f"
             ],
             [
              0.2222222222222222,
              "#7201a8"
             ],
             [
              0.3333333333333333,
              "#9c179e"
             ],
             [
              0.4444444444444444,
              "#bd3786"
             ],
             [
              0.5555555555555556,
              "#d8576b"
             ],
             [
              0.6666666666666666,
              "#ed7953"
             ],
             [
              0.7777777777777778,
              "#fb9f3a"
             ],
             [
              0.8888888888888888,
              "#fdca26"
             ],
             [
              1,
              "#f0f921"
             ]
            ],
            "type": "histogram2d"
           }
          ],
          "histogram2dcontour": [
           {
            "colorbar": {
             "outlinewidth": 0,
             "ticks": ""
            },
            "colorscale": [
             [
              0,
              "#0d0887"
             ],
             [
              0.1111111111111111,
              "#46039f"
             ],
             [
              0.2222222222222222,
              "#7201a8"
             ],
             [
              0.3333333333333333,
              "#9c179e"
             ],
             [
              0.4444444444444444,
              "#bd3786"
             ],
             [
              0.5555555555555556,
              "#d8576b"
             ],
             [
              0.6666666666666666,
              "#ed7953"
             ],
             [
              0.7777777777777778,
              "#fb9f3a"
             ],
             [
              0.8888888888888888,
              "#fdca26"
             ],
             [
              1,
              "#f0f921"
             ]
            ],
            "type": "histogram2dcontour"
           }
          ],
          "mesh3d": [
           {
            "colorbar": {
             "outlinewidth": 0,
             "ticks": ""
            },
            "type": "mesh3d"
           }
          ],
          "parcoords": [
           {
            "line": {
             "colorbar": {
              "outlinewidth": 0,
              "ticks": ""
             }
            },
            "type": "parcoords"
           }
          ],
          "pie": [
           {
            "automargin": true,
            "type": "pie"
           }
          ],
          "scatter": [
           {
            "fillpattern": {
             "fillmode": "overlay",
             "size": 10,
             "solidity": 0.2
            },
            "type": "scatter"
           }
          ],
          "scatter3d": [
           {
            "line": {
             "colorbar": {
              "outlinewidth": 0,
              "ticks": ""
             }
            },
            "marker": {
             "colorbar": {
              "outlinewidth": 0,
              "ticks": ""
             }
            },
            "type": "scatter3d"
           }
          ],
          "scattercarpet": [
           {
            "marker": {
             "colorbar": {
              "outlinewidth": 0,
              "ticks": ""
             }
            },
            "type": "scattercarpet"
           }
          ],
          "scattergeo": [
           {
            "marker": {
             "colorbar": {
              "outlinewidth": 0,
              "ticks": ""
             }
            },
            "type": "scattergeo"
           }
          ],
          "scattergl": [
           {
            "marker": {
             "colorbar": {
              "outlinewidth": 0,
              "ticks": ""
             }
            },
            "type": "scattergl"
           }
          ],
          "scattermapbox": [
           {
            "marker": {
             "colorbar": {
              "outlinewidth": 0,
              "ticks": ""
             }
            },
            "type": "scattermapbox"
           }
          ],
          "scatterpolar": [
           {
            "marker": {
             "colorbar": {
              "outlinewidth": 0,
              "ticks": ""
             }
            },
            "type": "scatterpolar"
           }
          ],
          "scatterpolargl": [
           {
            "marker": {
             "colorbar": {
              "outlinewidth": 0,
              "ticks": ""
             }
            },
            "type": "scatterpolargl"
           }
          ],
          "scatterternary": [
           {
            "marker": {
             "colorbar": {
              "outlinewidth": 0,
              "ticks": ""
             }
            },
            "type": "scatterternary"
           }
          ],
          "surface": [
           {
            "colorbar": {
             "outlinewidth": 0,
             "ticks": ""
            },
            "colorscale": [
             [
              0,
              "#0d0887"
             ],
             [
              0.1111111111111111,
              "#46039f"
             ],
             [
              0.2222222222222222,
              "#7201a8"
             ],
             [
              0.3333333333333333,
              "#9c179e"
             ],
             [
              0.4444444444444444,
              "#bd3786"
             ],
             [
              0.5555555555555556,
              "#d8576b"
             ],
             [
              0.6666666666666666,
              "#ed7953"
             ],
             [
              0.7777777777777778,
              "#fb9f3a"
             ],
             [
              0.8888888888888888,
              "#fdca26"
             ],
             [
              1,
              "#f0f921"
             ]
            ],
            "type": "surface"
           }
          ],
          "table": [
           {
            "cells": {
             "fill": {
              "color": "#EBF0F8"
             },
             "line": {
              "color": "white"
             }
            },
            "header": {
             "fill": {
              "color": "#C8D4E3"
             },
             "line": {
              "color": "white"
             }
            },
            "type": "table"
           }
          ]
         },
         "layout": {
          "annotationdefaults": {
           "arrowcolor": "#2a3f5f",
           "arrowhead": 0,
           "arrowwidth": 1
          },
          "autotypenumbers": "strict",
          "coloraxis": {
           "colorbar": {
            "outlinewidth": 0,
            "ticks": ""
           }
          },
          "colorscale": {
           "diverging": [
            [
             0,
             "#8e0152"
            ],
            [
             0.1,
             "#c51b7d"
            ],
            [
             0.2,
             "#de77ae"
            ],
            [
             0.3,
             "#f1b6da"
            ],
            [
             0.4,
             "#fde0ef"
            ],
            [
             0.5,
             "#f7f7f7"
            ],
            [
             0.6,
             "#e6f5d0"
            ],
            [
             0.7,
             "#b8e186"
            ],
            [
             0.8,
             "#7fbc41"
            ],
            [
             0.9,
             "#4d9221"
            ],
            [
             1,
             "#276419"
            ]
           ],
           "sequential": [
            [
             0,
             "#0d0887"
            ],
            [
             0.1111111111111111,
             "#46039f"
            ],
            [
             0.2222222222222222,
             "#7201a8"
            ],
            [
             0.3333333333333333,
             "#9c179e"
            ],
            [
             0.4444444444444444,
             "#bd3786"
            ],
            [
             0.5555555555555556,
             "#d8576b"
            ],
            [
             0.6666666666666666,
             "#ed7953"
            ],
            [
             0.7777777777777778,
             "#fb9f3a"
            ],
            [
             0.8888888888888888,
             "#fdca26"
            ],
            [
             1,
             "#f0f921"
            ]
           ],
           "sequentialminus": [
            [
             0,
             "#0d0887"
            ],
            [
             0.1111111111111111,
             "#46039f"
            ],
            [
             0.2222222222222222,
             "#7201a8"
            ],
            [
             0.3333333333333333,
             "#9c179e"
            ],
            [
             0.4444444444444444,
             "#bd3786"
            ],
            [
             0.5555555555555556,
             "#d8576b"
            ],
            [
             0.6666666666666666,
             "#ed7953"
            ],
            [
             0.7777777777777778,
             "#fb9f3a"
            ],
            [
             0.8888888888888888,
             "#fdca26"
            ],
            [
             1,
             "#f0f921"
            ]
           ]
          },
          "colorway": [
           "#636efa",
           "#EF553B",
           "#00cc96",
           "#ab63fa",
           "#FFA15A",
           "#19d3f3",
           "#FF6692",
           "#B6E880",
           "#FF97FF",
           "#FECB52"
          ],
          "font": {
           "color": "#2a3f5f"
          },
          "geo": {
           "bgcolor": "white",
           "lakecolor": "white",
           "landcolor": "#E5ECF6",
           "showlakes": true,
           "showland": true,
           "subunitcolor": "white"
          },
          "hoverlabel": {
           "align": "left"
          },
          "hovermode": "closest",
          "mapbox": {
           "style": "light"
          },
          "paper_bgcolor": "white",
          "plot_bgcolor": "#E5ECF6",
          "polar": {
           "angularaxis": {
            "gridcolor": "white",
            "linecolor": "white",
            "ticks": ""
           },
           "bgcolor": "#E5ECF6",
           "radialaxis": {
            "gridcolor": "white",
            "linecolor": "white",
            "ticks": ""
           }
          },
          "scene": {
           "xaxis": {
            "backgroundcolor": "#E5ECF6",
            "gridcolor": "white",
            "gridwidth": 2,
            "linecolor": "white",
            "showbackground": true,
            "ticks": "",
            "zerolinecolor": "white"
           },
           "yaxis": {
            "backgroundcolor": "#E5ECF6",
            "gridcolor": "white",
            "gridwidth": 2,
            "linecolor": "white",
            "showbackground": true,
            "ticks": "",
            "zerolinecolor": "white"
           },
           "zaxis": {
            "backgroundcolor": "#E5ECF6",
            "gridcolor": "white",
            "gridwidth": 2,
            "linecolor": "white",
            "showbackground": true,
            "ticks": "",
            "zerolinecolor": "white"
           }
          },
          "shapedefaults": {
           "line": {
            "color": "#2a3f5f"
           }
          },
          "ternary": {
           "aaxis": {
            "gridcolor": "white",
            "linecolor": "white",
            "ticks": ""
           },
           "baxis": {
            "gridcolor": "white",
            "linecolor": "white",
            "ticks": ""
           },
           "bgcolor": "#E5ECF6",
           "caxis": {
            "gridcolor": "white",
            "linecolor": "white",
            "ticks": ""
           }
          },
          "title": {
           "x": 0.05
          },
          "xaxis": {
           "automargin": true,
           "gridcolor": "white",
           "linecolor": "white",
           "ticks": "",
           "title": {
            "standoff": 15
           },
           "zerolinecolor": "white",
           "zerolinewidth": 2
          },
          "yaxis": {
           "automargin": true,
           "gridcolor": "white",
           "linecolor": "white",
           "ticks": "",
           "title": {
            "standoff": 15
           },
           "zerolinecolor": "white",
           "zerolinewidth": 2
          }
         }
        },
        "title": {
         "font": {
          "size": 30
         },
         "text": "Распределение переменных по видам",
         "x": 0.5
        },
        "xaxis": {
         "anchor": "y",
         "domain": [
          0,
          0.46
         ],
         "title": {
          "text": "Длина надклювья"
         }
        },
        "xaxis2": {
         "anchor": "y2",
         "domain": [
          0.54,
          1
         ],
         "title": {
          "text": "Толщина надклювья"
         }
        },
        "xaxis3": {
         "anchor": "y3",
         "domain": [
          0,
          0.46
         ],
         "title": {
          "text": "Длина плавника"
         }
        },
        "xaxis4": {
         "anchor": "y4",
         "domain": [
          0.54,
          1
         ],
         "title": {
          "text": "Масса тела"
         }
        },
        "yaxis": {
         "anchor": "x",
         "domain": [
          0.55,
          1
         ]
        },
        "yaxis2": {
         "anchor": "x2",
         "domain": [
          0.55,
          1
         ]
        },
        "yaxis3": {
         "anchor": "x3",
         "domain": [
          0,
          0.45
         ]
        },
        "yaxis4": {
         "anchor": "x4",
         "domain": [
          0,
          0.45
         ]
        }
       }
      },
      "text/html": [
       "<div>                            <div id=\"a673f43e-2fb2-4f6a-95f0-d6cae8c267d1\" class=\"plotly-graph-div\" style=\"height:800px; width:100%;\"></div>            <script type=\"text/javascript\">                require([\"plotly\"], function(Plotly) {                    window.PLOTLYENV=window.PLOTLYENV || {};                                    if (document.getElementById(\"a673f43e-2fb2-4f6a-95f0-d6cae8c267d1\")) {                    Plotly.newPlot(                        \"a673f43e-2fb2-4f6a-95f0-d6cae8c267d1\",                        [{\"legendgroup\":\"\\u0414\\u043b\\u0438\\u043d\\u0430 \\u043d\\u0430\\u0434\\u043a\\u043b\\u044e\\u0432\\u044c\\u044f\",\"legendgrouptitle\":{\"text\":\"\\u0414\\u043b\\u0438\\u043d\\u0430 \\u043d\\u0430\\u0434\\u043a\\u043b\\u044e\\u0432\\u044c\\u044f\"},\"marker\":{\"color\":\"rgb(3, 35, 51)\"},\"name\":\"\\u0414\\u043b\\u0438\\u043d\\u0430 \\u043d\\u0430\\u0434\\u043a\\u043b\\u044e\\u0432\\u044c\\u044f\",\"x\":[\"Adelie\",\"Adelie\",\"Adelie\",\"Adelie\",\"Adelie\",\"Adelie\",\"Adelie\",\"Adelie\",\"Adelie\",\"Adelie\",\"Adelie\",\"Adelie\",\"Adelie\",\"Adelie\",\"Adelie\",\"Adelie\",\"Adelie\",\"Adelie\",\"Adelie\",\"Adelie\",\"Adelie\",\"Adelie\",\"Adelie\",\"Adelie\",\"Adelie\",\"Adelie\",\"Adelie\",\"Adelie\",\"Adelie\",\"Adelie\",\"Adelie\",\"Adelie\",\"Adelie\",\"Adelie\",\"Adelie\",\"Adelie\",\"Adelie\",\"Adelie\",\"Adelie\",\"Adelie\",\"Adelie\",\"Adelie\",\"Adelie\",\"Adelie\",\"Adelie\",\"Adelie\",\"Adelie\",\"Adelie\",\"Adelie\",\"Adelie\",\"Adelie\",\"Adelie\",\"Adelie\",\"Adelie\",\"Adelie\",\"Adelie\",\"Adelie\",\"Adelie\",\"Adelie\",\"Adelie\",\"Adelie\",\"Adelie\",\"Adelie\",\"Adelie\",\"Adelie\",\"Adelie\",\"Adelie\",\"Adelie\",\"Adelie\",\"Adelie\",\"Adelie\",\"Adelie\",\"Adelie\",\"Adelie\",\"Adelie\",\"Adelie\",\"Adelie\",\"Adelie\",\"Adelie\",\"Adelie\",\"Adelie\",\"Adelie\",\"Adelie\",\"Adelie\",\"Adelie\",\"Adelie\",\"Adelie\",\"Adelie\",\"Adelie\",\"Adelie\",\"Adelie\",\"Adelie\",\"Adelie\",\"Adelie\",\"Adelie\",\"Adelie\",\"Adelie\",\"Adelie\",\"Adelie\",\"Adelie\",\"Adelie\",\"Adelie\",\"Adelie\",\"Adelie\",\"Adelie\",\"Adelie\",\"Adelie\",\"Adelie\",\"Adelie\",\"Adelie\",\"Adelie\",\"Adelie\",\"Adelie\",\"Adelie\",\"Adelie\",\"Adelie\",\"Adelie\",\"Adelie\",\"Adelie\",\"Adelie\",\"Adelie\",\"Adelie\",\"Adelie\",\"Adelie\",\"Adelie\",\"Adelie\",\"Adelie\",\"Adelie\",\"Adelie\",\"Adelie\",\"Adelie\",\"Adelie\",\"Adelie\",\"Adelie\",\"Adelie\",\"Adelie\",\"Adelie\",\"Adelie\",\"Adelie\",\"Adelie\",\"Adelie\",\"Adelie\",\"Adelie\",\"Adelie\",\"Adelie\",\"Adelie\",\"Adelie\",\"Adelie\",\"Adelie\",\"Adelie\",\"Adelie\",\"Adelie\",\"Chinstrap\",\"Chinstrap\",\"Chinstrap\",\"Chinstrap\",\"Chinstrap\",\"Chinstrap\",\"Chinstrap\",\"Chinstrap\",\"Chinstrap\",\"Chinstrap\",\"Chinstrap\",\"Chinstrap\",\"Chinstrap\",\"Chinstrap\",\"Chinstrap\",\"Chinstrap\",\"Chinstrap\",\"Chinstrap\",\"Chinstrap\",\"Chinstrap\",\"Chinstrap\",\"Chinstrap\",\"Chinstrap\",\"Chinstrap\",\"Chinstrap\",\"Chinstrap\",\"Chinstrap\",\"Chinstrap\",\"Chinstrap\",\"Chinstrap\",\"Chinstrap\",\"Chinstrap\",\"Chinstrap\",\"Chinstrap\",\"Chinstrap\",\"Chinstrap\",\"Chinstrap\",\"Chinstrap\",\"Chinstrap\",\"Chinstrap\",\"Chinstrap\",\"Chinstrap\",\"Chinstrap\",\"Chinstrap\",\"Chinstrap\",\"Chinstrap\",\"Chinstrap\",\"Chinstrap\",\"Chinstrap\",\"Chinstrap\",\"Chinstrap\",\"Chinstrap\",\"Chinstrap\",\"Chinstrap\",\"Chinstrap\",\"Chinstrap\",\"Chinstrap\",\"Chinstrap\",\"Chinstrap\",\"Chinstrap\",\"Chinstrap\",\"Chinstrap\",\"Chinstrap\",\"Chinstrap\",\"Chinstrap\",\"Chinstrap\",\"Chinstrap\",\"Chinstrap\",\"Gentoo\",\"Gentoo\",\"Gentoo\",\"Gentoo\",\"Gentoo\",\"Gentoo\",\"Gentoo\",\"Gentoo\",\"Gentoo\",\"Gentoo\",\"Gentoo\",\"Gentoo\",\"Gentoo\",\"Gentoo\",\"Gentoo\",\"Gentoo\",\"Gentoo\",\"Gentoo\",\"Gentoo\",\"Gentoo\",\"Gentoo\",\"Gentoo\",\"Gentoo\",\"Gentoo\",\"Gentoo\",\"Gentoo\",\"Gentoo\",\"Gentoo\",\"Gentoo\",\"Gentoo\",\"Gentoo\",\"Gentoo\",\"Gentoo\",\"Gentoo\",\"Gentoo\",\"Gentoo\",\"Gentoo\",\"Gentoo\",\"Gentoo\",\"Gentoo\",\"Gentoo\",\"Gentoo\",\"Gentoo\",\"Gentoo\",\"Gentoo\",\"Gentoo\",\"Gentoo\",\"Gentoo\",\"Gentoo\",\"Gentoo\",\"Gentoo\",\"Gentoo\",\"Gentoo\",\"Gentoo\",\"Gentoo\",\"Gentoo\",\"Gentoo\",\"Gentoo\",\"Gentoo\",\"Gentoo\",\"Gentoo\",\"Gentoo\",\"Gentoo\",\"Gentoo\",\"Gentoo\",\"Gentoo\",\"Gentoo\",\"Gentoo\",\"Gentoo\",\"Gentoo\",\"Gentoo\",\"Gentoo\",\"Gentoo\",\"Gentoo\",\"Gentoo\",\"Gentoo\",\"Gentoo\",\"Gentoo\",\"Gentoo\",\"Gentoo\",\"Gentoo\",\"Gentoo\",\"Gentoo\",\"Gentoo\",\"Gentoo\",\"Gentoo\",\"Gentoo\",\"Gentoo\",\"Gentoo\",\"Gentoo\",\"Gentoo\",\"Gentoo\",\"Gentoo\",\"Gentoo\",\"Gentoo\",\"Gentoo\",\"Gentoo\",\"Gentoo\",\"Gentoo\",\"Gentoo\",\"Gentoo\",\"Gentoo\",\"Gentoo\",\"Gentoo\",\"Gentoo\",\"Gentoo\",\"Gentoo\",\"Gentoo\",\"Gentoo\",\"Gentoo\",\"Gentoo\",\"Gentoo\",\"Gentoo\",\"Gentoo\",\"Gentoo\",\"Gentoo\",\"Gentoo\",\"Gentoo\",\"Gentoo\",\"Gentoo\",\"Gentoo\",\"Gentoo\",\"Gentoo\",\"Gentoo\"],\"y\":[39.1,39.5,40.3,43.9,36.7,39.3,38.9,39.2,34.1,42.0,37.8,37.8,41.1,38.6,34.6,36.6,38.7,42.5,34.4,46.0,37.8,37.7,35.9,38.2,38.8,35.3,40.6,40.5,37.9,40.5,39.5,37.2,39.5,40.9,36.4,39.2,38.8,42.2,37.6,39.8,36.5,40.8,36.0,44.1,37.0,39.6,41.1,37.5,36.0,42.3,39.6,40.1,35.0,42.0,34.5,41.4,39.0,40.6,36.5,37.6,35.7,41.3,37.6,41.1,36.4,41.6,35.5,41.1,35.9,41.8,33.5,39.7,39.6,45.8,35.5,42.8,40.9,37.2,36.2,42.1,34.6,42.9,36.7,35.1,37.3,41.3,36.3,36.9,38.3,38.9,35.7,41.1,34.0,39.6,36.2,40.8,38.1,40.3,33.1,43.2,35.0,41.0,37.7,37.8,37.9,39.7,38.6,38.2,38.1,43.2,38.1,45.6,39.7,42.2,39.6,42.7,38.6,37.3,35.7,41.1,36.2,37.7,40.2,41.4,35.2,40.6,38.8,41.5,39.0,44.1,38.5,43.1,36.8,37.5,38.1,41.1,35.6,40.2,37.0,39.7,40.2,40.6,32.1,40.7,37.3,39.0,39.2,36.6,36.0,37.8,36.0,41.5,46.5,50.0,51.3,45.4,52.7,45.2,46.1,51.3,46.0,51.3,46.6,51.7,47.0,52.0,45.9,50.5,50.3,58.0,46.4,49.2,42.4,48.5,43.2,50.6,46.7,52.0,50.5,49.5,46.4,52.8,40.9,54.2,42.5,51.0,49.7,47.5,47.6,52.0,46.9,53.5,49.0,46.2,50.9,45.5,50.9,50.8,50.1,49.0,51.5,49.8,48.1,51.4,45.7,50.7,42.5,52.2,45.2,49.3,50.2,45.6,51.9,46.8,45.7,55.8,43.5,49.6,50.8,50.2,46.1,50.0,48.7,50.0,47.6,46.5,45.4,46.7,43.3,46.8,40.9,49.0,45.5,48.4,45.8,49.3,42.0,49.2,46.2,48.7,50.2,45.1,46.5,46.3,42.9,46.1,44.5,47.8,48.2,50.0,47.3,42.8,45.1,59.6,49.1,48.4,42.6,44.4,44.0,48.7,42.7,49.6,45.3,49.6,50.5,43.6,45.5,50.5,44.9,45.2,46.6,48.5,45.1,50.1,46.5,45.0,43.8,45.5,43.2,50.4,45.3,46.2,45.7,54.3,45.8,49.8,46.2,49.5,43.5,50.7,47.7,46.4,48.2,46.5,46.4,48.6,47.5,51.1,45.2,45.2,49.1,52.5,47.4,50.0,44.9,50.8,43.4,51.3,47.5,52.1,47.5,52.2,45.5,49.5,44.5,50.8,49.4,46.9,48.4,51.1,48.5,55.9,47.2,49.1,47.3,46.8,41.7,53.4,43.3,48.1,50.5,49.8,43.5,51.5,46.2,55.1,44.5,48.8,47.2,43.9,46.8,50.4,45.2,49.9],\"type\":\"box\",\"xaxis\":\"x\",\"yaxis\":\"y\"},{\"legendgroup\":\"\\u0422\\u043e\\u043b\\u0449\\u0438\\u043d\\u0430 \\u043d\\u0430\\u0434\\u043a\\u043b\\u044e\\u0432\\u044c\\u044f\",\"legendgrouptitle\":{\"text\":\"\\u0422\\u043e\\u043b\\u0449\\u0438\\u043d\\u0430 \\u043d\\u0430\\u0434\\u043a\\u043b\\u044e\\u0432\\u044c\\u044f\"},\"marker\":{\"color\":\"rgb(13, 48, 100)\"},\"name\":\"\\u0422\\u043e\\u043b\\u0449\\u0438\\u043d\\u0430 \\u043d\\u0430\\u0434\\u043a\\u043b\\u044e\\u0432\\u044c\\u044f\",\"x\":[\"Adelie\",\"Adelie\",\"Adelie\",\"Adelie\",\"Adelie\",\"Adelie\",\"Adelie\",\"Adelie\",\"Adelie\",\"Adelie\",\"Adelie\",\"Adelie\",\"Adelie\",\"Adelie\",\"Adelie\",\"Adelie\",\"Adelie\",\"Adelie\",\"Adelie\",\"Adelie\",\"Adelie\",\"Adelie\",\"Adelie\",\"Adelie\",\"Adelie\",\"Adelie\",\"Adelie\",\"Adelie\",\"Adelie\",\"Adelie\",\"Adelie\",\"Adelie\",\"Adelie\",\"Adelie\",\"Adelie\",\"Adelie\",\"Adelie\",\"Adelie\",\"Adelie\",\"Adelie\",\"Adelie\",\"Adelie\",\"Adelie\",\"Adelie\",\"Adelie\",\"Adelie\",\"Adelie\",\"Adelie\",\"Adelie\",\"Adelie\",\"Adelie\",\"Adelie\",\"Adelie\",\"Adelie\",\"Adelie\",\"Adelie\",\"Adelie\",\"Adelie\",\"Adelie\",\"Adelie\",\"Adelie\",\"Adelie\",\"Adelie\",\"Adelie\",\"Adelie\",\"Adelie\",\"Adelie\",\"Adelie\",\"Adelie\",\"Adelie\",\"Adelie\",\"Adelie\",\"Adelie\",\"Adelie\",\"Adelie\",\"Adelie\",\"Adelie\",\"Adelie\",\"Adelie\",\"Adelie\",\"Adelie\",\"Adelie\",\"Adelie\",\"Adelie\",\"Adelie\",\"Adelie\",\"Adelie\",\"Adelie\",\"Adelie\",\"Adelie\",\"Adelie\",\"Adelie\",\"Adelie\",\"Adelie\",\"Adelie\",\"Adelie\",\"Adelie\",\"Adelie\",\"Adelie\",\"Adelie\",\"Adelie\",\"Adelie\",\"Adelie\",\"Adelie\",\"Adelie\",\"Adelie\",\"Adelie\",\"Adelie\",\"Adelie\",\"Adelie\",\"Adelie\",\"Adelie\",\"Adelie\",\"Adelie\",\"Adelie\",\"Adelie\",\"Adelie\",\"Adelie\",\"Adelie\",\"Adelie\",\"Adelie\",\"Adelie\",\"Adelie\",\"Adelie\",\"Adelie\",\"Adelie\",\"Adelie\",\"Adelie\",\"Adelie\",\"Adelie\",\"Adelie\",\"Adelie\",\"Adelie\",\"Adelie\",\"Adelie\",\"Adelie\",\"Adelie\",\"Adelie\",\"Adelie\",\"Adelie\",\"Adelie\",\"Adelie\",\"Adelie\",\"Adelie\",\"Adelie\",\"Adelie\",\"Adelie\",\"Adelie\",\"Adelie\",\"Adelie\",\"Adelie\",\"Adelie\",\"Chinstrap\",\"Chinstrap\",\"Chinstrap\",\"Chinstrap\",\"Chinstrap\",\"Chinstrap\",\"Chinstrap\",\"Chinstrap\",\"Chinstrap\",\"Chinstrap\",\"Chinstrap\",\"Chinstrap\",\"Chinstrap\",\"Chinstrap\",\"Chinstrap\",\"Chinstrap\",\"Chinstrap\",\"Chinstrap\",\"Chinstrap\",\"Chinstrap\",\"Chinstrap\",\"Chinstrap\",\"Chinstrap\",\"Chinstrap\",\"Chinstrap\",\"Chinstrap\",\"Chinstrap\",\"Chinstrap\",\"Chinstrap\",\"Chinstrap\",\"Chinstrap\",\"Chinstrap\",\"Chinstrap\",\"Chinstrap\",\"Chinstrap\",\"Chinstrap\",\"Chinstrap\",\"Chinstrap\",\"Chinstrap\",\"Chinstrap\",\"Chinstrap\",\"Chinstrap\",\"Chinstrap\",\"Chinstrap\",\"Chinstrap\",\"Chinstrap\",\"Chinstrap\",\"Chinstrap\",\"Chinstrap\",\"Chinstrap\",\"Chinstrap\",\"Chinstrap\",\"Chinstrap\",\"Chinstrap\",\"Chinstrap\",\"Chinstrap\",\"Chinstrap\",\"Chinstrap\",\"Chinstrap\",\"Chinstrap\",\"Chinstrap\",\"Chinstrap\",\"Chinstrap\",\"Chinstrap\",\"Chinstrap\",\"Chinstrap\",\"Chinstrap\",\"Chinstrap\",\"Gentoo\",\"Gentoo\",\"Gentoo\",\"Gentoo\",\"Gentoo\",\"Gentoo\",\"Gentoo\",\"Gentoo\",\"Gentoo\",\"Gentoo\",\"Gentoo\",\"Gentoo\",\"Gentoo\",\"Gentoo\",\"Gentoo\",\"Gentoo\",\"Gentoo\",\"Gentoo\",\"Gentoo\",\"Gentoo\",\"Gentoo\",\"Gentoo\",\"Gentoo\",\"Gentoo\",\"Gentoo\",\"Gentoo\",\"Gentoo\",\"Gentoo\",\"Gentoo\",\"Gentoo\",\"Gentoo\",\"Gentoo\",\"Gentoo\",\"Gentoo\",\"Gentoo\",\"Gentoo\",\"Gentoo\",\"Gentoo\",\"Gentoo\",\"Gentoo\",\"Gentoo\",\"Gentoo\",\"Gentoo\",\"Gentoo\",\"Gentoo\",\"Gentoo\",\"Gentoo\",\"Gentoo\",\"Gentoo\",\"Gentoo\",\"Gentoo\",\"Gentoo\",\"Gentoo\",\"Gentoo\",\"Gentoo\",\"Gentoo\",\"Gentoo\",\"Gentoo\",\"Gentoo\",\"Gentoo\",\"Gentoo\",\"Gentoo\",\"Gentoo\",\"Gentoo\",\"Gentoo\",\"Gentoo\",\"Gentoo\",\"Gentoo\",\"Gentoo\",\"Gentoo\",\"Gentoo\",\"Gentoo\",\"Gentoo\",\"Gentoo\",\"Gentoo\",\"Gentoo\",\"Gentoo\",\"Gentoo\",\"Gentoo\",\"Gentoo\",\"Gentoo\",\"Gentoo\",\"Gentoo\",\"Gentoo\",\"Gentoo\",\"Gentoo\",\"Gentoo\",\"Gentoo\",\"Gentoo\",\"Gentoo\",\"Gentoo\",\"Gentoo\",\"Gentoo\",\"Gentoo\",\"Gentoo\",\"Gentoo\",\"Gentoo\",\"Gentoo\",\"Gentoo\",\"Gentoo\",\"Gentoo\",\"Gentoo\",\"Gentoo\",\"Gentoo\",\"Gentoo\",\"Gentoo\",\"Gentoo\",\"Gentoo\",\"Gentoo\",\"Gentoo\",\"Gentoo\",\"Gentoo\",\"Gentoo\",\"Gentoo\",\"Gentoo\",\"Gentoo\",\"Gentoo\",\"Gentoo\",\"Gentoo\",\"Gentoo\",\"Gentoo\",\"Gentoo\",\"Gentoo\",\"Gentoo\"],\"y\":[18.7,17.4,18.0,17.2,19.3,20.6,17.8,19.6,18.1,20.2,17.1,17.3,17.6,21.2,21.1,17.8,19.0,20.7,18.4,21.5,18.3,18.7,19.2,18.1,17.2,18.9,18.6,17.9,18.6,18.9,16.7,18.1,17.8,18.9,17.0,21.1,20.0,18.5,19.3,19.1,18.0,18.4,18.5,19.7,16.9,18.8,19.0,18.9,17.9,21.2,17.7,18.9,17.9,19.5,18.1,18.6,17.5,18.8,16.6,19.1,16.9,21.1,17.0,18.2,17.1,18.0,16.2,19.1,16.6,19.4,19.0,18.4,17.2,18.9,17.5,18.5,16.8,19.4,16.1,19.1,17.2,17.6,18.8,19.4,17.8,20.3,19.5,18.6,19.2,18.8,18.0,18.1,17.1,18.1,17.3,18.9,18.6,18.5,16.1,18.5,17.9,20.0,16.0,20.0,18.6,18.9,17.2,20.0,17.0,19.0,16.5,20.3,17.7,19.5,20.7,18.3,17.0,20.5,17.0,18.6,17.2,19.8,17.0,18.5,15.9,19.0,17.6,18.3,17.1,18.0,17.9,19.2,18.5,18.5,17.6,17.5,17.5,20.1,16.5,17.9,17.1,17.2,15.5,17.0,16.8,18.7,18.6,18.4,17.8,18.1,17.1,18.5,17.9,19.5,19.2,18.7,19.8,17.8,18.2,18.2,18.9,19.9,17.8,20.3,17.3,18.1,17.1,19.6,20.0,17.8,18.6,18.2,17.3,17.5,16.6,19.4,17.9,19.0,18.4,19.0,17.8,20.0,16.6,20.8,16.7,18.8,18.6,16.8,18.3,20.7,16.6,19.9,19.5,17.5,19.1,17.0,17.9,18.5,17.9,19.6,18.7,17.3,16.4,19.0,17.3,19.7,17.3,18.8,16.6,19.9,18.8,19.4,19.5,16.5,17.0,19.8,18.1,18.2,19.0,18.7,13.2,16.3,14.1,15.2,14.5,13.5,14.6,15.3,13.4,15.4,13.7,16.1,13.7,14.6,14.6,15.7,13.5,15.2,14.5,15.1,14.3,14.5,14.5,15.8,13.1,15.1,14.3,15.0,14.3,15.3,15.3,14.2,14.5,17.0,14.8,16.3,13.7,17.3,13.6,15.7,13.7,16.0,13.7,15.0,15.9,13.9,13.9,15.9,13.3,15.8,14.2,14.1,14.4,15.0,14.4,15.4,13.9,15.0,14.5,15.3,13.8,14.9,13.9,15.7,14.2,16.8,14.4,16.2,14.2,15.0,15.0,15.6,15.6,14.8,15.0,16.0,14.2,16.3,13.8,16.4,14.5,15.6,14.6,15.9,13.8,17.3,14.4,14.2,14.0,17.0,15.0,17.1,14.5,16.1,14.7,15.7,15.8,14.6,14.4,16.5,15.0,17.0,15.5,15.0,13.8,16.1,14.7,15.8,14.0,15.1,15.2,15.9,15.2,16.3,14.1,16.0,15.7,16.2,13.7,17.2,14.3,15.7,14.8,16.1],\"type\":\"box\",\"xaxis\":\"x2\",\"yaxis\":\"y2\"},{\"legendgroup\":\"\\u0414\\u043b\\u0438\\u043d\\u0430 \\u043f\\u043b\\u0430\\u0432\\u043d\\u0438\\u043a\\u0430\",\"legendgrouptitle\":{\"text\":\"\\u0414\\u043b\\u0438\\u043d\\u0430 \\u043f\\u043b\\u0430\\u0432\\u043d\\u0438\\u043a\\u0430\"},\"marker\":{\"color\":\"rgb(53, 50, 155)\"},\"name\":\"\\u0414\\u043b\\u0438\\u043d\\u0430 \\u043f\\u043b\\u0430\\u0432\\u043d\\u0438\\u043a\\u0430\",\"x\":[\"Adelie\",\"Adelie\",\"Adelie\",\"Adelie\",\"Adelie\",\"Adelie\",\"Adelie\",\"Adelie\",\"Adelie\",\"Adelie\",\"Adelie\",\"Adelie\",\"Adelie\",\"Adelie\",\"Adelie\",\"Adelie\",\"Adelie\",\"Adelie\",\"Adelie\",\"Adelie\",\"Adelie\",\"Adelie\",\"Adelie\",\"Adelie\",\"Adelie\",\"Adelie\",\"Adelie\",\"Adelie\",\"Adelie\",\"Adelie\",\"Adelie\",\"Adelie\",\"Adelie\",\"Adelie\",\"Adelie\",\"Adelie\",\"Adelie\",\"Adelie\",\"Adelie\",\"Adelie\",\"Adelie\",\"Adelie\",\"Adelie\",\"Adelie\",\"Adelie\",\"Adelie\",\"Adelie\",\"Adelie\",\"Adelie\",\"Adelie\",\"Adelie\",\"Adelie\",\"Adelie\",\"Adelie\",\"Adelie\",\"Adelie\",\"Adelie\",\"Adelie\",\"Adelie\",\"Adelie\",\"Adelie\",\"Adelie\",\"Adelie\",\"Adelie\",\"Adelie\",\"Adelie\",\"Adelie\",\"Adelie\",\"Adelie\",\"Adelie\",\"Adelie\",\"Adelie\",\"Adelie\",\"Adelie\",\"Adelie\",\"Adelie\",\"Adelie\",\"Adelie\",\"Adelie\",\"Adelie\",\"Adelie\",\"Adelie\",\"Adelie\",\"Adelie\",\"Adelie\",\"Adelie\",\"Adelie\",\"Adelie\",\"Adelie\",\"Adelie\",\"Adelie\",\"Adelie\",\"Adelie\",\"Adelie\",\"Adelie\",\"Adelie\",\"Adelie\",\"Adelie\",\"Adelie\",\"Adelie\",\"Adelie\",\"Adelie\",\"Adelie\",\"Adelie\",\"Adelie\",\"Adelie\",\"Adelie\",\"Adelie\",\"Adelie\",\"Adelie\",\"Adelie\",\"Adelie\",\"Adelie\",\"Adelie\",\"Adelie\",\"Adelie\",\"Adelie\",\"Adelie\",\"Adelie\",\"Adelie\",\"Adelie\",\"Adelie\",\"Adelie\",\"Adelie\",\"Adelie\",\"Adelie\",\"Adelie\",\"Adelie\",\"Adelie\",\"Adelie\",\"Adelie\",\"Adelie\",\"Adelie\",\"Adelie\",\"Adelie\",\"Adelie\",\"Adelie\",\"Adelie\",\"Adelie\",\"Adelie\",\"Adelie\",\"Adelie\",\"Adelie\",\"Adelie\",\"Adelie\",\"Adelie\",\"Adelie\",\"Adelie\",\"Adelie\",\"Adelie\",\"Adelie\",\"Adelie\",\"Chinstrap\",\"Chinstrap\",\"Chinstrap\",\"Chinstrap\",\"Chinstrap\",\"Chinstrap\",\"Chinstrap\",\"Chinstrap\",\"Chinstrap\",\"Chinstrap\",\"Chinstrap\",\"Chinstrap\",\"Chinstrap\",\"Chinstrap\",\"Chinstrap\",\"Chinstrap\",\"Chinstrap\",\"Chinstrap\",\"Chinstrap\",\"Chinstrap\",\"Chinstrap\",\"Chinstrap\",\"Chinstrap\",\"Chinstrap\",\"Chinstrap\",\"Chinstrap\",\"Chinstrap\",\"Chinstrap\",\"Chinstrap\",\"Chinstrap\",\"Chinstrap\",\"Chinstrap\",\"Chinstrap\",\"Chinstrap\",\"Chinstrap\",\"Chinstrap\",\"Chinstrap\",\"Chinstrap\",\"Chinstrap\",\"Chinstrap\",\"Chinstrap\",\"Chinstrap\",\"Chinstrap\",\"Chinstrap\",\"Chinstrap\",\"Chinstrap\",\"Chinstrap\",\"Chinstrap\",\"Chinstrap\",\"Chinstrap\",\"Chinstrap\",\"Chinstrap\",\"Chinstrap\",\"Chinstrap\",\"Chinstrap\",\"Chinstrap\",\"Chinstrap\",\"Chinstrap\",\"Chinstrap\",\"Chinstrap\",\"Chinstrap\",\"Chinstrap\",\"Chinstrap\",\"Chinstrap\",\"Chinstrap\",\"Chinstrap\",\"Chinstrap\",\"Chinstrap\",\"Gentoo\",\"Gentoo\",\"Gentoo\",\"Gentoo\",\"Gentoo\",\"Gentoo\",\"Gentoo\",\"Gentoo\",\"Gentoo\",\"Gentoo\",\"Gentoo\",\"Gentoo\",\"Gentoo\",\"Gentoo\",\"Gentoo\",\"Gentoo\",\"Gentoo\",\"Gentoo\",\"Gentoo\",\"Gentoo\",\"Gentoo\",\"Gentoo\",\"Gentoo\",\"Gentoo\",\"Gentoo\",\"Gentoo\",\"Gentoo\",\"Gentoo\",\"Gentoo\",\"Gentoo\",\"Gentoo\",\"Gentoo\",\"Gentoo\",\"Gentoo\",\"Gentoo\",\"Gentoo\",\"Gentoo\",\"Gentoo\",\"Gentoo\",\"Gentoo\",\"Gentoo\",\"Gentoo\",\"Gentoo\",\"Gentoo\",\"Gentoo\",\"Gentoo\",\"Gentoo\",\"Gentoo\",\"Gentoo\",\"Gentoo\",\"Gentoo\",\"Gentoo\",\"Gentoo\",\"Gentoo\",\"Gentoo\",\"Gentoo\",\"Gentoo\",\"Gentoo\",\"Gentoo\",\"Gentoo\",\"Gentoo\",\"Gentoo\",\"Gentoo\",\"Gentoo\",\"Gentoo\",\"Gentoo\",\"Gentoo\",\"Gentoo\",\"Gentoo\",\"Gentoo\",\"Gentoo\",\"Gentoo\",\"Gentoo\",\"Gentoo\",\"Gentoo\",\"Gentoo\",\"Gentoo\",\"Gentoo\",\"Gentoo\",\"Gentoo\",\"Gentoo\",\"Gentoo\",\"Gentoo\",\"Gentoo\",\"Gentoo\",\"Gentoo\",\"Gentoo\",\"Gentoo\",\"Gentoo\",\"Gentoo\",\"Gentoo\",\"Gentoo\",\"Gentoo\",\"Gentoo\",\"Gentoo\",\"Gentoo\",\"Gentoo\",\"Gentoo\",\"Gentoo\",\"Gentoo\",\"Gentoo\",\"Gentoo\",\"Gentoo\",\"Gentoo\",\"Gentoo\",\"Gentoo\",\"Gentoo\",\"Gentoo\",\"Gentoo\",\"Gentoo\",\"Gentoo\",\"Gentoo\",\"Gentoo\",\"Gentoo\",\"Gentoo\",\"Gentoo\",\"Gentoo\",\"Gentoo\",\"Gentoo\",\"Gentoo\",\"Gentoo\",\"Gentoo\",\"Gentoo\",\"Gentoo\"],\"y\":[181.0,186.0,195.0,200.9,193.0,190.0,181.0,195.0,193.0,190.0,186.0,180.0,182.0,191.0,198.0,185.0,195.0,197.0,184.0,194.0,174.0,180.0,189.0,185.0,180.0,187.0,183.0,187.0,172.0,180.0,178.0,178.0,188.0,184.0,195.0,196.0,190.0,180.0,181.0,184.0,182.0,195.0,186.0,196.0,185.0,190.0,182.0,179.0,190.0,191.0,186.0,188.0,190.0,200.0,187.0,191.0,186.0,193.0,181.0,194.0,185.0,195.0,185.0,192.0,184.0,192.0,195.0,188.0,190.0,198.0,190.0,190.0,196.0,197.0,190.0,195.0,191.0,184.0,187.0,195.0,189.0,196.0,187.0,193.0,191.0,194.0,190.0,189.0,189.0,190.0,202.0,205.0,185.0,186.0,187.0,208.0,190.0,196.0,178.0,192.0,192.0,203.0,183.0,190.0,193.0,184.0,199.0,190.0,181.0,197.0,198.0,191.0,193.0,197.0,191.0,196.0,188.0,199.0,189.0,189.0,187.0,198.0,176.0,202.0,186.0,199.0,191.0,195.0,191.0,210.0,190.0,197.0,193.0,199.0,187.0,190.0,191.0,200.0,185.0,193.0,193.0,187.0,188.0,190.0,192.0,185.0,190.0,184.0,195.0,193.0,187.0,201.0,192.0,196.0,193.0,188.0,197.0,198.0,178.0,197.0,195.0,198.0,193.0,194.0,185.0,201.0,190.0,201.0,197.0,181.0,190.0,195.0,181.0,191.0,187.0,193.0,195.0,197.0,200.0,200.0,191.0,205.0,187.0,201.0,187.0,203.0,195.0,199.0,195.0,210.0,192.0,205.0,210.0,187.0,196.0,196.0,196.0,201.0,190.0,212.0,187.0,198.0,199.0,201.0,193.0,203.0,187.0,197.0,191.0,203.0,202.0,194.0,206.0,189.0,195.0,207.0,202.0,193.0,210.0,198.0,211.0,230.0,210.0,218.0,215.0,210.0,211.0,219.0,209.0,215.0,214.0,216.0,214.0,213.0,210.0,217.0,210.0,221.0,209.0,222.0,218.0,215.0,213.0,215.0,215.0,215.0,216.0,215.0,210.0,220.0,222.0,209.0,207.0,230.0,220.0,220.0,213.0,219.0,208.0,208.0,208.0,225.0,210.0,216.0,222.0,217.0,210.0,225.0,213.0,215.0,210.0,220.0,210.0,225.0,217.0,220.0,208.0,220.0,208.0,224.0,208.0,221.0,214.0,231.0,219.0,230.0,214.0,229.0,220.0,223.0,216.0,221.0,221.0,217.0,216.0,230.0,209.0,220.0,215.0,223.0,212.0,221.0,212.0,224.0,212.0,228.0,218.0,218.0,212.0,230.0,218.0,228.0,212.0,224.0,214.0,226.0,216.0,222.0,203.0,225.0,219.0,228.0,215.0,228.0,216.0,215.0,210.0,219.0,208.0,209.0,216.0,229.0,213.0,230.0,217.0,230.0,217.0,222.0,214.0,200.9,215.0,222.0,212.0,213.0],\"type\":\"box\",\"xaxis\":\"x3\",\"yaxis\":\"y3\"},{\"legendgroup\":\"\\u041c\\u0430\\u0441\\u0441\\u0430 \\u0442\\u0435\\u043b\\u0430\",\"legendgrouptitle\":{\"text\":\"\\u041c\\u0430\\u0441\\u0441\\u0430 \\u0442\\u0435\\u043b\\u0430\"},\"marker\":{\"color\":\"rgb(93, 62, 153)\"},\"name\":\"\\u041c\\u0430\\u0441\\u0441\\u0430 \\u0442\\u0435\\u043b\\u0430\",\"x\":[\"Adelie\",\"Adelie\",\"Adelie\",\"Adelie\",\"Adelie\",\"Adelie\",\"Adelie\",\"Adelie\",\"Adelie\",\"Adelie\",\"Adelie\",\"Adelie\",\"Adelie\",\"Adelie\",\"Adelie\",\"Adelie\",\"Adelie\",\"Adelie\",\"Adelie\",\"Adelie\",\"Adelie\",\"Adelie\",\"Adelie\",\"Adelie\",\"Adelie\",\"Adelie\",\"Adelie\",\"Adelie\",\"Adelie\",\"Adelie\",\"Adelie\",\"Adelie\",\"Adelie\",\"Adelie\",\"Adelie\",\"Adelie\",\"Adelie\",\"Adelie\",\"Adelie\",\"Adelie\",\"Adelie\",\"Adelie\",\"Adelie\",\"Adelie\",\"Adelie\",\"Adelie\",\"Adelie\",\"Adelie\",\"Adelie\",\"Adelie\",\"Adelie\",\"Adelie\",\"Adelie\",\"Adelie\",\"Adelie\",\"Adelie\",\"Adelie\",\"Adelie\",\"Adelie\",\"Adelie\",\"Adelie\",\"Adelie\",\"Adelie\",\"Adelie\",\"Adelie\",\"Adelie\",\"Adelie\",\"Adelie\",\"Adelie\",\"Adelie\",\"Adelie\",\"Adelie\",\"Adelie\",\"Adelie\",\"Adelie\",\"Adelie\",\"Adelie\",\"Adelie\",\"Adelie\",\"Adelie\",\"Adelie\",\"Adelie\",\"Adelie\",\"Adelie\",\"Adelie\",\"Adelie\",\"Adelie\",\"Adelie\",\"Adelie\",\"Adelie\",\"Adelie\",\"Adelie\",\"Adelie\",\"Adelie\",\"Adelie\",\"Adelie\",\"Adelie\",\"Adelie\",\"Adelie\",\"Adelie\",\"Adelie\",\"Adelie\",\"Adelie\",\"Adelie\",\"Adelie\",\"Adelie\",\"Adelie\",\"Adelie\",\"Adelie\",\"Adelie\",\"Adelie\",\"Adelie\",\"Adelie\",\"Adelie\",\"Adelie\",\"Adelie\",\"Adelie\",\"Adelie\",\"Adelie\",\"Adelie\",\"Adelie\",\"Adelie\",\"Adelie\",\"Adelie\",\"Adelie\",\"Adelie\",\"Adelie\",\"Adelie\",\"Adelie\",\"Adelie\",\"Adelie\",\"Adelie\",\"Adelie\",\"Adelie\",\"Adelie\",\"Adelie\",\"Adelie\",\"Adelie\",\"Adelie\",\"Adelie\",\"Adelie\",\"Adelie\",\"Adelie\",\"Adelie\",\"Adelie\",\"Adelie\",\"Adelie\",\"Adelie\",\"Adelie\",\"Adelie\",\"Adelie\",\"Adelie\",\"Chinstrap\",\"Chinstrap\",\"Chinstrap\",\"Chinstrap\",\"Chinstrap\",\"Chinstrap\",\"Chinstrap\",\"Chinstrap\",\"Chinstrap\",\"Chinstrap\",\"Chinstrap\",\"Chinstrap\",\"Chinstrap\",\"Chinstrap\",\"Chinstrap\",\"Chinstrap\",\"Chinstrap\",\"Chinstrap\",\"Chinstrap\",\"Chinstrap\",\"Chinstrap\",\"Chinstrap\",\"Chinstrap\",\"Chinstrap\",\"Chinstrap\",\"Chinstrap\",\"Chinstrap\",\"Chinstrap\",\"Chinstrap\",\"Chinstrap\",\"Chinstrap\",\"Chinstrap\",\"Chinstrap\",\"Chinstrap\",\"Chinstrap\",\"Chinstrap\",\"Chinstrap\",\"Chinstrap\",\"Chinstrap\",\"Chinstrap\",\"Chinstrap\",\"Chinstrap\",\"Chinstrap\",\"Chinstrap\",\"Chinstrap\",\"Chinstrap\",\"Chinstrap\",\"Chinstrap\",\"Chinstrap\",\"Chinstrap\",\"Chinstrap\",\"Chinstrap\",\"Chinstrap\",\"Chinstrap\",\"Chinstrap\",\"Chinstrap\",\"Chinstrap\",\"Chinstrap\",\"Chinstrap\",\"Chinstrap\",\"Chinstrap\",\"Chinstrap\",\"Chinstrap\",\"Chinstrap\",\"Chinstrap\",\"Chinstrap\",\"Chinstrap\",\"Chinstrap\",\"Gentoo\",\"Gentoo\",\"Gentoo\",\"Gentoo\",\"Gentoo\",\"Gentoo\",\"Gentoo\",\"Gentoo\",\"Gentoo\",\"Gentoo\",\"Gentoo\",\"Gentoo\",\"Gentoo\",\"Gentoo\",\"Gentoo\",\"Gentoo\",\"Gentoo\",\"Gentoo\",\"Gentoo\",\"Gentoo\",\"Gentoo\",\"Gentoo\",\"Gentoo\",\"Gentoo\",\"Gentoo\",\"Gentoo\",\"Gentoo\",\"Gentoo\",\"Gentoo\",\"Gentoo\",\"Gentoo\",\"Gentoo\",\"Gentoo\",\"Gentoo\",\"Gentoo\",\"Gentoo\",\"Gentoo\",\"Gentoo\",\"Gentoo\",\"Gentoo\",\"Gentoo\",\"Gentoo\",\"Gentoo\",\"Gentoo\",\"Gentoo\",\"Gentoo\",\"Gentoo\",\"Gentoo\",\"Gentoo\",\"Gentoo\",\"Gentoo\",\"Gentoo\",\"Gentoo\",\"Gentoo\",\"Gentoo\",\"Gentoo\",\"Gentoo\",\"Gentoo\",\"Gentoo\",\"Gentoo\",\"Gentoo\",\"Gentoo\",\"Gentoo\",\"Gentoo\",\"Gentoo\",\"Gentoo\",\"Gentoo\",\"Gentoo\",\"Gentoo\",\"Gentoo\",\"Gentoo\",\"Gentoo\",\"Gentoo\",\"Gentoo\",\"Gentoo\",\"Gentoo\",\"Gentoo\",\"Gentoo\",\"Gentoo\",\"Gentoo\",\"Gentoo\",\"Gentoo\",\"Gentoo\",\"Gentoo\",\"Gentoo\",\"Gentoo\",\"Gentoo\",\"Gentoo\",\"Gentoo\",\"Gentoo\",\"Gentoo\",\"Gentoo\",\"Gentoo\",\"Gentoo\",\"Gentoo\",\"Gentoo\",\"Gentoo\",\"Gentoo\",\"Gentoo\",\"Gentoo\",\"Gentoo\",\"Gentoo\",\"Gentoo\",\"Gentoo\",\"Gentoo\",\"Gentoo\",\"Gentoo\",\"Gentoo\",\"Gentoo\",\"Gentoo\",\"Gentoo\",\"Gentoo\",\"Gentoo\",\"Gentoo\",\"Gentoo\",\"Gentoo\",\"Gentoo\",\"Gentoo\",\"Gentoo\",\"Gentoo\",\"Gentoo\",\"Gentoo\",\"Gentoo\",\"Gentoo\"],\"y\":[3750.0,3800.0,3250.0,4201.8,3450.0,3650.0,3625.0,4675.0,3475.0,4250.0,3300.0,3700.0,3200.0,3800.0,4400.0,3700.0,3450.0,4500.0,3325.0,4200.0,3400.0,3600.0,3800.0,3950.0,3800.0,3800.0,3550.0,3200.0,3150.0,3950.0,3250.0,3900.0,3300.0,3900.0,3325.0,4150.0,3950.0,3550.0,3300.0,4650.0,3150.0,3900.0,3100.0,4400.0,3000.0,4600.0,3425.0,2975.0,3450.0,4150.0,3500.0,4300.0,3450.0,4050.0,2900.0,3700.0,3550.0,3800.0,2850.0,3750.0,3150.0,4400.0,3600.0,4050.0,2850.0,3950.0,3350.0,4100.0,3050.0,4450.0,3600.0,3900.0,3550.0,4150.0,3700.0,4250.0,3700.0,3900.0,3550.0,4000.0,3200.0,4700.0,3800.0,4200.0,3350.0,3550.0,3800.0,3500.0,3950.0,3600.0,3550.0,4300.0,3400.0,4450.0,3300.0,4300.0,3700.0,4350.0,2900.0,4100.0,3725.0,4725.0,3075.0,4250.0,2925.0,3550.0,3750.0,3900.0,3175.0,4775.0,3825.0,4600.0,3200.0,4275.0,3900.0,4075.0,2900.0,3775.0,3350.0,3325.0,3150.0,3500.0,3450.0,3875.0,3050.0,4000.0,3275.0,4300.0,3050.0,4000.0,3325.0,3500.0,3500.0,4475.0,3425.0,3900.0,3175.0,3975.0,3400.0,4250.0,3400.0,3475.0,3050.0,3725.0,3000.0,3650.0,4250.0,3475.0,3450.0,3750.0,3700.0,4000.0,3500.0,3900.0,3650.0,3525.0,3725.0,3950.0,3250.0,3750.0,4150.0,3700.0,3800.0,3775.0,3700.0,4050.0,3575.0,4050.0,3300.0,3700.0,3450.0,4400.0,3600.0,3400.0,2900.0,3800.0,3300.0,4150.0,3400.0,3800.0,3700.0,4550.0,3200.0,4300.0,3350.0,4100.0,3600.0,3900.0,3850.0,4800.0,2700.0,4500.0,3950.0,3650.0,3550.0,3500.0,3675.0,4450.0,3400.0,4300.0,3250.0,3675.0,3325.0,3950.0,3600.0,4050.0,3350.0,3450.0,3250.0,4050.0,3800.0,3525.0,3950.0,3650.0,3650.0,4000.0,3400.0,3775.0,4100.0,3775.0,4500.0,5700.0,4450.0,5700.0,5400.0,4550.0,4800.0,5200.0,4400.0,5150.0,4650.0,5550.0,4650.0,5850.0,4200.0,5850.0,4150.0,6300.0,4800.0,5350.0,5700.0,5000.0,4400.0,5050.0,5000.0,5100.0,4100.0,5650.0,4600.0,5550.0,5250.0,4700.0,5050.0,6050.0,5150.0,5400.0,4950.0,5250.0,4350.0,5350.0,3950.0,5700.0,4300.0,4750.0,5550.0,4900.0,4200.0,5400.0,5100.0,5300.0,4850.0,5300.0,4400.0,5000.0,4900.0,5050.0,4300.0,5000.0,4450.0,5550.0,4200.0,5300.0,4400.0,5650.0,4700.0,5700.0,4650.0,5800.0,4700.0,5550.0,4750.0,5000.0,5100.0,5200.0,4700.0,5800.0,4600.0,6000.0,4750.0,5950.0,4625.0,5450.0,4725.0,5350.0,4750.0,5600.0,4600.0,5300.0,4875.0,5550.0,4950.0,5400.0,4750.0,5650.0,4850.0,5200.0,4925.0,4875.0,4625.0,5250.0,4850.0,5600.0,4975.0,5500.0,4725.0,5500.0,4700.0,5500.0,4575.0,5500.0,5000.0,5950.0,4650.0,5500.0,4375.0,5850.0,4875.0,6000.0,4925.0,4201.8,4850.0,5750.0,5200.0,5400.0],\"type\":\"box\",\"xaxis\":\"x4\",\"yaxis\":\"y4\"}],                        {\"template\":{\"data\":{\"histogram2dcontour\":[{\"type\":\"histogram2dcontour\",\"colorbar\":{\"outlinewidth\":0,\"ticks\":\"\"},\"colorscale\":[[0.0,\"#0d0887\"],[0.1111111111111111,\"#46039f\"],[0.2222222222222222,\"#7201a8\"],[0.3333333333333333,\"#9c179e\"],[0.4444444444444444,\"#bd3786\"],[0.5555555555555556,\"#d8576b\"],[0.6666666666666666,\"#ed7953\"],[0.7777777777777778,\"#fb9f3a\"],[0.8888888888888888,\"#fdca26\"],[1.0,\"#f0f921\"]]}],\"choropleth\":[{\"type\":\"choropleth\",\"colorbar\":{\"outlinewidth\":0,\"ticks\":\"\"}}],\"histogram2d\":[{\"type\":\"histogram2d\",\"colorbar\":{\"outlinewidth\":0,\"ticks\":\"\"},\"colorscale\":[[0.0,\"#0d0887\"],[0.1111111111111111,\"#46039f\"],[0.2222222222222222,\"#7201a8\"],[0.3333333333333333,\"#9c179e\"],[0.4444444444444444,\"#bd3786\"],[0.5555555555555556,\"#d8576b\"],[0.6666666666666666,\"#ed7953\"],[0.7777777777777778,\"#fb9f3a\"],[0.8888888888888888,\"#fdca26\"],[1.0,\"#f0f921\"]]}],\"heatmap\":[{\"type\":\"heatmap\",\"colorbar\":{\"outlinewidth\":0,\"ticks\":\"\"},\"colorscale\":[[0.0,\"#0d0887\"],[0.1111111111111111,\"#46039f\"],[0.2222222222222222,\"#7201a8\"],[0.3333333333333333,\"#9c179e\"],[0.4444444444444444,\"#bd3786\"],[0.5555555555555556,\"#d8576b\"],[0.6666666666666666,\"#ed7953\"],[0.7777777777777778,\"#fb9f3a\"],[0.8888888888888888,\"#fdca26\"],[1.0,\"#f0f921\"]]}],\"heatmapgl\":[{\"type\":\"heatmapgl\",\"colorbar\":{\"outlinewidth\":0,\"ticks\":\"\"},\"colorscale\":[[0.0,\"#0d0887\"],[0.1111111111111111,\"#46039f\"],[0.2222222222222222,\"#7201a8\"],[0.3333333333333333,\"#9c179e\"],[0.4444444444444444,\"#bd3786\"],[0.5555555555555556,\"#d8576b\"],[0.6666666666666666,\"#ed7953\"],[0.7777777777777778,\"#fb9f3a\"],[0.8888888888888888,\"#fdca26\"],[1.0,\"#f0f921\"]]}],\"contourcarpet\":[{\"type\":\"contourcarpet\",\"colorbar\":{\"outlinewidth\":0,\"ticks\":\"\"}}],\"contour\":[{\"type\":\"contour\",\"colorbar\":{\"outlinewidth\":0,\"ticks\":\"\"},\"colorscale\":[[0.0,\"#0d0887\"],[0.1111111111111111,\"#46039f\"],[0.2222222222222222,\"#7201a8\"],[0.3333333333333333,\"#9c179e\"],[0.4444444444444444,\"#bd3786\"],[0.5555555555555556,\"#d8576b\"],[0.6666666666666666,\"#ed7953\"],[0.7777777777777778,\"#fb9f3a\"],[0.8888888888888888,\"#fdca26\"],[1.0,\"#f0f921\"]]}],\"surface\":[{\"type\":\"surface\",\"colorbar\":{\"outlinewidth\":0,\"ticks\":\"\"},\"colorscale\":[[0.0,\"#0d0887\"],[0.1111111111111111,\"#46039f\"],[0.2222222222222222,\"#7201a8\"],[0.3333333333333333,\"#9c179e\"],[0.4444444444444444,\"#bd3786\"],[0.5555555555555556,\"#d8576b\"],[0.6666666666666666,\"#ed7953\"],[0.7777777777777778,\"#fb9f3a\"],[0.8888888888888888,\"#fdca26\"],[1.0,\"#f0f921\"]]}],\"mesh3d\":[{\"type\":\"mesh3d\",\"colorbar\":{\"outlinewidth\":0,\"ticks\":\"\"}}],\"scatter\":[{\"fillpattern\":{\"fillmode\":\"overlay\",\"size\":10,\"solidity\":0.2},\"type\":\"scatter\"}],\"parcoords\":[{\"type\":\"parcoords\",\"line\":{\"colorbar\":{\"outlinewidth\":0,\"ticks\":\"\"}}}],\"scatterpolargl\":[{\"type\":\"scatterpolargl\",\"marker\":{\"colorbar\":{\"outlinewidth\":0,\"ticks\":\"\"}}}],\"bar\":[{\"error_x\":{\"color\":\"#2a3f5f\"},\"error_y\":{\"color\":\"#2a3f5f\"},\"marker\":{\"line\":{\"color\":\"#E5ECF6\",\"width\":0.5},\"pattern\":{\"fillmode\":\"overlay\",\"size\":10,\"solidity\":0.2}},\"type\":\"bar\"}],\"scattergeo\":[{\"type\":\"scattergeo\",\"marker\":{\"colorbar\":{\"outlinewidth\":0,\"ticks\":\"\"}}}],\"scatterpolar\":[{\"type\":\"scatterpolar\",\"marker\":{\"colorbar\":{\"outlinewidth\":0,\"ticks\":\"\"}}}],\"histogram\":[{\"marker\":{\"pattern\":{\"fillmode\":\"overlay\",\"size\":10,\"solidity\":0.2}},\"type\":\"histogram\"}],\"scattergl\":[{\"type\":\"scattergl\",\"marker\":{\"colorbar\":{\"outlinewidth\":0,\"ticks\":\"\"}}}],\"scatter3d\":[{\"type\":\"scatter3d\",\"line\":{\"colorbar\":{\"outlinewidth\":0,\"ticks\":\"\"}},\"marker\":{\"colorbar\":{\"outlinewidth\":0,\"ticks\":\"\"}}}],\"scattermapbox\":[{\"type\":\"scattermapbox\",\"marker\":{\"colorbar\":{\"outlinewidth\":0,\"ticks\":\"\"}}}],\"scatterternary\":[{\"type\":\"scatterternary\",\"marker\":{\"colorbar\":{\"outlinewidth\":0,\"ticks\":\"\"}}}],\"scattercarpet\":[{\"type\":\"scattercarpet\",\"marker\":{\"colorbar\":{\"outlinewidth\":0,\"ticks\":\"\"}}}],\"carpet\":[{\"aaxis\":{\"endlinecolor\":\"#2a3f5f\",\"gridcolor\":\"white\",\"linecolor\":\"white\",\"minorgridcolor\":\"white\",\"startlinecolor\":\"#2a3f5f\"},\"baxis\":{\"endlinecolor\":\"#2a3f5f\",\"gridcolor\":\"white\",\"linecolor\":\"white\",\"minorgridcolor\":\"white\",\"startlinecolor\":\"#2a3f5f\"},\"type\":\"carpet\"}],\"table\":[{\"cells\":{\"fill\":{\"color\":\"#EBF0F8\"},\"line\":{\"color\":\"white\"}},\"header\":{\"fill\":{\"color\":\"#C8D4E3\"},\"line\":{\"color\":\"white\"}},\"type\":\"table\"}],\"barpolar\":[{\"marker\":{\"line\":{\"color\":\"#E5ECF6\",\"width\":0.5},\"pattern\":{\"fillmode\":\"overlay\",\"size\":10,\"solidity\":0.2}},\"type\":\"barpolar\"}],\"pie\":[{\"automargin\":true,\"type\":\"pie\"}]},\"layout\":{\"autotypenumbers\":\"strict\",\"colorway\":[\"#636efa\",\"#EF553B\",\"#00cc96\",\"#ab63fa\",\"#FFA15A\",\"#19d3f3\",\"#FF6692\",\"#B6E880\",\"#FF97FF\",\"#FECB52\"],\"font\":{\"color\":\"#2a3f5f\"},\"hovermode\":\"closest\",\"hoverlabel\":{\"align\":\"left\"},\"paper_bgcolor\":\"white\",\"plot_bgcolor\":\"#E5ECF6\",\"polar\":{\"bgcolor\":\"#E5ECF6\",\"angularaxis\":{\"gridcolor\":\"white\",\"linecolor\":\"white\",\"ticks\":\"\"},\"radialaxis\":{\"gridcolor\":\"white\",\"linecolor\":\"white\",\"ticks\":\"\"}},\"ternary\":{\"bgcolor\":\"#E5ECF6\",\"aaxis\":{\"gridcolor\":\"white\",\"linecolor\":\"white\",\"ticks\":\"\"},\"baxis\":{\"gridcolor\":\"white\",\"linecolor\":\"white\",\"ticks\":\"\"},\"caxis\":{\"gridcolor\":\"white\",\"linecolor\":\"white\",\"ticks\":\"\"}},\"coloraxis\":{\"colorbar\":{\"outlinewidth\":0,\"ticks\":\"\"}},\"colorscale\":{\"sequential\":[[0.0,\"#0d0887\"],[0.1111111111111111,\"#46039f\"],[0.2222222222222222,\"#7201a8\"],[0.3333333333333333,\"#9c179e\"],[0.4444444444444444,\"#bd3786\"],[0.5555555555555556,\"#d8576b\"],[0.6666666666666666,\"#ed7953\"],[0.7777777777777778,\"#fb9f3a\"],[0.8888888888888888,\"#fdca26\"],[1.0,\"#f0f921\"]],\"sequentialminus\":[[0.0,\"#0d0887\"],[0.1111111111111111,\"#46039f\"],[0.2222222222222222,\"#7201a8\"],[0.3333333333333333,\"#9c179e\"],[0.4444444444444444,\"#bd3786\"],[0.5555555555555556,\"#d8576b\"],[0.6666666666666666,\"#ed7953\"],[0.7777777777777778,\"#fb9f3a\"],[0.8888888888888888,\"#fdca26\"],[1.0,\"#f0f921\"]],\"diverging\":[[0,\"#8e0152\"],[0.1,\"#c51b7d\"],[0.2,\"#de77ae\"],[0.3,\"#f1b6da\"],[0.4,\"#fde0ef\"],[0.5,\"#f7f7f7\"],[0.6,\"#e6f5d0\"],[0.7,\"#b8e186\"],[0.8,\"#7fbc41\"],[0.9,\"#4d9221\"],[1,\"#276419\"]]},\"xaxis\":{\"gridcolor\":\"white\",\"linecolor\":\"white\",\"ticks\":\"\",\"title\":{\"standoff\":15},\"zerolinecolor\":\"white\",\"automargin\":true,\"zerolinewidth\":2},\"yaxis\":{\"gridcolor\":\"white\",\"linecolor\":\"white\",\"ticks\":\"\",\"title\":{\"standoff\":15},\"zerolinecolor\":\"white\",\"automargin\":true,\"zerolinewidth\":2},\"scene\":{\"xaxis\":{\"backgroundcolor\":\"#E5ECF6\",\"gridcolor\":\"white\",\"linecolor\":\"white\",\"showbackground\":true,\"ticks\":\"\",\"zerolinecolor\":\"white\",\"gridwidth\":2},\"yaxis\":{\"backgroundcolor\":\"#E5ECF6\",\"gridcolor\":\"white\",\"linecolor\":\"white\",\"showbackground\":true,\"ticks\":\"\",\"zerolinecolor\":\"white\",\"gridwidth\":2},\"zaxis\":{\"backgroundcolor\":\"#E5ECF6\",\"gridcolor\":\"white\",\"linecolor\":\"white\",\"showbackground\":true,\"ticks\":\"\",\"zerolinecolor\":\"white\",\"gridwidth\":2}},\"shapedefaults\":{\"line\":{\"color\":\"#2a3f5f\"}},\"annotationdefaults\":{\"arrowcolor\":\"#2a3f5f\",\"arrowhead\":0,\"arrowwidth\":1},\"geo\":{\"bgcolor\":\"white\",\"landcolor\":\"#E5ECF6\",\"subunitcolor\":\"white\",\"showland\":true,\"showlakes\":true,\"lakecolor\":\"white\"},\"title\":{\"x\":0.05},\"mapbox\":{\"style\":\"light\"}}},\"xaxis\":{\"anchor\":\"y\",\"domain\":[0.0,0.46],\"title\":{\"text\":\"\\u0414\\u043b\\u0438\\u043d\\u0430 \\u043d\\u0430\\u0434\\u043a\\u043b\\u044e\\u0432\\u044c\\u044f\"}},\"yaxis\":{\"anchor\":\"x\",\"domain\":[0.55,1.0]},\"xaxis2\":{\"anchor\":\"y2\",\"domain\":[0.54,1.0],\"title\":{\"text\":\"\\u0422\\u043e\\u043b\\u0449\\u0438\\u043d\\u0430 \\u043d\\u0430\\u0434\\u043a\\u043b\\u044e\\u0432\\u044c\\u044f\"}},\"yaxis2\":{\"anchor\":\"x2\",\"domain\":[0.55,1.0]},\"xaxis3\":{\"anchor\":\"y3\",\"domain\":[0.0,0.46],\"title\":{\"text\":\"\\u0414\\u043b\\u0438\\u043d\\u0430 \\u043f\\u043b\\u0430\\u0432\\u043d\\u0438\\u043a\\u0430\"}},\"yaxis3\":{\"anchor\":\"x3\",\"domain\":[0.0,0.45]},\"xaxis4\":{\"anchor\":\"y4\",\"domain\":[0.54,1.0],\"title\":{\"text\":\"\\u041c\\u0430\\u0441\\u0441\\u0430 \\u0442\\u0435\\u043b\\u0430\"}},\"yaxis4\":{\"anchor\":\"x4\",\"domain\":[0.0,0.45]},\"annotations\":[{\"font\":{\"size\":16},\"showarrow\":false,\"text\":\"\\u0414\\u043b\\u0438\\u043d\\u0430 \\u043d\\u0430\\u0434\\u043a\\u043b\\u044e\\u0432\\u044c\\u044f\",\"x\":0.23,\"xanchor\":\"center\",\"xref\":\"paper\",\"y\":1.0,\"yanchor\":\"bottom\",\"yref\":\"paper\"},{\"font\":{\"size\":16},\"showarrow\":false,\"text\":\"\\u0422\\u043e\\u043b\\u0449\\u0438\\u043d\\u0430 \\u043d\\u0430\\u0434\\u043a\\u043b\\u044e\\u0432\\u044c\\u044f\",\"x\":0.77,\"xanchor\":\"center\",\"xref\":\"paper\",\"y\":1.0,\"yanchor\":\"bottom\",\"yref\":\"paper\"},{\"font\":{\"size\":16},\"showarrow\":false,\"text\":\"\\u0414\\u043b\\u0438\\u043d\\u0430 \\u043f\\u043b\\u0430\\u0432\\u043d\\u0438\\u043a\\u0430\",\"x\":0.23,\"xanchor\":\"center\",\"xref\":\"paper\",\"y\":0.45,\"yanchor\":\"bottom\",\"yref\":\"paper\"},{\"font\":{\"size\":16},\"showarrow\":false,\"text\":\"\\u041c\\u0430\\u0441\\u0441\\u0430 \\u0442\\u0435\\u043b\\u0430\",\"x\":0.77,\"xanchor\":\"center\",\"xref\":\"paper\",\"y\":0.45,\"yanchor\":\"bottom\",\"yref\":\"paper\"}],\"height\":800,\"title\":{\"font\":{\"size\":30},\"text\":\"\\u0420\\u0430\\u0441\\u043f\\u0440\\u0435\\u0434\\u0435\\u043b\\u0435\\u043d\\u0438\\u0435 \\u043f\\u0435\\u0440\\u0435\\u043c\\u0435\\u043d\\u043d\\u044b\\u0445 \\u043f\\u043e \\u0432\\u0438\\u0434\\u0430\\u043c\",\"x\":0.5},\"paper_bgcolor\":\"rgb(229, 237, 247)\",\"plot_bgcolor\":\"rgb(229, 237, 247)\"},                        {\"responsive\": true}                    ).then(function(){\n",
       "                            \n",
       "var gd = document.getElementById('a673f43e-2fb2-4f6a-95f0-d6cae8c267d1');\n",
       "var x = new MutationObserver(function (mutations, observer) {{\n",
       "        var display = window.getComputedStyle(gd).display;\n",
       "        if (!display || display === 'none') {{\n",
       "            console.log([gd, 'removed!']);\n",
       "            Plotly.purge(gd);\n",
       "            observer.disconnect();\n",
       "        }}\n",
       "}});\n",
       "\n",
       "// Listen for the removal of the full notebook cells\n",
       "var notebookContainer = gd.closest('#notebook-container');\n",
       "if (notebookContainer) {{\n",
       "    x.observe(notebookContainer, {childList: true});\n",
       "}}\n",
       "\n",
       "// Listen for the clearing of the current output cell\n",
       "var outputEl = gd.closest('.output');\n",
       "if (outputEl) {{\n",
       "    x.observe(outputEl, {childList: true});\n",
       "}}\n",
       "\n",
       "                        })                };                });            </script>        </div>"
      ]
     },
     "metadata": {},
     "output_type": "display_data"
    }
   ],
   "source": [
    "palette = cycle(px.colors.sequential.thermal)\n",
    "\n",
    "fig = sp.make_subplots(\n",
    "    rows=2, \n",
    "    cols=2,\n",
    "    horizontal_spacing=0.08,\n",
    "    subplot_titles=[\n",
    "        \"Длина надклювья\",\n",
    "        \"Толщина надклювья\",\n",
    "        \"Длина плавника\",\n",
    "        \"Масса тела\",],\n",
    "        vertical_spacing = 0.1\n",
    ")\n",
    "\n",
    "culmen_length_mm_box = go.Box(\n",
    "    x = penguin.species,\n",
    "    y = penguin.culmen_length_mm,\n",
    "    name=\"Длина надклювья\",\n",
    "    legendgroup=\"Длина надклювья\",\n",
    "    legendgrouptitle_text=\"Длина надклювья\",\n",
    "    marker_color=next(palette),\n",
    ")\n",
    "\n",
    "culmen_depth_mm_box = go.Box(\n",
    "    x = penguin.species,\n",
    "    y = penguin.culmen_depth_mm,\n",
    "    name=\"Толщина надклювья\",\n",
    "    legendgroup=\"Толщина надклювья\",\n",
    "    legendgrouptitle_text=\"Толщина надклювья\",\n",
    "    marker_color=next(palette),\n",
    ")\n",
    "\n",
    "flipper_length_mm_box = go.Box(\n",
    "    x = penguin.species,\n",
    "    y = penguin.flipper_length_mm,\n",
    "    name=\"Длина плавника\",\n",
    "    legendgroup=\"Длина плавника\",\n",
    "    legendgrouptitle_text=\"Длина плавника\",\n",
    "    marker_color=next(palette),\n",
    ")\n",
    "\n",
    "body_mass_g_box = go.Box(\n",
    "    x = penguin.species,\n",
    "    y = penguin.body_mass_g,\n",
    "    name=\"Масса тела\",\n",
    "    legendgroup=\"Масса тела\",\n",
    "    legendgrouptitle_text=\"Масса тела\",\n",
    "    marker_color=next(palette),\n",
    ")\n",
    "\n",
    "\n",
    "fig.add_trace(culmen_length_mm_box, row=1, col=1)\n",
    "fig.update_xaxes(title_text=\"Длина надклювья\", row=1, col=1)\n",
    "\n",
    "fig.add_trace(culmen_depth_mm_box, row=1, col=2)\n",
    "fig.update_xaxes(title_text=\"Толщина надклювья\", row=1, col=2)\n",
    "\n",
    "fig.add_trace(flipper_length_mm_box, row=2, col=1)\n",
    "fig.update_xaxes(title_text=\"Длина плавника\", row=2, col=1)\n",
    "\n",
    "fig.add_trace(body_mass_g_box, row=2, col=2)\n",
    "fig.update_xaxes(title_text=\"Масса тела\", row=2, col=2)\n",
    "\n",
    "fig.update_layout(template=\"plotly\", height=800)\n",
    "\n",
    "fig.update(\n",
    "    layout_title_text=\"Распределение переменных по видам\",\n",
    "    layout_title_font_size=30,\n",
    "    layout_title_x=0.5,\n",
    "    layout_paper_bgcolor='rgb(229, 237, 247)',\n",
    "    layout_plot_bgcolor='rgb(229, 237, 247)',\n",
    ")\n",
    "\n",
    "fig.show()"
   ]
  },
  {
   "cell_type": "markdown",
   "id": "bf42693a",
   "metadata": {},
   "source": [
    "Распределение переменных по полу"
   ]
  },
  {
   "cell_type": "code",
   "execution_count": 42,
   "id": "ece15fbe",
   "metadata": {},
   "outputs": [
    {
     "data": {
      "application/vnd.plotly.v1+json": {
       "config": {
        "plotlyServerURL": "https://plot.ly"
       },
       "data": [
        {
         "legendgroup": "Длина надклювья",
         "legendgrouptitle": {
          "text": "Длина надклювья"
         },
         "marker": {
          "color": "rgb(3, 35, 51)"
         },
         "name": "Длина надклювья",
         "type": "box",
         "x": [
          "MALE",
          "FEMALE",
          "FEMALE",
          "MALE",
          "FEMALE",
          "MALE",
          "FEMALE",
          "MALE",
          "MALE",
          "MALE",
          "MALE",
          "MALE",
          "FEMALE",
          "MALE",
          "MALE",
          "FEMALE",
          "FEMALE",
          "MALE",
          "FEMALE",
          "MALE",
          "FEMALE",
          "MALE",
          "FEMALE",
          "MALE",
          "MALE",
          "FEMALE",
          "MALE",
          "FEMALE",
          "FEMALE",
          "MALE",
          "FEMALE",
          "MALE",
          "FEMALE",
          "MALE",
          "FEMALE",
          "MALE",
          "MALE",
          "FEMALE",
          "FEMALE",
          "MALE",
          "FEMALE",
          "MALE",
          "FEMALE",
          "MALE",
          "FEMALE",
          "MALE",
          "MALE",
          "MALE",
          "FEMALE",
          "MALE",
          "FEMALE",
          "MALE",
          "FEMALE",
          "MALE",
          "FEMALE",
          "MALE",
          "FEMALE",
          "MALE",
          "FEMALE",
          "MALE",
          "FEMALE",
          "MALE",
          "FEMALE",
          "MALE",
          "FEMALE",
          "MALE",
          "FEMALE",
          "MALE",
          "FEMALE",
          "MALE",
          "FEMALE",
          "MALE",
          "FEMALE",
          "MALE",
          "FEMALE",
          "MALE",
          "FEMALE",
          "MALE",
          "FEMALE",
          "MALE",
          "FEMALE",
          "MALE",
          "FEMALE",
          "MALE",
          "FEMALE",
          "MALE",
          "MALE",
          "FEMALE",
          "MALE",
          "FEMALE",
          "FEMALE",
          "MALE",
          "FEMALE",
          "MALE",
          "FEMALE",
          "MALE",
          "FEMALE",
          "MALE",
          "FEMALE",
          "MALE",
          "FEMALE",
          "MALE",
          "FEMALE",
          "MALE",
          "FEMALE",
          "MALE",
          "FEMALE",
          "MALE",
          "FEMALE",
          "MALE",
          "FEMALE",
          "MALE",
          "FEMALE",
          "MALE",
          "FEMALE",
          "MALE",
          "FEMALE",
          "MALE",
          "FEMALE",
          "MALE",
          "FEMALE",
          "MALE",
          "FEMALE",
          "MALE",
          "FEMALE",
          "MALE",
          "FEMALE",
          "MALE",
          "FEMALE",
          "MALE",
          "FEMALE",
          "MALE",
          "FEMALE",
          "MALE",
          "FEMALE",
          "MALE",
          "FEMALE",
          "MALE",
          "FEMALE",
          "MALE",
          "FEMALE",
          "MALE",
          "FEMALE",
          "MALE",
          "FEMALE",
          "MALE",
          "MALE",
          "FEMALE",
          "FEMALE",
          "MALE",
          "FEMALE",
          "MALE",
          "FEMALE",
          "MALE",
          "MALE",
          "FEMALE",
          "MALE",
          "FEMALE",
          "FEMALE",
          "MALE",
          "FEMALE",
          "MALE",
          "FEMALE",
          "MALE",
          "FEMALE",
          "MALE",
          "FEMALE",
          "MALE",
          "MALE",
          "FEMALE",
          "FEMALE",
          "MALE",
          "FEMALE",
          "MALE",
          "FEMALE",
          "MALE",
          "FEMALE",
          "MALE",
          "FEMALE",
          "MALE",
          "FEMALE",
          "MALE",
          "FEMALE",
          "MALE",
          "FEMALE",
          "MALE",
          "MALE",
          "FEMALE",
          "FEMALE",
          "MALE",
          "FEMALE",
          "MALE",
          "MALE",
          "FEMALE",
          "MALE",
          "FEMALE",
          "FEMALE",
          "MALE",
          "FEMALE",
          "MALE",
          "MALE",
          "FEMALE",
          "FEMALE",
          "MALE",
          "FEMALE",
          "MALE",
          "FEMALE",
          "MALE",
          "FEMALE",
          "MALE",
          "MALE",
          "FEMALE",
          "MALE",
          "FEMALE",
          "FEMALE",
          "MALE",
          "FEMALE",
          "MALE",
          "MALE",
          "FEMALE",
          "FEMALE",
          "MALE",
          "FEMALE",
          "MALE",
          "MALE",
          "FEMALE",
          "FEMALE",
          "MALE",
          "FEMALE",
          "MALE",
          "FEMALE",
          "MALE",
          "FEMALE",
          "MALE",
          "FEMALE",
          "MALE",
          "FEMALE",
          "MALE",
          "FEMALE",
          "MALE",
          "MALE",
          "FEMALE",
          "FEMALE",
          "MALE",
          "FEMALE",
          "MALE",
          "MALE",
          "MALE",
          "FEMALE",
          "MALE",
          "MALE",
          "FEMALE",
          "FEMALE",
          "MALE",
          "FEMALE",
          "MALE",
          "FEMALE",
          "MALE",
          "FEMALE",
          "MALE",
          "FEMALE",
          "MALE",
          "FEMALE",
          "MALE",
          "MALE",
          "FEMALE",
          "FEMALE",
          "MALE",
          "FEMALE",
          "MALE",
          "FEMALE",
          "MALE",
          "FEMALE",
          "MALE",
          "FEMALE",
          "MALE",
          "FEMALE",
          "MALE",
          "FEMALE",
          "MALE",
          "FEMALE",
          "MALE",
          "FEMALE",
          "MALE",
          "FEMALE",
          "MALE",
          "MALE",
          "MALE",
          "FEMALE",
          "MALE",
          "FEMALE",
          "MALE",
          "MALE",
          "FEMALE",
          "FEMALE",
          "MALE",
          "FEMALE",
          "MALE",
          "FEMALE",
          "MALE",
          "FEMALE",
          "MALE",
          "FEMALE",
          "MALE",
          "FEMALE",
          "MALE",
          "FEMALE",
          "MALE",
          "FEMALE",
          "MALE",
          "FEMALE",
          "MALE",
          "FEMALE",
          "MALE",
          "FEMALE",
          "MALE",
          "MALE",
          "FEMALE",
          "FEMALE",
          "MALE",
          "FEMALE",
          "MALE",
          "FEMALE",
          "MALE",
          "MALE",
          "MALE",
          "FEMALE",
          "MALE",
          "FEMALE",
          "MALE",
          "FEMALE",
          "MALE",
          "FEMALE",
          "MALE",
          "FEMALE",
          "MALE",
          "MALE",
          "MALE",
          "FEMALE",
          "MALE",
          "FEMALE",
          "MALE",
          "FEMALE",
          "MALE"
         ],
         "xaxis": "x",
         "y": [
          39.1,
          39.5,
          40.3,
          43.9,
          36.7,
          39.3,
          38.9,
          39.2,
          34.1,
          42,
          37.8,
          37.8,
          41.1,
          38.6,
          34.6,
          36.6,
          38.7,
          42.5,
          34.4,
          46,
          37.8,
          37.7,
          35.9,
          38.2,
          38.8,
          35.3,
          40.6,
          40.5,
          37.9,
          40.5,
          39.5,
          37.2,
          39.5,
          40.9,
          36.4,
          39.2,
          38.8,
          42.2,
          37.6,
          39.8,
          36.5,
          40.8,
          36,
          44.1,
          37,
          39.6,
          41.1,
          37.5,
          36,
          42.3,
          39.6,
          40.1,
          35,
          42,
          34.5,
          41.4,
          39,
          40.6,
          36.5,
          37.6,
          35.7,
          41.3,
          37.6,
          41.1,
          36.4,
          41.6,
          35.5,
          41.1,
          35.9,
          41.8,
          33.5,
          39.7,
          39.6,
          45.8,
          35.5,
          42.8,
          40.9,
          37.2,
          36.2,
          42.1,
          34.6,
          42.9,
          36.7,
          35.1,
          37.3,
          41.3,
          36.3,
          36.9,
          38.3,
          38.9,
          35.7,
          41.1,
          34,
          39.6,
          36.2,
          40.8,
          38.1,
          40.3,
          33.1,
          43.2,
          35,
          41,
          37.7,
          37.8,
          37.9,
          39.7,
          38.6,
          38.2,
          38.1,
          43.2,
          38.1,
          45.6,
          39.7,
          42.2,
          39.6,
          42.7,
          38.6,
          37.3,
          35.7,
          41.1,
          36.2,
          37.7,
          40.2,
          41.4,
          35.2,
          40.6,
          38.8,
          41.5,
          39,
          44.1,
          38.5,
          43.1,
          36.8,
          37.5,
          38.1,
          41.1,
          35.6,
          40.2,
          37,
          39.7,
          40.2,
          40.6,
          32.1,
          40.7,
          37.3,
          39,
          39.2,
          36.6,
          36,
          37.8,
          36,
          41.5,
          46.5,
          50,
          51.3,
          45.4,
          52.7,
          45.2,
          46.1,
          51.3,
          46,
          51.3,
          46.6,
          51.7,
          47,
          52,
          45.9,
          50.5,
          50.3,
          58,
          46.4,
          49.2,
          42.4,
          48.5,
          43.2,
          50.6,
          46.7,
          52,
          50.5,
          49.5,
          46.4,
          52.8,
          40.9,
          54.2,
          42.5,
          51,
          49.7,
          47.5,
          47.6,
          52,
          46.9,
          53.5,
          49,
          46.2,
          50.9,
          45.5,
          50.9,
          50.8,
          50.1,
          49,
          51.5,
          49.8,
          48.1,
          51.4,
          45.7,
          50.7,
          42.5,
          52.2,
          45.2,
          49.3,
          50.2,
          45.6,
          51.9,
          46.8,
          45.7,
          55.8,
          43.5,
          49.6,
          50.8,
          50.2,
          46.1,
          50,
          48.7,
          50,
          47.6,
          46.5,
          45.4,
          46.7,
          43.3,
          46.8,
          40.9,
          49,
          45.5,
          48.4,
          45.8,
          49.3,
          42,
          49.2,
          46.2,
          48.7,
          50.2,
          45.1,
          46.5,
          46.3,
          42.9,
          46.1,
          44.5,
          47.8,
          48.2,
          50,
          47.3,
          42.8,
          45.1,
          59.6,
          49.1,
          48.4,
          42.6,
          44.4,
          44,
          48.7,
          42.7,
          49.6,
          45.3,
          49.6,
          50.5,
          43.6,
          45.5,
          50.5,
          44.9,
          45.2,
          46.6,
          48.5,
          45.1,
          50.1,
          46.5,
          45,
          43.8,
          45.5,
          43.2,
          50.4,
          45.3,
          46.2,
          45.7,
          54.3,
          45.8,
          49.8,
          46.2,
          49.5,
          43.5,
          50.7,
          47.7,
          46.4,
          48.2,
          46.5,
          46.4,
          48.6,
          47.5,
          51.1,
          45.2,
          45.2,
          49.1,
          52.5,
          47.4,
          50,
          44.9,
          50.8,
          43.4,
          51.3,
          47.5,
          52.1,
          47.5,
          52.2,
          45.5,
          49.5,
          44.5,
          50.8,
          49.4,
          46.9,
          48.4,
          51.1,
          48.5,
          55.9,
          47.2,
          49.1,
          47.3,
          46.8,
          41.7,
          53.4,
          43.3,
          48.1,
          50.5,
          49.8,
          43.5,
          51.5,
          46.2,
          55.1,
          44.5,
          48.8,
          47.2,
          43.9,
          46.8,
          50.4,
          45.2,
          49.9
         ],
         "yaxis": "y"
        },
        {
         "legendgroup": "Толщина надклювья",
         "legendgrouptitle": {
          "text": "Толщина надклювья"
         },
         "marker": {
          "color": "rgb(13, 48, 100)"
         },
         "name": "Толщина надклювья",
         "type": "box",
         "x": [
          "MALE",
          "FEMALE",
          "FEMALE",
          "MALE",
          "FEMALE",
          "MALE",
          "FEMALE",
          "MALE",
          "MALE",
          "MALE",
          "MALE",
          "MALE",
          "FEMALE",
          "MALE",
          "MALE",
          "FEMALE",
          "FEMALE",
          "MALE",
          "FEMALE",
          "MALE",
          "FEMALE",
          "MALE",
          "FEMALE",
          "MALE",
          "MALE",
          "FEMALE",
          "MALE",
          "FEMALE",
          "FEMALE",
          "MALE",
          "FEMALE",
          "MALE",
          "FEMALE",
          "MALE",
          "FEMALE",
          "MALE",
          "MALE",
          "FEMALE",
          "FEMALE",
          "MALE",
          "FEMALE",
          "MALE",
          "FEMALE",
          "MALE",
          "FEMALE",
          "MALE",
          "MALE",
          "MALE",
          "FEMALE",
          "MALE",
          "FEMALE",
          "MALE",
          "FEMALE",
          "MALE",
          "FEMALE",
          "MALE",
          "FEMALE",
          "MALE",
          "FEMALE",
          "MALE",
          "FEMALE",
          "MALE",
          "FEMALE",
          "MALE",
          "FEMALE",
          "MALE",
          "FEMALE",
          "MALE",
          "FEMALE",
          "MALE",
          "FEMALE",
          "MALE",
          "FEMALE",
          "MALE",
          "FEMALE",
          "MALE",
          "FEMALE",
          "MALE",
          "FEMALE",
          "MALE",
          "FEMALE",
          "MALE",
          "FEMALE",
          "MALE",
          "FEMALE",
          "MALE",
          "MALE",
          "FEMALE",
          "MALE",
          "FEMALE",
          "FEMALE",
          "MALE",
          "FEMALE",
          "MALE",
          "FEMALE",
          "MALE",
          "FEMALE",
          "MALE",
          "FEMALE",
          "MALE",
          "FEMALE",
          "MALE",
          "FEMALE",
          "MALE",
          "FEMALE",
          "MALE",
          "FEMALE",
          "MALE",
          "FEMALE",
          "MALE",
          "FEMALE",
          "MALE",
          "FEMALE",
          "MALE",
          "FEMALE",
          "MALE",
          "FEMALE",
          "MALE",
          "FEMALE",
          "MALE",
          "FEMALE",
          "MALE",
          "FEMALE",
          "MALE",
          "FEMALE",
          "MALE",
          "FEMALE",
          "MALE",
          "FEMALE",
          "MALE",
          "FEMALE",
          "MALE",
          "FEMALE",
          "MALE",
          "FEMALE",
          "MALE",
          "FEMALE",
          "MALE",
          "FEMALE",
          "MALE",
          "FEMALE",
          "MALE",
          "FEMALE",
          "MALE",
          "FEMALE",
          "MALE",
          "MALE",
          "FEMALE",
          "FEMALE",
          "MALE",
          "FEMALE",
          "MALE",
          "FEMALE",
          "MALE",
          "MALE",
          "FEMALE",
          "MALE",
          "FEMALE",
          "FEMALE",
          "MALE",
          "FEMALE",
          "MALE",
          "FEMALE",
          "MALE",
          "FEMALE",
          "MALE",
          "FEMALE",
          "MALE",
          "MALE",
          "FEMALE",
          "FEMALE",
          "MALE",
          "FEMALE",
          "MALE",
          "FEMALE",
          "MALE",
          "FEMALE",
          "MALE",
          "FEMALE",
          "MALE",
          "FEMALE",
          "MALE",
          "FEMALE",
          "MALE",
          "FEMALE",
          "MALE",
          "MALE",
          "FEMALE",
          "FEMALE",
          "MALE",
          "FEMALE",
          "MALE",
          "MALE",
          "FEMALE",
          "MALE",
          "FEMALE",
          "FEMALE",
          "MALE",
          "FEMALE",
          "MALE",
          "MALE",
          "FEMALE",
          "FEMALE",
          "MALE",
          "FEMALE",
          "MALE",
          "FEMALE",
          "MALE",
          "FEMALE",
          "MALE",
          "MALE",
          "FEMALE",
          "MALE",
          "FEMALE",
          "FEMALE",
          "MALE",
          "FEMALE",
          "MALE",
          "MALE",
          "FEMALE",
          "FEMALE",
          "MALE",
          "FEMALE",
          "MALE",
          "MALE",
          "FEMALE",
          "FEMALE",
          "MALE",
          "FEMALE",
          "MALE",
          "FEMALE",
          "MALE",
          "FEMALE",
          "MALE",
          "FEMALE",
          "MALE",
          "FEMALE",
          "MALE",
          "FEMALE",
          "MALE",
          "MALE",
          "FEMALE",
          "FEMALE",
          "MALE",
          "FEMALE",
          "MALE",
          "MALE",
          "MALE",
          "FEMALE",
          "MALE",
          "MALE",
          "FEMALE",
          "FEMALE",
          "MALE",
          "FEMALE",
          "MALE",
          "FEMALE",
          "MALE",
          "FEMALE",
          "MALE",
          "FEMALE",
          "MALE",
          "FEMALE",
          "MALE",
          "MALE",
          "FEMALE",
          "FEMALE",
          "MALE",
          "FEMALE",
          "MALE",
          "FEMALE",
          "MALE",
          "FEMALE",
          "MALE",
          "FEMALE",
          "MALE",
          "FEMALE",
          "MALE",
          "FEMALE",
          "MALE",
          "FEMALE",
          "MALE",
          "FEMALE",
          "MALE",
          "FEMALE",
          "MALE",
          "MALE",
          "MALE",
          "FEMALE",
          "MALE",
          "FEMALE",
          "MALE",
          "MALE",
          "FEMALE",
          "FEMALE",
          "MALE",
          "FEMALE",
          "MALE",
          "FEMALE",
          "MALE",
          "FEMALE",
          "MALE",
          "FEMALE",
          "MALE",
          "FEMALE",
          "MALE",
          "FEMALE",
          "MALE",
          "FEMALE",
          "MALE",
          "FEMALE",
          "MALE",
          "FEMALE",
          "MALE",
          "FEMALE",
          "MALE",
          "MALE",
          "FEMALE",
          "FEMALE",
          "MALE",
          "FEMALE",
          "MALE",
          "FEMALE",
          "MALE",
          "MALE",
          "MALE",
          "FEMALE",
          "MALE",
          "FEMALE",
          "MALE",
          "FEMALE",
          "MALE",
          "FEMALE",
          "MALE",
          "FEMALE",
          "MALE",
          "MALE",
          "MALE",
          "FEMALE",
          "MALE",
          "FEMALE",
          "MALE",
          "FEMALE",
          "MALE"
         ],
         "xaxis": "x2",
         "y": [
          18.7,
          17.4,
          18,
          17.2,
          19.3,
          20.6,
          17.8,
          19.6,
          18.1,
          20.2,
          17.1,
          17.3,
          17.6,
          21.2,
          21.1,
          17.8,
          19,
          20.7,
          18.4,
          21.5,
          18.3,
          18.7,
          19.2,
          18.1,
          17.2,
          18.9,
          18.6,
          17.9,
          18.6,
          18.9,
          16.7,
          18.1,
          17.8,
          18.9,
          17,
          21.1,
          20,
          18.5,
          19.3,
          19.1,
          18,
          18.4,
          18.5,
          19.7,
          16.9,
          18.8,
          19,
          18.9,
          17.9,
          21.2,
          17.7,
          18.9,
          17.9,
          19.5,
          18.1,
          18.6,
          17.5,
          18.8,
          16.6,
          19.1,
          16.9,
          21.1,
          17,
          18.2,
          17.1,
          18,
          16.2,
          19.1,
          16.6,
          19.4,
          19,
          18.4,
          17.2,
          18.9,
          17.5,
          18.5,
          16.8,
          19.4,
          16.1,
          19.1,
          17.2,
          17.6,
          18.8,
          19.4,
          17.8,
          20.3,
          19.5,
          18.6,
          19.2,
          18.8,
          18,
          18.1,
          17.1,
          18.1,
          17.3,
          18.9,
          18.6,
          18.5,
          16.1,
          18.5,
          17.9,
          20,
          16,
          20,
          18.6,
          18.9,
          17.2,
          20,
          17,
          19,
          16.5,
          20.3,
          17.7,
          19.5,
          20.7,
          18.3,
          17,
          20.5,
          17,
          18.6,
          17.2,
          19.8,
          17,
          18.5,
          15.9,
          19,
          17.6,
          18.3,
          17.1,
          18,
          17.9,
          19.2,
          18.5,
          18.5,
          17.6,
          17.5,
          17.5,
          20.1,
          16.5,
          17.9,
          17.1,
          17.2,
          15.5,
          17,
          16.8,
          18.7,
          18.6,
          18.4,
          17.8,
          18.1,
          17.1,
          18.5,
          17.9,
          19.5,
          19.2,
          18.7,
          19.8,
          17.8,
          18.2,
          18.2,
          18.9,
          19.9,
          17.8,
          20.3,
          17.3,
          18.1,
          17.1,
          19.6,
          20,
          17.8,
          18.6,
          18.2,
          17.3,
          17.5,
          16.6,
          19.4,
          17.9,
          19,
          18.4,
          19,
          17.8,
          20,
          16.6,
          20.8,
          16.7,
          18.8,
          18.6,
          16.8,
          18.3,
          20.7,
          16.6,
          19.9,
          19.5,
          17.5,
          19.1,
          17,
          17.9,
          18.5,
          17.9,
          19.6,
          18.7,
          17.3,
          16.4,
          19,
          17.3,
          19.7,
          17.3,
          18.8,
          16.6,
          19.9,
          18.8,
          19.4,
          19.5,
          16.5,
          17,
          19.8,
          18.1,
          18.2,
          19,
          18.7,
          13.2,
          16.3,
          14.1,
          15.2,
          14.5,
          13.5,
          14.6,
          15.3,
          13.4,
          15.4,
          13.7,
          16.1,
          13.7,
          14.6,
          14.6,
          15.7,
          13.5,
          15.2,
          14.5,
          15.1,
          14.3,
          14.5,
          14.5,
          15.8,
          13.1,
          15.1,
          14.3,
          15,
          14.3,
          15.3,
          15.3,
          14.2,
          14.5,
          17,
          14.8,
          16.3,
          13.7,
          17.3,
          13.6,
          15.7,
          13.7,
          16,
          13.7,
          15,
          15.9,
          13.9,
          13.9,
          15.9,
          13.3,
          15.8,
          14.2,
          14.1,
          14.4,
          15,
          14.4,
          15.4,
          13.9,
          15,
          14.5,
          15.3,
          13.8,
          14.9,
          13.9,
          15.7,
          14.2,
          16.8,
          14.4,
          16.2,
          14.2,
          15,
          15,
          15.6,
          15.6,
          14.8,
          15,
          16,
          14.2,
          16.3,
          13.8,
          16.4,
          14.5,
          15.6,
          14.6,
          15.9,
          13.8,
          17.3,
          14.4,
          14.2,
          14,
          17,
          15,
          17.1,
          14.5,
          16.1,
          14.7,
          15.7,
          15.8,
          14.6,
          14.4,
          16.5,
          15,
          17,
          15.5,
          15,
          13.8,
          16.1,
          14.7,
          15.8,
          14,
          15.1,
          15.2,
          15.9,
          15.2,
          16.3,
          14.1,
          16,
          15.7,
          16.2,
          13.7,
          17.2,
          14.3,
          15.7,
          14.8,
          16.1
         ],
         "yaxis": "y2"
        },
        {
         "legendgroup": "Длина плавника",
         "legendgrouptitle": {
          "text": "Длина плавника"
         },
         "marker": {
          "color": "rgb(53, 50, 155)"
         },
         "name": "Длина плавника",
         "type": "box",
         "x": [
          "MALE",
          "FEMALE",
          "FEMALE",
          "MALE",
          "FEMALE",
          "MALE",
          "FEMALE",
          "MALE",
          "MALE",
          "MALE",
          "MALE",
          "MALE",
          "FEMALE",
          "MALE",
          "MALE",
          "FEMALE",
          "FEMALE",
          "MALE",
          "FEMALE",
          "MALE",
          "FEMALE",
          "MALE",
          "FEMALE",
          "MALE",
          "MALE",
          "FEMALE",
          "MALE",
          "FEMALE",
          "FEMALE",
          "MALE",
          "FEMALE",
          "MALE",
          "FEMALE",
          "MALE",
          "FEMALE",
          "MALE",
          "MALE",
          "FEMALE",
          "FEMALE",
          "MALE",
          "FEMALE",
          "MALE",
          "FEMALE",
          "MALE",
          "FEMALE",
          "MALE",
          "MALE",
          "MALE",
          "FEMALE",
          "MALE",
          "FEMALE",
          "MALE",
          "FEMALE",
          "MALE",
          "FEMALE",
          "MALE",
          "FEMALE",
          "MALE",
          "FEMALE",
          "MALE",
          "FEMALE",
          "MALE",
          "FEMALE",
          "MALE",
          "FEMALE",
          "MALE",
          "FEMALE",
          "MALE",
          "FEMALE",
          "MALE",
          "FEMALE",
          "MALE",
          "FEMALE",
          "MALE",
          "FEMALE",
          "MALE",
          "FEMALE",
          "MALE",
          "FEMALE",
          "MALE",
          "FEMALE",
          "MALE",
          "FEMALE",
          "MALE",
          "FEMALE",
          "MALE",
          "MALE",
          "FEMALE",
          "MALE",
          "FEMALE",
          "FEMALE",
          "MALE",
          "FEMALE",
          "MALE",
          "FEMALE",
          "MALE",
          "FEMALE",
          "MALE",
          "FEMALE",
          "MALE",
          "FEMALE",
          "MALE",
          "FEMALE",
          "MALE",
          "FEMALE",
          "MALE",
          "FEMALE",
          "MALE",
          "FEMALE",
          "MALE",
          "FEMALE",
          "MALE",
          "FEMALE",
          "MALE",
          "FEMALE",
          "MALE",
          "FEMALE",
          "MALE",
          "FEMALE",
          "MALE",
          "FEMALE",
          "MALE",
          "FEMALE",
          "MALE",
          "FEMALE",
          "MALE",
          "FEMALE",
          "MALE",
          "FEMALE",
          "MALE",
          "FEMALE",
          "MALE",
          "FEMALE",
          "MALE",
          "FEMALE",
          "MALE",
          "FEMALE",
          "MALE",
          "FEMALE",
          "MALE",
          "FEMALE",
          "MALE",
          "FEMALE",
          "MALE",
          "FEMALE",
          "MALE",
          "MALE",
          "FEMALE",
          "FEMALE",
          "MALE",
          "FEMALE",
          "MALE",
          "FEMALE",
          "MALE",
          "MALE",
          "FEMALE",
          "MALE",
          "FEMALE",
          "FEMALE",
          "MALE",
          "FEMALE",
          "MALE",
          "FEMALE",
          "MALE",
          "FEMALE",
          "MALE",
          "FEMALE",
          "MALE",
          "MALE",
          "FEMALE",
          "FEMALE",
          "MALE",
          "FEMALE",
          "MALE",
          "FEMALE",
          "MALE",
          "FEMALE",
          "MALE",
          "FEMALE",
          "MALE",
          "FEMALE",
          "MALE",
          "FEMALE",
          "MALE",
          "FEMALE",
          "MALE",
          "MALE",
          "FEMALE",
          "FEMALE",
          "MALE",
          "FEMALE",
          "MALE",
          "MALE",
          "FEMALE",
          "MALE",
          "FEMALE",
          "FEMALE",
          "MALE",
          "FEMALE",
          "MALE",
          "MALE",
          "FEMALE",
          "FEMALE",
          "MALE",
          "FEMALE",
          "MALE",
          "FEMALE",
          "MALE",
          "FEMALE",
          "MALE",
          "MALE",
          "FEMALE",
          "MALE",
          "FEMALE",
          "FEMALE",
          "MALE",
          "FEMALE",
          "MALE",
          "MALE",
          "FEMALE",
          "FEMALE",
          "MALE",
          "FEMALE",
          "MALE",
          "MALE",
          "FEMALE",
          "FEMALE",
          "MALE",
          "FEMALE",
          "MALE",
          "FEMALE",
          "MALE",
          "FEMALE",
          "MALE",
          "FEMALE",
          "MALE",
          "FEMALE",
          "MALE",
          "FEMALE",
          "MALE",
          "MALE",
          "FEMALE",
          "FEMALE",
          "MALE",
          "FEMALE",
          "MALE",
          "MALE",
          "MALE",
          "FEMALE",
          "MALE",
          "MALE",
          "FEMALE",
          "FEMALE",
          "MALE",
          "FEMALE",
          "MALE",
          "FEMALE",
          "MALE",
          "FEMALE",
          "MALE",
          "FEMALE",
          "MALE",
          "FEMALE",
          "MALE",
          "MALE",
          "FEMALE",
          "FEMALE",
          "MALE",
          "FEMALE",
          "MALE",
          "FEMALE",
          "MALE",
          "FEMALE",
          "MALE",
          "FEMALE",
          "MALE",
          "FEMALE",
          "MALE",
          "FEMALE",
          "MALE",
          "FEMALE",
          "MALE",
          "FEMALE",
          "MALE",
          "FEMALE",
          "MALE",
          "MALE",
          "MALE",
          "FEMALE",
          "MALE",
          "FEMALE",
          "MALE",
          "MALE",
          "FEMALE",
          "FEMALE",
          "MALE",
          "FEMALE",
          "MALE",
          "FEMALE",
          "MALE",
          "FEMALE",
          "MALE",
          "FEMALE",
          "MALE",
          "FEMALE",
          "MALE",
          "FEMALE",
          "MALE",
          "FEMALE",
          "MALE",
          "FEMALE",
          "MALE",
          "FEMALE",
          "MALE",
          "FEMALE",
          "MALE",
          "MALE",
          "FEMALE",
          "FEMALE",
          "MALE",
          "FEMALE",
          "MALE",
          "FEMALE",
          "MALE",
          "MALE",
          "MALE",
          "FEMALE",
          "MALE",
          "FEMALE",
          "MALE",
          "FEMALE",
          "MALE",
          "FEMALE",
          "MALE",
          "FEMALE",
          "MALE",
          "MALE",
          "MALE",
          "FEMALE",
          "MALE",
          "FEMALE",
          "MALE",
          "FEMALE",
          "MALE"
         ],
         "xaxis": "x3",
         "y": [
          181,
          186,
          195,
          200.9,
          193,
          190,
          181,
          195,
          193,
          190,
          186,
          180,
          182,
          191,
          198,
          185,
          195,
          197,
          184,
          194,
          174,
          180,
          189,
          185,
          180,
          187,
          183,
          187,
          172,
          180,
          178,
          178,
          188,
          184,
          195,
          196,
          190,
          180,
          181,
          184,
          182,
          195,
          186,
          196,
          185,
          190,
          182,
          179,
          190,
          191,
          186,
          188,
          190,
          200,
          187,
          191,
          186,
          193,
          181,
          194,
          185,
          195,
          185,
          192,
          184,
          192,
          195,
          188,
          190,
          198,
          190,
          190,
          196,
          197,
          190,
          195,
          191,
          184,
          187,
          195,
          189,
          196,
          187,
          193,
          191,
          194,
          190,
          189,
          189,
          190,
          202,
          205,
          185,
          186,
          187,
          208,
          190,
          196,
          178,
          192,
          192,
          203,
          183,
          190,
          193,
          184,
          199,
          190,
          181,
          197,
          198,
          191,
          193,
          197,
          191,
          196,
          188,
          199,
          189,
          189,
          187,
          198,
          176,
          202,
          186,
          199,
          191,
          195,
          191,
          210,
          190,
          197,
          193,
          199,
          187,
          190,
          191,
          200,
          185,
          193,
          193,
          187,
          188,
          190,
          192,
          185,
          190,
          184,
          195,
          193,
          187,
          201,
          192,
          196,
          193,
          188,
          197,
          198,
          178,
          197,
          195,
          198,
          193,
          194,
          185,
          201,
          190,
          201,
          197,
          181,
          190,
          195,
          181,
          191,
          187,
          193,
          195,
          197,
          200,
          200,
          191,
          205,
          187,
          201,
          187,
          203,
          195,
          199,
          195,
          210,
          192,
          205,
          210,
          187,
          196,
          196,
          196,
          201,
          190,
          212,
          187,
          198,
          199,
          201,
          193,
          203,
          187,
          197,
          191,
          203,
          202,
          194,
          206,
          189,
          195,
          207,
          202,
          193,
          210,
          198,
          211,
          230,
          210,
          218,
          215,
          210,
          211,
          219,
          209,
          215,
          214,
          216,
          214,
          213,
          210,
          217,
          210,
          221,
          209,
          222,
          218,
          215,
          213,
          215,
          215,
          215,
          216,
          215,
          210,
          220,
          222,
          209,
          207,
          230,
          220,
          220,
          213,
          219,
          208,
          208,
          208,
          225,
          210,
          216,
          222,
          217,
          210,
          225,
          213,
          215,
          210,
          220,
          210,
          225,
          217,
          220,
          208,
          220,
          208,
          224,
          208,
          221,
          214,
          231,
          219,
          230,
          214,
          229,
          220,
          223,
          216,
          221,
          221,
          217,
          216,
          230,
          209,
          220,
          215,
          223,
          212,
          221,
          212,
          224,
          212,
          228,
          218,
          218,
          212,
          230,
          218,
          228,
          212,
          224,
          214,
          226,
          216,
          222,
          203,
          225,
          219,
          228,
          215,
          228,
          216,
          215,
          210,
          219,
          208,
          209,
          216,
          229,
          213,
          230,
          217,
          230,
          217,
          222,
          214,
          200.9,
          215,
          222,
          212,
          213
         ],
         "yaxis": "y3"
        },
        {
         "legendgroup": "Масса тела",
         "legendgrouptitle": {
          "text": "Масса тела"
         },
         "marker": {
          "color": "rgb(93, 62, 153)"
         },
         "name": "Масса тела",
         "type": "box",
         "x": [
          "MALE",
          "FEMALE",
          "FEMALE",
          "MALE",
          "FEMALE",
          "MALE",
          "FEMALE",
          "MALE",
          "MALE",
          "MALE",
          "MALE",
          "MALE",
          "FEMALE",
          "MALE",
          "MALE",
          "FEMALE",
          "FEMALE",
          "MALE",
          "FEMALE",
          "MALE",
          "FEMALE",
          "MALE",
          "FEMALE",
          "MALE",
          "MALE",
          "FEMALE",
          "MALE",
          "FEMALE",
          "FEMALE",
          "MALE",
          "FEMALE",
          "MALE",
          "FEMALE",
          "MALE",
          "FEMALE",
          "MALE",
          "MALE",
          "FEMALE",
          "FEMALE",
          "MALE",
          "FEMALE",
          "MALE",
          "FEMALE",
          "MALE",
          "FEMALE",
          "MALE",
          "MALE",
          "MALE",
          "FEMALE",
          "MALE",
          "FEMALE",
          "MALE",
          "FEMALE",
          "MALE",
          "FEMALE",
          "MALE",
          "FEMALE",
          "MALE",
          "FEMALE",
          "MALE",
          "FEMALE",
          "MALE",
          "FEMALE",
          "MALE",
          "FEMALE",
          "MALE",
          "FEMALE",
          "MALE",
          "FEMALE",
          "MALE",
          "FEMALE",
          "MALE",
          "FEMALE",
          "MALE",
          "FEMALE",
          "MALE",
          "FEMALE",
          "MALE",
          "FEMALE",
          "MALE",
          "FEMALE",
          "MALE",
          "FEMALE",
          "MALE",
          "FEMALE",
          "MALE",
          "MALE",
          "FEMALE",
          "MALE",
          "FEMALE",
          "FEMALE",
          "MALE",
          "FEMALE",
          "MALE",
          "FEMALE",
          "MALE",
          "FEMALE",
          "MALE",
          "FEMALE",
          "MALE",
          "FEMALE",
          "MALE",
          "FEMALE",
          "MALE",
          "FEMALE",
          "MALE",
          "FEMALE",
          "MALE",
          "FEMALE",
          "MALE",
          "FEMALE",
          "MALE",
          "FEMALE",
          "MALE",
          "FEMALE",
          "MALE",
          "FEMALE",
          "MALE",
          "FEMALE",
          "MALE",
          "FEMALE",
          "MALE",
          "FEMALE",
          "MALE",
          "FEMALE",
          "MALE",
          "FEMALE",
          "MALE",
          "FEMALE",
          "MALE",
          "FEMALE",
          "MALE",
          "FEMALE",
          "MALE",
          "FEMALE",
          "MALE",
          "FEMALE",
          "MALE",
          "FEMALE",
          "MALE",
          "FEMALE",
          "MALE",
          "FEMALE",
          "MALE",
          "FEMALE",
          "MALE",
          "MALE",
          "FEMALE",
          "FEMALE",
          "MALE",
          "FEMALE",
          "MALE",
          "FEMALE",
          "MALE",
          "MALE",
          "FEMALE",
          "MALE",
          "FEMALE",
          "FEMALE",
          "MALE",
          "FEMALE",
          "MALE",
          "FEMALE",
          "MALE",
          "FEMALE",
          "MALE",
          "FEMALE",
          "MALE",
          "MALE",
          "FEMALE",
          "FEMALE",
          "MALE",
          "FEMALE",
          "MALE",
          "FEMALE",
          "MALE",
          "FEMALE",
          "MALE",
          "FEMALE",
          "MALE",
          "FEMALE",
          "MALE",
          "FEMALE",
          "MALE",
          "FEMALE",
          "MALE",
          "MALE",
          "FEMALE",
          "FEMALE",
          "MALE",
          "FEMALE",
          "MALE",
          "MALE",
          "FEMALE",
          "MALE",
          "FEMALE",
          "FEMALE",
          "MALE",
          "FEMALE",
          "MALE",
          "MALE",
          "FEMALE",
          "FEMALE",
          "MALE",
          "FEMALE",
          "MALE",
          "FEMALE",
          "MALE",
          "FEMALE",
          "MALE",
          "MALE",
          "FEMALE",
          "MALE",
          "FEMALE",
          "FEMALE",
          "MALE",
          "FEMALE",
          "MALE",
          "MALE",
          "FEMALE",
          "FEMALE",
          "MALE",
          "FEMALE",
          "MALE",
          "MALE",
          "FEMALE",
          "FEMALE",
          "MALE",
          "FEMALE",
          "MALE",
          "FEMALE",
          "MALE",
          "FEMALE",
          "MALE",
          "FEMALE",
          "MALE",
          "FEMALE",
          "MALE",
          "FEMALE",
          "MALE",
          "MALE",
          "FEMALE",
          "FEMALE",
          "MALE",
          "FEMALE",
          "MALE",
          "MALE",
          "MALE",
          "FEMALE",
          "MALE",
          "MALE",
          "FEMALE",
          "FEMALE",
          "MALE",
          "FEMALE",
          "MALE",
          "FEMALE",
          "MALE",
          "FEMALE",
          "MALE",
          "FEMALE",
          "MALE",
          "FEMALE",
          "MALE",
          "MALE",
          "FEMALE",
          "FEMALE",
          "MALE",
          "FEMALE",
          "MALE",
          "FEMALE",
          "MALE",
          "FEMALE",
          "MALE",
          "FEMALE",
          "MALE",
          "FEMALE",
          "MALE",
          "FEMALE",
          "MALE",
          "FEMALE",
          "MALE",
          "FEMALE",
          "MALE",
          "FEMALE",
          "MALE",
          "MALE",
          "MALE",
          "FEMALE",
          "MALE",
          "FEMALE",
          "MALE",
          "MALE",
          "FEMALE",
          "FEMALE",
          "MALE",
          "FEMALE",
          "MALE",
          "FEMALE",
          "MALE",
          "FEMALE",
          "MALE",
          "FEMALE",
          "MALE",
          "FEMALE",
          "MALE",
          "FEMALE",
          "MALE",
          "FEMALE",
          "MALE",
          "FEMALE",
          "MALE",
          "FEMALE",
          "MALE",
          "FEMALE",
          "MALE",
          "MALE",
          "FEMALE",
          "FEMALE",
          "MALE",
          "FEMALE",
          "MALE",
          "FEMALE",
          "MALE",
          "MALE",
          "MALE",
          "FEMALE",
          "MALE",
          "FEMALE",
          "MALE",
          "FEMALE",
          "MALE",
          "FEMALE",
          "MALE",
          "FEMALE",
          "MALE",
          "MALE",
          "MALE",
          "FEMALE",
          "MALE",
          "FEMALE",
          "MALE",
          "FEMALE",
          "MALE"
         ],
         "xaxis": "x4",
         "y": [
          3750,
          3800,
          3250,
          4201.8,
          3450,
          3650,
          3625,
          4675,
          3475,
          4250,
          3300,
          3700,
          3200,
          3800,
          4400,
          3700,
          3450,
          4500,
          3325,
          4200,
          3400,
          3600,
          3800,
          3950,
          3800,
          3800,
          3550,
          3200,
          3150,
          3950,
          3250,
          3900,
          3300,
          3900,
          3325,
          4150,
          3950,
          3550,
          3300,
          4650,
          3150,
          3900,
          3100,
          4400,
          3000,
          4600,
          3425,
          2975,
          3450,
          4150,
          3500,
          4300,
          3450,
          4050,
          2900,
          3700,
          3550,
          3800,
          2850,
          3750,
          3150,
          4400,
          3600,
          4050,
          2850,
          3950,
          3350,
          4100,
          3050,
          4450,
          3600,
          3900,
          3550,
          4150,
          3700,
          4250,
          3700,
          3900,
          3550,
          4000,
          3200,
          4700,
          3800,
          4200,
          3350,
          3550,
          3800,
          3500,
          3950,
          3600,
          3550,
          4300,
          3400,
          4450,
          3300,
          4300,
          3700,
          4350,
          2900,
          4100,
          3725,
          4725,
          3075,
          4250,
          2925,
          3550,
          3750,
          3900,
          3175,
          4775,
          3825,
          4600,
          3200,
          4275,
          3900,
          4075,
          2900,
          3775,
          3350,
          3325,
          3150,
          3500,
          3450,
          3875,
          3050,
          4000,
          3275,
          4300,
          3050,
          4000,
          3325,
          3500,
          3500,
          4475,
          3425,
          3900,
          3175,
          3975,
          3400,
          4250,
          3400,
          3475,
          3050,
          3725,
          3000,
          3650,
          4250,
          3475,
          3450,
          3750,
          3700,
          4000,
          3500,
          3900,
          3650,
          3525,
          3725,
          3950,
          3250,
          3750,
          4150,
          3700,
          3800,
          3775,
          3700,
          4050,
          3575,
          4050,
          3300,
          3700,
          3450,
          4400,
          3600,
          3400,
          2900,
          3800,
          3300,
          4150,
          3400,
          3800,
          3700,
          4550,
          3200,
          4300,
          3350,
          4100,
          3600,
          3900,
          3850,
          4800,
          2700,
          4500,
          3950,
          3650,
          3550,
          3500,
          3675,
          4450,
          3400,
          4300,
          3250,
          3675,
          3325,
          3950,
          3600,
          4050,
          3350,
          3450,
          3250,
          4050,
          3800,
          3525,
          3950,
          3650,
          3650,
          4000,
          3400,
          3775,
          4100,
          3775,
          4500,
          5700,
          4450,
          5700,
          5400,
          4550,
          4800,
          5200,
          4400,
          5150,
          4650,
          5550,
          4650,
          5850,
          4200,
          5850,
          4150,
          6300,
          4800,
          5350,
          5700,
          5000,
          4400,
          5050,
          5000,
          5100,
          4100,
          5650,
          4600,
          5550,
          5250,
          4700,
          5050,
          6050,
          5150,
          5400,
          4950,
          5250,
          4350,
          5350,
          3950,
          5700,
          4300,
          4750,
          5550,
          4900,
          4200,
          5400,
          5100,
          5300,
          4850,
          5300,
          4400,
          5000,
          4900,
          5050,
          4300,
          5000,
          4450,
          5550,
          4200,
          5300,
          4400,
          5650,
          4700,
          5700,
          4650,
          5800,
          4700,
          5550,
          4750,
          5000,
          5100,
          5200,
          4700,
          5800,
          4600,
          6000,
          4750,
          5950,
          4625,
          5450,
          4725,
          5350,
          4750,
          5600,
          4600,
          5300,
          4875,
          5550,
          4950,
          5400,
          4750,
          5650,
          4850,
          5200,
          4925,
          4875,
          4625,
          5250,
          4850,
          5600,
          4975,
          5500,
          4725,
          5500,
          4700,
          5500,
          4575,
          5500,
          5000,
          5950,
          4650,
          5500,
          4375,
          5850,
          4875,
          6000,
          4925,
          4201.8,
          4850,
          5750,
          5200,
          5400
         ],
         "yaxis": "y4"
        }
       ],
       "layout": {
        "annotations": [
         {
          "font": {
           "size": 16
          },
          "showarrow": false,
          "text": "Длина надклювья",
          "x": 0.23,
          "xanchor": "center",
          "xref": "paper",
          "y": 1,
          "yanchor": "bottom",
          "yref": "paper"
         },
         {
          "font": {
           "size": 16
          },
          "showarrow": false,
          "text": "Толщина надклювья",
          "x": 0.77,
          "xanchor": "center",
          "xref": "paper",
          "y": 1,
          "yanchor": "bottom",
          "yref": "paper"
         },
         {
          "font": {
           "size": 16
          },
          "showarrow": false,
          "text": "Длина плавника",
          "x": 0.23,
          "xanchor": "center",
          "xref": "paper",
          "y": 0.45,
          "yanchor": "bottom",
          "yref": "paper"
         },
         {
          "font": {
           "size": 16
          },
          "showarrow": false,
          "text": "Масса тела",
          "x": 0.77,
          "xanchor": "center",
          "xref": "paper",
          "y": 0.45,
          "yanchor": "bottom",
          "yref": "paper"
         }
        ],
        "height": 1000,
        "paper_bgcolor": "rgb(229, 237, 247)",
        "plot_bgcolor": "rgb(229, 237, 247)",
        "template": {
         "data": {
          "bar": [
           {
            "error_x": {
             "color": "#2a3f5f"
            },
            "error_y": {
             "color": "#2a3f5f"
            },
            "marker": {
             "line": {
              "color": "#E5ECF6",
              "width": 0.5
             },
             "pattern": {
              "fillmode": "overlay",
              "size": 10,
              "solidity": 0.2
             }
            },
            "type": "bar"
           }
          ],
          "barpolar": [
           {
            "marker": {
             "line": {
              "color": "#E5ECF6",
              "width": 0.5
             },
             "pattern": {
              "fillmode": "overlay",
              "size": 10,
              "solidity": 0.2
             }
            },
            "type": "barpolar"
           }
          ],
          "carpet": [
           {
            "aaxis": {
             "endlinecolor": "#2a3f5f",
             "gridcolor": "white",
             "linecolor": "white",
             "minorgridcolor": "white",
             "startlinecolor": "#2a3f5f"
            },
            "baxis": {
             "endlinecolor": "#2a3f5f",
             "gridcolor": "white",
             "linecolor": "white",
             "minorgridcolor": "white",
             "startlinecolor": "#2a3f5f"
            },
            "type": "carpet"
           }
          ],
          "choropleth": [
           {
            "colorbar": {
             "outlinewidth": 0,
             "ticks": ""
            },
            "type": "choropleth"
           }
          ],
          "contour": [
           {
            "colorbar": {
             "outlinewidth": 0,
             "ticks": ""
            },
            "colorscale": [
             [
              0,
              "#0d0887"
             ],
             [
              0.1111111111111111,
              "#46039f"
             ],
             [
              0.2222222222222222,
              "#7201a8"
             ],
             [
              0.3333333333333333,
              "#9c179e"
             ],
             [
              0.4444444444444444,
              "#bd3786"
             ],
             [
              0.5555555555555556,
              "#d8576b"
             ],
             [
              0.6666666666666666,
              "#ed7953"
             ],
             [
              0.7777777777777778,
              "#fb9f3a"
             ],
             [
              0.8888888888888888,
              "#fdca26"
             ],
             [
              1,
              "#f0f921"
             ]
            ],
            "type": "contour"
           }
          ],
          "contourcarpet": [
           {
            "colorbar": {
             "outlinewidth": 0,
             "ticks": ""
            },
            "type": "contourcarpet"
           }
          ],
          "heatmap": [
           {
            "colorbar": {
             "outlinewidth": 0,
             "ticks": ""
            },
            "colorscale": [
             [
              0,
              "#0d0887"
             ],
             [
              0.1111111111111111,
              "#46039f"
             ],
             [
              0.2222222222222222,
              "#7201a8"
             ],
             [
              0.3333333333333333,
              "#9c179e"
             ],
             [
              0.4444444444444444,
              "#bd3786"
             ],
             [
              0.5555555555555556,
              "#d8576b"
             ],
             [
              0.6666666666666666,
              "#ed7953"
             ],
             [
              0.7777777777777778,
              "#fb9f3a"
             ],
             [
              0.8888888888888888,
              "#fdca26"
             ],
             [
              1,
              "#f0f921"
             ]
            ],
            "type": "heatmap"
           }
          ],
          "heatmapgl": [
           {
            "colorbar": {
             "outlinewidth": 0,
             "ticks": ""
            },
            "colorscale": [
             [
              0,
              "#0d0887"
             ],
             [
              0.1111111111111111,
              "#46039f"
             ],
             [
              0.2222222222222222,
              "#7201a8"
             ],
             [
              0.3333333333333333,
              "#9c179e"
             ],
             [
              0.4444444444444444,
              "#bd3786"
             ],
             [
              0.5555555555555556,
              "#d8576b"
             ],
             [
              0.6666666666666666,
              "#ed7953"
             ],
             [
              0.7777777777777778,
              "#fb9f3a"
             ],
             [
              0.8888888888888888,
              "#fdca26"
             ],
             [
              1,
              "#f0f921"
             ]
            ],
            "type": "heatmapgl"
           }
          ],
          "histogram": [
           {
            "marker": {
             "pattern": {
              "fillmode": "overlay",
              "size": 10,
              "solidity": 0.2
             }
            },
            "type": "histogram"
           }
          ],
          "histogram2d": [
           {
            "colorbar": {
             "outlinewidth": 0,
             "ticks": ""
            },
            "colorscale": [
             [
              0,
              "#0d0887"
             ],
             [
              0.1111111111111111,
              "#46039f"
             ],
             [
              0.2222222222222222,
              "#7201a8"
             ],
             [
              0.3333333333333333,
              "#9c179e"
             ],
             [
              0.4444444444444444,
              "#bd3786"
             ],
             [
              0.5555555555555556,
              "#d8576b"
             ],
             [
              0.6666666666666666,
              "#ed7953"
             ],
             [
              0.7777777777777778,
              "#fb9f3a"
             ],
             [
              0.8888888888888888,
              "#fdca26"
             ],
             [
              1,
              "#f0f921"
             ]
            ],
            "type": "histogram2d"
           }
          ],
          "histogram2dcontour": [
           {
            "colorbar": {
             "outlinewidth": 0,
             "ticks": ""
            },
            "colorscale": [
             [
              0,
              "#0d0887"
             ],
             [
              0.1111111111111111,
              "#46039f"
             ],
             [
              0.2222222222222222,
              "#7201a8"
             ],
             [
              0.3333333333333333,
              "#9c179e"
             ],
             [
              0.4444444444444444,
              "#bd3786"
             ],
             [
              0.5555555555555556,
              "#d8576b"
             ],
             [
              0.6666666666666666,
              "#ed7953"
             ],
             [
              0.7777777777777778,
              "#fb9f3a"
             ],
             [
              0.8888888888888888,
              "#fdca26"
             ],
             [
              1,
              "#f0f921"
             ]
            ],
            "type": "histogram2dcontour"
           }
          ],
          "mesh3d": [
           {
            "colorbar": {
             "outlinewidth": 0,
             "ticks": ""
            },
            "type": "mesh3d"
           }
          ],
          "parcoords": [
           {
            "line": {
             "colorbar": {
              "outlinewidth": 0,
              "ticks": ""
             }
            },
            "type": "parcoords"
           }
          ],
          "pie": [
           {
            "automargin": true,
            "type": "pie"
           }
          ],
          "scatter": [
           {
            "fillpattern": {
             "fillmode": "overlay",
             "size": 10,
             "solidity": 0.2
            },
            "type": "scatter"
           }
          ],
          "scatter3d": [
           {
            "line": {
             "colorbar": {
              "outlinewidth": 0,
              "ticks": ""
             }
            },
            "marker": {
             "colorbar": {
              "outlinewidth": 0,
              "ticks": ""
             }
            },
            "type": "scatter3d"
           }
          ],
          "scattercarpet": [
           {
            "marker": {
             "colorbar": {
              "outlinewidth": 0,
              "ticks": ""
             }
            },
            "type": "scattercarpet"
           }
          ],
          "scattergeo": [
           {
            "marker": {
             "colorbar": {
              "outlinewidth": 0,
              "ticks": ""
             }
            },
            "type": "scattergeo"
           }
          ],
          "scattergl": [
           {
            "marker": {
             "colorbar": {
              "outlinewidth": 0,
              "ticks": ""
             }
            },
            "type": "scattergl"
           }
          ],
          "scattermapbox": [
           {
            "marker": {
             "colorbar": {
              "outlinewidth": 0,
              "ticks": ""
             }
            },
            "type": "scattermapbox"
           }
          ],
          "scatterpolar": [
           {
            "marker": {
             "colorbar": {
              "outlinewidth": 0,
              "ticks": ""
             }
            },
            "type": "scatterpolar"
           }
          ],
          "scatterpolargl": [
           {
            "marker": {
             "colorbar": {
              "outlinewidth": 0,
              "ticks": ""
             }
            },
            "type": "scatterpolargl"
           }
          ],
          "scatterternary": [
           {
            "marker": {
             "colorbar": {
              "outlinewidth": 0,
              "ticks": ""
             }
            },
            "type": "scatterternary"
           }
          ],
          "surface": [
           {
            "colorbar": {
             "outlinewidth": 0,
             "ticks": ""
            },
            "colorscale": [
             [
              0,
              "#0d0887"
             ],
             [
              0.1111111111111111,
              "#46039f"
             ],
             [
              0.2222222222222222,
              "#7201a8"
             ],
             [
              0.3333333333333333,
              "#9c179e"
             ],
             [
              0.4444444444444444,
              "#bd3786"
             ],
             [
              0.5555555555555556,
              "#d8576b"
             ],
             [
              0.6666666666666666,
              "#ed7953"
             ],
             [
              0.7777777777777778,
              "#fb9f3a"
             ],
             [
              0.8888888888888888,
              "#fdca26"
             ],
             [
              1,
              "#f0f921"
             ]
            ],
            "type": "surface"
           }
          ],
          "table": [
           {
            "cells": {
             "fill": {
              "color": "#EBF0F8"
             },
             "line": {
              "color": "white"
             }
            },
            "header": {
             "fill": {
              "color": "#C8D4E3"
             },
             "line": {
              "color": "white"
             }
            },
            "type": "table"
           }
          ]
         },
         "layout": {
          "annotationdefaults": {
           "arrowcolor": "#2a3f5f",
           "arrowhead": 0,
           "arrowwidth": 1
          },
          "autotypenumbers": "strict",
          "coloraxis": {
           "colorbar": {
            "outlinewidth": 0,
            "ticks": ""
           }
          },
          "colorscale": {
           "diverging": [
            [
             0,
             "#8e0152"
            ],
            [
             0.1,
             "#c51b7d"
            ],
            [
             0.2,
             "#de77ae"
            ],
            [
             0.3,
             "#f1b6da"
            ],
            [
             0.4,
             "#fde0ef"
            ],
            [
             0.5,
             "#f7f7f7"
            ],
            [
             0.6,
             "#e6f5d0"
            ],
            [
             0.7,
             "#b8e186"
            ],
            [
             0.8,
             "#7fbc41"
            ],
            [
             0.9,
             "#4d9221"
            ],
            [
             1,
             "#276419"
            ]
           ],
           "sequential": [
            [
             0,
             "#0d0887"
            ],
            [
             0.1111111111111111,
             "#46039f"
            ],
            [
             0.2222222222222222,
             "#7201a8"
            ],
            [
             0.3333333333333333,
             "#9c179e"
            ],
            [
             0.4444444444444444,
             "#bd3786"
            ],
            [
             0.5555555555555556,
             "#d8576b"
            ],
            [
             0.6666666666666666,
             "#ed7953"
            ],
            [
             0.7777777777777778,
             "#fb9f3a"
            ],
            [
             0.8888888888888888,
             "#fdca26"
            ],
            [
             1,
             "#f0f921"
            ]
           ],
           "sequentialminus": [
            [
             0,
             "#0d0887"
            ],
            [
             0.1111111111111111,
             "#46039f"
            ],
            [
             0.2222222222222222,
             "#7201a8"
            ],
            [
             0.3333333333333333,
             "#9c179e"
            ],
            [
             0.4444444444444444,
             "#bd3786"
            ],
            [
             0.5555555555555556,
             "#d8576b"
            ],
            [
             0.6666666666666666,
             "#ed7953"
            ],
            [
             0.7777777777777778,
             "#fb9f3a"
            ],
            [
             0.8888888888888888,
             "#fdca26"
            ],
            [
             1,
             "#f0f921"
            ]
           ]
          },
          "colorway": [
           "#636efa",
           "#EF553B",
           "#00cc96",
           "#ab63fa",
           "#FFA15A",
           "#19d3f3",
           "#FF6692",
           "#B6E880",
           "#FF97FF",
           "#FECB52"
          ],
          "font": {
           "color": "#2a3f5f"
          },
          "geo": {
           "bgcolor": "white",
           "lakecolor": "white",
           "landcolor": "#E5ECF6",
           "showlakes": true,
           "showland": true,
           "subunitcolor": "white"
          },
          "hoverlabel": {
           "align": "left"
          },
          "hovermode": "closest",
          "mapbox": {
           "style": "light"
          },
          "paper_bgcolor": "white",
          "plot_bgcolor": "#E5ECF6",
          "polar": {
           "angularaxis": {
            "gridcolor": "white",
            "linecolor": "white",
            "ticks": ""
           },
           "bgcolor": "#E5ECF6",
           "radialaxis": {
            "gridcolor": "white",
            "linecolor": "white",
            "ticks": ""
           }
          },
          "scene": {
           "xaxis": {
            "backgroundcolor": "#E5ECF6",
            "gridcolor": "white",
            "gridwidth": 2,
            "linecolor": "white",
            "showbackground": true,
            "ticks": "",
            "zerolinecolor": "white"
           },
           "yaxis": {
            "backgroundcolor": "#E5ECF6",
            "gridcolor": "white",
            "gridwidth": 2,
            "linecolor": "white",
            "showbackground": true,
            "ticks": "",
            "zerolinecolor": "white"
           },
           "zaxis": {
            "backgroundcolor": "#E5ECF6",
            "gridcolor": "white",
            "gridwidth": 2,
            "linecolor": "white",
            "showbackground": true,
            "ticks": "",
            "zerolinecolor": "white"
           }
          },
          "shapedefaults": {
           "line": {
            "color": "#2a3f5f"
           }
          },
          "ternary": {
           "aaxis": {
            "gridcolor": "white",
            "linecolor": "white",
            "ticks": ""
           },
           "baxis": {
            "gridcolor": "white",
            "linecolor": "white",
            "ticks": ""
           },
           "bgcolor": "#E5ECF6",
           "caxis": {
            "gridcolor": "white",
            "linecolor": "white",
            "ticks": ""
           }
          },
          "title": {
           "x": 0.05
          },
          "xaxis": {
           "automargin": true,
           "gridcolor": "white",
           "linecolor": "white",
           "ticks": "",
           "title": {
            "standoff": 15
           },
           "zerolinecolor": "white",
           "zerolinewidth": 2
          },
          "yaxis": {
           "automargin": true,
           "gridcolor": "white",
           "linecolor": "white",
           "ticks": "",
           "title": {
            "standoff": 15
           },
           "zerolinecolor": "white",
           "zerolinewidth": 2
          }
         }
        },
        "title": {
         "font": {
          "size": 30
         },
         "text": "Распределение переменных по полу",
         "x": 0.5
        },
        "xaxis": {
         "anchor": "y",
         "domain": [
          0,
          0.46
         ],
         "title": {
          "text": "Длина надклювья"
         }
        },
        "xaxis2": {
         "anchor": "y2",
         "domain": [
          0.54,
          1
         ],
         "title": {
          "text": "Тольщина надклювья"
         }
        },
        "xaxis3": {
         "anchor": "y3",
         "domain": [
          0,
          0.46
         ],
         "title": {
          "text": "Длина плавника"
         }
        },
        "xaxis4": {
         "anchor": "y4",
         "domain": [
          0.54,
          1
         ],
         "title": {
          "text": "Масса тела"
         }
        },
        "yaxis": {
         "anchor": "x",
         "domain": [
          0.55,
          1
         ]
        },
        "yaxis2": {
         "anchor": "x2",
         "domain": [
          0.55,
          1
         ]
        },
        "yaxis3": {
         "anchor": "x3",
         "domain": [
          0,
          0.45
         ]
        },
        "yaxis4": {
         "anchor": "x4",
         "domain": [
          0,
          0.45
         ]
        }
       }
      },
      "text/html": [
       "<div>                            <div id=\"334accc8-c9c2-46fa-a44d-28843db2b851\" class=\"plotly-graph-div\" style=\"height:1000px; width:100%;\"></div>            <script type=\"text/javascript\">                require([\"plotly\"], function(Plotly) {                    window.PLOTLYENV=window.PLOTLYENV || {};                                    if (document.getElementById(\"334accc8-c9c2-46fa-a44d-28843db2b851\")) {                    Plotly.newPlot(                        \"334accc8-c9c2-46fa-a44d-28843db2b851\",                        [{\"legendgroup\":\"\\u0414\\u043b\\u0438\\u043d\\u0430 \\u043d\\u0430\\u0434\\u043a\\u043b\\u044e\\u0432\\u044c\\u044f\",\"legendgrouptitle\":{\"text\":\"\\u0414\\u043b\\u0438\\u043d\\u0430 \\u043d\\u0430\\u0434\\u043a\\u043b\\u044e\\u0432\\u044c\\u044f\"},\"marker\":{\"color\":\"rgb(3, 35, 51)\"},\"name\":\"\\u0414\\u043b\\u0438\\u043d\\u0430 \\u043d\\u0430\\u0434\\u043a\\u043b\\u044e\\u0432\\u044c\\u044f\",\"x\":[\"MALE\",\"FEMALE\",\"FEMALE\",\"MALE\",\"FEMALE\",\"MALE\",\"FEMALE\",\"MALE\",\"MALE\",\"MALE\",\"MALE\",\"MALE\",\"FEMALE\",\"MALE\",\"MALE\",\"FEMALE\",\"FEMALE\",\"MALE\",\"FEMALE\",\"MALE\",\"FEMALE\",\"MALE\",\"FEMALE\",\"MALE\",\"MALE\",\"FEMALE\",\"MALE\",\"FEMALE\",\"FEMALE\",\"MALE\",\"FEMALE\",\"MALE\",\"FEMALE\",\"MALE\",\"FEMALE\",\"MALE\",\"MALE\",\"FEMALE\",\"FEMALE\",\"MALE\",\"FEMALE\",\"MALE\",\"FEMALE\",\"MALE\",\"FEMALE\",\"MALE\",\"MALE\",\"MALE\",\"FEMALE\",\"MALE\",\"FEMALE\",\"MALE\",\"FEMALE\",\"MALE\",\"FEMALE\",\"MALE\",\"FEMALE\",\"MALE\",\"FEMALE\",\"MALE\",\"FEMALE\",\"MALE\",\"FEMALE\",\"MALE\",\"FEMALE\",\"MALE\",\"FEMALE\",\"MALE\",\"FEMALE\",\"MALE\",\"FEMALE\",\"MALE\",\"FEMALE\",\"MALE\",\"FEMALE\",\"MALE\",\"FEMALE\",\"MALE\",\"FEMALE\",\"MALE\",\"FEMALE\",\"MALE\",\"FEMALE\",\"MALE\",\"FEMALE\",\"MALE\",\"MALE\",\"FEMALE\",\"MALE\",\"FEMALE\",\"FEMALE\",\"MALE\",\"FEMALE\",\"MALE\",\"FEMALE\",\"MALE\",\"FEMALE\",\"MALE\",\"FEMALE\",\"MALE\",\"FEMALE\",\"MALE\",\"FEMALE\",\"MALE\",\"FEMALE\",\"MALE\",\"FEMALE\",\"MALE\",\"FEMALE\",\"MALE\",\"FEMALE\",\"MALE\",\"FEMALE\",\"MALE\",\"FEMALE\",\"MALE\",\"FEMALE\",\"MALE\",\"FEMALE\",\"MALE\",\"FEMALE\",\"MALE\",\"FEMALE\",\"MALE\",\"FEMALE\",\"MALE\",\"FEMALE\",\"MALE\",\"FEMALE\",\"MALE\",\"FEMALE\",\"MALE\",\"FEMALE\",\"MALE\",\"FEMALE\",\"MALE\",\"FEMALE\",\"MALE\",\"FEMALE\",\"MALE\",\"FEMALE\",\"MALE\",\"FEMALE\",\"MALE\",\"FEMALE\",\"MALE\",\"MALE\",\"FEMALE\",\"FEMALE\",\"MALE\",\"FEMALE\",\"MALE\",\"FEMALE\",\"MALE\",\"MALE\",\"FEMALE\",\"MALE\",\"FEMALE\",\"FEMALE\",\"MALE\",\"FEMALE\",\"MALE\",\"FEMALE\",\"MALE\",\"FEMALE\",\"MALE\",\"FEMALE\",\"MALE\",\"MALE\",\"FEMALE\",\"FEMALE\",\"MALE\",\"FEMALE\",\"MALE\",\"FEMALE\",\"MALE\",\"FEMALE\",\"MALE\",\"FEMALE\",\"MALE\",\"FEMALE\",\"MALE\",\"FEMALE\",\"MALE\",\"FEMALE\",\"MALE\",\"MALE\",\"FEMALE\",\"FEMALE\",\"MALE\",\"FEMALE\",\"MALE\",\"MALE\",\"FEMALE\",\"MALE\",\"FEMALE\",\"FEMALE\",\"MALE\",\"FEMALE\",\"MALE\",\"MALE\",\"FEMALE\",\"FEMALE\",\"MALE\",\"FEMALE\",\"MALE\",\"FEMALE\",\"MALE\",\"FEMALE\",\"MALE\",\"MALE\",\"FEMALE\",\"MALE\",\"FEMALE\",\"FEMALE\",\"MALE\",\"FEMALE\",\"MALE\",\"MALE\",\"FEMALE\",\"FEMALE\",\"MALE\",\"FEMALE\",\"MALE\",\"MALE\",\"FEMALE\",\"FEMALE\",\"MALE\",\"FEMALE\",\"MALE\",\"FEMALE\",\"MALE\",\"FEMALE\",\"MALE\",\"FEMALE\",\"MALE\",\"FEMALE\",\"MALE\",\"FEMALE\",\"MALE\",\"MALE\",\"FEMALE\",\"FEMALE\",\"MALE\",\"FEMALE\",\"MALE\",\"MALE\",\"MALE\",\"FEMALE\",\"MALE\",\"MALE\",\"FEMALE\",\"FEMALE\",\"MALE\",\"FEMALE\",\"MALE\",\"FEMALE\",\"MALE\",\"FEMALE\",\"MALE\",\"FEMALE\",\"MALE\",\"FEMALE\",\"MALE\",\"MALE\",\"FEMALE\",\"FEMALE\",\"MALE\",\"FEMALE\",\"MALE\",\"FEMALE\",\"MALE\",\"FEMALE\",\"MALE\",\"FEMALE\",\"MALE\",\"FEMALE\",\"MALE\",\"FEMALE\",\"MALE\",\"FEMALE\",\"MALE\",\"FEMALE\",\"MALE\",\"FEMALE\",\"MALE\",\"MALE\",\"MALE\",\"FEMALE\",\"MALE\",\"FEMALE\",\"MALE\",\"MALE\",\"FEMALE\",\"FEMALE\",\"MALE\",\"FEMALE\",\"MALE\",\"FEMALE\",\"MALE\",\"FEMALE\",\"MALE\",\"FEMALE\",\"MALE\",\"FEMALE\",\"MALE\",\"FEMALE\",\"MALE\",\"FEMALE\",\"MALE\",\"FEMALE\",\"MALE\",\"FEMALE\",\"MALE\",\"FEMALE\",\"MALE\",\"MALE\",\"FEMALE\",\"FEMALE\",\"MALE\",\"FEMALE\",\"MALE\",\"FEMALE\",\"MALE\",\"MALE\",\"MALE\",\"FEMALE\",\"MALE\",\"FEMALE\",\"MALE\",\"FEMALE\",\"MALE\",\"FEMALE\",\"MALE\",\"FEMALE\",\"MALE\",\"MALE\",\"MALE\",\"FEMALE\",\"MALE\",\"FEMALE\",\"MALE\",\"FEMALE\",\"MALE\"],\"y\":[39.1,39.5,40.3,43.9,36.7,39.3,38.9,39.2,34.1,42.0,37.8,37.8,41.1,38.6,34.6,36.6,38.7,42.5,34.4,46.0,37.8,37.7,35.9,38.2,38.8,35.3,40.6,40.5,37.9,40.5,39.5,37.2,39.5,40.9,36.4,39.2,38.8,42.2,37.6,39.8,36.5,40.8,36.0,44.1,37.0,39.6,41.1,37.5,36.0,42.3,39.6,40.1,35.0,42.0,34.5,41.4,39.0,40.6,36.5,37.6,35.7,41.3,37.6,41.1,36.4,41.6,35.5,41.1,35.9,41.8,33.5,39.7,39.6,45.8,35.5,42.8,40.9,37.2,36.2,42.1,34.6,42.9,36.7,35.1,37.3,41.3,36.3,36.9,38.3,38.9,35.7,41.1,34.0,39.6,36.2,40.8,38.1,40.3,33.1,43.2,35.0,41.0,37.7,37.8,37.9,39.7,38.6,38.2,38.1,43.2,38.1,45.6,39.7,42.2,39.6,42.7,38.6,37.3,35.7,41.1,36.2,37.7,40.2,41.4,35.2,40.6,38.8,41.5,39.0,44.1,38.5,43.1,36.8,37.5,38.1,41.1,35.6,40.2,37.0,39.7,40.2,40.6,32.1,40.7,37.3,39.0,39.2,36.6,36.0,37.8,36.0,41.5,46.5,50.0,51.3,45.4,52.7,45.2,46.1,51.3,46.0,51.3,46.6,51.7,47.0,52.0,45.9,50.5,50.3,58.0,46.4,49.2,42.4,48.5,43.2,50.6,46.7,52.0,50.5,49.5,46.4,52.8,40.9,54.2,42.5,51.0,49.7,47.5,47.6,52.0,46.9,53.5,49.0,46.2,50.9,45.5,50.9,50.8,50.1,49.0,51.5,49.8,48.1,51.4,45.7,50.7,42.5,52.2,45.2,49.3,50.2,45.6,51.9,46.8,45.7,55.8,43.5,49.6,50.8,50.2,46.1,50.0,48.7,50.0,47.6,46.5,45.4,46.7,43.3,46.8,40.9,49.0,45.5,48.4,45.8,49.3,42.0,49.2,46.2,48.7,50.2,45.1,46.5,46.3,42.9,46.1,44.5,47.8,48.2,50.0,47.3,42.8,45.1,59.6,49.1,48.4,42.6,44.4,44.0,48.7,42.7,49.6,45.3,49.6,50.5,43.6,45.5,50.5,44.9,45.2,46.6,48.5,45.1,50.1,46.5,45.0,43.8,45.5,43.2,50.4,45.3,46.2,45.7,54.3,45.8,49.8,46.2,49.5,43.5,50.7,47.7,46.4,48.2,46.5,46.4,48.6,47.5,51.1,45.2,45.2,49.1,52.5,47.4,50.0,44.9,50.8,43.4,51.3,47.5,52.1,47.5,52.2,45.5,49.5,44.5,50.8,49.4,46.9,48.4,51.1,48.5,55.9,47.2,49.1,47.3,46.8,41.7,53.4,43.3,48.1,50.5,49.8,43.5,51.5,46.2,55.1,44.5,48.8,47.2,43.9,46.8,50.4,45.2,49.9],\"type\":\"box\",\"xaxis\":\"x\",\"yaxis\":\"y\"},{\"legendgroup\":\"\\u0422\\u043e\\u043b\\u0449\\u0438\\u043d\\u0430 \\u043d\\u0430\\u0434\\u043a\\u043b\\u044e\\u0432\\u044c\\u044f\",\"legendgrouptitle\":{\"text\":\"\\u0422\\u043e\\u043b\\u0449\\u0438\\u043d\\u0430 \\u043d\\u0430\\u0434\\u043a\\u043b\\u044e\\u0432\\u044c\\u044f\"},\"marker\":{\"color\":\"rgb(13, 48, 100)\"},\"name\":\"\\u0422\\u043e\\u043b\\u0449\\u0438\\u043d\\u0430 \\u043d\\u0430\\u0434\\u043a\\u043b\\u044e\\u0432\\u044c\\u044f\",\"x\":[\"MALE\",\"FEMALE\",\"FEMALE\",\"MALE\",\"FEMALE\",\"MALE\",\"FEMALE\",\"MALE\",\"MALE\",\"MALE\",\"MALE\",\"MALE\",\"FEMALE\",\"MALE\",\"MALE\",\"FEMALE\",\"FEMALE\",\"MALE\",\"FEMALE\",\"MALE\",\"FEMALE\",\"MALE\",\"FEMALE\",\"MALE\",\"MALE\",\"FEMALE\",\"MALE\",\"FEMALE\",\"FEMALE\",\"MALE\",\"FEMALE\",\"MALE\",\"FEMALE\",\"MALE\",\"FEMALE\",\"MALE\",\"MALE\",\"FEMALE\",\"FEMALE\",\"MALE\",\"FEMALE\",\"MALE\",\"FEMALE\",\"MALE\",\"FEMALE\",\"MALE\",\"MALE\",\"MALE\",\"FEMALE\",\"MALE\",\"FEMALE\",\"MALE\",\"FEMALE\",\"MALE\",\"FEMALE\",\"MALE\",\"FEMALE\",\"MALE\",\"FEMALE\",\"MALE\",\"FEMALE\",\"MALE\",\"FEMALE\",\"MALE\",\"FEMALE\",\"MALE\",\"FEMALE\",\"MALE\",\"FEMALE\",\"MALE\",\"FEMALE\",\"MALE\",\"FEMALE\",\"MALE\",\"FEMALE\",\"MALE\",\"FEMALE\",\"MALE\",\"FEMALE\",\"MALE\",\"FEMALE\",\"MALE\",\"FEMALE\",\"MALE\",\"FEMALE\",\"MALE\",\"MALE\",\"FEMALE\",\"MALE\",\"FEMALE\",\"FEMALE\",\"MALE\",\"FEMALE\",\"MALE\",\"FEMALE\",\"MALE\",\"FEMALE\",\"MALE\",\"FEMALE\",\"MALE\",\"FEMALE\",\"MALE\",\"FEMALE\",\"MALE\",\"FEMALE\",\"MALE\",\"FEMALE\",\"MALE\",\"FEMALE\",\"MALE\",\"FEMALE\",\"MALE\",\"FEMALE\",\"MALE\",\"FEMALE\",\"MALE\",\"FEMALE\",\"MALE\",\"FEMALE\",\"MALE\",\"FEMALE\",\"MALE\",\"FEMALE\",\"MALE\",\"FEMALE\",\"MALE\",\"FEMALE\",\"MALE\",\"FEMALE\",\"MALE\",\"FEMALE\",\"MALE\",\"FEMALE\",\"MALE\",\"FEMALE\",\"MALE\",\"FEMALE\",\"MALE\",\"FEMALE\",\"MALE\",\"FEMALE\",\"MALE\",\"FEMALE\",\"MALE\",\"FEMALE\",\"MALE\",\"MALE\",\"FEMALE\",\"FEMALE\",\"MALE\",\"FEMALE\",\"MALE\",\"FEMALE\",\"MALE\",\"MALE\",\"FEMALE\",\"MALE\",\"FEMALE\",\"FEMALE\",\"MALE\",\"FEMALE\",\"MALE\",\"FEMALE\",\"MALE\",\"FEMALE\",\"MALE\",\"FEMALE\",\"MALE\",\"MALE\",\"FEMALE\",\"FEMALE\",\"MALE\",\"FEMALE\",\"MALE\",\"FEMALE\",\"MALE\",\"FEMALE\",\"MALE\",\"FEMALE\",\"MALE\",\"FEMALE\",\"MALE\",\"FEMALE\",\"MALE\",\"FEMALE\",\"MALE\",\"MALE\",\"FEMALE\",\"FEMALE\",\"MALE\",\"FEMALE\",\"MALE\",\"MALE\",\"FEMALE\",\"MALE\",\"FEMALE\",\"FEMALE\",\"MALE\",\"FEMALE\",\"MALE\",\"MALE\",\"FEMALE\",\"FEMALE\",\"MALE\",\"FEMALE\",\"MALE\",\"FEMALE\",\"MALE\",\"FEMALE\",\"MALE\",\"MALE\",\"FEMALE\",\"MALE\",\"FEMALE\",\"FEMALE\",\"MALE\",\"FEMALE\",\"MALE\",\"MALE\",\"FEMALE\",\"FEMALE\",\"MALE\",\"FEMALE\",\"MALE\",\"MALE\",\"FEMALE\",\"FEMALE\",\"MALE\",\"FEMALE\",\"MALE\",\"FEMALE\",\"MALE\",\"FEMALE\",\"MALE\",\"FEMALE\",\"MALE\",\"FEMALE\",\"MALE\",\"FEMALE\",\"MALE\",\"MALE\",\"FEMALE\",\"FEMALE\",\"MALE\",\"FEMALE\",\"MALE\",\"MALE\",\"MALE\",\"FEMALE\",\"MALE\",\"MALE\",\"FEMALE\",\"FEMALE\",\"MALE\",\"FEMALE\",\"MALE\",\"FEMALE\",\"MALE\",\"FEMALE\",\"MALE\",\"FEMALE\",\"MALE\",\"FEMALE\",\"MALE\",\"MALE\",\"FEMALE\",\"FEMALE\",\"MALE\",\"FEMALE\",\"MALE\",\"FEMALE\",\"MALE\",\"FEMALE\",\"MALE\",\"FEMALE\",\"MALE\",\"FEMALE\",\"MALE\",\"FEMALE\",\"MALE\",\"FEMALE\",\"MALE\",\"FEMALE\",\"MALE\",\"FEMALE\",\"MALE\",\"MALE\",\"MALE\",\"FEMALE\",\"MALE\",\"FEMALE\",\"MALE\",\"MALE\",\"FEMALE\",\"FEMALE\",\"MALE\",\"FEMALE\",\"MALE\",\"FEMALE\",\"MALE\",\"FEMALE\",\"MALE\",\"FEMALE\",\"MALE\",\"FEMALE\",\"MALE\",\"FEMALE\",\"MALE\",\"FEMALE\",\"MALE\",\"FEMALE\",\"MALE\",\"FEMALE\",\"MALE\",\"FEMALE\",\"MALE\",\"MALE\",\"FEMALE\",\"FEMALE\",\"MALE\",\"FEMALE\",\"MALE\",\"FEMALE\",\"MALE\",\"MALE\",\"MALE\",\"FEMALE\",\"MALE\",\"FEMALE\",\"MALE\",\"FEMALE\",\"MALE\",\"FEMALE\",\"MALE\",\"FEMALE\",\"MALE\",\"MALE\",\"MALE\",\"FEMALE\",\"MALE\",\"FEMALE\",\"MALE\",\"FEMALE\",\"MALE\"],\"y\":[18.7,17.4,18.0,17.2,19.3,20.6,17.8,19.6,18.1,20.2,17.1,17.3,17.6,21.2,21.1,17.8,19.0,20.7,18.4,21.5,18.3,18.7,19.2,18.1,17.2,18.9,18.6,17.9,18.6,18.9,16.7,18.1,17.8,18.9,17.0,21.1,20.0,18.5,19.3,19.1,18.0,18.4,18.5,19.7,16.9,18.8,19.0,18.9,17.9,21.2,17.7,18.9,17.9,19.5,18.1,18.6,17.5,18.8,16.6,19.1,16.9,21.1,17.0,18.2,17.1,18.0,16.2,19.1,16.6,19.4,19.0,18.4,17.2,18.9,17.5,18.5,16.8,19.4,16.1,19.1,17.2,17.6,18.8,19.4,17.8,20.3,19.5,18.6,19.2,18.8,18.0,18.1,17.1,18.1,17.3,18.9,18.6,18.5,16.1,18.5,17.9,20.0,16.0,20.0,18.6,18.9,17.2,20.0,17.0,19.0,16.5,20.3,17.7,19.5,20.7,18.3,17.0,20.5,17.0,18.6,17.2,19.8,17.0,18.5,15.9,19.0,17.6,18.3,17.1,18.0,17.9,19.2,18.5,18.5,17.6,17.5,17.5,20.1,16.5,17.9,17.1,17.2,15.5,17.0,16.8,18.7,18.6,18.4,17.8,18.1,17.1,18.5,17.9,19.5,19.2,18.7,19.8,17.8,18.2,18.2,18.9,19.9,17.8,20.3,17.3,18.1,17.1,19.6,20.0,17.8,18.6,18.2,17.3,17.5,16.6,19.4,17.9,19.0,18.4,19.0,17.8,20.0,16.6,20.8,16.7,18.8,18.6,16.8,18.3,20.7,16.6,19.9,19.5,17.5,19.1,17.0,17.9,18.5,17.9,19.6,18.7,17.3,16.4,19.0,17.3,19.7,17.3,18.8,16.6,19.9,18.8,19.4,19.5,16.5,17.0,19.8,18.1,18.2,19.0,18.7,13.2,16.3,14.1,15.2,14.5,13.5,14.6,15.3,13.4,15.4,13.7,16.1,13.7,14.6,14.6,15.7,13.5,15.2,14.5,15.1,14.3,14.5,14.5,15.8,13.1,15.1,14.3,15.0,14.3,15.3,15.3,14.2,14.5,17.0,14.8,16.3,13.7,17.3,13.6,15.7,13.7,16.0,13.7,15.0,15.9,13.9,13.9,15.9,13.3,15.8,14.2,14.1,14.4,15.0,14.4,15.4,13.9,15.0,14.5,15.3,13.8,14.9,13.9,15.7,14.2,16.8,14.4,16.2,14.2,15.0,15.0,15.6,15.6,14.8,15.0,16.0,14.2,16.3,13.8,16.4,14.5,15.6,14.6,15.9,13.8,17.3,14.4,14.2,14.0,17.0,15.0,17.1,14.5,16.1,14.7,15.7,15.8,14.6,14.4,16.5,15.0,17.0,15.5,15.0,13.8,16.1,14.7,15.8,14.0,15.1,15.2,15.9,15.2,16.3,14.1,16.0,15.7,16.2,13.7,17.2,14.3,15.7,14.8,16.1],\"type\":\"box\",\"xaxis\":\"x2\",\"yaxis\":\"y2\"},{\"legendgroup\":\"\\u0414\\u043b\\u0438\\u043d\\u0430 \\u043f\\u043b\\u0430\\u0432\\u043d\\u0438\\u043a\\u0430\",\"legendgrouptitle\":{\"text\":\"\\u0414\\u043b\\u0438\\u043d\\u0430 \\u043f\\u043b\\u0430\\u0432\\u043d\\u0438\\u043a\\u0430\"},\"marker\":{\"color\":\"rgb(53, 50, 155)\"},\"name\":\"\\u0414\\u043b\\u0438\\u043d\\u0430 \\u043f\\u043b\\u0430\\u0432\\u043d\\u0438\\u043a\\u0430\",\"x\":[\"MALE\",\"FEMALE\",\"FEMALE\",\"MALE\",\"FEMALE\",\"MALE\",\"FEMALE\",\"MALE\",\"MALE\",\"MALE\",\"MALE\",\"MALE\",\"FEMALE\",\"MALE\",\"MALE\",\"FEMALE\",\"FEMALE\",\"MALE\",\"FEMALE\",\"MALE\",\"FEMALE\",\"MALE\",\"FEMALE\",\"MALE\",\"MALE\",\"FEMALE\",\"MALE\",\"FEMALE\",\"FEMALE\",\"MALE\",\"FEMALE\",\"MALE\",\"FEMALE\",\"MALE\",\"FEMALE\",\"MALE\",\"MALE\",\"FEMALE\",\"FEMALE\",\"MALE\",\"FEMALE\",\"MALE\",\"FEMALE\",\"MALE\",\"FEMALE\",\"MALE\",\"MALE\",\"MALE\",\"FEMALE\",\"MALE\",\"FEMALE\",\"MALE\",\"FEMALE\",\"MALE\",\"FEMALE\",\"MALE\",\"FEMALE\",\"MALE\",\"FEMALE\",\"MALE\",\"FEMALE\",\"MALE\",\"FEMALE\",\"MALE\",\"FEMALE\",\"MALE\",\"FEMALE\",\"MALE\",\"FEMALE\",\"MALE\",\"FEMALE\",\"MALE\",\"FEMALE\",\"MALE\",\"FEMALE\",\"MALE\",\"FEMALE\",\"MALE\",\"FEMALE\",\"MALE\",\"FEMALE\",\"MALE\",\"FEMALE\",\"MALE\",\"FEMALE\",\"MALE\",\"MALE\",\"FEMALE\",\"MALE\",\"FEMALE\",\"FEMALE\",\"MALE\",\"FEMALE\",\"MALE\",\"FEMALE\",\"MALE\",\"FEMALE\",\"MALE\",\"FEMALE\",\"MALE\",\"FEMALE\",\"MALE\",\"FEMALE\",\"MALE\",\"FEMALE\",\"MALE\",\"FEMALE\",\"MALE\",\"FEMALE\",\"MALE\",\"FEMALE\",\"MALE\",\"FEMALE\",\"MALE\",\"FEMALE\",\"MALE\",\"FEMALE\",\"MALE\",\"FEMALE\",\"MALE\",\"FEMALE\",\"MALE\",\"FEMALE\",\"MALE\",\"FEMALE\",\"MALE\",\"FEMALE\",\"MALE\",\"FEMALE\",\"MALE\",\"FEMALE\",\"MALE\",\"FEMALE\",\"MALE\",\"FEMALE\",\"MALE\",\"FEMALE\",\"MALE\",\"FEMALE\",\"MALE\",\"FEMALE\",\"MALE\",\"FEMALE\",\"MALE\",\"FEMALE\",\"MALE\",\"MALE\",\"FEMALE\",\"FEMALE\",\"MALE\",\"FEMALE\",\"MALE\",\"FEMALE\",\"MALE\",\"MALE\",\"FEMALE\",\"MALE\",\"FEMALE\",\"FEMALE\",\"MALE\",\"FEMALE\",\"MALE\",\"FEMALE\",\"MALE\",\"FEMALE\",\"MALE\",\"FEMALE\",\"MALE\",\"MALE\",\"FEMALE\",\"FEMALE\",\"MALE\",\"FEMALE\",\"MALE\",\"FEMALE\",\"MALE\",\"FEMALE\",\"MALE\",\"FEMALE\",\"MALE\",\"FEMALE\",\"MALE\",\"FEMALE\",\"MALE\",\"FEMALE\",\"MALE\",\"MALE\",\"FEMALE\",\"FEMALE\",\"MALE\",\"FEMALE\",\"MALE\",\"MALE\",\"FEMALE\",\"MALE\",\"FEMALE\",\"FEMALE\",\"MALE\",\"FEMALE\",\"MALE\",\"MALE\",\"FEMALE\",\"FEMALE\",\"MALE\",\"FEMALE\",\"MALE\",\"FEMALE\",\"MALE\",\"FEMALE\",\"MALE\",\"MALE\",\"FEMALE\",\"MALE\",\"FEMALE\",\"FEMALE\",\"MALE\",\"FEMALE\",\"MALE\",\"MALE\",\"FEMALE\",\"FEMALE\",\"MALE\",\"FEMALE\",\"MALE\",\"MALE\",\"FEMALE\",\"FEMALE\",\"MALE\",\"FEMALE\",\"MALE\",\"FEMALE\",\"MALE\",\"FEMALE\",\"MALE\",\"FEMALE\",\"MALE\",\"FEMALE\",\"MALE\",\"FEMALE\",\"MALE\",\"MALE\",\"FEMALE\",\"FEMALE\",\"MALE\",\"FEMALE\",\"MALE\",\"MALE\",\"MALE\",\"FEMALE\",\"MALE\",\"MALE\",\"FEMALE\",\"FEMALE\",\"MALE\",\"FEMALE\",\"MALE\",\"FEMALE\",\"MALE\",\"FEMALE\",\"MALE\",\"FEMALE\",\"MALE\",\"FEMALE\",\"MALE\",\"MALE\",\"FEMALE\",\"FEMALE\",\"MALE\",\"FEMALE\",\"MALE\",\"FEMALE\",\"MALE\",\"FEMALE\",\"MALE\",\"FEMALE\",\"MALE\",\"FEMALE\",\"MALE\",\"FEMALE\",\"MALE\",\"FEMALE\",\"MALE\",\"FEMALE\",\"MALE\",\"FEMALE\",\"MALE\",\"MALE\",\"MALE\",\"FEMALE\",\"MALE\",\"FEMALE\",\"MALE\",\"MALE\",\"FEMALE\",\"FEMALE\",\"MALE\",\"FEMALE\",\"MALE\",\"FEMALE\",\"MALE\",\"FEMALE\",\"MALE\",\"FEMALE\",\"MALE\",\"FEMALE\",\"MALE\",\"FEMALE\",\"MALE\",\"FEMALE\",\"MALE\",\"FEMALE\",\"MALE\",\"FEMALE\",\"MALE\",\"FEMALE\",\"MALE\",\"MALE\",\"FEMALE\",\"FEMALE\",\"MALE\",\"FEMALE\",\"MALE\",\"FEMALE\",\"MALE\",\"MALE\",\"MALE\",\"FEMALE\",\"MALE\",\"FEMALE\",\"MALE\",\"FEMALE\",\"MALE\",\"FEMALE\",\"MALE\",\"FEMALE\",\"MALE\",\"MALE\",\"MALE\",\"FEMALE\",\"MALE\",\"FEMALE\",\"MALE\",\"FEMALE\",\"MALE\"],\"y\":[181.0,186.0,195.0,200.9,193.0,190.0,181.0,195.0,193.0,190.0,186.0,180.0,182.0,191.0,198.0,185.0,195.0,197.0,184.0,194.0,174.0,180.0,189.0,185.0,180.0,187.0,183.0,187.0,172.0,180.0,178.0,178.0,188.0,184.0,195.0,196.0,190.0,180.0,181.0,184.0,182.0,195.0,186.0,196.0,185.0,190.0,182.0,179.0,190.0,191.0,186.0,188.0,190.0,200.0,187.0,191.0,186.0,193.0,181.0,194.0,185.0,195.0,185.0,192.0,184.0,192.0,195.0,188.0,190.0,198.0,190.0,190.0,196.0,197.0,190.0,195.0,191.0,184.0,187.0,195.0,189.0,196.0,187.0,193.0,191.0,194.0,190.0,189.0,189.0,190.0,202.0,205.0,185.0,186.0,187.0,208.0,190.0,196.0,178.0,192.0,192.0,203.0,183.0,190.0,193.0,184.0,199.0,190.0,181.0,197.0,198.0,191.0,193.0,197.0,191.0,196.0,188.0,199.0,189.0,189.0,187.0,198.0,176.0,202.0,186.0,199.0,191.0,195.0,191.0,210.0,190.0,197.0,193.0,199.0,187.0,190.0,191.0,200.0,185.0,193.0,193.0,187.0,188.0,190.0,192.0,185.0,190.0,184.0,195.0,193.0,187.0,201.0,192.0,196.0,193.0,188.0,197.0,198.0,178.0,197.0,195.0,198.0,193.0,194.0,185.0,201.0,190.0,201.0,197.0,181.0,190.0,195.0,181.0,191.0,187.0,193.0,195.0,197.0,200.0,200.0,191.0,205.0,187.0,201.0,187.0,203.0,195.0,199.0,195.0,210.0,192.0,205.0,210.0,187.0,196.0,196.0,196.0,201.0,190.0,212.0,187.0,198.0,199.0,201.0,193.0,203.0,187.0,197.0,191.0,203.0,202.0,194.0,206.0,189.0,195.0,207.0,202.0,193.0,210.0,198.0,211.0,230.0,210.0,218.0,215.0,210.0,211.0,219.0,209.0,215.0,214.0,216.0,214.0,213.0,210.0,217.0,210.0,221.0,209.0,222.0,218.0,215.0,213.0,215.0,215.0,215.0,216.0,215.0,210.0,220.0,222.0,209.0,207.0,230.0,220.0,220.0,213.0,219.0,208.0,208.0,208.0,225.0,210.0,216.0,222.0,217.0,210.0,225.0,213.0,215.0,210.0,220.0,210.0,225.0,217.0,220.0,208.0,220.0,208.0,224.0,208.0,221.0,214.0,231.0,219.0,230.0,214.0,229.0,220.0,223.0,216.0,221.0,221.0,217.0,216.0,230.0,209.0,220.0,215.0,223.0,212.0,221.0,212.0,224.0,212.0,228.0,218.0,218.0,212.0,230.0,218.0,228.0,212.0,224.0,214.0,226.0,216.0,222.0,203.0,225.0,219.0,228.0,215.0,228.0,216.0,215.0,210.0,219.0,208.0,209.0,216.0,229.0,213.0,230.0,217.0,230.0,217.0,222.0,214.0,200.9,215.0,222.0,212.0,213.0],\"type\":\"box\",\"xaxis\":\"x3\",\"yaxis\":\"y3\"},{\"legendgroup\":\"\\u041c\\u0430\\u0441\\u0441\\u0430 \\u0442\\u0435\\u043b\\u0430\",\"legendgrouptitle\":{\"text\":\"\\u041c\\u0430\\u0441\\u0441\\u0430 \\u0442\\u0435\\u043b\\u0430\"},\"marker\":{\"color\":\"rgb(93, 62, 153)\"},\"name\":\"\\u041c\\u0430\\u0441\\u0441\\u0430 \\u0442\\u0435\\u043b\\u0430\",\"x\":[\"MALE\",\"FEMALE\",\"FEMALE\",\"MALE\",\"FEMALE\",\"MALE\",\"FEMALE\",\"MALE\",\"MALE\",\"MALE\",\"MALE\",\"MALE\",\"FEMALE\",\"MALE\",\"MALE\",\"FEMALE\",\"FEMALE\",\"MALE\",\"FEMALE\",\"MALE\",\"FEMALE\",\"MALE\",\"FEMALE\",\"MALE\",\"MALE\",\"FEMALE\",\"MALE\",\"FEMALE\",\"FEMALE\",\"MALE\",\"FEMALE\",\"MALE\",\"FEMALE\",\"MALE\",\"FEMALE\",\"MALE\",\"MALE\",\"FEMALE\",\"FEMALE\",\"MALE\",\"FEMALE\",\"MALE\",\"FEMALE\",\"MALE\",\"FEMALE\",\"MALE\",\"MALE\",\"MALE\",\"FEMALE\",\"MALE\",\"FEMALE\",\"MALE\",\"FEMALE\",\"MALE\",\"FEMALE\",\"MALE\",\"FEMALE\",\"MALE\",\"FEMALE\",\"MALE\",\"FEMALE\",\"MALE\",\"FEMALE\",\"MALE\",\"FEMALE\",\"MALE\",\"FEMALE\",\"MALE\",\"FEMALE\",\"MALE\",\"FEMALE\",\"MALE\",\"FEMALE\",\"MALE\",\"FEMALE\",\"MALE\",\"FEMALE\",\"MALE\",\"FEMALE\",\"MALE\",\"FEMALE\",\"MALE\",\"FEMALE\",\"MALE\",\"FEMALE\",\"MALE\",\"MALE\",\"FEMALE\",\"MALE\",\"FEMALE\",\"FEMALE\",\"MALE\",\"FEMALE\",\"MALE\",\"FEMALE\",\"MALE\",\"FEMALE\",\"MALE\",\"FEMALE\",\"MALE\",\"FEMALE\",\"MALE\",\"FEMALE\",\"MALE\",\"FEMALE\",\"MALE\",\"FEMALE\",\"MALE\",\"FEMALE\",\"MALE\",\"FEMALE\",\"MALE\",\"FEMALE\",\"MALE\",\"FEMALE\",\"MALE\",\"FEMALE\",\"MALE\",\"FEMALE\",\"MALE\",\"FEMALE\",\"MALE\",\"FEMALE\",\"MALE\",\"FEMALE\",\"MALE\",\"FEMALE\",\"MALE\",\"FEMALE\",\"MALE\",\"FEMALE\",\"MALE\",\"FEMALE\",\"MALE\",\"FEMALE\",\"MALE\",\"FEMALE\",\"MALE\",\"FEMALE\",\"MALE\",\"FEMALE\",\"MALE\",\"FEMALE\",\"MALE\",\"FEMALE\",\"MALE\",\"MALE\",\"FEMALE\",\"FEMALE\",\"MALE\",\"FEMALE\",\"MALE\",\"FEMALE\",\"MALE\",\"MALE\",\"FEMALE\",\"MALE\",\"FEMALE\",\"FEMALE\",\"MALE\",\"FEMALE\",\"MALE\",\"FEMALE\",\"MALE\",\"FEMALE\",\"MALE\",\"FEMALE\",\"MALE\",\"MALE\",\"FEMALE\",\"FEMALE\",\"MALE\",\"FEMALE\",\"MALE\",\"FEMALE\",\"MALE\",\"FEMALE\",\"MALE\",\"FEMALE\",\"MALE\",\"FEMALE\",\"MALE\",\"FEMALE\",\"MALE\",\"FEMALE\",\"MALE\",\"MALE\",\"FEMALE\",\"FEMALE\",\"MALE\",\"FEMALE\",\"MALE\",\"MALE\",\"FEMALE\",\"MALE\",\"FEMALE\",\"FEMALE\",\"MALE\",\"FEMALE\",\"MALE\",\"MALE\",\"FEMALE\",\"FEMALE\",\"MALE\",\"FEMALE\",\"MALE\",\"FEMALE\",\"MALE\",\"FEMALE\",\"MALE\",\"MALE\",\"FEMALE\",\"MALE\",\"FEMALE\",\"FEMALE\",\"MALE\",\"FEMALE\",\"MALE\",\"MALE\",\"FEMALE\",\"FEMALE\",\"MALE\",\"FEMALE\",\"MALE\",\"MALE\",\"FEMALE\",\"FEMALE\",\"MALE\",\"FEMALE\",\"MALE\",\"FEMALE\",\"MALE\",\"FEMALE\",\"MALE\",\"FEMALE\",\"MALE\",\"FEMALE\",\"MALE\",\"FEMALE\",\"MALE\",\"MALE\",\"FEMALE\",\"FEMALE\",\"MALE\",\"FEMALE\",\"MALE\",\"MALE\",\"MALE\",\"FEMALE\",\"MALE\",\"MALE\",\"FEMALE\",\"FEMALE\",\"MALE\",\"FEMALE\",\"MALE\",\"FEMALE\",\"MALE\",\"FEMALE\",\"MALE\",\"FEMALE\",\"MALE\",\"FEMALE\",\"MALE\",\"MALE\",\"FEMALE\",\"FEMALE\",\"MALE\",\"FEMALE\",\"MALE\",\"FEMALE\",\"MALE\",\"FEMALE\",\"MALE\",\"FEMALE\",\"MALE\",\"FEMALE\",\"MALE\",\"FEMALE\",\"MALE\",\"FEMALE\",\"MALE\",\"FEMALE\",\"MALE\",\"FEMALE\",\"MALE\",\"MALE\",\"MALE\",\"FEMALE\",\"MALE\",\"FEMALE\",\"MALE\",\"MALE\",\"FEMALE\",\"FEMALE\",\"MALE\",\"FEMALE\",\"MALE\",\"FEMALE\",\"MALE\",\"FEMALE\",\"MALE\",\"FEMALE\",\"MALE\",\"FEMALE\",\"MALE\",\"FEMALE\",\"MALE\",\"FEMALE\",\"MALE\",\"FEMALE\",\"MALE\",\"FEMALE\",\"MALE\",\"FEMALE\",\"MALE\",\"MALE\",\"FEMALE\",\"FEMALE\",\"MALE\",\"FEMALE\",\"MALE\",\"FEMALE\",\"MALE\",\"MALE\",\"MALE\",\"FEMALE\",\"MALE\",\"FEMALE\",\"MALE\",\"FEMALE\",\"MALE\",\"FEMALE\",\"MALE\",\"FEMALE\",\"MALE\",\"MALE\",\"MALE\",\"FEMALE\",\"MALE\",\"FEMALE\",\"MALE\",\"FEMALE\",\"MALE\"],\"y\":[3750.0,3800.0,3250.0,4201.8,3450.0,3650.0,3625.0,4675.0,3475.0,4250.0,3300.0,3700.0,3200.0,3800.0,4400.0,3700.0,3450.0,4500.0,3325.0,4200.0,3400.0,3600.0,3800.0,3950.0,3800.0,3800.0,3550.0,3200.0,3150.0,3950.0,3250.0,3900.0,3300.0,3900.0,3325.0,4150.0,3950.0,3550.0,3300.0,4650.0,3150.0,3900.0,3100.0,4400.0,3000.0,4600.0,3425.0,2975.0,3450.0,4150.0,3500.0,4300.0,3450.0,4050.0,2900.0,3700.0,3550.0,3800.0,2850.0,3750.0,3150.0,4400.0,3600.0,4050.0,2850.0,3950.0,3350.0,4100.0,3050.0,4450.0,3600.0,3900.0,3550.0,4150.0,3700.0,4250.0,3700.0,3900.0,3550.0,4000.0,3200.0,4700.0,3800.0,4200.0,3350.0,3550.0,3800.0,3500.0,3950.0,3600.0,3550.0,4300.0,3400.0,4450.0,3300.0,4300.0,3700.0,4350.0,2900.0,4100.0,3725.0,4725.0,3075.0,4250.0,2925.0,3550.0,3750.0,3900.0,3175.0,4775.0,3825.0,4600.0,3200.0,4275.0,3900.0,4075.0,2900.0,3775.0,3350.0,3325.0,3150.0,3500.0,3450.0,3875.0,3050.0,4000.0,3275.0,4300.0,3050.0,4000.0,3325.0,3500.0,3500.0,4475.0,3425.0,3900.0,3175.0,3975.0,3400.0,4250.0,3400.0,3475.0,3050.0,3725.0,3000.0,3650.0,4250.0,3475.0,3450.0,3750.0,3700.0,4000.0,3500.0,3900.0,3650.0,3525.0,3725.0,3950.0,3250.0,3750.0,4150.0,3700.0,3800.0,3775.0,3700.0,4050.0,3575.0,4050.0,3300.0,3700.0,3450.0,4400.0,3600.0,3400.0,2900.0,3800.0,3300.0,4150.0,3400.0,3800.0,3700.0,4550.0,3200.0,4300.0,3350.0,4100.0,3600.0,3900.0,3850.0,4800.0,2700.0,4500.0,3950.0,3650.0,3550.0,3500.0,3675.0,4450.0,3400.0,4300.0,3250.0,3675.0,3325.0,3950.0,3600.0,4050.0,3350.0,3450.0,3250.0,4050.0,3800.0,3525.0,3950.0,3650.0,3650.0,4000.0,3400.0,3775.0,4100.0,3775.0,4500.0,5700.0,4450.0,5700.0,5400.0,4550.0,4800.0,5200.0,4400.0,5150.0,4650.0,5550.0,4650.0,5850.0,4200.0,5850.0,4150.0,6300.0,4800.0,5350.0,5700.0,5000.0,4400.0,5050.0,5000.0,5100.0,4100.0,5650.0,4600.0,5550.0,5250.0,4700.0,5050.0,6050.0,5150.0,5400.0,4950.0,5250.0,4350.0,5350.0,3950.0,5700.0,4300.0,4750.0,5550.0,4900.0,4200.0,5400.0,5100.0,5300.0,4850.0,5300.0,4400.0,5000.0,4900.0,5050.0,4300.0,5000.0,4450.0,5550.0,4200.0,5300.0,4400.0,5650.0,4700.0,5700.0,4650.0,5800.0,4700.0,5550.0,4750.0,5000.0,5100.0,5200.0,4700.0,5800.0,4600.0,6000.0,4750.0,5950.0,4625.0,5450.0,4725.0,5350.0,4750.0,5600.0,4600.0,5300.0,4875.0,5550.0,4950.0,5400.0,4750.0,5650.0,4850.0,5200.0,4925.0,4875.0,4625.0,5250.0,4850.0,5600.0,4975.0,5500.0,4725.0,5500.0,4700.0,5500.0,4575.0,5500.0,5000.0,5950.0,4650.0,5500.0,4375.0,5850.0,4875.0,6000.0,4925.0,4201.8,4850.0,5750.0,5200.0,5400.0],\"type\":\"box\",\"xaxis\":\"x4\",\"yaxis\":\"y4\"}],                        {\"template\":{\"data\":{\"histogram2dcontour\":[{\"type\":\"histogram2dcontour\",\"colorbar\":{\"outlinewidth\":0,\"ticks\":\"\"},\"colorscale\":[[0.0,\"#0d0887\"],[0.1111111111111111,\"#46039f\"],[0.2222222222222222,\"#7201a8\"],[0.3333333333333333,\"#9c179e\"],[0.4444444444444444,\"#bd3786\"],[0.5555555555555556,\"#d8576b\"],[0.6666666666666666,\"#ed7953\"],[0.7777777777777778,\"#fb9f3a\"],[0.8888888888888888,\"#fdca26\"],[1.0,\"#f0f921\"]]}],\"choropleth\":[{\"type\":\"choropleth\",\"colorbar\":{\"outlinewidth\":0,\"ticks\":\"\"}}],\"histogram2d\":[{\"type\":\"histogram2d\",\"colorbar\":{\"outlinewidth\":0,\"ticks\":\"\"},\"colorscale\":[[0.0,\"#0d0887\"],[0.1111111111111111,\"#46039f\"],[0.2222222222222222,\"#7201a8\"],[0.3333333333333333,\"#9c179e\"],[0.4444444444444444,\"#bd3786\"],[0.5555555555555556,\"#d8576b\"],[0.6666666666666666,\"#ed7953\"],[0.7777777777777778,\"#fb9f3a\"],[0.8888888888888888,\"#fdca26\"],[1.0,\"#f0f921\"]]}],\"heatmap\":[{\"type\":\"heatmap\",\"colorbar\":{\"outlinewidth\":0,\"ticks\":\"\"},\"colorscale\":[[0.0,\"#0d0887\"],[0.1111111111111111,\"#46039f\"],[0.2222222222222222,\"#7201a8\"],[0.3333333333333333,\"#9c179e\"],[0.4444444444444444,\"#bd3786\"],[0.5555555555555556,\"#d8576b\"],[0.6666666666666666,\"#ed7953\"],[0.7777777777777778,\"#fb9f3a\"],[0.8888888888888888,\"#fdca26\"],[1.0,\"#f0f921\"]]}],\"heatmapgl\":[{\"type\":\"heatmapgl\",\"colorbar\":{\"outlinewidth\":0,\"ticks\":\"\"},\"colorscale\":[[0.0,\"#0d0887\"],[0.1111111111111111,\"#46039f\"],[0.2222222222222222,\"#7201a8\"],[0.3333333333333333,\"#9c179e\"],[0.4444444444444444,\"#bd3786\"],[0.5555555555555556,\"#d8576b\"],[0.6666666666666666,\"#ed7953\"],[0.7777777777777778,\"#fb9f3a\"],[0.8888888888888888,\"#fdca26\"],[1.0,\"#f0f921\"]]}],\"contourcarpet\":[{\"type\":\"contourcarpet\",\"colorbar\":{\"outlinewidth\":0,\"ticks\":\"\"}}],\"contour\":[{\"type\":\"contour\",\"colorbar\":{\"outlinewidth\":0,\"ticks\":\"\"},\"colorscale\":[[0.0,\"#0d0887\"],[0.1111111111111111,\"#46039f\"],[0.2222222222222222,\"#7201a8\"],[0.3333333333333333,\"#9c179e\"],[0.4444444444444444,\"#bd3786\"],[0.5555555555555556,\"#d8576b\"],[0.6666666666666666,\"#ed7953\"],[0.7777777777777778,\"#fb9f3a\"],[0.8888888888888888,\"#fdca26\"],[1.0,\"#f0f921\"]]}],\"surface\":[{\"type\":\"surface\",\"colorbar\":{\"outlinewidth\":0,\"ticks\":\"\"},\"colorscale\":[[0.0,\"#0d0887\"],[0.1111111111111111,\"#46039f\"],[0.2222222222222222,\"#7201a8\"],[0.3333333333333333,\"#9c179e\"],[0.4444444444444444,\"#bd3786\"],[0.5555555555555556,\"#d8576b\"],[0.6666666666666666,\"#ed7953\"],[0.7777777777777778,\"#fb9f3a\"],[0.8888888888888888,\"#fdca26\"],[1.0,\"#f0f921\"]]}],\"mesh3d\":[{\"type\":\"mesh3d\",\"colorbar\":{\"outlinewidth\":0,\"ticks\":\"\"}}],\"scatter\":[{\"fillpattern\":{\"fillmode\":\"overlay\",\"size\":10,\"solidity\":0.2},\"type\":\"scatter\"}],\"parcoords\":[{\"type\":\"parcoords\",\"line\":{\"colorbar\":{\"outlinewidth\":0,\"ticks\":\"\"}}}],\"scatterpolargl\":[{\"type\":\"scatterpolargl\",\"marker\":{\"colorbar\":{\"outlinewidth\":0,\"ticks\":\"\"}}}],\"bar\":[{\"error_x\":{\"color\":\"#2a3f5f\"},\"error_y\":{\"color\":\"#2a3f5f\"},\"marker\":{\"line\":{\"color\":\"#E5ECF6\",\"width\":0.5},\"pattern\":{\"fillmode\":\"overlay\",\"size\":10,\"solidity\":0.2}},\"type\":\"bar\"}],\"scattergeo\":[{\"type\":\"scattergeo\",\"marker\":{\"colorbar\":{\"outlinewidth\":0,\"ticks\":\"\"}}}],\"scatterpolar\":[{\"type\":\"scatterpolar\",\"marker\":{\"colorbar\":{\"outlinewidth\":0,\"ticks\":\"\"}}}],\"histogram\":[{\"marker\":{\"pattern\":{\"fillmode\":\"overlay\",\"size\":10,\"solidity\":0.2}},\"type\":\"histogram\"}],\"scattergl\":[{\"type\":\"scattergl\",\"marker\":{\"colorbar\":{\"outlinewidth\":0,\"ticks\":\"\"}}}],\"scatter3d\":[{\"type\":\"scatter3d\",\"line\":{\"colorbar\":{\"outlinewidth\":0,\"ticks\":\"\"}},\"marker\":{\"colorbar\":{\"outlinewidth\":0,\"ticks\":\"\"}}}],\"scattermapbox\":[{\"type\":\"scattermapbox\",\"marker\":{\"colorbar\":{\"outlinewidth\":0,\"ticks\":\"\"}}}],\"scatterternary\":[{\"type\":\"scatterternary\",\"marker\":{\"colorbar\":{\"outlinewidth\":0,\"ticks\":\"\"}}}],\"scattercarpet\":[{\"type\":\"scattercarpet\",\"marker\":{\"colorbar\":{\"outlinewidth\":0,\"ticks\":\"\"}}}],\"carpet\":[{\"aaxis\":{\"endlinecolor\":\"#2a3f5f\",\"gridcolor\":\"white\",\"linecolor\":\"white\",\"minorgridcolor\":\"white\",\"startlinecolor\":\"#2a3f5f\"},\"baxis\":{\"endlinecolor\":\"#2a3f5f\",\"gridcolor\":\"white\",\"linecolor\":\"white\",\"minorgridcolor\":\"white\",\"startlinecolor\":\"#2a3f5f\"},\"type\":\"carpet\"}],\"table\":[{\"cells\":{\"fill\":{\"color\":\"#EBF0F8\"},\"line\":{\"color\":\"white\"}},\"header\":{\"fill\":{\"color\":\"#C8D4E3\"},\"line\":{\"color\":\"white\"}},\"type\":\"table\"}],\"barpolar\":[{\"marker\":{\"line\":{\"color\":\"#E5ECF6\",\"width\":0.5},\"pattern\":{\"fillmode\":\"overlay\",\"size\":10,\"solidity\":0.2}},\"type\":\"barpolar\"}],\"pie\":[{\"automargin\":true,\"type\":\"pie\"}]},\"layout\":{\"autotypenumbers\":\"strict\",\"colorway\":[\"#636efa\",\"#EF553B\",\"#00cc96\",\"#ab63fa\",\"#FFA15A\",\"#19d3f3\",\"#FF6692\",\"#B6E880\",\"#FF97FF\",\"#FECB52\"],\"font\":{\"color\":\"#2a3f5f\"},\"hovermode\":\"closest\",\"hoverlabel\":{\"align\":\"left\"},\"paper_bgcolor\":\"white\",\"plot_bgcolor\":\"#E5ECF6\",\"polar\":{\"bgcolor\":\"#E5ECF6\",\"angularaxis\":{\"gridcolor\":\"white\",\"linecolor\":\"white\",\"ticks\":\"\"},\"radialaxis\":{\"gridcolor\":\"white\",\"linecolor\":\"white\",\"ticks\":\"\"}},\"ternary\":{\"bgcolor\":\"#E5ECF6\",\"aaxis\":{\"gridcolor\":\"white\",\"linecolor\":\"white\",\"ticks\":\"\"},\"baxis\":{\"gridcolor\":\"white\",\"linecolor\":\"white\",\"ticks\":\"\"},\"caxis\":{\"gridcolor\":\"white\",\"linecolor\":\"white\",\"ticks\":\"\"}},\"coloraxis\":{\"colorbar\":{\"outlinewidth\":0,\"ticks\":\"\"}},\"colorscale\":{\"sequential\":[[0.0,\"#0d0887\"],[0.1111111111111111,\"#46039f\"],[0.2222222222222222,\"#7201a8\"],[0.3333333333333333,\"#9c179e\"],[0.4444444444444444,\"#bd3786\"],[0.5555555555555556,\"#d8576b\"],[0.6666666666666666,\"#ed7953\"],[0.7777777777777778,\"#fb9f3a\"],[0.8888888888888888,\"#fdca26\"],[1.0,\"#f0f921\"]],\"sequentialminus\":[[0.0,\"#0d0887\"],[0.1111111111111111,\"#46039f\"],[0.2222222222222222,\"#7201a8\"],[0.3333333333333333,\"#9c179e\"],[0.4444444444444444,\"#bd3786\"],[0.5555555555555556,\"#d8576b\"],[0.6666666666666666,\"#ed7953\"],[0.7777777777777778,\"#fb9f3a\"],[0.8888888888888888,\"#fdca26\"],[1.0,\"#f0f921\"]],\"diverging\":[[0,\"#8e0152\"],[0.1,\"#c51b7d\"],[0.2,\"#de77ae\"],[0.3,\"#f1b6da\"],[0.4,\"#fde0ef\"],[0.5,\"#f7f7f7\"],[0.6,\"#e6f5d0\"],[0.7,\"#b8e186\"],[0.8,\"#7fbc41\"],[0.9,\"#4d9221\"],[1,\"#276419\"]]},\"xaxis\":{\"gridcolor\":\"white\",\"linecolor\":\"white\",\"ticks\":\"\",\"title\":{\"standoff\":15},\"zerolinecolor\":\"white\",\"automargin\":true,\"zerolinewidth\":2},\"yaxis\":{\"gridcolor\":\"white\",\"linecolor\":\"white\",\"ticks\":\"\",\"title\":{\"standoff\":15},\"zerolinecolor\":\"white\",\"automargin\":true,\"zerolinewidth\":2},\"scene\":{\"xaxis\":{\"backgroundcolor\":\"#E5ECF6\",\"gridcolor\":\"white\",\"linecolor\":\"white\",\"showbackground\":true,\"ticks\":\"\",\"zerolinecolor\":\"white\",\"gridwidth\":2},\"yaxis\":{\"backgroundcolor\":\"#E5ECF6\",\"gridcolor\":\"white\",\"linecolor\":\"white\",\"showbackground\":true,\"ticks\":\"\",\"zerolinecolor\":\"white\",\"gridwidth\":2},\"zaxis\":{\"backgroundcolor\":\"#E5ECF6\",\"gridcolor\":\"white\",\"linecolor\":\"white\",\"showbackground\":true,\"ticks\":\"\",\"zerolinecolor\":\"white\",\"gridwidth\":2}},\"shapedefaults\":{\"line\":{\"color\":\"#2a3f5f\"}},\"annotationdefaults\":{\"arrowcolor\":\"#2a3f5f\",\"arrowhead\":0,\"arrowwidth\":1},\"geo\":{\"bgcolor\":\"white\",\"landcolor\":\"#E5ECF6\",\"subunitcolor\":\"white\",\"showland\":true,\"showlakes\":true,\"lakecolor\":\"white\"},\"title\":{\"x\":0.05},\"mapbox\":{\"style\":\"light\"}}},\"xaxis\":{\"anchor\":\"y\",\"domain\":[0.0,0.46],\"title\":{\"text\":\"\\u0414\\u043b\\u0438\\u043d\\u0430 \\u043d\\u0430\\u0434\\u043a\\u043b\\u044e\\u0432\\u044c\\u044f\"}},\"yaxis\":{\"anchor\":\"x\",\"domain\":[0.55,1.0]},\"xaxis2\":{\"anchor\":\"y2\",\"domain\":[0.54,1.0],\"title\":{\"text\":\"\\u0422\\u043e\\u043b\\u044c\\u0449\\u0438\\u043d\\u0430 \\u043d\\u0430\\u0434\\u043a\\u043b\\u044e\\u0432\\u044c\\u044f\"}},\"yaxis2\":{\"anchor\":\"x2\",\"domain\":[0.55,1.0]},\"xaxis3\":{\"anchor\":\"y3\",\"domain\":[0.0,0.46],\"title\":{\"text\":\"\\u0414\\u043b\\u0438\\u043d\\u0430 \\u043f\\u043b\\u0430\\u0432\\u043d\\u0438\\u043a\\u0430\"}},\"yaxis3\":{\"anchor\":\"x3\",\"domain\":[0.0,0.45]},\"xaxis4\":{\"anchor\":\"y4\",\"domain\":[0.54,1.0],\"title\":{\"text\":\"\\u041c\\u0430\\u0441\\u0441\\u0430 \\u0442\\u0435\\u043b\\u0430\"}},\"yaxis4\":{\"anchor\":\"x4\",\"domain\":[0.0,0.45]},\"annotations\":[{\"font\":{\"size\":16},\"showarrow\":false,\"text\":\"\\u0414\\u043b\\u0438\\u043d\\u0430 \\u043d\\u0430\\u0434\\u043a\\u043b\\u044e\\u0432\\u044c\\u044f\",\"x\":0.23,\"xanchor\":\"center\",\"xref\":\"paper\",\"y\":1.0,\"yanchor\":\"bottom\",\"yref\":\"paper\"},{\"font\":{\"size\":16},\"showarrow\":false,\"text\":\"\\u0422\\u043e\\u043b\\u0449\\u0438\\u043d\\u0430 \\u043d\\u0430\\u0434\\u043a\\u043b\\u044e\\u0432\\u044c\\u044f\",\"x\":0.77,\"xanchor\":\"center\",\"xref\":\"paper\",\"y\":1.0,\"yanchor\":\"bottom\",\"yref\":\"paper\"},{\"font\":{\"size\":16},\"showarrow\":false,\"text\":\"\\u0414\\u043b\\u0438\\u043d\\u0430 \\u043f\\u043b\\u0430\\u0432\\u043d\\u0438\\u043a\\u0430\",\"x\":0.23,\"xanchor\":\"center\",\"xref\":\"paper\",\"y\":0.45,\"yanchor\":\"bottom\",\"yref\":\"paper\"},{\"font\":{\"size\":16},\"showarrow\":false,\"text\":\"\\u041c\\u0430\\u0441\\u0441\\u0430 \\u0442\\u0435\\u043b\\u0430\",\"x\":0.77,\"xanchor\":\"center\",\"xref\":\"paper\",\"y\":0.45,\"yanchor\":\"bottom\",\"yref\":\"paper\"}],\"height\":1000,\"title\":{\"font\":{\"size\":30},\"text\":\"\\u0420\\u0430\\u0441\\u043f\\u0440\\u0435\\u0434\\u0435\\u043b\\u0435\\u043d\\u0438\\u0435 \\u043f\\u0435\\u0440\\u0435\\u043c\\u0435\\u043d\\u043d\\u044b\\u0445 \\u043f\\u043e \\u043f\\u043e\\u043b\\u0443\",\"x\":0.5},\"paper_bgcolor\":\"rgb(229, 237, 247)\",\"plot_bgcolor\":\"rgb(229, 237, 247)\"},                        {\"responsive\": true}                    ).then(function(){\n",
       "                            \n",
       "var gd = document.getElementById('334accc8-c9c2-46fa-a44d-28843db2b851');\n",
       "var x = new MutationObserver(function (mutations, observer) {{\n",
       "        var display = window.getComputedStyle(gd).display;\n",
       "        if (!display || display === 'none') {{\n",
       "            console.log([gd, 'removed!']);\n",
       "            Plotly.purge(gd);\n",
       "            observer.disconnect();\n",
       "        }}\n",
       "}});\n",
       "\n",
       "// Listen for the removal of the full notebook cells\n",
       "var notebookContainer = gd.closest('#notebook-container');\n",
       "if (notebookContainer) {{\n",
       "    x.observe(notebookContainer, {childList: true});\n",
       "}}\n",
       "\n",
       "// Listen for the clearing of the current output cell\n",
       "var outputEl = gd.closest('.output');\n",
       "if (outputEl) {{\n",
       "    x.observe(outputEl, {childList: true});\n",
       "}}\n",
       "\n",
       "                        })                };                });            </script>        </div>"
      ]
     },
     "metadata": {},
     "output_type": "display_data"
    }
   ],
   "source": [
    "palette = cycle(px.colors.sequential.thermal)\n",
    "\n",
    "fig = sp.make_subplots(\n",
    "    rows=2, \n",
    "    cols=2,\n",
    "    horizontal_spacing=0.08,\n",
    "    subplot_titles=[\n",
    "        \"Длина надклювья\",\n",
    "        \"Толщина надклювья\",\n",
    "        \"Длина плавника\",\n",
    "        \"Масса тела\",],\n",
    "        vertical_spacing = 0.1\n",
    ")\n",
    "\n",
    "culmen_length_mm_box = go.Box(\n",
    "    x = penguin.sex,\n",
    "    y = penguin.culmen_length_mm,\n",
    "    name=\"Длина надклювья\",\n",
    "    legendgroup=\"Длина надклювья\",\n",
    "    legendgrouptitle_text=\"Длина надклювья\",\n",
    "    marker_color=next(palette),\n",
    ")\n",
    "\n",
    "culmen_depth_mm_box = go.Box(\n",
    "    x = penguin.sex,\n",
    "    y = penguin.culmen_depth_mm,\n",
    "    name=\"Толщина надклювья\",\n",
    "    legendgroup=\"Толщина надклювья\",\n",
    "    legendgrouptitle_text=\"Толщина надклювья\",\n",
    "    marker_color=next(palette),\n",
    ")\n",
    "\n",
    "flipper_length_mm_box = go.Box(\n",
    "    x = penguin.sex,\n",
    "    y = penguin.flipper_length_mm,\n",
    "    name=\"Длина плавника\",\n",
    "    legendgroup=\"Длина плавника\",\n",
    "    legendgrouptitle_text=\"Длина плавника\",\n",
    "    marker_color=next(palette),\n",
    ")\n",
    "\n",
    "body_mass_g_box = go.Box(\n",
    "    x = penguin.sex,\n",
    "    y = penguin.body_mass_g,\n",
    "    name=\"Масса тела\",\n",
    "    legendgroup=\"Масса тела\",\n",
    "    legendgrouptitle_text=\"Масса тела\",\n",
    "    marker_color=next(palette),\n",
    ")\n",
    "\n",
    "fig.add_trace(culmen_length_mm_box, row=1, col=1)\n",
    "fig.update_xaxes(title_text=\"Длина надклювья\", row=1, col=1)\n",
    "\n",
    "fig.add_trace(culmen_depth_mm_box, row=1, col=2)\n",
    "fig.update_xaxes(title_text=\"Тольщина надклювья\", row=1, col=2)\n",
    "\n",
    "fig.add_trace(flipper_length_mm_box, row=2, col=1)\n",
    "fig.update_xaxes(title_text=\"Длина плавника\", row=2, col=1)\n",
    "\n",
    "fig.add_trace(body_mass_g_box, row=2, col=2)\n",
    "fig.update_xaxes(title_text=\"Масса тела\", row=2, col=2)\n",
    "\n",
    "fig.update_layout(template=\"plotly\", height=1000)\n",
    "\n",
    "fig.update(\n",
    "    layout_title_text=\"Распределение переменных по полу\",\n",
    "    layout_title_font_size=30,\n",
    "    layout_title_x=0.5,\n",
    "    layout_paper_bgcolor='rgb(229, 237, 247)',\n",
    "    layout_plot_bgcolor='rgb(229, 237, 247)',\n",
    ")\n",
    "\n",
    "fig.show()"
   ]
  },
  {
   "cell_type": "markdown",
   "id": "0bc3f512",
   "metadata": {},
   "source": [
    "- У Антарктических пингвинов самая большая длина надклювья как у самцов, так и у самок, за ними следуют Субантарктические пингвины и Адели.\n",
    "\n",
    "\n",
    "- Антарктические пингвины и пингвины Адели имеют почти одинаковую толщину надклювья как у самцов, так и у самок, в то время как у Папунских пингвинов самая маленькая толщина.\n",
    "\n",
    "\n",
    "- У Папуасских пингвинов самая большая длина плавника как у самцов, так и у самок.\n",
    "\n",
    "\n",
    "- У Папуасских пингвинов самая большая масса тела как у самцов, так и у самок."
   ]
  },
  {
   "cell_type": "markdown",
   "id": "c428ad6f",
   "metadata": {},
   "source": [
    "__Корреляционный анализ переменных__"
   ]
  },
  {
   "cell_type": "code",
   "execution_count": 45,
   "id": "444480ae",
   "metadata": {},
   "outputs": [
    {
     "data": {
      "text/html": [
       "<div>\n",
       "<style scoped>\n",
       "    .dataframe tbody tr th:only-of-type {\n",
       "        vertical-align: middle;\n",
       "    }\n",
       "\n",
       "    .dataframe tbody tr th {\n",
       "        vertical-align: top;\n",
       "    }\n",
       "\n",
       "    .dataframe thead th {\n",
       "        text-align: right;\n",
       "    }\n",
       "</style>\n",
       "<table border=\"1\" class=\"dataframe\">\n",
       "  <thead>\n",
       "    <tr style=\"text-align: right;\">\n",
       "      <th></th>\n",
       "      <th>culmen_length_mm</th>\n",
       "      <th>culmen_depth_mm</th>\n",
       "      <th>flipper_length_mm</th>\n",
       "      <th>body_mass_g</th>\n",
       "    </tr>\n",
       "  </thead>\n",
       "  <tbody>\n",
       "    <tr>\n",
       "      <th>culmen_length_mm</th>\n",
       "      <td>1.000000</td>\n",
       "      <td>-0.235053</td>\n",
       "      <td>0.656181</td>\n",
       "      <td>0.595110</td>\n",
       "    </tr>\n",
       "    <tr>\n",
       "      <th>culmen_depth_mm</th>\n",
       "      <td>-0.235053</td>\n",
       "      <td>1.000000</td>\n",
       "      <td>-0.583850</td>\n",
       "      <td>-0.471915</td>\n",
       "    </tr>\n",
       "    <tr>\n",
       "      <th>flipper_length_mm</th>\n",
       "      <td>0.656181</td>\n",
       "      <td>-0.583850</td>\n",
       "      <td>1.000000</td>\n",
       "      <td>0.871202</td>\n",
       "    </tr>\n",
       "    <tr>\n",
       "      <th>body_mass_g</th>\n",
       "      <td>0.595110</td>\n",
       "      <td>-0.471915</td>\n",
       "      <td>0.871202</td>\n",
       "      <td>1.000000</td>\n",
       "    </tr>\n",
       "  </tbody>\n",
       "</table>\n",
       "</div>"
      ],
      "text/plain": [
       "                   culmen_length_mm  culmen_depth_mm  flipper_length_mm  \\\n",
       "culmen_length_mm           1.000000        -0.235053           0.656181   \n",
       "culmen_depth_mm           -0.235053         1.000000          -0.583850   \n",
       "flipper_length_mm          0.656181        -0.583850           1.000000   \n",
       "body_mass_g                0.595110        -0.471915           0.871202   \n",
       "\n",
       "                   body_mass_g  \n",
       "culmen_length_mm      0.595110  \n",
       "culmen_depth_mm      -0.471915  \n",
       "flipper_length_mm     0.871202  \n",
       "body_mass_g           1.000000  "
      ]
     },
     "execution_count": 45,
     "metadata": {},
     "output_type": "execute_result"
    }
   ],
   "source": [
    "corr_mat = penguin.corr()\n",
    "corr_mat"
   ]
  },
  {
   "cell_type": "code",
   "execution_count": 59,
   "id": "de5c0c41",
   "metadata": {},
   "outputs": [
    {
     "data": {
      "image/png": "[encoded data removed]",
      "text/plain": [
       "<Figure size 800x800 with 2 Axes>"
      ]
     },
     "metadata": {},
     "output_type": "display_data"
    }
   ],
   "source": [
    "plt.figure(figsize=(8,8))\n",
    "sns.heatmap(penguin.corr(), vmin=-1, cmap=\"YlGnBu\", annot=True, linewidths=.5);"
   ]
  },
  {
   "cell_type": "markdown",
   "id": "af51fb04",
   "metadata": {},
   "source": [
    "Длина плавника и масса тела сильно зависят друг от друга со значением корреляции 0,87. Другими словами, пингвины с более длинными плавниками обычно весят больше."
   ]
  },
  {
   "cell_type": "markdown",
   "id": "b3e95e59",
   "metadata": {},
   "source": [
    "Теперь разделим наших пингвинов на разные группы, используя переменную массы тела в качестве критерия.\n",
    "\n",
    "Чтобы разделить пингвинов на разные группы с помощью массы тела, нужно сгенерировать четыре разных числа из переменной массы тела, которые находятся на одинаковом расстоянии, и использовать эти четыре числа для объединения наших пингвинов.\n",
    "\n",
    "Я разделю пингвинов на 3 разные группы: маленькую, среднюю и большую.\n",
    "\n",
    "Чтобы сгенерировать числа, которые находятся на одинаковом расстоянии, я буду использовать функцию «np.linspace()».\n",
    "\n",
    "Чтобы использовать функцию «np.linspace()», необходимо установить три аргумента, нужно установить диапазон номеров и указать, сколько номеров хотим сгенерировать.\n",
    "\n",
    "В этом случае я хочу разделить пингвинов на 3 разные группы, используя переменные массы тела, поэтому диапазон чисел, которые я буду генерировать, будет от минимальной массы тела до максимальной массы тела."
   ]
  },
  {
   "cell_type": "code",
   "execution_count": 49,
   "id": "214b3547",
   "metadata": {},
   "outputs": [
    {
     "name": "stdout",
     "output_type": "stream",
     "text": [
      "[2700. 3900. 5100. 6300.]\n"
     ]
    }
   ],
   "source": [
    "bin = np.linspace(penguin['body_mass_g'].min(),penguin['body_mass_g'].max(),4)\n",
    "label_names = ['small' , 'medium' , 'large']\n",
    "print(bin)"
   ]
  },
  {
   "cell_type": "markdown",
   "id": "7e1c7e2d",
   "metadata": {},
   "source": [
    "В результате выполнения кода мы получаем четыре разных равноудаленных числа.\n",
    "\n",
    "\n",
    "- Если масса тела пингвинов составляет от 2700 до 3900, они будут объединены в маленькую группу.\n",
    "\n",
    "\n",
    "- Если масса тела пингвинов находится между 3900 и 5100, они будут отнесены к средней группе.\n",
    "\n",
    "\n",
    "- Если масса тела пингвинов находится между 5100 и 6300, они будут объединены в большую группу.\n",
    "\n",
    "Итак, чтобы объединить пингвинов в группы, я воспользуюсь функцией «pd.cut()» и создам новый столбец с именем size.\n",
    "Для первых аргументов нужно указать, какую переменную хотим использовать для хранения данных. Второй аргумент — это число, которое хотим использовать для хранения данных. И третий аргумент — это метка группы, в которую хоти поместить свои данные."
   ]
  },
  {
   "cell_type": "code",
   "execution_count": 50,
   "id": "2db67cbf",
   "metadata": {},
   "outputs": [
    {
     "data": {
      "text/html": [
       "<div>\n",
       "<style scoped>\n",
       "    .dataframe tbody tr th:only-of-type {\n",
       "        vertical-align: middle;\n",
       "    }\n",
       "\n",
       "    .dataframe tbody tr th {\n",
       "        vertical-align: top;\n",
       "    }\n",
       "\n",
       "    .dataframe thead th {\n",
       "        text-align: right;\n",
       "    }\n",
       "</style>\n",
       "<table border=\"1\" class=\"dataframe\">\n",
       "  <thead>\n",
       "    <tr style=\"text-align: right;\">\n",
       "      <th></th>\n",
       "      <th>species</th>\n",
       "      <th>island</th>\n",
       "      <th>culmen_length_mm</th>\n",
       "      <th>culmen_depth_mm</th>\n",
       "      <th>flipper_length_mm</th>\n",
       "      <th>body_mass_g</th>\n",
       "      <th>sex</th>\n",
       "      <th>size</th>\n",
       "    </tr>\n",
       "  </thead>\n",
       "  <tbody>\n",
       "    <tr>\n",
       "      <th>203</th>\n",
       "      <td>Chinstrap</td>\n",
       "      <td>Dream</td>\n",
       "      <td>51.4</td>\n",
       "      <td>19.0</td>\n",
       "      <td>201.0</td>\n",
       "      <td>3950.0</td>\n",
       "      <td>MALE</td>\n",
       "      <td>medium</td>\n",
       "    </tr>\n",
       "    <tr>\n",
       "      <th>171</th>\n",
       "      <td>Chinstrap</td>\n",
       "      <td>Dream</td>\n",
       "      <td>49.2</td>\n",
       "      <td>18.2</td>\n",
       "      <td>195.0</td>\n",
       "      <td>4400.0</td>\n",
       "      <td>MALE</td>\n",
       "      <td>medium</td>\n",
       "    </tr>\n",
       "    <tr>\n",
       "      <th>2</th>\n",
       "      <td>Adelie</td>\n",
       "      <td>Torgersen</td>\n",
       "      <td>40.3</td>\n",
       "      <td>18.0</td>\n",
       "      <td>195.0</td>\n",
       "      <td>3250.0</td>\n",
       "      <td>FEMALE</td>\n",
       "      <td>small</td>\n",
       "    </tr>\n",
       "    <tr>\n",
       "      <th>222</th>\n",
       "      <td>Gentoo</td>\n",
       "      <td>Biscoe</td>\n",
       "      <td>48.7</td>\n",
       "      <td>14.1</td>\n",
       "      <td>210.0</td>\n",
       "      <td>4450.0</td>\n",
       "      <td>FEMALE</td>\n",
       "      <td>medium</td>\n",
       "    </tr>\n",
       "    <tr>\n",
       "      <th>43</th>\n",
       "      <td>Adelie</td>\n",
       "      <td>Dream</td>\n",
       "      <td>44.1</td>\n",
       "      <td>19.7</td>\n",
       "      <td>196.0</td>\n",
       "      <td>4400.0</td>\n",
       "      <td>MALE</td>\n",
       "      <td>medium</td>\n",
       "    </tr>\n",
       "    <tr>\n",
       "      <th>315</th>\n",
       "      <td>Gentoo</td>\n",
       "      <td>Biscoe</td>\n",
       "      <td>50.8</td>\n",
       "      <td>15.7</td>\n",
       "      <td>226.0</td>\n",
       "      <td>5200.0</td>\n",
       "      <td>MALE</td>\n",
       "      <td>large</td>\n",
       "    </tr>\n",
       "    <tr>\n",
       "      <th>318</th>\n",
       "      <td>Gentoo</td>\n",
       "      <td>Biscoe</td>\n",
       "      <td>48.4</td>\n",
       "      <td>14.4</td>\n",
       "      <td>203.0</td>\n",
       "      <td>4625.0</td>\n",
       "      <td>FEMALE</td>\n",
       "      <td>medium</td>\n",
       "    </tr>\n",
       "    <tr>\n",
       "      <th>164</th>\n",
       "      <td>Chinstrap</td>\n",
       "      <td>Dream</td>\n",
       "      <td>47.0</td>\n",
       "      <td>17.3</td>\n",
       "      <td>185.0</td>\n",
       "      <td>3700.0</td>\n",
       "      <td>FEMALE</td>\n",
       "      <td>small</td>\n",
       "    </tr>\n",
       "    <tr>\n",
       "      <th>290</th>\n",
       "      <td>Gentoo</td>\n",
       "      <td>Biscoe</td>\n",
       "      <td>47.7</td>\n",
       "      <td>15.0</td>\n",
       "      <td>216.0</td>\n",
       "      <td>4750.0</td>\n",
       "      <td>FEMALE</td>\n",
       "      <td>medium</td>\n",
       "    </tr>\n",
       "    <tr>\n",
       "      <th>288</th>\n",
       "      <td>Gentoo</td>\n",
       "      <td>Biscoe</td>\n",
       "      <td>43.5</td>\n",
       "      <td>14.2</td>\n",
       "      <td>220.0</td>\n",
       "      <td>4700.0</td>\n",
       "      <td>FEMALE</td>\n",
       "      <td>medium</td>\n",
       "    </tr>\n",
       "  </tbody>\n",
       "</table>\n",
       "</div>"
      ],
      "text/plain": [
       "       species     island  culmen_length_mm  culmen_depth_mm  \\\n",
       "203  Chinstrap      Dream              51.4             19.0   \n",
       "171  Chinstrap      Dream              49.2             18.2   \n",
       "2       Adelie  Torgersen              40.3             18.0   \n",
       "222     Gentoo     Biscoe              48.7             14.1   \n",
       "43      Adelie      Dream              44.1             19.7   \n",
       "315     Gentoo     Biscoe              50.8             15.7   \n",
       "318     Gentoo     Biscoe              48.4             14.4   \n",
       "164  Chinstrap      Dream              47.0             17.3   \n",
       "290     Gentoo     Biscoe              47.7             15.0   \n",
       "288     Gentoo     Biscoe              43.5             14.2   \n",
       "\n",
       "     flipper_length_mm  body_mass_g     sex    size  \n",
       "203              201.0       3950.0    MALE  medium  \n",
       "171              195.0       4400.0    MALE  medium  \n",
       "2                195.0       3250.0  FEMALE   small  \n",
       "222              210.0       4450.0  FEMALE  medium  \n",
       "43               196.0       4400.0    MALE  medium  \n",
       "315              226.0       5200.0    MALE   large  \n",
       "318              203.0       4625.0  FEMALE  medium  \n",
       "164              185.0       3700.0  FEMALE   small  \n",
       "290              216.0       4750.0  FEMALE  medium  \n",
       "288              220.0       4700.0  FEMALE  medium  "
      ]
     },
     "execution_count": 50,
     "metadata": {},
     "output_type": "execute_result"
    }
   ],
   "source": [
    "penguin['size'] = pd.cut(penguin['body_mass_g'] , bin , labels = label_names )\n",
    "penguin.sample(10)"
   ]
  },
  {
   "cell_type": "markdown",
   "id": "a67ed091",
   "metadata": {},
   "source": [
    "Посмотрим сколько пингвинов находится в каждой ячейке, используя гистограмму."
   ]
  },
  {
   "cell_type": "code",
   "execution_count": 53,
   "id": "619acd8d",
   "metadata": {},
   "outputs": [
    {
     "data": {
      "text/plain": [
       "Text(0, 0.5, 'total')"
      ]
     },
     "execution_count": 53,
     "metadata": {},
     "output_type": "execute_result"
    },
    {
     "data": {
      "image/png": "[encoded data removed]",
      "text/plain": [
       "<Figure size 640x480 with 1 Axes>"
      ]
     },
     "metadata": {},
     "output_type": "display_data"
    }
   ],
   "source": [
    "sns.histplot(data = penguin , x = 'size',color = 'grey')\n",
    "plt.title(\"Количество особей в группе\")\n",
    "plt.xlabel(\"size\")\n",
    "plt.ylabel(\"total\")"
   ]
  },
  {
   "cell_type": "markdown",
   "id": "94e4ef70",
   "metadata": {},
   "source": [
    "После того, как мы объединили наших пингвинов в три разные группы, создадим модель прогнозирования для прогнозирования вида пингвинов с использованием переменных длины плавника и массы тела.\n",
    "\n",
    "Но сначала сделаем некоторую визуализацию, чтобы увидеть взаимосвязь между длиной ласт и массой тела."
   ]
  },
  {
   "cell_type": "code",
   "execution_count": 60,
   "id": "4094348f",
   "metadata": {},
   "outputs": [
    {
     "data": {
      "text/plain": [
       "Text(0, 0.5, 'Масса тела')"
      ]
     },
     "execution_count": 60,
     "metadata": {},
     "output_type": "execute_result"
    },
    {
     "data": {
      "image/png": "[encoded data removed]",
      "text/plain": [
       "<Figure size 640x480 with 1 Axes>"
      ]
     },
     "metadata": {},
     "output_type": "display_data"
    }
   ],
   "source": [
    "sns.scatterplot(data = penguin , x = 'flipper_length_mm' , y = 'body_mass_g' , hue = 'species' , alpha = 0.5 , palette=['blue','red','grey'])\n",
    "plt.title(\"Взаимосвязь между длиной плавника и массой тела\")\n",
    "plt.xlabel(\"Длина плавника\")\n",
    "plt.ylabel(\"Масса тела\")"
   ]
  },
  {
   "cell_type": "markdown",
   "id": "a69b203b",
   "metadata": {},
   "source": [
    "Как видно из графика, кажется, что длина плавника и масса тела имеют положительную корреляцию.\n",
    "Итак,рассчитаем корреляцию этих двух переменных, используя метод \".corr()\""
   ]
  },
  {
   "cell_type": "markdown",
   "id": "8ed9f8e4",
   "metadata": {},
   "source": [
    "Корреляция между длиной ласт и массой тела составляет 0,87, что указывает на сильную положительную корреляцию двух переменных.\n",
    "Теперь пришло время сделать модель для предсказания. Нужно импортировать модель «KMeans» из библиотеки sklearn, импортировать функцию train_test_split, чтобы разделить данные для обучения и тестирования.\n",
    "\n",
    "Зачем нам нужно разделять данные для обучения и тестирования?\n",
    "\n",
    "В реальной жизни, если вы берете все свои данные для обучения модели и хотите оценить свою модель с помощью данных, которые ваша модель никогда раньше не видела, как вы получаете новые данные?\n",
    "\n",
    "При работе с реальными проектами я не думаю, что у вас будет много времени для повторного сбора данных для оценки вашей модели из-за крайнего срока.\n",
    "\n",
    "Вот почему нам нужно разделить данные на два раздела: один для модели обучения, а другой для тестирования или оценки модели."
   ]
  },
  {
   "cell_type": "code",
   "execution_count": 61,
   "id": "52408668",
   "metadata": {},
   "outputs": [],
   "source": [
    "from sklearn.cluster import KMeans\n",
    "from sklearn.model_selection import train_test_split "
   ]
  },
  {
   "cell_type": "markdown",
   "id": "c1e79752",
   "metadata": {},
   "source": [
    "Для количества кластеров я установлю количество кластеров равным 3, что эквивалентно видам пингвинов (Adelie, Chinstrap, Gentoo), буду использовать переменную длины плавника и массы тела для построения прогнозирующей модели.\n",
    "\n",
    "Итак, я создам объект «x» (содержит переменную, используемую для прогнозирования) и «y» (содержит переменную вида, которая будет использоваться позже), затем помещу объекты «x» и «y» в функцию «train_test_split», чтобы разделить данные, где тестовый размер данных равен 20% всех данных и установлю random_state равным любому целому числу.\n"
   ]
  },
  {
   "cell_type": "code",
   "execution_count": 62,
   "id": "7993124d",
   "metadata": {},
   "outputs": [],
   "source": [
    "model = KMeans(n_clusters = 3 , random_state = 120)\n",
    "\n",
    "x = penguin[['flipper_length_mm', 'body_mass_g']]\n",
    "y = penguin['species']\n",
    "\n",
    "x_train, x_test, y_train, y_test = train_test_split(x, y , test_size = 0.2 , random_state = 120)"
   ]
  },
  {
   "cell_type": "markdown",
   "id": "2affa3f1",
   "metadata": {},
   "source": [
    "После разделения данных на 2 раздела я буду использовать метод «.fit()», чтобы подогнать зависимые переменные в модели."
   ]
  },
  {
   "cell_type": "code",
   "execution_count": 63,
   "id": "3cb878fe",
   "metadata": {},
   "outputs": [
    {
     "data": {
      "text/plain": [
       "KMeans(n_clusters=3, random_state=120)"
      ]
     },
     "execution_count": 63,
     "metadata": {},
     "output_type": "execute_result"
    }
   ],
   "source": [
    "model.fit(x_train)"
   ]
  },
  {
   "cell_type": "markdown",
   "id": "94e18878",
   "metadata": {},
   "source": [
    "Затем я буду использовать метод «.labels_», чтобы увидеть результат прогнозирования модели, которую я создаю."
   ]
  },
  {
   "cell_type": "code",
   "execution_count": 64,
   "id": "c9e34cf3",
   "metadata": {},
   "outputs": [
    {
     "data": {
      "text/plain": [
       "array([0, 2, 0, 1, 0, 1, 1, 2, 0, 2, 2, 1, 0, 2, 0, 0, 2, 2, 0, 1, 1, 1,\n",
       "       0, 1, 2, 2, 0, 1, 1, 2, 2, 0, 0, 1, 2, 0, 0, 2, 2, 0, 2, 1, 2, 2,\n",
       "       2, 0, 1, 2, 0, 2, 2, 1, 2, 2, 2, 2, 0, 2, 2, 0, 2, 0, 2, 0, 0, 2,\n",
       "       1, 2, 2, 2, 0, 0, 0, 2, 2, 0, 0, 0, 0, 2, 2, 2, 0, 0, 2, 2, 2, 2,\n",
       "       0, 2, 0, 1, 1, 2, 0, 0, 1, 0, 1, 1, 0, 0, 2, 1, 2, 0, 2, 2, 0, 0,\n",
       "       1, 1, 2, 1, 2, 1, 1, 0, 0, 1, 2, 0, 0, 1, 0, 1, 0, 2, 2, 2, 2, 0,\n",
       "       0, 0, 0, 0, 2, 1, 2, 0, 2, 1, 2, 1, 0, 2, 1, 0, 2, 2, 2, 2, 0, 1,\n",
       "       2, 0, 2, 0, 1, 0, 2, 0, 2, 2, 2, 0, 1, 0, 2, 2, 2, 1, 2, 2, 0, 1,\n",
       "       2, 2, 0, 2, 2, 2, 1, 2, 2, 1, 1, 2, 2, 1, 2, 2, 2, 0, 2, 2, 2, 1,\n",
       "       0, 2, 2, 2, 2, 2, 2, 2, 1, 0, 0, 2, 1, 1, 2, 2, 0, 0, 2, 2, 2, 1,\n",
       "       2, 2, 2, 1, 1, 2, 2, 2, 2, 1, 2, 2, 2, 2, 0, 0, 2, 2, 2, 0, 0, 1,\n",
       "       2, 2, 0, 2, 1, 1, 0, 2, 2, 0, 2, 2, 2, 1, 0, 0, 2, 2, 1, 0, 2, 2,\n",
       "       2, 0, 0, 2, 0, 2, 2, 1, 2, 1, 0])"
      ]
     },
     "execution_count": 64,
     "metadata": {},
     "output_type": "execute_result"
    }
   ],
   "source": [
    "model.labels_"
   ]
  },
  {
   "cell_type": "markdown",
   "id": "0bafb38b",
   "metadata": {},
   "source": [
    "Я создам новый столбец и назову его «виды» и поставлю y_test в этот новый столбец, создам новый столбец с именем «predicted_species» и помещу результат прогноза из модели в этот новый столбец."
   ]
  },
  {
   "cell_type": "code",
   "execution_count": 65,
   "id": "7b0e6fd7",
   "metadata": {},
   "outputs": [
    {
     "data": {
      "text/html": [
       "<div>\n",
       "<style scoped>\n",
       "    .dataframe tbody tr th:only-of-type {\n",
       "        vertical-align: middle;\n",
       "    }\n",
       "\n",
       "    .dataframe tbody tr th {\n",
       "        vertical-align: top;\n",
       "    }\n",
       "\n",
       "    .dataframe thead th {\n",
       "        text-align: right;\n",
       "    }\n",
       "</style>\n",
       "<table border=\"1\" class=\"dataframe\">\n",
       "  <thead>\n",
       "    <tr style=\"text-align: right;\">\n",
       "      <th></th>\n",
       "      <th>flipper_length_mm</th>\n",
       "      <th>body_mass_g</th>\n",
       "      <th>species</th>\n",
       "      <th>predicted_species</th>\n",
       "    </tr>\n",
       "  </thead>\n",
       "  <tbody>\n",
       "    <tr>\n",
       "      <th>272</th>\n",
       "      <td>210.0</td>\n",
       "      <td>4400.0</td>\n",
       "      <td>Gentoo</td>\n",
       "      <td>0</td>\n",
       "    </tr>\n",
       "    <tr>\n",
       "      <th>82</th>\n",
       "      <td>187.0</td>\n",
       "      <td>3800.0</td>\n",
       "      <td>Adelie</td>\n",
       "      <td>2</td>\n",
       "    </tr>\n",
       "    <tr>\n",
       "      <th>328</th>\n",
       "      <td>208.0</td>\n",
       "      <td>4575.0</td>\n",
       "      <td>Gentoo</td>\n",
       "      <td>0</td>\n",
       "    </tr>\n",
       "    <tr>\n",
       "      <th>271</th>\n",
       "      <td>220.0</td>\n",
       "      <td>5300.0</td>\n",
       "      <td>Gentoo</td>\n",
       "      <td>1</td>\n",
       "    </tr>\n",
       "    <tr>\n",
       "      <th>280</th>\n",
       "      <td>208.0</td>\n",
       "      <td>4200.0</td>\n",
       "      <td>Gentoo</td>\n",
       "      <td>0</td>\n",
       "    </tr>\n",
       "    <tr>\n",
       "      <th>...</th>\n",
       "      <td>...</td>\n",
       "      <td>...</td>\n",
       "      <td>...</td>\n",
       "      <td>...</td>\n",
       "    </tr>\n",
       "    <tr>\n",
       "      <th>10</th>\n",
       "      <td>186.0</td>\n",
       "      <td>3300.0</td>\n",
       "      <td>Adelie</td>\n",
       "      <td>2</td>\n",
       "    </tr>\n",
       "    <tr>\n",
       "      <th>223</th>\n",
       "      <td>218.0</td>\n",
       "      <td>5700.0</td>\n",
       "      <td>Gentoo</td>\n",
       "      <td>1</td>\n",
       "    </tr>\n",
       "    <tr>\n",
       "      <th>158</th>\n",
       "      <td>178.0</td>\n",
       "      <td>3250.0</td>\n",
       "      <td>Chinstrap</td>\n",
       "      <td>2</td>\n",
       "    </tr>\n",
       "    <tr>\n",
       "      <th>256</th>\n",
       "      <td>213.0</td>\n",
       "      <td>4950.0</td>\n",
       "      <td>Gentoo</td>\n",
       "      <td>1</td>\n",
       "    </tr>\n",
       "    <tr>\n",
       "      <th>167</th>\n",
       "      <td>201.0</td>\n",
       "      <td>4050.0</td>\n",
       "      <td>Chinstrap</td>\n",
       "      <td>0</td>\n",
       "    </tr>\n",
       "  </tbody>\n",
       "</table>\n",
       "<p>275 rows × 4 columns</p>\n",
       "</div>"
      ],
      "text/plain": [
       "     flipper_length_mm  body_mass_g    species  predicted_species\n",
       "272              210.0       4400.0     Gentoo                  0\n",
       "82               187.0       3800.0     Adelie                  2\n",
       "328              208.0       4575.0     Gentoo                  0\n",
       "271              220.0       5300.0     Gentoo                  1\n",
       "280              208.0       4200.0     Gentoo                  0\n",
       "..                 ...          ...        ...                ...\n",
       "10               186.0       3300.0     Adelie                  2\n",
       "223              218.0       5700.0     Gentoo                  1\n",
       "158              178.0       3250.0  Chinstrap                  2\n",
       "256              213.0       4950.0     Gentoo                  1\n",
       "167              201.0       4050.0  Chinstrap                  0\n",
       "\n",
       "[275 rows x 4 columns]"
      ]
     },
     "execution_count": 65,
     "metadata": {},
     "output_type": "execute_result"
    }
   ],
   "source": [
    "x_train['species'] = y_train\n",
    "x_train['predicted_species'] = model.labels_\n",
    "\n",
    "x_train"
   ]
  },
  {
   "cell_type": "markdown",
   "id": "b02205a2",
   "metadata": {},
   "source": [
    "Я создам новый объект с именем «center». Этот объект содержит три числа осей x и y, сгенерированных моделью.\n",
    "Чтобы получить число, я буду использовать метод \".clustercenters\"."
   ]
  },
  {
   "cell_type": "code",
   "execution_count": 67,
   "id": "8a38d6fa",
   "metadata": {},
   "outputs": [
    {
     "name": "stdout",
     "output_type": "stream",
     "text": [
      "[[ 205.34285714 4442.9       ]\n",
      " [ 220.0877193  5438.15789474]\n",
      " [ 190.23880597 3509.14179104]]\n"
     ]
    }
   ],
   "source": [
    "center = model.cluster_centers_\n",
    "print(center)"
   ]
  },
  {
   "cell_type": "markdown",
   "id": "435e25fb",
   "metadata": {},
   "source": [
    "Я беру количество осей x и y, а также результат прогнозирования из модели, чтобы сделать визуализацию.\n",
    "Вот график зависимости между длиной плавника и массой тела. В каждой точке он представляет каждое наблюдение как вид.\n",
    "\n",
    "По сравнению с предыдущим графиком, который я построила, желтый, красный и серый цвета представляют как Адели, Чинстрап и Генту соответственно. И три числа по осям x и y будут отображаться в виде черного ромба на графике.\n",
    "\n",
    "Вот как работает модель для предсказания вида пингвинов. После подгонки модели он генерирует количество осей x и y (отображается как черный ромб на графике, и я буду называть это точкой группы)\n",
    "\n",
    "Модель рассчитает расстояние между каждой точкой данных и групповой точкой. И сгруппирует каждую точку данных в ближайшую групповую точку."
   ]
  },
  {
   "cell_type": "code",
   "execution_count": 68,
   "id": "6763a999",
   "metadata": {},
   "outputs": [
    {
     "data": {
      "image/png": "[encoded data removed]",
      "text/plain": [
       "<Figure size 2000x1000 with 2 Axes>"
      ]
     },
     "metadata": {},
     "output_type": "display_data"
    }
   ],
   "source": [
    "fig,axes = plt.subplots(1,2,figsize=(20,10))\n",
    "\n",
    "#Actual Data\n",
    "g1=sns.scatterplot(data = penguin, x = 'flipper_length_mm', y = 'body_mass_g', hue = 'species', alpha = 0.5, palette=['blue','red','grey'],ax=axes[0])\n",
    "g1.set_title('Cluster by Actual Data')\n",
    "g1.set_xlabel(\"flipper length\")\n",
    "g1.set_ylabel(\"body mass\")\n",
    "\n",
    "#Cluster From Model\n",
    "g2=sns.scatterplot(data=x_train , x = 'flipper_length_mm', y = 'body_mass_g', hue='predicted_species', alpha=0.5, palette=['blue','red','grey'],ax=axes[1])\n",
    "g2.scatter(x = center[:,0], y = center[:,1], marker = 'D', color = 'black')\n",
    "g2.set_title('Cluster by Modeling')\n",
    "g2.set_xlabel(\"flipper length\")\n",
    "g2.set_ylabel(\"body mass\")\n",
    "plt.tight_layout()\n",
    "plt.show()"
   ]
  },
  {
   "cell_type": "markdown",
   "id": "74f2964e",
   "metadata": {},
   "source": [
    "На предыдущем графике по сравнению с первым, который мы сделали, 0 представлен как Chinstrap, 1 представлен как Gentoo и 2 представлен как Adelie.\n",
    "\n",
    "Затем я воспользуюсь методом \".replace()\", чтобы заменить число в предсказании видов именами видов."
   ]
  },
  {
   "cell_type": "code",
   "execution_count": 70,
   "id": "94f8d9eb",
   "metadata": {},
   "outputs": [
    {
     "data": {
      "text/html": [
       "<div>\n",
       "<style scoped>\n",
       "    .dataframe tbody tr th:only-of-type {\n",
       "        vertical-align: middle;\n",
       "    }\n",
       "\n",
       "    .dataframe tbody tr th {\n",
       "        vertical-align: top;\n",
       "    }\n",
       "\n",
       "    .dataframe thead th {\n",
       "        text-align: right;\n",
       "    }\n",
       "</style>\n",
       "<table border=\"1\" class=\"dataframe\">\n",
       "  <thead>\n",
       "    <tr style=\"text-align: right;\">\n",
       "      <th></th>\n",
       "      <th>flipper_length_mm</th>\n",
       "      <th>body_mass_g</th>\n",
       "      <th>species</th>\n",
       "      <th>predicted_species</th>\n",
       "    </tr>\n",
       "  </thead>\n",
       "  <tbody>\n",
       "    <tr>\n",
       "      <th>272</th>\n",
       "      <td>210.0</td>\n",
       "      <td>4400.0</td>\n",
       "      <td>Gentoo</td>\n",
       "      <td>Chinstrap</td>\n",
       "    </tr>\n",
       "    <tr>\n",
       "      <th>82</th>\n",
       "      <td>187.0</td>\n",
       "      <td>3800.0</td>\n",
       "      <td>Adelie</td>\n",
       "      <td>Adelie</td>\n",
       "    </tr>\n",
       "    <tr>\n",
       "      <th>328</th>\n",
       "      <td>208.0</td>\n",
       "      <td>4575.0</td>\n",
       "      <td>Gentoo</td>\n",
       "      <td>Chinstrap</td>\n",
       "    </tr>\n",
       "    <tr>\n",
       "      <th>271</th>\n",
       "      <td>220.0</td>\n",
       "      <td>5300.0</td>\n",
       "      <td>Gentoo</td>\n",
       "      <td>Gentoo</td>\n",
       "    </tr>\n",
       "    <tr>\n",
       "      <th>280</th>\n",
       "      <td>208.0</td>\n",
       "      <td>4200.0</td>\n",
       "      <td>Gentoo</td>\n",
       "      <td>Chinstrap</td>\n",
       "    </tr>\n",
       "    <tr>\n",
       "      <th>...</th>\n",
       "      <td>...</td>\n",
       "      <td>...</td>\n",
       "      <td>...</td>\n",
       "      <td>...</td>\n",
       "    </tr>\n",
       "    <tr>\n",
       "      <th>10</th>\n",
       "      <td>186.0</td>\n",
       "      <td>3300.0</td>\n",
       "      <td>Adelie</td>\n",
       "      <td>Adelie</td>\n",
       "    </tr>\n",
       "    <tr>\n",
       "      <th>223</th>\n",
       "      <td>218.0</td>\n",
       "      <td>5700.0</td>\n",
       "      <td>Gentoo</td>\n",
       "      <td>Gentoo</td>\n",
       "    </tr>\n",
       "    <tr>\n",
       "      <th>158</th>\n",
       "      <td>178.0</td>\n",
       "      <td>3250.0</td>\n",
       "      <td>Chinstrap</td>\n",
       "      <td>Adelie</td>\n",
       "    </tr>\n",
       "    <tr>\n",
       "      <th>256</th>\n",
       "      <td>213.0</td>\n",
       "      <td>4950.0</td>\n",
       "      <td>Gentoo</td>\n",
       "      <td>Gentoo</td>\n",
       "    </tr>\n",
       "    <tr>\n",
       "      <th>167</th>\n",
       "      <td>201.0</td>\n",
       "      <td>4050.0</td>\n",
       "      <td>Chinstrap</td>\n",
       "      <td>Chinstrap</td>\n",
       "    </tr>\n",
       "  </tbody>\n",
       "</table>\n",
       "<p>275 rows × 4 columns</p>\n",
       "</div>"
      ],
      "text/plain": [
       "     flipper_length_mm  body_mass_g    species predicted_species\n",
       "272              210.0       4400.0     Gentoo         Chinstrap\n",
       "82               187.0       3800.0     Adelie            Adelie\n",
       "328              208.0       4575.0     Gentoo         Chinstrap\n",
       "271              220.0       5300.0     Gentoo            Gentoo\n",
       "280              208.0       4200.0     Gentoo         Chinstrap\n",
       "..                 ...          ...        ...               ...\n",
       "10               186.0       3300.0     Adelie            Adelie\n",
       "223              218.0       5700.0     Gentoo            Gentoo\n",
       "158              178.0       3250.0  Chinstrap            Adelie\n",
       "256              213.0       4950.0     Gentoo            Gentoo\n",
       "167              201.0       4050.0  Chinstrap         Chinstrap\n",
       "\n",
       "[275 rows x 4 columns]"
      ]
     },
     "execution_count": 70,
     "metadata": {},
     "output_type": "execute_result"
    }
   ],
   "source": [
    "x_train['predicted_species'].replace([0,1,2] , ['Adelie', 'Chinstrap', 'Gentoo'] , inplace=True)\n",
    "x_train"
   ]
  },
  {
   "cell_type": "markdown",
   "id": "0f74b680",
   "metadata": {},
   "source": [
    "Я составлю перекрестную таблицу, чтобы показать, насколько точно наша модель может предсказать результат.\n",
    "\n",
    "Как видно из таблицы, модель предсказывает, что 91 Адели будут Адели, а 28 Адели - подбородочным ремнем, предсказать, что 38 антарктических ремней будут Адели, а 10 антарктических ремней будут антарктических ипредсказать, что 1 папуасский пингвин будет Адели, 45 папуасских пингвинов будут антарктических и 55 папуасских папуасов будут папуасскими."
   ]
  },
  {
   "cell_type": "code",
   "execution_count": 71,
   "id": "bb0b5884",
   "metadata": {},
   "outputs": [
    {
     "data": {
      "text/html": [
       "<div>\n",
       "<style scoped>\n",
       "    .dataframe tbody tr th:only-of-type {\n",
       "        vertical-align: middle;\n",
       "    }\n",
       "\n",
       "    .dataframe tbody tr th {\n",
       "        vertical-align: top;\n",
       "    }\n",
       "\n",
       "    .dataframe thead th {\n",
       "        text-align: right;\n",
       "    }\n",
       "</style>\n",
       "<table border=\"1\" class=\"dataframe\">\n",
       "  <thead>\n",
       "    <tr style=\"text-align: right;\">\n",
       "      <th>predicted_species</th>\n",
       "      <th>Adelie</th>\n",
       "      <th>Chinstrap</th>\n",
       "      <th>Gentoo</th>\n",
       "    </tr>\n",
       "    <tr>\n",
       "      <th>species</th>\n",
       "      <th></th>\n",
       "      <th></th>\n",
       "      <th></th>\n",
       "    </tr>\n",
       "  </thead>\n",
       "  <tbody>\n",
       "    <tr>\n",
       "      <th>Adelie</th>\n",
       "      <td>91</td>\n",
       "      <td>28</td>\n",
       "      <td>0</td>\n",
       "    </tr>\n",
       "    <tr>\n",
       "      <th>Chinstrap</th>\n",
       "      <td>42</td>\n",
       "      <td>11</td>\n",
       "      <td>0</td>\n",
       "    </tr>\n",
       "    <tr>\n",
       "      <th>Gentoo</th>\n",
       "      <td>1</td>\n",
       "      <td>45</td>\n",
       "      <td>57</td>\n",
       "    </tr>\n",
       "  </tbody>\n",
       "</table>\n",
       "</div>"
      ],
      "text/plain": [
       "predicted_species  Adelie  Chinstrap  Gentoo\n",
       "species                                     \n",
       "Adelie                 91         28       0\n",
       "Chinstrap              42         11       0\n",
       "Gentoo                  1         45      57"
      ]
     },
     "execution_count": 71,
     "metadata": {},
     "output_type": "execute_result"
    }
   ],
   "source": [
    "pd.crosstab(x_train['species'] ,x_train['predicted_species'])"
   ]
  },
  {
   "cell_type": "markdown",
   "id": "afcd21ce",
   "metadata": {},
   "source": [
    "Мы можем рассчитать процент точности нашей модели, используя метод «.mean()»."
   ]
  },
  {
   "cell_type": "code",
   "execution_count": 72,
   "id": "f90a3cd6",
   "metadata": {},
   "outputs": [
    {
     "name": "stdout",
     "output_type": "stream",
     "text": [
      "272    False\n",
      "82      True\n",
      "328    False\n",
      "271     True\n",
      "280    False\n",
      "       ...  \n",
      "10      True\n",
      "223     True\n",
      "158    False\n",
      "256     True\n",
      "167     True\n",
      "Length: 275, dtype: bool\n"
     ]
    }
   ],
   "source": [
    "result = x_train['species'] == x_train['predicted_species']\n",
    "print(result)"
   ]
  },
  {
   "cell_type": "code",
   "execution_count": 73,
   "id": "eb3b1a16",
   "metadata": {},
   "outputs": [
    {
     "data": {
      "text/plain": [
       "0.5781818181818181"
      ]
     },
     "execution_count": 73,
     "metadata": {},
     "output_type": "execute_result"
    }
   ],
   "source": [
    "result.mean()"
   ]
  },
  {
   "cell_type": "markdown",
   "id": "134db453",
   "metadata": {},
   "source": [
    "Мы уже построили модель и рассчитали точность модели. Теперь я буду использовать тестовые данные, чтобы проверить нашу модель, чтобы увидеть производительность модели с использованием невидимых данных.\n",
    "\n",
    "Для этого я повторю предыдущий процесс."
   ]
  },
  {
   "cell_type": "code",
   "execution_count": 74,
   "id": "b9d5fc18",
   "metadata": {},
   "outputs": [
    {
     "name": "stdout",
     "output_type": "stream",
     "text": [
      "[1 2 2 0 2 1 2 2 2 2 2 0 0 0 2 1 2 0 2 2 0 2 2 2 0 0 0 0 0 1 0 2 2 2 2 2 1\n",
      " 2 0 1 2 2 1 0 1 2 2 1 0 0 0 0 2 1 2 0 0 2 2 1 2 1 2 1 0 0 0 0 0]\n"
     ]
    }
   ],
   "source": [
    "predict = model.predict(x_test)\n",
    "print(predict)"
   ]
  },
  {
   "cell_type": "code",
   "execution_count": 75,
   "id": "99e74f2d",
   "metadata": {},
   "outputs": [
    {
     "data": {
      "text/html": [
       "<div>\n",
       "<style scoped>\n",
       "    .dataframe tbody tr th:only-of-type {\n",
       "        vertical-align: middle;\n",
       "    }\n",
       "\n",
       "    .dataframe tbody tr th {\n",
       "        vertical-align: top;\n",
       "    }\n",
       "\n",
       "    .dataframe thead th {\n",
       "        text-align: right;\n",
       "    }\n",
       "</style>\n",
       "<table border=\"1\" class=\"dataframe\">\n",
       "  <thead>\n",
       "    <tr style=\"text-align: right;\">\n",
       "      <th></th>\n",
       "      <th>flipper_length_mm</th>\n",
       "      <th>body_mass_g</th>\n",
       "      <th>species</th>\n",
       "      <th>predicted_species</th>\n",
       "    </tr>\n",
       "  </thead>\n",
       "  <tbody>\n",
       "    <tr>\n",
       "      <th>279</th>\n",
       "      <td>224.0</td>\n",
       "      <td>5550.0</td>\n",
       "      <td>Gentoo</td>\n",
       "      <td>1</td>\n",
       "    </tr>\n",
       "    <tr>\n",
       "      <th>55</th>\n",
       "      <td>191.0</td>\n",
       "      <td>3700.0</td>\n",
       "      <td>Adelie</td>\n",
       "      <td>2</td>\n",
       "    </tr>\n",
       "    <tr>\n",
       "      <th>34</th>\n",
       "      <td>195.0</td>\n",
       "      <td>3325.0</td>\n",
       "      <td>Adelie</td>\n",
       "      <td>2</td>\n",
       "    </tr>\n",
       "    <tr>\n",
       "      <th>99</th>\n",
       "      <td>192.0</td>\n",
       "      <td>4100.0</td>\n",
       "      <td>Adelie</td>\n",
       "      <td>0</td>\n",
       "    </tr>\n",
       "    <tr>\n",
       "      <th>1</th>\n",
       "      <td>186.0</td>\n",
       "      <td>3800.0</td>\n",
       "      <td>Adelie</td>\n",
       "      <td>2</td>\n",
       "    </tr>\n",
       "    <tr>\n",
       "      <th>...</th>\n",
       "      <td>...</td>\n",
       "      <td>...</td>\n",
       "      <td>...</td>\n",
       "      <td>...</td>\n",
       "    </tr>\n",
       "    <tr>\n",
       "      <th>197</th>\n",
       "      <td>201.0</td>\n",
       "      <td>4450.0</td>\n",
       "      <td>Chinstrap</td>\n",
       "      <td>0</td>\n",
       "    </tr>\n",
       "    <tr>\n",
       "      <th>81</th>\n",
       "      <td>196.0</td>\n",
       "      <td>4700.0</td>\n",
       "      <td>Adelie</td>\n",
       "      <td>0</td>\n",
       "    </tr>\n",
       "    <tr>\n",
       "      <th>113</th>\n",
       "      <td>197.0</td>\n",
       "      <td>4275.0</td>\n",
       "      <td>Adelie</td>\n",
       "      <td>0</td>\n",
       "    </tr>\n",
       "    <tr>\n",
       "      <th>338</th>\n",
       "      <td>214.0</td>\n",
       "      <td>4925.0</td>\n",
       "      <td>Gentoo</td>\n",
       "      <td>0</td>\n",
       "    </tr>\n",
       "    <tr>\n",
       "      <th>160</th>\n",
       "      <td>195.0</td>\n",
       "      <td>4150.0</td>\n",
       "      <td>Chinstrap</td>\n",
       "      <td>0</td>\n",
       "    </tr>\n",
       "  </tbody>\n",
       "</table>\n",
       "<p>69 rows × 4 columns</p>\n",
       "</div>"
      ],
      "text/plain": [
       "     flipper_length_mm  body_mass_g    species  predicted_species\n",
       "279              224.0       5550.0     Gentoo                  1\n",
       "55               191.0       3700.0     Adelie                  2\n",
       "34               195.0       3325.0     Adelie                  2\n",
       "99               192.0       4100.0     Adelie                  0\n",
       "1                186.0       3800.0     Adelie                  2\n",
       "..                 ...          ...        ...                ...\n",
       "197              201.0       4450.0  Chinstrap                  0\n",
       "81               196.0       4700.0     Adelie                  0\n",
       "113              197.0       4275.0     Adelie                  0\n",
       "338              214.0       4925.0     Gentoo                  0\n",
       "160              195.0       4150.0  Chinstrap                  0\n",
       "\n",
       "[69 rows x 4 columns]"
      ]
     },
     "execution_count": 75,
     "metadata": {},
     "output_type": "execute_result"
    }
   ],
   "source": [
    "x_test['species'] = y_test\n",
    "x_test['predicted_species'] = predict\n",
    "\n",
    "x_test"
   ]
  },
  {
   "cell_type": "code",
   "execution_count": 76,
   "id": "a59b0a56",
   "metadata": {},
   "outputs": [
    {
     "data": {
      "text/plain": [
       "<matplotlib.collections.PathCollection at 0x1fd0b388970>"
      ]
     },
     "execution_count": 76,
     "metadata": {},
     "output_type": "execute_result"
    },
    {
     "data": {
      "image/png": "[encoded data removed]",
      "text/plain": [
       "<Figure size 640x480 with 1 Axes>"
      ]
     },
     "metadata": {},
     "output_type": "display_data"
    }
   ],
   "source": [
    "sns.scatterplot(data=x_test , x = 'flipper_length_mm' , y = 'body_mass_g' , hue='predicted_species',alpha=0.7,palette=['blue','red','grey'])\n",
    "plt.scatter(x=center[:,0] , y=center[:,1] , color = 'black' , marker = 'D')"
   ]
  },
  {
   "cell_type": "code",
   "execution_count": 78,
   "id": "6bd2da1e",
   "metadata": {},
   "outputs": [
    {
     "data": {
      "text/html": [
       "<div>\n",
       "<style scoped>\n",
       "    .dataframe tbody tr th:only-of-type {\n",
       "        vertical-align: middle;\n",
       "    }\n",
       "\n",
       "    .dataframe tbody tr th {\n",
       "        vertical-align: top;\n",
       "    }\n",
       "\n",
       "    .dataframe thead th {\n",
       "        text-align: right;\n",
       "    }\n",
       "</style>\n",
       "<table border=\"1\" class=\"dataframe\">\n",
       "  <thead>\n",
       "    <tr style=\"text-align: right;\">\n",
       "      <th></th>\n",
       "      <th>flipper_length_mm</th>\n",
       "      <th>body_mass_g</th>\n",
       "      <th>species</th>\n",
       "      <th>predicted_species</th>\n",
       "    </tr>\n",
       "  </thead>\n",
       "  <tbody>\n",
       "    <tr>\n",
       "      <th>279</th>\n",
       "      <td>224.0</td>\n",
       "      <td>5550.0</td>\n",
       "      <td>Gentoo</td>\n",
       "      <td>Gentoo</td>\n",
       "    </tr>\n",
       "    <tr>\n",
       "      <th>55</th>\n",
       "      <td>191.0</td>\n",
       "      <td>3700.0</td>\n",
       "      <td>Adelie</td>\n",
       "      <td>Adelie</td>\n",
       "    </tr>\n",
       "    <tr>\n",
       "      <th>34</th>\n",
       "      <td>195.0</td>\n",
       "      <td>3325.0</td>\n",
       "      <td>Adelie</td>\n",
       "      <td>Adelie</td>\n",
       "    </tr>\n",
       "    <tr>\n",
       "      <th>99</th>\n",
       "      <td>192.0</td>\n",
       "      <td>4100.0</td>\n",
       "      <td>Adelie</td>\n",
       "      <td>Chinstrap</td>\n",
       "    </tr>\n",
       "    <tr>\n",
       "      <th>1</th>\n",
       "      <td>186.0</td>\n",
       "      <td>3800.0</td>\n",
       "      <td>Adelie</td>\n",
       "      <td>Adelie</td>\n",
       "    </tr>\n",
       "    <tr>\n",
       "      <th>...</th>\n",
       "      <td>...</td>\n",
       "      <td>...</td>\n",
       "      <td>...</td>\n",
       "      <td>...</td>\n",
       "    </tr>\n",
       "    <tr>\n",
       "      <th>197</th>\n",
       "      <td>201.0</td>\n",
       "      <td>4450.0</td>\n",
       "      <td>Chinstrap</td>\n",
       "      <td>Chinstrap</td>\n",
       "    </tr>\n",
       "    <tr>\n",
       "      <th>81</th>\n",
       "      <td>196.0</td>\n",
       "      <td>4700.0</td>\n",
       "      <td>Adelie</td>\n",
       "      <td>Chinstrap</td>\n",
       "    </tr>\n",
       "    <tr>\n",
       "      <th>113</th>\n",
       "      <td>197.0</td>\n",
       "      <td>4275.0</td>\n",
       "      <td>Adelie</td>\n",
       "      <td>Chinstrap</td>\n",
       "    </tr>\n",
       "    <tr>\n",
       "      <th>338</th>\n",
       "      <td>214.0</td>\n",
       "      <td>4925.0</td>\n",
       "      <td>Gentoo</td>\n",
       "      <td>Chinstrap</td>\n",
       "    </tr>\n",
       "    <tr>\n",
       "      <th>160</th>\n",
       "      <td>195.0</td>\n",
       "      <td>4150.0</td>\n",
       "      <td>Chinstrap</td>\n",
       "      <td>Chinstrap</td>\n",
       "    </tr>\n",
       "  </tbody>\n",
       "</table>\n",
       "<p>69 rows × 4 columns</p>\n",
       "</div>"
      ],
      "text/plain": [
       "     flipper_length_mm  body_mass_g    species predicted_species\n",
       "279              224.0       5550.0     Gentoo            Gentoo\n",
       "55               191.0       3700.0     Adelie            Adelie\n",
       "34               195.0       3325.0     Adelie            Adelie\n",
       "99               192.0       4100.0     Adelie         Chinstrap\n",
       "1                186.0       3800.0     Adelie            Adelie\n",
       "..                 ...          ...        ...               ...\n",
       "197              201.0       4450.0  Chinstrap         Chinstrap\n",
       "81               196.0       4700.0     Adelie         Chinstrap\n",
       "113              197.0       4275.0     Adelie         Chinstrap\n",
       "338              214.0       4925.0     Gentoo         Chinstrap\n",
       "160              195.0       4150.0  Chinstrap         Chinstrap\n",
       "\n",
       "[69 rows x 4 columns]"
      ]
     },
     "execution_count": 78,
     "metadata": {},
     "output_type": "execute_result"
    }
   ],
   "source": [
    "x_test['predicted_species'].replace([0,1,2],['Adelie','Chinstrap','Gentoo'],inplace=True)\n",
    "x_test"
   ]
  },
  {
   "cell_type": "code",
   "execution_count": 79,
   "id": "8f5045f5",
   "metadata": {},
   "outputs": [
    {
     "data": {
      "text/html": [
       "<div>\n",
       "<style scoped>\n",
       "    .dataframe tbody tr th:only-of-type {\n",
       "        vertical-align: middle;\n",
       "    }\n",
       "\n",
       "    .dataframe tbody tr th {\n",
       "        vertical-align: top;\n",
       "    }\n",
       "\n",
       "    .dataframe thead th {\n",
       "        text-align: right;\n",
       "    }\n",
       "</style>\n",
       "<table border=\"1\" class=\"dataframe\">\n",
       "  <thead>\n",
       "    <tr style=\"text-align: right;\">\n",
       "      <th>predicted_species</th>\n",
       "      <th>Adelie</th>\n",
       "      <th>Chinstrap</th>\n",
       "      <th>Gentoo</th>\n",
       "    </tr>\n",
       "    <tr>\n",
       "      <th>species</th>\n",
       "      <th></th>\n",
       "      <th></th>\n",
       "      <th></th>\n",
       "    </tr>\n",
       "  </thead>\n",
       "  <tbody>\n",
       "    <tr>\n",
       "      <th>Adelie</th>\n",
       "      <td>21</td>\n",
       "      <td>12</td>\n",
       "      <td>0</td>\n",
       "    </tr>\n",
       "    <tr>\n",
       "      <th>Chinstrap</th>\n",
       "      <td>10</td>\n",
       "      <td>5</td>\n",
       "      <td>0</td>\n",
       "    </tr>\n",
       "    <tr>\n",
       "      <th>Gentoo</th>\n",
       "      <td>0</td>\n",
       "      <td>8</td>\n",
       "      <td>13</td>\n",
       "    </tr>\n",
       "  </tbody>\n",
       "</table>\n",
       "</div>"
      ],
      "text/plain": [
       "predicted_species  Adelie  Chinstrap  Gentoo\n",
       "species                                     \n",
       "Adelie                 21         12       0\n",
       "Chinstrap              10          5       0\n",
       "Gentoo                  0          8      13"
      ]
     },
     "execution_count": 79,
     "metadata": {},
     "output_type": "execute_result"
    }
   ],
   "source": [
    "pd.crosstab(x_test['species'] , x_test['predicted_species'])"
   ]
  },
  {
   "cell_type": "code",
   "execution_count": 80,
   "id": "b80db404",
   "metadata": {},
   "outputs": [
    {
     "name": "stdout",
     "output_type": "stream",
     "text": [
      "279     True\n",
      "55      True\n",
      "34      True\n",
      "99     False\n",
      "1       True\n",
      "       ...  \n",
      "197     True\n",
      "81     False\n",
      "113    False\n",
      "338    False\n",
      "160     True\n",
      "Length: 69, dtype: bool\n"
     ]
    }
   ],
   "source": [
    "result_test = x_test['species'] == x_test['predicted_species']\n",
    "print(result_test)"
   ]
  },
  {
   "cell_type": "code",
   "execution_count": 81,
   "id": "c7713d21",
   "metadata": {},
   "outputs": [
    {
     "data": {
      "text/plain": [
       "0.5652173913043478"
      ]
     },
     "execution_count": 81,
     "metadata": {},
     "output_type": "execute_result"
    }
   ],
   "source": [
    "result_test.mean()"
   ]
  },
  {
   "cell_type": "markdown",
   "id": "227cd898",
   "metadata": {},
   "source": [
    "Вот точность нашей модели с использованием тестовых данных. Точность модели составляет 56%.\n",
    "\n",
    "Вот весь базовый анализ данных с использованием Python, который я хочу вам представить.\n",
    "\n",
    "Я надеюсь, что этот проект поможет вам лучше понять, как использовать Python для анализа данных, или даст вам некоторые идеи.\n",
    "\n",
    "о том, как применять Python в своем проекте в повседневной работе.\n",
    "\n",
    "Спасибо."
   ]
  }
 ],
 "metadata": {
  "kernelspec": {
   "display_name": "Python 3 (ipykernel)",
   "language": "python",
   "name": "python3"
  },
  "language_info": {
   "codemirror_mode": {
    "name": "ipython",
    "version": 3
   },
   "file_extension": ".py",
   "mimetype": "text/x-python",
   "name": "python",
   "nbconvert_exporter": "python",
   "pygments_lexer": "ipython3",
   "version": "3.9.13"
  }
 },
 "nbformat": 4,
 "nbformat_minor": 5
}
